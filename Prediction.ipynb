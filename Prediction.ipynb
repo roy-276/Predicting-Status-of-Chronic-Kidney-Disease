{
 "cells": [
  {
   "cell_type": "markdown",
   "metadata": {},
   "source": [
    "# Task"
   ]
  },
  {
   "cell_type": "markdown",
   "metadata": {},
   "source": [
    "Predict whether person has chronic kidney disease(ckd) or no chronic kidney disease(notckd)?"
   ]
  },
  {
   "cell_type": "code",
   "execution_count": null,
   "metadata": {},
   "outputs": [],
   "source": []
  },
  {
   "cell_type": "markdown",
   "metadata": {},
   "source": [
    "## Preparing Data for Analysis and Modelling"
   ]
  },
  {
   "cell_type": "code",
   "execution_count": 107,
   "metadata": {},
   "outputs": [],
   "source": [
    "import numpy as np\n",
    "import pandas as pd\n",
    "import matplotlib.pyplot as plt\n",
    "import seaborn as sns"
   ]
  },
  {
   "cell_type": "code",
   "execution_count": 108,
   "metadata": {},
   "outputs": [
    {
     "data": {
      "text/html": [
       "<div>\n",
       "<style scoped>\n",
       "    .dataframe tbody tr th:only-of-type {\n",
       "        vertical-align: middle;\n",
       "    }\n",
       "\n",
       "    .dataframe tbody tr th {\n",
       "        vertical-align: top;\n",
       "    }\n",
       "\n",
       "    .dataframe thead th {\n",
       "        text-align: right;\n",
       "    }\n",
       "</style>\n",
       "<table border=\"1\" class=\"dataframe\">\n",
       "  <thead>\n",
       "    <tr style=\"text-align: right;\">\n",
       "      <th></th>\n",
       "      <th>id</th>\n",
       "      <th>age</th>\n",
       "      <th>bp</th>\n",
       "      <th>sg</th>\n",
       "      <th>al</th>\n",
       "      <th>su</th>\n",
       "      <th>rbc</th>\n",
       "      <th>pc</th>\n",
       "      <th>pcc</th>\n",
       "      <th>ba</th>\n",
       "      <th>...</th>\n",
       "      <th>pcv</th>\n",
       "      <th>wc</th>\n",
       "      <th>rc</th>\n",
       "      <th>htn</th>\n",
       "      <th>dm</th>\n",
       "      <th>cad</th>\n",
       "      <th>appet</th>\n",
       "      <th>pe</th>\n",
       "      <th>ane</th>\n",
       "      <th>classification</th>\n",
       "    </tr>\n",
       "  </thead>\n",
       "  <tbody>\n",
       "    <tr>\n",
       "      <th>0</th>\n",
       "      <td>0</td>\n",
       "      <td>48.0</td>\n",
       "      <td>80.0</td>\n",
       "      <td>1.020</td>\n",
       "      <td>1.0</td>\n",
       "      <td>0.0</td>\n",
       "      <td>NaN</td>\n",
       "      <td>normal</td>\n",
       "      <td>notpresent</td>\n",
       "      <td>notpresent</td>\n",
       "      <td>...</td>\n",
       "      <td>44</td>\n",
       "      <td>7800</td>\n",
       "      <td>5.2</td>\n",
       "      <td>yes</td>\n",
       "      <td>yes</td>\n",
       "      <td>no</td>\n",
       "      <td>good</td>\n",
       "      <td>no</td>\n",
       "      <td>no</td>\n",
       "      <td>ckd</td>\n",
       "    </tr>\n",
       "    <tr>\n",
       "      <th>1</th>\n",
       "      <td>1</td>\n",
       "      <td>7.0</td>\n",
       "      <td>50.0</td>\n",
       "      <td>1.020</td>\n",
       "      <td>4.0</td>\n",
       "      <td>0.0</td>\n",
       "      <td>NaN</td>\n",
       "      <td>normal</td>\n",
       "      <td>notpresent</td>\n",
       "      <td>notpresent</td>\n",
       "      <td>...</td>\n",
       "      <td>38</td>\n",
       "      <td>6000</td>\n",
       "      <td>NaN</td>\n",
       "      <td>no</td>\n",
       "      <td>no</td>\n",
       "      <td>no</td>\n",
       "      <td>good</td>\n",
       "      <td>no</td>\n",
       "      <td>no</td>\n",
       "      <td>ckd</td>\n",
       "    </tr>\n",
       "    <tr>\n",
       "      <th>2</th>\n",
       "      <td>2</td>\n",
       "      <td>62.0</td>\n",
       "      <td>80.0</td>\n",
       "      <td>1.010</td>\n",
       "      <td>2.0</td>\n",
       "      <td>3.0</td>\n",
       "      <td>normal</td>\n",
       "      <td>normal</td>\n",
       "      <td>notpresent</td>\n",
       "      <td>notpresent</td>\n",
       "      <td>...</td>\n",
       "      <td>31</td>\n",
       "      <td>7500</td>\n",
       "      <td>NaN</td>\n",
       "      <td>no</td>\n",
       "      <td>yes</td>\n",
       "      <td>no</td>\n",
       "      <td>poor</td>\n",
       "      <td>no</td>\n",
       "      <td>yes</td>\n",
       "      <td>ckd</td>\n",
       "    </tr>\n",
       "    <tr>\n",
       "      <th>3</th>\n",
       "      <td>3</td>\n",
       "      <td>48.0</td>\n",
       "      <td>70.0</td>\n",
       "      <td>1.005</td>\n",
       "      <td>4.0</td>\n",
       "      <td>0.0</td>\n",
       "      <td>normal</td>\n",
       "      <td>abnormal</td>\n",
       "      <td>present</td>\n",
       "      <td>notpresent</td>\n",
       "      <td>...</td>\n",
       "      <td>32</td>\n",
       "      <td>6700</td>\n",
       "      <td>3.9</td>\n",
       "      <td>yes</td>\n",
       "      <td>no</td>\n",
       "      <td>no</td>\n",
       "      <td>poor</td>\n",
       "      <td>yes</td>\n",
       "      <td>yes</td>\n",
       "      <td>ckd</td>\n",
       "    </tr>\n",
       "    <tr>\n",
       "      <th>4</th>\n",
       "      <td>4</td>\n",
       "      <td>51.0</td>\n",
       "      <td>80.0</td>\n",
       "      <td>1.010</td>\n",
       "      <td>2.0</td>\n",
       "      <td>0.0</td>\n",
       "      <td>normal</td>\n",
       "      <td>normal</td>\n",
       "      <td>notpresent</td>\n",
       "      <td>notpresent</td>\n",
       "      <td>...</td>\n",
       "      <td>35</td>\n",
       "      <td>7300</td>\n",
       "      <td>4.6</td>\n",
       "      <td>no</td>\n",
       "      <td>no</td>\n",
       "      <td>no</td>\n",
       "      <td>good</td>\n",
       "      <td>no</td>\n",
       "      <td>no</td>\n",
       "      <td>ckd</td>\n",
       "    </tr>\n",
       "  </tbody>\n",
       "</table>\n",
       "<p>5 rows × 26 columns</p>\n",
       "</div>"
      ],
      "text/plain": [
       "   id   age    bp     sg   al   su     rbc        pc         pcc          ba  \\\n",
       "0   0  48.0  80.0  1.020  1.0  0.0     NaN    normal  notpresent  notpresent   \n",
       "1   1   7.0  50.0  1.020  4.0  0.0     NaN    normal  notpresent  notpresent   \n",
       "2   2  62.0  80.0  1.010  2.0  3.0  normal    normal  notpresent  notpresent   \n",
       "3   3  48.0  70.0  1.005  4.0  0.0  normal  abnormal     present  notpresent   \n",
       "4   4  51.0  80.0  1.010  2.0  0.0  normal    normal  notpresent  notpresent   \n",
       "\n",
       "   ...  pcv    wc   rc  htn   dm  cad appet   pe  ane classification  \n",
       "0  ...   44  7800  5.2  yes  yes   no  good   no   no            ckd  \n",
       "1  ...   38  6000  NaN   no   no   no  good   no   no            ckd  \n",
       "2  ...   31  7500  NaN   no  yes   no  poor   no  yes            ckd  \n",
       "3  ...   32  6700  3.9  yes   no   no  poor  yes  yes            ckd  \n",
       "4  ...   35  7300  4.6   no   no   no  good   no   no            ckd  \n",
       "\n",
       "[5 rows x 26 columns]"
      ]
     },
     "execution_count": 108,
     "metadata": {},
     "output_type": "execute_result"
    }
   ],
   "source": [
    "df=pd.read_csv(r'F:\\PRACTICE\\Kidney Diseases/kidney_disease.csv')\n",
    "df.head()"
   ]
  },
  {
   "cell_type": "markdown",
   "metadata": {},
   "source": [
    "##### Renaming column names to make it more user-friendly"
   ]
  },
  {
   "cell_type": "code",
   "execution_count": 109,
   "metadata": {},
   "outputs": [
    {
     "data": {
      "text/html": [
       "<div>\n",
       "<style scoped>\n",
       "    .dataframe tbody tr th:only-of-type {\n",
       "        vertical-align: middle;\n",
       "    }\n",
       "\n",
       "    .dataframe tbody tr th {\n",
       "        vertical-align: top;\n",
       "    }\n",
       "\n",
       "    .dataframe thead th {\n",
       "        text-align: right;\n",
       "    }\n",
       "</style>\n",
       "<table border=\"1\" class=\"dataframe\">\n",
       "  <thead>\n",
       "    <tr style=\"text-align: right;\">\n",
       "      <th></th>\n",
       "      <th>index</th>\n",
       "      <th>1. Features:</th>\n",
       "    </tr>\n",
       "  </thead>\n",
       "  <tbody>\n",
       "    <tr>\n",
       "      <th>0</th>\n",
       "      <td>id</td>\n",
       "      <td>id</td>\n",
       "    </tr>\n",
       "    <tr>\n",
       "      <th>1</th>\n",
       "      <td>age</td>\n",
       "      <td>age</td>\n",
       "    </tr>\n",
       "    <tr>\n",
       "      <th>2</th>\n",
       "      <td>bp</td>\n",
       "      <td>blood pressure</td>\n",
       "    </tr>\n",
       "    <tr>\n",
       "      <th>3</th>\n",
       "      <td>sg</td>\n",
       "      <td>specific gravity</td>\n",
       "    </tr>\n",
       "    <tr>\n",
       "      <th>4</th>\n",
       "      <td>al</td>\n",
       "      <td>albumin</td>\n",
       "    </tr>\n",
       "    <tr>\n",
       "      <th>5</th>\n",
       "      <td>su</td>\n",
       "      <td>sugar</td>\n",
       "    </tr>\n",
       "    <tr>\n",
       "      <th>6</th>\n",
       "      <td>rbc</td>\n",
       "      <td>red blood cells</td>\n",
       "    </tr>\n",
       "    <tr>\n",
       "      <th>7</th>\n",
       "      <td>pc</td>\n",
       "      <td>pus cell</td>\n",
       "    </tr>\n",
       "    <tr>\n",
       "      <th>8</th>\n",
       "      <td>pcc</td>\n",
       "      <td>pus cell clumps</td>\n",
       "    </tr>\n",
       "    <tr>\n",
       "      <th>9</th>\n",
       "      <td>ba</td>\n",
       "      <td>bacteria</td>\n",
       "    </tr>\n",
       "    <tr>\n",
       "      <th>10</th>\n",
       "      <td>bgr</td>\n",
       "      <td>blood glucose random</td>\n",
       "    </tr>\n",
       "    <tr>\n",
       "      <th>11</th>\n",
       "      <td>bu</td>\n",
       "      <td>blood urea</td>\n",
       "    </tr>\n",
       "    <tr>\n",
       "      <th>12</th>\n",
       "      <td>sc</td>\n",
       "      <td>serum creatinine</td>\n",
       "    </tr>\n",
       "    <tr>\n",
       "      <th>13</th>\n",
       "      <td>sod</td>\n",
       "      <td>sodium</td>\n",
       "    </tr>\n",
       "    <tr>\n",
       "      <th>14</th>\n",
       "      <td>pot</td>\n",
       "      <td>potassium</td>\n",
       "    </tr>\n",
       "    <tr>\n",
       "      <th>15</th>\n",
       "      <td>hemo</td>\n",
       "      <td>haemoglobin</td>\n",
       "    </tr>\n",
       "    <tr>\n",
       "      <th>16</th>\n",
       "      <td>pcv</td>\n",
       "      <td>packed cell volume</td>\n",
       "    </tr>\n",
       "    <tr>\n",
       "      <th>17</th>\n",
       "      <td>wc</td>\n",
       "      <td>white blood cell count</td>\n",
       "    </tr>\n",
       "    <tr>\n",
       "      <th>18</th>\n",
       "      <td>rc</td>\n",
       "      <td>red blood cell count</td>\n",
       "    </tr>\n",
       "    <tr>\n",
       "      <th>19</th>\n",
       "      <td>htn</td>\n",
       "      <td>ypertension</td>\n",
       "    </tr>\n",
       "    <tr>\n",
       "      <th>20</th>\n",
       "      <td>dm</td>\n",
       "      <td>diabetes mellitus</td>\n",
       "    </tr>\n",
       "    <tr>\n",
       "      <th>21</th>\n",
       "      <td>cad</td>\n",
       "      <td>coronary artery disease</td>\n",
       "    </tr>\n",
       "    <tr>\n",
       "      <th>22</th>\n",
       "      <td>appet</td>\n",
       "      <td>appetite</td>\n",
       "    </tr>\n",
       "    <tr>\n",
       "      <th>23</th>\n",
       "      <td>pe</td>\n",
       "      <td>pedal edema</td>\n",
       "    </tr>\n",
       "    <tr>\n",
       "      <th>24</th>\n",
       "      <td>ane</td>\n",
       "      <td>anemia</td>\n",
       "    </tr>\n",
       "    <tr>\n",
       "      <th>25</th>\n",
       "      <td>classification</td>\n",
       "      <td>class</td>\n",
       "    </tr>\n",
       "  </tbody>\n",
       "</table>\n",
       "</div>"
      ],
      "text/plain": [
       "              index             1. Features:\n",
       "0               id                        id\n",
       "1              age                       age\n",
       "2               bp            blood pressure\n",
       "3               sg          specific gravity\n",
       "4               al                   albumin\n",
       "5               su                     sugar\n",
       "6              rbc           red blood cells\n",
       "7               pc                  pus cell\n",
       "8              pcc           pus cell clumps\n",
       "9               ba                  bacteria\n",
       "10             bgr      blood glucose random\n",
       "11              bu                blood urea\n",
       "12              sc          serum creatinine\n",
       "13             sod                    sodium\n",
       "14             pot                 potassium\n",
       "15            hemo               haemoglobin\n",
       "16             pcv        packed cell volume\n",
       "17              wc    white blood cell count\n",
       "18              rc      red blood cell count\n",
       "19             htn               ypertension\n",
       "20              dm         diabetes mellitus\n",
       "21             cad   coronary artery disease\n",
       "22           appet                  appetite\n",
       "23              pe               pedal edema\n",
       "24             ane                    anemia\n",
       "25  classification                     class"
      ]
     },
     "execution_count": 109,
     "metadata": {},
     "output_type": "execute_result"
    }
   ],
   "source": [
    "columns=pd.read_csv('F:\\PRACTICE\\Kidney Diseases/data_description.txt', sep='-')#reading the data dictionary \n",
    "columns=columns.reset_index()\n",
    "columns"
   ]
  },
  {
   "cell_type": "code",
   "execution_count": 110,
   "metadata": {},
   "outputs": [
    {
     "data": {
      "text/html": [
       "<div>\n",
       "<style scoped>\n",
       "    .dataframe tbody tr th:only-of-type {\n",
       "        vertical-align: middle;\n",
       "    }\n",
       "\n",
       "    .dataframe tbody tr th {\n",
       "        vertical-align: top;\n",
       "    }\n",
       "\n",
       "    .dataframe thead th {\n",
       "        text-align: right;\n",
       "    }\n",
       "</style>\n",
       "<table border=\"1\" class=\"dataframe\">\n",
       "  <thead>\n",
       "    <tr style=\"text-align: right;\">\n",
       "      <th></th>\n",
       "      <th>cols</th>\n",
       "      <th>abb_col_names</th>\n",
       "    </tr>\n",
       "  </thead>\n",
       "  <tbody>\n",
       "    <tr>\n",
       "      <th>0</th>\n",
       "      <td>id</td>\n",
       "      <td>id</td>\n",
       "    </tr>\n",
       "    <tr>\n",
       "      <th>1</th>\n",
       "      <td>age</td>\n",
       "      <td>age</td>\n",
       "    </tr>\n",
       "    <tr>\n",
       "      <th>2</th>\n",
       "      <td>bp</td>\n",
       "      <td>blood pressure</td>\n",
       "    </tr>\n",
       "    <tr>\n",
       "      <th>3</th>\n",
       "      <td>sg</td>\n",
       "      <td>specific gravity</td>\n",
       "    </tr>\n",
       "    <tr>\n",
       "      <th>4</th>\n",
       "      <td>al</td>\n",
       "      <td>albumin</td>\n",
       "    </tr>\n",
       "    <tr>\n",
       "      <th>5</th>\n",
       "      <td>su</td>\n",
       "      <td>sugar</td>\n",
       "    </tr>\n",
       "    <tr>\n",
       "      <th>6</th>\n",
       "      <td>rbc</td>\n",
       "      <td>red blood cells</td>\n",
       "    </tr>\n",
       "    <tr>\n",
       "      <th>7</th>\n",
       "      <td>pc</td>\n",
       "      <td>pus cell</td>\n",
       "    </tr>\n",
       "    <tr>\n",
       "      <th>8</th>\n",
       "      <td>pcc</td>\n",
       "      <td>pus cell clumps</td>\n",
       "    </tr>\n",
       "    <tr>\n",
       "      <th>9</th>\n",
       "      <td>ba</td>\n",
       "      <td>bacteria</td>\n",
       "    </tr>\n",
       "    <tr>\n",
       "      <th>10</th>\n",
       "      <td>bgr</td>\n",
       "      <td>blood glucose random</td>\n",
       "    </tr>\n",
       "    <tr>\n",
       "      <th>11</th>\n",
       "      <td>bu</td>\n",
       "      <td>blood urea</td>\n",
       "    </tr>\n",
       "    <tr>\n",
       "      <th>12</th>\n",
       "      <td>sc</td>\n",
       "      <td>serum creatinine</td>\n",
       "    </tr>\n",
       "    <tr>\n",
       "      <th>13</th>\n",
       "      <td>sod</td>\n",
       "      <td>sodium</td>\n",
       "    </tr>\n",
       "    <tr>\n",
       "      <th>14</th>\n",
       "      <td>pot</td>\n",
       "      <td>potassium</td>\n",
       "    </tr>\n",
       "    <tr>\n",
       "      <th>15</th>\n",
       "      <td>hemo</td>\n",
       "      <td>haemoglobin</td>\n",
       "    </tr>\n",
       "    <tr>\n",
       "      <th>16</th>\n",
       "      <td>pcv</td>\n",
       "      <td>packed cell volume</td>\n",
       "    </tr>\n",
       "    <tr>\n",
       "      <th>17</th>\n",
       "      <td>wc</td>\n",
       "      <td>white blood cell count</td>\n",
       "    </tr>\n",
       "    <tr>\n",
       "      <th>18</th>\n",
       "      <td>rc</td>\n",
       "      <td>red blood cell count</td>\n",
       "    </tr>\n",
       "    <tr>\n",
       "      <th>19</th>\n",
       "      <td>htn</td>\n",
       "      <td>ypertension</td>\n",
       "    </tr>\n",
       "    <tr>\n",
       "      <th>20</th>\n",
       "      <td>dm</td>\n",
       "      <td>diabetes mellitus</td>\n",
       "    </tr>\n",
       "    <tr>\n",
       "      <th>21</th>\n",
       "      <td>cad</td>\n",
       "      <td>coronary artery disease</td>\n",
       "    </tr>\n",
       "    <tr>\n",
       "      <th>22</th>\n",
       "      <td>appet</td>\n",
       "      <td>appetite</td>\n",
       "    </tr>\n",
       "    <tr>\n",
       "      <th>23</th>\n",
       "      <td>pe</td>\n",
       "      <td>pedal edema</td>\n",
       "    </tr>\n",
       "    <tr>\n",
       "      <th>24</th>\n",
       "      <td>ane</td>\n",
       "      <td>anemia</td>\n",
       "    </tr>\n",
       "    <tr>\n",
       "      <th>25</th>\n",
       "      <td>classification</td>\n",
       "      <td>class</td>\n",
       "    </tr>\n",
       "  </tbody>\n",
       "</table>\n",
       "</div>"
      ],
      "text/plain": [
       "               cols            abb_col_names\n",
       "0               id                        id\n",
       "1              age                       age\n",
       "2               bp            blood pressure\n",
       "3               sg          specific gravity\n",
       "4               al                   albumin\n",
       "5               su                     sugar\n",
       "6              rbc           red blood cells\n",
       "7               pc                  pus cell\n",
       "8              pcc           pus cell clumps\n",
       "9               ba                  bacteria\n",
       "10             bgr      blood glucose random\n",
       "11              bu                blood urea\n",
       "12              sc          serum creatinine\n",
       "13             sod                    sodium\n",
       "14             pot                 potassium\n",
       "15            hemo               haemoglobin\n",
       "16             pcv        packed cell volume\n",
       "17              wc    white blood cell count\n",
       "18              rc      red blood cell count\n",
       "19             htn               ypertension\n",
       "20              dm         diabetes mellitus\n",
       "21             cad   coronary artery disease\n",
       "22           appet                  appetite\n",
       "23              pe               pedal edema\n",
       "24             ane                    anemia\n",
       "25  classification                     class"
      ]
     },
     "execution_count": 110,
     "metadata": {},
     "output_type": "execute_result"
    }
   ],
   "source": [
    "columns.columns=['cols', 'abb_col_names']\n",
    "columns"
   ]
  },
  {
   "cell_type": "code",
   "execution_count": 111,
   "metadata": {},
   "outputs": [
    {
     "data": {
      "text/html": [
       "<div>\n",
       "<style scoped>\n",
       "    .dataframe tbody tr th:only-of-type {\n",
       "        vertical-align: middle;\n",
       "    }\n",
       "\n",
       "    .dataframe tbody tr th {\n",
       "        vertical-align: top;\n",
       "    }\n",
       "\n",
       "    .dataframe thead th {\n",
       "        text-align: right;\n",
       "    }\n",
       "</style>\n",
       "<table border=\"1\" class=\"dataframe\">\n",
       "  <thead>\n",
       "    <tr style=\"text-align: right;\">\n",
       "      <th></th>\n",
       "      <th>id</th>\n",
       "      <th>age</th>\n",
       "      <th>blood pressure</th>\n",
       "      <th>specific gravity</th>\n",
       "      <th>albumin</th>\n",
       "      <th>sugar</th>\n",
       "      <th>red blood cells</th>\n",
       "      <th>pus cell</th>\n",
       "      <th>pus cell clumps</th>\n",
       "      <th>bacteria</th>\n",
       "      <th>...</th>\n",
       "      <th>packed cell volume</th>\n",
       "      <th>white blood cell count</th>\n",
       "      <th>red blood cell count</th>\n",
       "      <th>ypertension</th>\n",
       "      <th>diabetes mellitus</th>\n",
       "      <th>coronary artery disease</th>\n",
       "      <th>appetite</th>\n",
       "      <th>pedal edema</th>\n",
       "      <th>anemia</th>\n",
       "      <th>class</th>\n",
       "    </tr>\n",
       "  </thead>\n",
       "  <tbody>\n",
       "    <tr>\n",
       "      <th>0</th>\n",
       "      <td>0</td>\n",
       "      <td>48.0</td>\n",
       "      <td>80.0</td>\n",
       "      <td>1.020</td>\n",
       "      <td>1.0</td>\n",
       "      <td>0.0</td>\n",
       "      <td>NaN</td>\n",
       "      <td>normal</td>\n",
       "      <td>notpresent</td>\n",
       "      <td>notpresent</td>\n",
       "      <td>...</td>\n",
       "      <td>44</td>\n",
       "      <td>7800</td>\n",
       "      <td>5.2</td>\n",
       "      <td>yes</td>\n",
       "      <td>yes</td>\n",
       "      <td>no</td>\n",
       "      <td>good</td>\n",
       "      <td>no</td>\n",
       "      <td>no</td>\n",
       "      <td>ckd</td>\n",
       "    </tr>\n",
       "    <tr>\n",
       "      <th>1</th>\n",
       "      <td>1</td>\n",
       "      <td>7.0</td>\n",
       "      <td>50.0</td>\n",
       "      <td>1.020</td>\n",
       "      <td>4.0</td>\n",
       "      <td>0.0</td>\n",
       "      <td>NaN</td>\n",
       "      <td>normal</td>\n",
       "      <td>notpresent</td>\n",
       "      <td>notpresent</td>\n",
       "      <td>...</td>\n",
       "      <td>38</td>\n",
       "      <td>6000</td>\n",
       "      <td>NaN</td>\n",
       "      <td>no</td>\n",
       "      <td>no</td>\n",
       "      <td>no</td>\n",
       "      <td>good</td>\n",
       "      <td>no</td>\n",
       "      <td>no</td>\n",
       "      <td>ckd</td>\n",
       "    </tr>\n",
       "    <tr>\n",
       "      <th>2</th>\n",
       "      <td>2</td>\n",
       "      <td>62.0</td>\n",
       "      <td>80.0</td>\n",
       "      <td>1.010</td>\n",
       "      <td>2.0</td>\n",
       "      <td>3.0</td>\n",
       "      <td>normal</td>\n",
       "      <td>normal</td>\n",
       "      <td>notpresent</td>\n",
       "      <td>notpresent</td>\n",
       "      <td>...</td>\n",
       "      <td>31</td>\n",
       "      <td>7500</td>\n",
       "      <td>NaN</td>\n",
       "      <td>no</td>\n",
       "      <td>yes</td>\n",
       "      <td>no</td>\n",
       "      <td>poor</td>\n",
       "      <td>no</td>\n",
       "      <td>yes</td>\n",
       "      <td>ckd</td>\n",
       "    </tr>\n",
       "    <tr>\n",
       "      <th>3</th>\n",
       "      <td>3</td>\n",
       "      <td>48.0</td>\n",
       "      <td>70.0</td>\n",
       "      <td>1.005</td>\n",
       "      <td>4.0</td>\n",
       "      <td>0.0</td>\n",
       "      <td>normal</td>\n",
       "      <td>abnormal</td>\n",
       "      <td>present</td>\n",
       "      <td>notpresent</td>\n",
       "      <td>...</td>\n",
       "      <td>32</td>\n",
       "      <td>6700</td>\n",
       "      <td>3.9</td>\n",
       "      <td>yes</td>\n",
       "      <td>no</td>\n",
       "      <td>no</td>\n",
       "      <td>poor</td>\n",
       "      <td>yes</td>\n",
       "      <td>yes</td>\n",
       "      <td>ckd</td>\n",
       "    </tr>\n",
       "    <tr>\n",
       "      <th>4</th>\n",
       "      <td>4</td>\n",
       "      <td>51.0</td>\n",
       "      <td>80.0</td>\n",
       "      <td>1.010</td>\n",
       "      <td>2.0</td>\n",
       "      <td>0.0</td>\n",
       "      <td>normal</td>\n",
       "      <td>normal</td>\n",
       "      <td>notpresent</td>\n",
       "      <td>notpresent</td>\n",
       "      <td>...</td>\n",
       "      <td>35</td>\n",
       "      <td>7300</td>\n",
       "      <td>4.6</td>\n",
       "      <td>no</td>\n",
       "      <td>no</td>\n",
       "      <td>no</td>\n",
       "      <td>good</td>\n",
       "      <td>no</td>\n",
       "      <td>no</td>\n",
       "      <td>ckd</td>\n",
       "    </tr>\n",
       "  </tbody>\n",
       "</table>\n",
       "<p>5 rows × 26 columns</p>\n",
       "</div>"
      ],
      "text/plain": [
       "   id   age  blood pressure  specific gravity  albumin  sugar red blood cells  \\\n",
       "0   0  48.0            80.0             1.020      1.0    0.0             NaN   \n",
       "1   1   7.0            50.0             1.020      4.0    0.0             NaN   \n",
       "2   2  62.0            80.0             1.010      2.0    3.0          normal   \n",
       "3   3  48.0            70.0             1.005      4.0    0.0          normal   \n",
       "4   4  51.0            80.0             1.010      2.0    0.0          normal   \n",
       "\n",
       "   pus cell pus cell clumps    bacteria  ...  packed cell volume  \\\n",
       "0    normal      notpresent  notpresent  ...                  44   \n",
       "1    normal      notpresent  notpresent  ...                  38   \n",
       "2    normal      notpresent  notpresent  ...                  31   \n",
       "3  abnormal         present  notpresent  ...                  32   \n",
       "4    normal      notpresent  notpresent  ...                  35   \n",
       "\n",
       "   white blood cell count  red blood cell count  ypertension  \\\n",
       "0                    7800                   5.2          yes   \n",
       "1                    6000                   NaN           no   \n",
       "2                    7500                   NaN           no   \n",
       "3                    6700                   3.9          yes   \n",
       "4                    7300                   4.6           no   \n",
       "\n",
       "   diabetes mellitus  coronary artery disease appetite pedal edema anemia  \\\n",
       "0                yes                       no     good          no     no   \n",
       "1                 no                       no     good          no     no   \n",
       "2                yes                       no     poor          no    yes   \n",
       "3                 no                       no     poor         yes    yes   \n",
       "4                 no                       no     good          no     no   \n",
       "\n",
       "  class  \n",
       "0   ckd  \n",
       "1   ckd  \n",
       "2   ckd  \n",
       "3   ckd  \n",
       "4   ckd  \n",
       "\n",
       "[5 rows x 26 columns]"
      ]
     },
     "execution_count": 111,
     "metadata": {},
     "output_type": "execute_result"
    }
   ],
   "source": [
    "df.columns=columns['abb_col_names'].values\n",
    "df.head()"
   ]
  },
  {
   "cell_type": "code",
   "execution_count": 112,
   "metadata": {},
   "outputs": [
    {
     "data": {
      "text/plain": [
       "id                           int64\n",
       "age                        float64\n",
       "blood pressure             float64\n",
       "specific gravity           float64\n",
       "albumin                    float64\n",
       "sugar                      float64\n",
       "red blood cells             object\n",
       " pus cell                   object\n",
       "pus cell clumps             object\n",
       "bacteria                    object\n",
       "blood glucose random       float64\n",
       "blood urea                 float64\n",
       "serum creatinine           float64\n",
       "sodium                     float64\n",
       "potassium                  float64\n",
       "haemoglobin                float64\n",
       "packed cell volume          object\n",
       "white blood cell count      object\n",
       "red blood cell count        object\n",
       "ypertension                 object\n",
       "diabetes mellitus           object\n",
       "coronary artery disease     object\n",
       "appetite                    object\n",
       "pedal edema                 object\n",
       "anemia                      object\n",
       "class                       object\n",
       "dtype: object"
      ]
     },
     "execution_count": 112,
     "metadata": {},
     "output_type": "execute_result"
    }
   ],
   "source": [
    "df.dtypes"
   ]
  },
  {
   "cell_type": "markdown",
   "metadata": {},
   "source": [
    "As it can be seen red_blood_cell_count, packed_cell_volume and white_blood_cell_count are object type. We \n",
    "need to change to numerical dtype."
   ]
  },
  {
   "cell_type": "code",
   "execution_count": 113,
   "metadata": {},
   "outputs": [],
   "source": [
    "features=['packed cell volume', 'white blood cell count', 'red blood cell count']"
   ]
  },
  {
   "cell_type": "code",
   "execution_count": 114,
   "metadata": {},
   "outputs": [],
   "source": [
    "def convert_dtype(df, feature):\n",
    "    df[feature]=pd.to_numeric(df[feature], errors='coerce')"
   ]
  },
  {
   "cell_type": "code",
   "execution_count": 115,
   "metadata": {},
   "outputs": [],
   "source": [
    "for feature in features:\n",
    "    convert_dtype(df, feature)"
   ]
  },
  {
   "cell_type": "code",
   "execution_count": 116,
   "metadata": {},
   "outputs": [],
   "source": [
    "df.drop('id', axis=1, inplace=True) "
   ]
  },
  {
   "cell_type": "markdown",
   "metadata": {},
   "source": [
    "'Id' column seems to be an unique identifier for each row, drop it for it does not help us to find any insights from the data."
   ]
  },
  {
   "cell_type": "code",
   "execution_count": null,
   "metadata": {},
   "outputs": [],
   "source": []
  },
  {
   "cell_type": "markdown",
   "metadata": {},
   "source": [
    "## Cleaning the data"
   ]
  },
  {
   "cell_type": "markdown",
   "metadata": {},
   "source": [
    "#### Extract Numerical & Categorical Features"
   ]
  },
  {
   "cell_type": "code",
   "execution_count": 117,
   "metadata": {},
   "outputs": [],
   "source": [
    "def extract_cat_num(df):\n",
    "    cat_col=[col for col in df.columns if df[col].dtype=='object'] #categorical variables\n",
    "    num_col=[col for col in df.columns if df[col].dtype!='object'] #numeric variables\n",
    "    return cat_col, num_col"
   ]
  },
  {
   "cell_type": "code",
   "execution_count": 118,
   "metadata": {},
   "outputs": [],
   "source": [
    "cat_col, num_col=extract_cat_num(df)"
   ]
  },
  {
   "cell_type": "code",
   "execution_count": 119,
   "metadata": {},
   "outputs": [
    {
     "data": {
      "text/plain": [
       "['red blood cells',\n",
       " ' pus cell',\n",
       " 'pus cell clumps',\n",
       " 'bacteria',\n",
       " 'ypertension',\n",
       " 'diabetes mellitus',\n",
       " 'coronary artery disease',\n",
       " 'appetite',\n",
       " 'pedal edema',\n",
       " 'anemia',\n",
       " 'class']"
      ]
     },
     "execution_count": 119,
     "metadata": {},
     "output_type": "execute_result"
    }
   ],
   "source": [
    "cat_col"
   ]
  },
  {
   "cell_type": "code",
   "execution_count": 120,
   "metadata": {},
   "outputs": [
    {
     "data": {
      "text/plain": [
       "['age',\n",
       " 'blood pressure',\n",
       " 'specific gravity',\n",
       " 'albumin',\n",
       " 'sugar',\n",
       " 'blood glucose random',\n",
       " 'blood urea',\n",
       " 'serum creatinine',\n",
       " 'sodium',\n",
       " 'potassium',\n",
       " 'haemoglobin',\n",
       " 'packed cell volume',\n",
       " 'white blood cell count',\n",
       " 'red blood cell count']"
      ]
     },
     "execution_count": 120,
     "metadata": {},
     "output_type": "execute_result"
    }
   ],
   "source": [
    "num_col"
   ]
  },
  {
   "cell_type": "markdown",
   "metadata": {},
   "source": [
    "Checking for dirtiness"
   ]
  },
  {
   "cell_type": "code",
   "execution_count": 121,
   "metadata": {},
   "outputs": [
    {
     "name": "stdout",
     "output_type": "stream",
     "text": [
      "red blood cells has [nan 'normal' 'abnormal'] values\n",
      "\n",
      "\n",
      " pus cell has ['normal' 'abnormal' nan] values\n",
      "\n",
      "\n",
      "pus cell clumps has ['notpresent' 'present' nan] values\n",
      "\n",
      "\n",
      "bacteria has ['notpresent' 'present' nan] values\n",
      "\n",
      "\n",
      "ypertension has ['yes' 'no' nan] values\n",
      "\n",
      "\n",
      "diabetes mellitus has ['yes' 'no' ' yes' '\\tno' '\\tyes' nan] values\n",
      "\n",
      "\n",
      "coronary artery disease has ['no' 'yes' '\\tno' nan] values\n",
      "\n",
      "\n",
      "appetite has ['good' 'poor' nan] values\n",
      "\n",
      "\n",
      "pedal edema has ['no' 'yes' nan] values\n",
      "\n",
      "\n",
      "anemia has ['no' 'yes' nan] values\n",
      "\n",
      "\n",
      "class has ['ckd' 'ckd\\t' 'notckd'] values\n",
      "\n",
      "\n"
     ]
    }
   ],
   "source": [
    "for col in cat_col:\n",
    "    print('{} has {} values'.format(col, df[col].unique()))\n",
    "    print('\\n')"
   ]
  },
  {
   "cell_type": "markdown",
   "metadata": {},
   "source": [
    "Two correct features needed and the target variable which contain certain discrepancy in some values."
   ]
  },
  {
   "cell_type": "code",
   "execution_count": 122,
   "metadata": {},
   "outputs": [],
   "source": [
    "#Replace incorrect values\n",
    "df['diabetes mellitus'].replace(to_replace={'\\tno':'no', '\\tyes':'yes'}, inplace=True)\n",
    "df['coronary artery disease']=df['coronary artery disease'].replace(to_replace='\\tno', value='no')\n",
    "df['class']=df['class'].replace(to_replace='ckd\\t', value='ckd')"
   ]
  },
  {
   "cell_type": "code",
   "execution_count": 123,
   "metadata": {},
   "outputs": [
    {
     "name": "stdout",
     "output_type": "stream",
     "text": [
      "red blood cells has [nan 'normal' 'abnormal'] values\n",
      "\n",
      "\n",
      " pus cell has ['normal' 'abnormal' nan] values\n",
      "\n",
      "\n",
      "pus cell clumps has ['notpresent' 'present' nan] values\n",
      "\n",
      "\n",
      "bacteria has ['notpresent' 'present' nan] values\n",
      "\n",
      "\n",
      "ypertension has ['yes' 'no' nan] values\n",
      "\n",
      "\n",
      "diabetes mellitus has ['yes' 'no' ' yes' nan] values\n",
      "\n",
      "\n",
      "coronary artery disease has ['no' 'yes' nan] values\n",
      "\n",
      "\n",
      "appetite has ['good' 'poor' nan] values\n",
      "\n",
      "\n",
      "pedal edema has ['no' 'yes' nan] values\n",
      "\n",
      "\n",
      "anemia has ['no' 'yes' nan] values\n",
      "\n",
      "\n",
      "class has ['ckd' 'notckd'] values\n",
      "\n",
      "\n"
     ]
    }
   ],
   "source": [
    "for col in cat_col:\n",
    "    print('{} has {} values'.format(col, df[col].unique()))\n",
    "    print('\\n')"
   ]
  },
  {
   "cell_type": "code",
   "execution_count": null,
   "metadata": {},
   "outputs": [],
   "source": []
  },
  {
   "cell_type": "markdown",
   "metadata": {},
   "source": [
    "## Analysing Distributions of the Data"
   ]
  },
  {
   "cell_type": "markdown",
   "metadata": {},
   "source": [
    "#### Distribution of each numerical column"
   ]
  },
  {
   "cell_type": "code",
   "execution_count": 124,
   "metadata": {},
   "outputs": [
    {
     "data": {
      "text/plain": [
       "14"
      ]
     },
     "execution_count": 124,
     "metadata": {},
     "output_type": "execute_result"
    }
   ],
   "source": [
    "len(num_col)"
   ]
  },
  {
   "cell_type": "code",
   "execution_count": 125,
   "metadata": {},
   "outputs": [
    {
     "data": {
      "image/png": "[encoded data removed]",
      "text/plain": [
       "<Figure size 2160x1440 with 14 Axes>"
      ]
     },
     "metadata": {
      "needs_background": "light"
     },
     "output_type": "display_data"
    }
   ],
   "source": [
    "plt.figure(figsize=(30, 20))\n",
    "\n",
    "for i, feature in enumerate(num_col):\n",
    "    plt.subplot(5, 3, i+1)\n",
    "    df[feature].hist()\n",
    "    plt.title(feature)"
   ]
  },
  {
   "cell_type": "markdown",
   "metadata": {},
   "source": [
    "#### Observations:\n",
    "    1.Age looks a bit left skewed\n",
    "    2.Blood glucose is right skewed\n",
    "    3.Blood Urea is also a bit right skewed\n",
    "    4.Rest of the features are lightly skewed"
   ]
  },
  {
   "cell_type": "code",
   "execution_count": null,
   "metadata": {},
   "outputs": [],
   "source": []
  },
  {
   "cell_type": "markdown",
   "metadata": {},
   "source": [
    "### Label distribution of each categorical column"
   ]
  },
  {
   "cell_type": "code",
   "execution_count": 126,
   "metadata": {},
   "outputs": [
    {
     "data": {
      "text/plain": [
       "11"
      ]
     },
     "execution_count": 126,
     "metadata": {},
     "output_type": "execute_result"
    }
   ],
   "source": [
    "len(cat_col)"
   ]
  },
  {
   "cell_type": "code",
   "execution_count": 127,
   "metadata": {},
   "outputs": [
    {
     "data": {
      "image/png": "[encoded data removed]",
      "text/plain": [
       "<Figure size 1440x1440 with 11 Axes>"
      ]
     },
     "metadata": {
      "needs_background": "light"
     },
     "output_type": "display_data"
    }
   ],
   "source": [
    "plt.figure(figsize=(20, 20))\n",
    "\n",
    "for i, feature in enumerate(cat_col):\n",
    "    plt.subplot(4, 3, i+1)\n",
    "    sns.countplot(df[feature])"
   ]
  },
  {
   "cell_type": "code",
   "execution_count": 128,
   "metadata": {},
   "outputs": [
    {
     "data": {
      "text/plain": [
       "<matplotlib.axes._subplots.AxesSubplot at 0x273cfb349a0>"
      ]
     },
     "execution_count": 128,
     "metadata": {},
     "output_type": "execute_result"
    },
    {
     "data": {
      "image/png": "[encoded data removed]",
      "text/plain": [
       "<Figure size 432x288 with 1 Axes>"
      ]
     },
     "metadata": {
      "needs_background": "light"
     },
     "output_type": "display_data"
    }
   ],
   "source": [
    "sns.countplot(df['class'])"
   ]
  },
  {
   "cell_type": "code",
   "execution_count": null,
   "metadata": {},
   "outputs": [],
   "source": []
  },
  {
   "cell_type": "markdown",
   "metadata": {},
   "source": [
    "### Co-relation in the data"
   ]
  },
  {
   "cell_type": "markdown",
   "metadata": {},
   "source": [
    "#### How columns are co-related to each other and its impact on target features"
   ]
  },
  {
   "cell_type": "code",
   "execution_count": 129,
   "metadata": {},
   "outputs": [
    {
     "data": {
      "text/plain": [
       "<matplotlib.axes._subplots.AxesSubplot at 0x273d0216ca0>"
      ]
     },
     "execution_count": 129,
     "metadata": {},
     "output_type": "execute_result"
    },
    {
     "data": {
      "image/png": "[encoded data removed]",
      "text/plain": [
       "<Figure size 720x576 with 2 Axes>"
      ]
     },
     "metadata": {
      "needs_background": "light"
     },
     "output_type": "display_data"
    }
   ],
   "source": [
    "plt.figure(figsize=(10, 8))\n",
    "sns.heatmap(df.corr(), annot=True)"
   ]
  },
  {
   "cell_type": "markdown",
   "metadata": {},
   "source": [
    "    Positive Correlation:\n",
    "    \n",
    "    Specific gravity -> Red blood cell count, Packed cell volume and Haemoglobin\n",
    "    Sugar -> Blood glucose random\n",
    "    Blood Urea -> Serum creatinine\n",
    "    Haemoglobin -> Red Blood cell count <- packed cell volume\n",
    "    \n",
    "    Negative Correlation:\n",
    "    Albumin, Blood urea -> Red blood cell count, packed cell volume, Haemoglobin\n",
    "    Serum creatinine -> Sodium"
   ]
  },
  {
   "cell_type": "code",
   "execution_count": 130,
   "metadata": {
    "scrolled": true
   },
   "outputs": [
    {
     "data": {
      "text/html": [
       "<div>\n",
       "<style scoped>\n",
       "    .dataframe tbody tr th:only-of-type {\n",
       "        vertical-align: middle;\n",
       "    }\n",
       "\n",
       "    .dataframe tbody tr th {\n",
       "        vertical-align: top;\n",
       "    }\n",
       "\n",
       "    .dataframe thead th {\n",
       "        text-align: right;\n",
       "    }\n",
       "</style>\n",
       "<table border=\"1\" class=\"dataframe\">\n",
       "  <thead>\n",
       "    <tr style=\"text-align: right;\">\n",
       "      <th></th>\n",
       "      <th></th>\n",
       "      <th>count</th>\n",
       "      <th>mean</th>\n",
       "      <th>median</th>\n",
       "      <th>min</th>\n",
       "      <th>max</th>\n",
       "    </tr>\n",
       "    <tr>\n",
       "      <th>red blood cells</th>\n",
       "      <th>class</th>\n",
       "      <th></th>\n",
       "      <th></th>\n",
       "      <th></th>\n",
       "      <th></th>\n",
       "      <th></th>\n",
       "    </tr>\n",
       "  </thead>\n",
       "  <tbody>\n",
       "    <tr>\n",
       "      <th>abnormal</th>\n",
       "      <th>ckd</th>\n",
       "      <td>25</td>\n",
       "      <td>3.832000</td>\n",
       "      <td>3.7</td>\n",
       "      <td>2.5</td>\n",
       "      <td>5.6</td>\n",
       "    </tr>\n",
       "    <tr>\n",
       "      <th rowspan=\"2\" valign=\"top\">normal</th>\n",
       "      <th>ckd</th>\n",
       "      <td>40</td>\n",
       "      <td>3.782500</td>\n",
       "      <td>3.8</td>\n",
       "      <td>2.1</td>\n",
       "      <td>8.0</td>\n",
       "    </tr>\n",
       "    <tr>\n",
       "      <th>notckd</th>\n",
       "      <td>134</td>\n",
       "      <td>5.368657</td>\n",
       "      <td>5.3</td>\n",
       "      <td>4.4</td>\n",
       "      <td>6.5</td>\n",
       "    </tr>\n",
       "  </tbody>\n",
       "</table>\n",
       "</div>"
      ],
      "text/plain": [
       "                        count      mean  median  min  max\n",
       "red blood cells class                                    \n",
       "abnormal        ckd        25  3.832000     3.7  2.5  5.6\n",
       "normal          ckd        40  3.782500     3.8  2.1  8.0\n",
       "                notckd    134  5.368657     5.3  4.4  6.5"
      ]
     },
     "execution_count": 130,
     "metadata": {},
     "output_type": "execute_result"
    }
   ],
   "source": [
    "df.groupby(['red blood cells', 'class'])['red blood cell count'].agg(['count', 'mean', 'median', 'min'\n",
    "                                                                      , 'max'])"
   ]
  },
  {
   "cell_type": "code",
   "execution_count": 131,
   "metadata": {},
   "outputs": [
    {
     "data": {
      "application/vnd.plotly.v1+json": {
       "config": {
        "plotlyServerURL": "https://plot.ly"
       },
       "data": [
        {
         "alignmentgroup": "True",
         "box": {
          "visible": false
         },
         "hovertemplate": "class=%{x}<br>red blood cell count=%{y}<extra></extra>",
         "legendgroup": "ckd",
         "marker": {
          "color": "#636efa"
         },
         "name": "ckd",
         "offsetgroup": "ckd",
         "orientation": "v",
         "scalegroup": "True",
         "showlegend": true,
         "type": "violin",
         "x": [
          "ckd",
          "ckd",
          "ckd",
          "ckd",
          "ckd",
          "ckd",
          "ckd",
          "ckd",
          "ckd",
          "ckd",
          "ckd",
          "ckd",
          "ckd",
          "ckd",
          "ckd",
          "ckd",
          "ckd",
          "ckd",
          "ckd",
          "ckd",
          "ckd",
          "ckd",
          "ckd",
          "ckd",
          "ckd",
          "ckd",
          "ckd",
          "ckd",
          "ckd",
          "ckd",
          "ckd",
          "ckd",
          "ckd",
          "ckd",
          "ckd",
          "ckd",
          "ckd",
          "ckd",
          "ckd",
          "ckd",
          "ckd",
          "ckd",
          "ckd",
          "ckd",
          "ckd",
          "ckd",
          "ckd",
          "ckd",
          "ckd",
          "ckd",
          "ckd",
          "ckd",
          "ckd",
          "ckd",
          "ckd",
          "ckd",
          "ckd",
          "ckd",
          "ckd",
          "ckd",
          "ckd",
          "ckd",
          "ckd",
          "ckd",
          "ckd",
          "ckd",
          "ckd",
          "ckd",
          "ckd",
          "ckd",
          "ckd",
          "ckd",
          "ckd",
          "ckd",
          "ckd",
          "ckd",
          "ckd",
          "ckd",
          "ckd",
          "ckd",
          "ckd",
          "ckd",
          "ckd",
          "ckd",
          "ckd",
          "ckd",
          "ckd",
          "ckd",
          "ckd",
          "ckd",
          "ckd",
          "ckd",
          "ckd",
          "ckd",
          "ckd",
          "ckd",
          "ckd",
          "ckd",
          "ckd",
          "ckd",
          "ckd",
          "ckd",
          "ckd",
          "ckd",
          "ckd",
          "ckd",
          "ckd",
          "ckd",
          "ckd",
          "ckd",
          "ckd",
          "ckd",
          "ckd",
          "ckd",
          "ckd",
          "ckd",
          "ckd",
          "ckd",
          "ckd",
          "ckd",
          "ckd",
          "ckd",
          "ckd",
          "ckd",
          "ckd",
          "ckd",
          "ckd",
          "ckd",
          "ckd",
          "ckd",
          "ckd",
          "ckd",
          "ckd",
          "ckd",
          "ckd",
          "ckd",
          "ckd",
          "ckd",
          "ckd",
          "ckd",
          "ckd",
          "ckd",
          "ckd",
          "ckd",
          "ckd",
          "ckd",
          "ckd",
          "ckd",
          "ckd",
          "ckd",
          "ckd",
          "ckd",
          "ckd",
          "ckd",
          "ckd",
          "ckd",
          "ckd",
          "ckd",
          "ckd",
          "ckd",
          "ckd",
          "ckd",
          "ckd",
          "ckd",
          "ckd",
          "ckd",
          "ckd",
          "ckd",
          "ckd",
          "ckd",
          "ckd",
          "ckd",
          "ckd",
          "ckd",
          "ckd",
          "ckd",
          "ckd",
          "ckd",
          "ckd",
          "ckd",
          "ckd",
          "ckd",
          "ckd",
          "ckd",
          "ckd",
          "ckd",
          "ckd",
          "ckd",
          "ckd",
          "ckd",
          "ckd",
          "ckd",
          "ckd",
          "ckd",
          "ckd",
          "ckd",
          "ckd",
          "ckd",
          "ckd",
          "ckd",
          "ckd",
          "ckd",
          "ckd",
          "ckd",
          "ckd",
          "ckd",
          "ckd",
          "ckd",
          "ckd",
          "ckd",
          "ckd",
          "ckd",
          "ckd",
          "ckd",
          "ckd",
          "ckd",
          "ckd",
          "ckd",
          "ckd",
          "ckd",
          "ckd",
          "ckd",
          "ckd",
          "ckd",
          "ckd",
          "ckd",
          "ckd",
          "ckd",
          "ckd",
          "ckd",
          "ckd",
          "ckd",
          "ckd",
          "ckd",
          "ckd",
          "ckd",
          "ckd",
          "ckd",
          "ckd",
          "ckd",
          "ckd",
          "ckd",
          "ckd",
          "ckd",
          "ckd",
          "ckd",
          "ckd",
          "ckd",
          "ckd",
          "ckd"
         ],
         "x0": " ",
         "xaxis": "x",
         "y": [
          5.2,
          null,
          null,
          3.9,
          4.6,
          4.4,
          null,
          5,
          4,
          3.7,
          null,
          3.8,
          3.4,
          null,
          2.6,
          2.8,
          null,
          null,
          4.3,
          3.7,
          3.2,
          3.6,
          3.4,
          null,
          4.6,
          3.7,
          4,
          4.1,
          null,
          null,
          null,
          4,
          4,
          null,
          null,
          4.9,
          null,
          2.5,
          null,
          4.2,
          4.1,
          null,
          4.5,
          3.1,
          null,
          null,
          4.7,
          null,
          3.5,
          3.5,
          3.8,
          null,
          3.7,
          4.7,
          4.2,
          null,
          3.4,
          null,
          4.3,
          null,
          null,
          null,
          3.8,
          null,
          null,
          null,
          null,
          null,
          null,
          6,
          5.2,
          3.2,
          null,
          null,
          3.4,
          null,
          4,
          3.7,
          null,
          5,
          3.8,
          3.7,
          null,
          null,
          2.1,
          null,
          null,
          5,
          4.7,
          null,
          4.2,
          5.6,
          3.6,
          3.2,
          3.9,
          null,
          null,
          4,
          2.3,
          4.2,
          null,
          3.9,
          null,
          4.2,
          null,
          5.2,
          null,
          4.4,
          4.2,
          null,
          4.7,
          3.9,
          null,
          null,
          null,
          4.3,
          null,
          4.4,
          null,
          null,
          null,
          null,
          null,
          null,
          3.6,
          null,
          4.5,
          4.3,
          2.9,
          null,
          2.7,
          null,
          2.7,
          8,
          3.8,
          null,
          null,
          null,
          null,
          null,
          null,
          null,
          null,
          null,
          4.1,
          3.3,
          null,
          3,
          null,
          null,
          null,
          null,
          null,
          2.9,
          3,
          null,
          null,
          3.9,
          null,
          4.3,
          2.4,
          4.8,
          null,
          3.2,
          5.4,
          null,
          null,
          null,
          null,
          null,
          4.4,
          3.1,
          4.9,
          null,
          4.6,
          3.4,
          3.9,
          null,
          null,
          null,
          null,
          3.7,
          null,
          null,
          3.6,
          null,
          null,
          null,
          null,
          3.4,
          4.8,
          3.4,
          null,
          2.8,
          null,
          null,
          3.5,
          3,
          3.9,
          3.2,
          3.9,
          null,
          null,
          null,
          null,
          null,
          null,
          4.6,
          4.9,
          null,
          3.9,
          null,
          3.4,
          3.7,
          5.2,
          null,
          null,
          4.3,
          null,
          3.3,
          null,
          null,
          null,
          4.6,
          null,
          4.5,
          3.4,
          3.8,
          null,
          3.8,
          null,
          null,
          null,
          null,
          5.2,
          null,
          null,
          null,
          null,
          null,
          4.1,
          3.9,
          3.3,
          6.1,
          4.6,
          2.6,
          2.5,
          null,
          4.1,
          2.1
         ],
         "y0": " ",
         "yaxis": "y"
        },
        {
         "alignmentgroup": "True",
         "box": {
          "visible": false
         },
         "hovertemplate": "class=%{x}<br>red blood cell count=%{y}<extra></extra>",
         "legendgroup": "notckd",
         "marker": {
          "color": "#EF553B"
         },
         "name": "notckd",
         "offsetgroup": "notckd",
         "orientation": "v",
         "scalegroup": "True",
         "showlegend": true,
         "type": "violin",
         "x": [
          "notckd",
          "notckd",
          "notckd",
          "notckd",
          "notckd",
          "notckd",
          "notckd",
          "notckd",
          "notckd",
          "notckd",
          "notckd",
          "notckd",
          "notckd",
          "notckd",
          "notckd",
          "notckd",
          "notckd",
          "notckd",
          "notckd",
          "notckd",
          "notckd",
          "notckd",
          "notckd",
          "notckd",
          "notckd",
          "notckd",
          "notckd",
          "notckd",
          "notckd",
          "notckd",
          "notckd",
          "notckd",
          "notckd",
          "notckd",
          "notckd",
          "notckd",
          "notckd",
          "notckd",
          "notckd",
          "notckd",
          "notckd",
          "notckd",
          "notckd",
          "notckd",
          "notckd",
          "notckd",
          "notckd",
          "notckd",
          "notckd",
          "notckd",
          "notckd",
          "notckd",
          "notckd",
          "notckd",
          "notckd",
          "notckd",
          "notckd",
          "notckd",
          "notckd",
          "notckd",
          "notckd",
          "notckd",
          "notckd",
          "notckd",
          "notckd",
          "notckd",
          "notckd",
          "notckd",
          "notckd",
          "notckd",
          "notckd",
          "notckd",
          "notckd",
          "notckd",
          "notckd",
          "notckd",
          "notckd",
          "notckd",
          "notckd",
          "notckd",
          "notckd",
          "notckd",
          "notckd",
          "notckd",
          "notckd",
          "notckd",
          "notckd",
          "notckd",
          "notckd",
          "notckd",
          "notckd",
          "notckd",
          "notckd",
          "notckd",
          "notckd",
          "notckd",
          "notckd",
          "notckd",
          "notckd",
          "notckd",
          "notckd",
          "notckd",
          "notckd",
          "notckd",
          "notckd",
          "notckd",
          "notckd",
          "notckd",
          "notckd",
          "notckd",
          "notckd",
          "notckd",
          "notckd",
          "notckd",
          "notckd",
          "notckd",
          "notckd",
          "notckd",
          "notckd",
          "notckd",
          "notckd",
          "notckd",
          "notckd",
          "notckd",
          "notckd",
          "notckd",
          "notckd",
          "notckd",
          "notckd",
          "notckd",
          "notckd",
          "notckd",
          "notckd",
          "notckd",
          "notckd",
          "notckd",
          "notckd",
          "notckd",
          "notckd",
          "notckd",
          "notckd",
          "notckd",
          "notckd",
          "notckd",
          "notckd",
          "notckd",
          "notckd",
          "notckd",
          "notckd",
          "notckd"
         ],
         "x0": " ",
         "xaxis": "x",
         "y": [
          4.5,
          5,
          4.7,
          6.2,
          5.2,
          6.3,
          5.1,
          5.8,
          5.5,
          5.2,
          5.3,
          4.9,
          5.4,
          5.2,
          4.5,
          5,
          5.3,
          4.8,
          4.9,
          5.3,
          5,
          4.5,
          5.5,
          null,
          null,
          4.6,
          5.5,
          4.8,
          6.4,
          5.6,
          5.2,
          6,
          4.8,
          5.7,
          6,
          5.9,
          6,
          null,
          5.1,
          5.3,
          5.9,
          5.7,
          5,
          5.4,
          5.8,
          6.5,
          5.9,
          5.2,
          4.9,
          4.7,
          5.8,
          5,
          null,
          6.1,
          4.5,
          5.2,
          5.7,
          4.5,
          4.9,
          5.9,
          5.4,
          5.6,
          6.1,
          4.8,
          4.7,
          4.4,
          5.2,
          4.9,
          5.3,
          null,
          6.2,
          4.8,
          4.9,
          4.5,
          null,
          6.5,
          5.2,
          5.8,
          6.5,
          5.1,
          null,
          4.5,
          6.1,
          5.5,
          4.5,
          5.6,
          5.2,
          6.2,
          4.5,
          4.9,
          5.9,
          4.7,
          6.3,
          5.7,
          4.7,
          6.4,
          5.8,
          5.5,
          6.4,
          6.1,
          4.5,
          4.7,
          5.2,
          4.5,
          5.1,
          4.6,
          6.1,
          4.9,
          5.6,
          4.5,
          6.2,
          5.8,
          4.8,
          5.2,
          4.7,
          6.3,
          5.3,
          6.1,
          5.9,
          4.8,
          5.4,
          5,
          5.5,
          4.9,
          6.4,
          5.6,
          5.2,
          4.8,
          5.5,
          5.7,
          4.9,
          5.9,
          6.5,
          5,
          4.5,
          5.1,
          6.5,
          5.2,
          6.4,
          5.8,
          5.3,
          6.3,
          5.5,
          5.4,
          4.6,
          4.9,
          6.2,
          5.4,
          5.9,
          6.1
         ],
         "y0": " ",
         "yaxis": "y"
        }
       ],
       "layout": {
        "legend": {
         "title": {
          "text": "class"
         },
         "tracegroupgap": 0
        },
        "margin": {
         "t": 60
        },
        "template": {
         "data": {
          "bar": [
           {
            "error_x": {
             "color": "#2a3f5f"
            },
            "error_y": {
             "color": "#2a3f5f"
            },
            "marker": {
             "line": {
              "color": "#E5ECF6",
              "width": 0.5
             }
            },
            "type": "bar"
           }
          ],
          "barpolar": [
           {
            "marker": {
             "line": {
              "color": "#E5ECF6",
              "width": 0.5
             }
            },
            "type": "barpolar"
           }
          ],
          "carpet": [
           {
            "aaxis": {
             "endlinecolor": "#2a3f5f",
             "gridcolor": "white",
             "linecolor": "white",
             "minorgridcolor": "white",
             "startlinecolor": "#2a3f5f"
            },
            "baxis": {
             "endlinecolor": "#2a3f5f",
             "gridcolor": "white",
             "linecolor": "white",
             "minorgridcolor": "white",
             "startlinecolor": "#2a3f5f"
            },
            "type": "carpet"
           }
          ],
          "choropleth": [
           {
            "colorbar": {
             "outlinewidth": 0,
             "ticks": ""
            },
            "type": "choropleth"
           }
          ],
          "contour": [
           {
            "colorbar": {
             "outlinewidth": 0,
             "ticks": ""
            },
            "colorscale": [
             [
              0,
              "#0d0887"
             ],
             [
              0.1111111111111111,
              "#46039f"
             ],
             [
              0.2222222222222222,
              "#7201a8"
             ],
             [
              0.3333333333333333,
              "#9c179e"
             ],
             [
              0.4444444444444444,
              "#bd3786"
             ],
             [
              0.5555555555555556,
              "#d8576b"
             ],
             [
              0.6666666666666666,
              "#ed7953"
             ],
             [
              0.7777777777777778,
              "#fb9f3a"
             ],
             [
              0.8888888888888888,
              "#fdca26"
             ],
             [
              1,
              "#f0f921"
             ]
            ],
            "type": "contour"
           }
          ],
          "contourcarpet": [
           {
            "colorbar": {
             "outlinewidth": 0,
             "ticks": ""
            },
            "type": "contourcarpet"
           }
          ],
          "heatmap": [
           {
            "colorbar": {
             "outlinewidth": 0,
             "ticks": ""
            },
            "colorscale": [
             [
              0,
              "#0d0887"
             ],
             [
              0.1111111111111111,
              "#46039f"
             ],
             [
              0.2222222222222222,
              "#7201a8"
             ],
             [
              0.3333333333333333,
              "#9c179e"
             ],
             [
              0.4444444444444444,
              "#bd3786"
             ],
             [
              0.5555555555555556,
              "#d8576b"
             ],
             [
              0.6666666666666666,
              "#ed7953"
             ],
             [
              0.7777777777777778,
              "#fb9f3a"
             ],
             [
              0.8888888888888888,
              "#fdca26"
             ],
             [
              1,
              "#f0f921"
             ]
            ],
            "type": "heatmap"
           }
          ],
          "heatmapgl": [
           {
            "colorbar": {
             "outlinewidth": 0,
             "ticks": ""
            },
            "colorscale": [
             [
              0,
              "#0d0887"
             ],
             [
              0.1111111111111111,
              "#46039f"
             ],
             [
              0.2222222222222222,
              "#7201a8"
             ],
             [
              0.3333333333333333,
              "#9c179e"
             ],
             [
              0.4444444444444444,
              "#bd3786"
             ],
             [
              0.5555555555555556,
              "#d8576b"
             ],
             [
              0.6666666666666666,
              "#ed7953"
             ],
             [
              0.7777777777777778,
              "#fb9f3a"
             ],
             [
              0.8888888888888888,
              "#fdca26"
             ],
             [
              1,
              "#f0f921"
             ]
            ],
            "type": "heatmapgl"
           }
          ],
          "histogram": [
           {
            "marker": {
             "colorbar": {
              "outlinewidth": 0,
              "ticks": ""
             }
            },
            "type": "histogram"
           }
          ],
          "histogram2d": [
           {
            "colorbar": {
             "outlinewidth": 0,
             "ticks": ""
            },
            "colorscale": [
             [
              0,
              "#0d0887"
             ],
             [
              0.1111111111111111,
              "#46039f"
             ],
             [
              0.2222222222222222,
              "#7201a8"
             ],
             [
              0.3333333333333333,
              "#9c179e"
             ],
             [
              0.4444444444444444,
              "#bd3786"
             ],
             [
              0.5555555555555556,
              "#d8576b"
             ],
             [
              0.6666666666666666,
              "#ed7953"
             ],
             [
              0.7777777777777778,
              "#fb9f3a"
             ],
             [
              0.8888888888888888,
              "#fdca26"
             ],
             [
              1,
              "#f0f921"
             ]
            ],
            "type": "histogram2d"
           }
          ],
          "histogram2dcontour": [
           {
            "colorbar": {
             "outlinewidth": 0,
             "ticks": ""
            },
            "colorscale": [
             [
              0,
              "#0d0887"
             ],
             [
              0.1111111111111111,
              "#46039f"
             ],
             [
              0.2222222222222222,
              "#7201a8"
             ],
             [
              0.3333333333333333,
              "#9c179e"
             ],
             [
              0.4444444444444444,
              "#bd3786"
             ],
             [
              0.5555555555555556,
              "#d8576b"
             ],
             [
              0.6666666666666666,
              "#ed7953"
             ],
             [
              0.7777777777777778,
              "#fb9f3a"
             ],
             [
              0.8888888888888888,
              "#fdca26"
             ],
             [
              1,
              "#f0f921"
             ]
            ],
            "type": "histogram2dcontour"
           }
          ],
          "mesh3d": [
           {
            "colorbar": {
             "outlinewidth": 0,
             "ticks": ""
            },
            "type": "mesh3d"
           }
          ],
          "parcoords": [
           {
            "line": {
             "colorbar": {
              "outlinewidth": 0,
              "ticks": ""
             }
            },
            "type": "parcoords"
           }
          ],
          "pie": [
           {
            "automargin": true,
            "type": "pie"
           }
          ],
          "scatter": [
           {
            "marker": {
             "colorbar": {
              "outlinewidth": 0,
              "ticks": ""
             }
            },
            "type": "scatter"
           }
          ],
          "scatter3d": [
           {
            "line": {
             "colorbar": {
              "outlinewidth": 0,
              "ticks": ""
             }
            },
            "marker": {
             "colorbar": {
              "outlinewidth": 0,
              "ticks": ""
             }
            },
            "type": "scatter3d"
           }
          ],
          "scattercarpet": [
           {
            "marker": {
             "colorbar": {
              "outlinewidth": 0,
              "ticks": ""
             }
            },
            "type": "scattercarpet"
           }
          ],
          "scattergeo": [
           {
            "marker": {
             "colorbar": {
              "outlinewidth": 0,
              "ticks": ""
             }
            },
            "type": "scattergeo"
           }
          ],
          "scattergl": [
           {
            "marker": {
             "colorbar": {
              "outlinewidth": 0,
              "ticks": ""
             }
            },
            "type": "scattergl"
           }
          ],
          "scattermapbox": [
           {
            "marker": {
             "colorbar": {
              "outlinewidth": 0,
              "ticks": ""
             }
            },
            "type": "scattermapbox"
           }
          ],
          "scatterpolar": [
           {
            "marker": {
             "colorbar": {
              "outlinewidth": 0,
              "ticks": ""
             }
            },
            "type": "scatterpolar"
           }
          ],
          "scatterpolargl": [
           {
            "marker": {
             "colorbar": {
              "outlinewidth": 0,
              "ticks": ""
             }
            },
            "type": "scatterpolargl"
           }
          ],
          "scatterternary": [
           {
            "marker": {
             "colorbar": {
              "outlinewidth": 0,
              "ticks": ""
             }
            },
            "type": "scatterternary"
           }
          ],
          "surface": [
           {
            "colorbar": {
             "outlinewidth": 0,
             "ticks": ""
            },
            "colorscale": [
             [
              0,
              "#0d0887"
             ],
             [
              0.1111111111111111,
              "#46039f"
             ],
             [
              0.2222222222222222,
              "#7201a8"
             ],
             [
              0.3333333333333333,
              "#9c179e"
             ],
             [
              0.4444444444444444,
              "#bd3786"
             ],
             [
              0.5555555555555556,
              "#d8576b"
             ],
             [
              0.6666666666666666,
              "#ed7953"
             ],
             [
              0.7777777777777778,
              "#fb9f3a"
             ],
             [
              0.8888888888888888,
              "#fdca26"
             ],
             [
              1,
              "#f0f921"
             ]
            ],
            "type": "surface"
           }
          ],
          "table": [
           {
            "cells": {
             "fill": {
              "color": "#EBF0F8"
             },
             "line": {
              "color": "white"
             }
            },
            "header": {
             "fill": {
              "color": "#C8D4E3"
             },
             "line": {
              "color": "white"
             }
            },
            "type": "table"
           }
          ]
         },
         "layout": {
          "annotationdefaults": {
           "arrowcolor": "#2a3f5f",
           "arrowhead": 0,
           "arrowwidth": 1
          },
          "autotypenumbers": "strict",
          "coloraxis": {
           "colorbar": {
            "outlinewidth": 0,
            "ticks": ""
           }
          },
          "colorscale": {
           "diverging": [
            [
             0,
             "#8e0152"
            ],
            [
             0.1,
             "#c51b7d"
            ],
            [
             0.2,
             "#de77ae"
            ],
            [
             0.3,
             "#f1b6da"
            ],
            [
             0.4,
             "#fde0ef"
            ],
            [
             0.5,
             "#f7f7f7"
            ],
            [
             0.6,
             "#e6f5d0"
            ],
            [
             0.7,
             "#b8e186"
            ],
            [
             0.8,
             "#7fbc41"
            ],
            [
             0.9,
             "#4d9221"
            ],
            [
             1,
             "#276419"
            ]
           ],
           "sequential": [
            [
             0,
             "#0d0887"
            ],
            [
             0.1111111111111111,
             "#46039f"
            ],
            [
             0.2222222222222222,
             "#7201a8"
            ],
            [
             0.3333333333333333,
             "#9c179e"
            ],
            [
             0.4444444444444444,
             "#bd3786"
            ],
            [
             0.5555555555555556,
             "#d8576b"
            ],
            [
             0.6666666666666666,
             "#ed7953"
            ],
            [
             0.7777777777777778,
             "#fb9f3a"
            ],
            [
             0.8888888888888888,
             "#fdca26"
            ],
            [
             1,
             "#f0f921"
            ]
           ],
           "sequentialminus": [
            [
             0,
             "#0d0887"
            ],
            [
             0.1111111111111111,
             "#46039f"
            ],
            [
             0.2222222222222222,
             "#7201a8"
            ],
            [
             0.3333333333333333,
             "#9c179e"
            ],
            [
             0.4444444444444444,
             "#bd3786"
            ],
            [
             0.5555555555555556,
             "#d8576b"
            ],
            [
             0.6666666666666666,
             "#ed7953"
            ],
            [
             0.7777777777777778,
             "#fb9f3a"
            ],
            [
             0.8888888888888888,
             "#fdca26"
            ],
            [
             1,
             "#f0f921"
            ]
           ]
          },
          "colorway": [
           "#636efa",
           "#EF553B",
           "#00cc96",
           "#ab63fa",
           "#FFA15A",
           "#19d3f3",
           "#FF6692",
           "#B6E880",
           "#FF97FF",
           "#FECB52"
          ],
          "font": {
           "color": "#2a3f5f"
          },
          "geo": {
           "bgcolor": "white",
           "lakecolor": "white",
           "landcolor": "#E5ECF6",
           "showlakes": true,
           "showland": true,
           "subunitcolor": "white"
          },
          "hoverlabel": {
           "align": "left"
          },
          "hovermode": "closest",
          "mapbox": {
           "style": "light"
          },
          "paper_bgcolor": "white",
          "plot_bgcolor": "#E5ECF6",
          "polar": {
           "angularaxis": {
            "gridcolor": "white",
            "linecolor": "white",
            "ticks": ""
           },
           "bgcolor": "#E5ECF6",
           "radialaxis": {
            "gridcolor": "white",
            "linecolor": "white",
            "ticks": ""
           }
          },
          "scene": {
           "xaxis": {
            "backgroundcolor": "#E5ECF6",
            "gridcolor": "white",
            "gridwidth": 2,
            "linecolor": "white",
            "showbackground": true,
            "ticks": "",
            "zerolinecolor": "white"
           },
           "yaxis": {
            "backgroundcolor": "#E5ECF6",
            "gridcolor": "white",
            "gridwidth": 2,
            "linecolor": "white",
            "showbackground": true,
            "ticks": "",
            "zerolinecolor": "white"
           },
           "zaxis": {
            "backgroundcolor": "#E5ECF6",
            "gridcolor": "white",
            "gridwidth": 2,
            "linecolor": "white",
            "showbackground": true,
            "ticks": "",
            "zerolinecolor": "white"
           }
          },
          "shapedefaults": {
           "line": {
            "color": "#2a3f5f"
           }
          },
          "ternary": {
           "aaxis": {
            "gridcolor": "white",
            "linecolor": "white",
            "ticks": ""
           },
           "baxis": {
            "gridcolor": "white",
            "linecolor": "white",
            "ticks": ""
           },
           "bgcolor": "#E5ECF6",
           "caxis": {
            "gridcolor": "white",
            "linecolor": "white",
            "ticks": ""
           }
          },
          "title": {
           "x": 0.05
          },
          "xaxis": {
           "automargin": true,
           "gridcolor": "white",
           "linecolor": "white",
           "ticks": "",
           "title": {
            "standoff": 15
           },
           "zerolinecolor": "white",
           "zerolinewidth": 2
          },
          "yaxis": {
           "automargin": true,
           "gridcolor": "white",
           "linecolor": "white",
           "ticks": "",
           "title": {
            "standoff": 15
           },
           "zerolinecolor": "white",
           "zerolinewidth": 2
          }
         }
        },
        "violinmode": "overlay",
        "xaxis": {
         "anchor": "y",
         "categoryarray": [
          "ckd",
          "notckd"
         ],
         "categoryorder": "array",
         "domain": [
          0,
          1
         ],
         "title": {
          "text": "class"
         }
        },
        "yaxis": {
         "anchor": "x",
         "domain": [
          0,
          1
         ],
         "title": {
          "text": "red blood cell count"
         }
        }
       }
      },
      "text/html": [
       "<div>                            <div id=\"33a28031-0094-49e3-9d55-aaebf6827763\" class=\"plotly-graph-div\" style=\"height:525px; width:100%;\"></div>            <script type=\"text/javascript\">                require([\"plotly\"], function(Plotly) {                    window.PLOTLYENV=window.PLOTLYENV || {};                                    if (document.getElementById(\"33a28031-0094-49e3-9d55-aaebf6827763\")) {                    Plotly.newPlot(                        \"33a28031-0094-49e3-9d55-aaebf6827763\",                        [{\"alignmentgroup\": \"True\", \"box\": {\"visible\": false}, \"hovertemplate\": \"class=%{x}<br>red blood cell count=%{y}<extra></extra>\", \"legendgroup\": \"ckd\", \"marker\": {\"color\": \"#636efa\"}, \"name\": \"ckd\", \"offsetgroup\": \"ckd\", \"orientation\": \"v\", \"scalegroup\": \"True\", \"showlegend\": true, \"type\": \"violin\", \"x\": [\"ckd\", \"ckd\", \"ckd\", \"ckd\", \"ckd\", \"ckd\", \"ckd\", \"ckd\", \"ckd\", \"ckd\", \"ckd\", \"ckd\", \"ckd\", \"ckd\", \"ckd\", \"ckd\", \"ckd\", \"ckd\", \"ckd\", \"ckd\", \"ckd\", \"ckd\", \"ckd\", \"ckd\", \"ckd\", \"ckd\", \"ckd\", \"ckd\", \"ckd\", \"ckd\", \"ckd\", \"ckd\", \"ckd\", \"ckd\", \"ckd\", \"ckd\", \"ckd\", \"ckd\", \"ckd\", \"ckd\", \"ckd\", \"ckd\", \"ckd\", \"ckd\", \"ckd\", \"ckd\", \"ckd\", \"ckd\", \"ckd\", \"ckd\", \"ckd\", \"ckd\", \"ckd\", \"ckd\", \"ckd\", \"ckd\", \"ckd\", \"ckd\", \"ckd\", \"ckd\", \"ckd\", \"ckd\", \"ckd\", \"ckd\", \"ckd\", \"ckd\", \"ckd\", \"ckd\", \"ckd\", \"ckd\", \"ckd\", \"ckd\", \"ckd\", \"ckd\", \"ckd\", \"ckd\", \"ckd\", \"ckd\", \"ckd\", \"ckd\", \"ckd\", \"ckd\", \"ckd\", \"ckd\", \"ckd\", \"ckd\", \"ckd\", \"ckd\", \"ckd\", \"ckd\", \"ckd\", \"ckd\", \"ckd\", \"ckd\", \"ckd\", \"ckd\", \"ckd\", \"ckd\", \"ckd\", \"ckd\", \"ckd\", \"ckd\", \"ckd\", \"ckd\", \"ckd\", \"ckd\", \"ckd\", \"ckd\", \"ckd\", \"ckd\", \"ckd\", \"ckd\", \"ckd\", \"ckd\", \"ckd\", \"ckd\", \"ckd\", \"ckd\", \"ckd\", \"ckd\", \"ckd\", \"ckd\", \"ckd\", \"ckd\", \"ckd\", \"ckd\", \"ckd\", \"ckd\", \"ckd\", \"ckd\", \"ckd\", \"ckd\", \"ckd\", \"ckd\", \"ckd\", \"ckd\", \"ckd\", \"ckd\", \"ckd\", \"ckd\", \"ckd\", \"ckd\", \"ckd\", \"ckd\", \"ckd\", \"ckd\", \"ckd\", \"ckd\", \"ckd\", \"ckd\", \"ckd\", \"ckd\", \"ckd\", \"ckd\", \"ckd\", \"ckd\", \"ckd\", \"ckd\", \"ckd\", \"ckd\", \"ckd\", \"ckd\", \"ckd\", \"ckd\", \"ckd\", \"ckd\", \"ckd\", \"ckd\", \"ckd\", \"ckd\", \"ckd\", \"ckd\", \"ckd\", \"ckd\", \"ckd\", \"ckd\", \"ckd\", \"ckd\", \"ckd\", \"ckd\", \"ckd\", \"ckd\", \"ckd\", \"ckd\", \"ckd\", \"ckd\", \"ckd\", \"ckd\", \"ckd\", \"ckd\", \"ckd\", \"ckd\", \"ckd\", \"ckd\", \"ckd\", \"ckd\", \"ckd\", \"ckd\", \"ckd\", \"ckd\", \"ckd\", \"ckd\", \"ckd\", \"ckd\", \"ckd\", \"ckd\", \"ckd\", \"ckd\", \"ckd\", \"ckd\", \"ckd\", \"ckd\", \"ckd\", \"ckd\", \"ckd\", \"ckd\", \"ckd\", \"ckd\", \"ckd\", \"ckd\", \"ckd\", \"ckd\", \"ckd\", \"ckd\", \"ckd\", \"ckd\", \"ckd\", \"ckd\", \"ckd\", \"ckd\", \"ckd\", \"ckd\", \"ckd\", \"ckd\", \"ckd\", \"ckd\", \"ckd\", \"ckd\", \"ckd\", \"ckd\", \"ckd\", \"ckd\", \"ckd\", \"ckd\", \"ckd\", \"ckd\", \"ckd\", \"ckd\", \"ckd\", \"ckd\"], \"x0\": \" \", \"xaxis\": \"x\", \"y\": [5.2, null, null, 3.9, 4.6, 4.4, null, 5.0, 4.0, 3.7, null, 3.8, 3.4, null, 2.6, 2.8, null, null, 4.3, 3.7, 3.2, 3.6, 3.4, null, 4.6, 3.7, 4.0, 4.1, null, null, null, 4.0, 4.0, null, null, 4.9, null, 2.5, null, 4.2, 4.1, null, 4.5, 3.1, null, null, 4.7, null, 3.5, 3.5, 3.8, null, 3.7, 4.7, 4.2, null, 3.4, null, 4.3, null, null, null, 3.8, null, null, null, null, null, null, 6.0, 5.2, 3.2, null, null, 3.4, null, 4.0, 3.7, null, 5.0, 3.8, 3.7, null, null, 2.1, null, null, 5.0, 4.7, null, 4.2, 5.6, 3.6, 3.2, 3.9, null, null, 4.0, 2.3, 4.2, null, 3.9, null, 4.2, null, 5.2, null, 4.4, 4.2, null, 4.7, 3.9, null, null, null, 4.3, null, 4.4, null, null, null, null, null, null, 3.6, null, 4.5, 4.3, 2.9, null, 2.7, null, 2.7, 8.0, 3.8, null, null, null, null, null, null, null, null, null, 4.1, 3.3, null, 3.0, null, null, null, null, null, 2.9, 3.0, null, null, 3.9, null, 4.3, 2.4, 4.8, null, 3.2, 5.4, null, null, null, null, null, 4.4, 3.1, 4.9, null, 4.6, 3.4, 3.9, null, null, null, null, 3.7, null, null, 3.6, null, null, null, null, 3.4, 4.8, 3.4, null, 2.8, null, null, 3.5, 3.0, 3.9, 3.2, 3.9, null, null, null, null, null, null, 4.6, 4.9, null, 3.9, null, 3.4, 3.7, 5.2, null, null, 4.3, null, 3.3, null, null, null, 4.6, null, 4.5, 3.4, 3.8, null, 3.8, null, null, null, null, 5.2, null, null, null, null, null, 4.1, 3.9, 3.3, 6.1, 4.6, 2.6, 2.5, null, 4.1, 2.1], \"y0\": \" \", \"yaxis\": \"y\"}, {\"alignmentgroup\": \"True\", \"box\": {\"visible\": false}, \"hovertemplate\": \"class=%{x}<br>red blood cell count=%{y}<extra></extra>\", \"legendgroup\": \"notckd\", \"marker\": {\"color\": \"#EF553B\"}, \"name\": \"notckd\", \"offsetgroup\": \"notckd\", \"orientation\": \"v\", \"scalegroup\": \"True\", \"showlegend\": true, \"type\": \"violin\", \"x\": [\"notckd\", \"notckd\", \"notckd\", \"notckd\", \"notckd\", \"notckd\", \"notckd\", \"notckd\", \"notckd\", \"notckd\", \"notckd\", \"notckd\", \"notckd\", \"notckd\", \"notckd\", \"notckd\", \"notckd\", \"notckd\", \"notckd\", \"notckd\", \"notckd\", \"notckd\", \"notckd\", \"notckd\", \"notckd\", \"notckd\", \"notckd\", \"notckd\", \"notckd\", \"notckd\", \"notckd\", \"notckd\", \"notckd\", \"notckd\", \"notckd\", \"notckd\", \"notckd\", \"notckd\", \"notckd\", \"notckd\", \"notckd\", \"notckd\", \"notckd\", \"notckd\", \"notckd\", \"notckd\", \"notckd\", \"notckd\", \"notckd\", \"notckd\", \"notckd\", \"notckd\", \"notckd\", \"notckd\", \"notckd\", \"notckd\", \"notckd\", \"notckd\", \"notckd\", \"notckd\", \"notckd\", \"notckd\", \"notckd\", \"notckd\", \"notckd\", \"notckd\", \"notckd\", \"notckd\", \"notckd\", \"notckd\", \"notckd\", \"notckd\", \"notckd\", \"notckd\", \"notckd\", \"notckd\", \"notckd\", \"notckd\", \"notckd\", \"notckd\", \"notckd\", \"notckd\", \"notckd\", \"notckd\", \"notckd\", \"notckd\", \"notckd\", \"notckd\", \"notckd\", \"notckd\", \"notckd\", \"notckd\", \"notckd\", \"notckd\", \"notckd\", \"notckd\", \"notckd\", \"notckd\", \"notckd\", \"notckd\", \"notckd\", \"notckd\", \"notckd\", \"notckd\", \"notckd\", \"notckd\", \"notckd\", \"notckd\", \"notckd\", \"notckd\", \"notckd\", \"notckd\", \"notckd\", \"notckd\", \"notckd\", \"notckd\", \"notckd\", \"notckd\", \"notckd\", \"notckd\", \"notckd\", \"notckd\", \"notckd\", \"notckd\", \"notckd\", \"notckd\", \"notckd\", \"notckd\", \"notckd\", \"notckd\", \"notckd\", \"notckd\", \"notckd\", \"notckd\", \"notckd\", \"notckd\", \"notckd\", \"notckd\", \"notckd\", \"notckd\", \"notckd\", \"notckd\", \"notckd\", \"notckd\", \"notckd\", \"notckd\", \"notckd\", \"notckd\", \"notckd\", \"notckd\"], \"x0\": \" \", \"xaxis\": \"x\", \"y\": [4.5, 5.0, 4.7, 6.2, 5.2, 6.3, 5.1, 5.8, 5.5, 5.2, 5.3, 4.9, 5.4, 5.2, 4.5, 5.0, 5.3, 4.8, 4.9, 5.3, 5.0, 4.5, 5.5, null, null, 4.6, 5.5, 4.8, 6.4, 5.6, 5.2, 6.0, 4.8, 5.7, 6.0, 5.9, 6.0, null, 5.1, 5.3, 5.9, 5.7, 5.0, 5.4, 5.8, 6.5, 5.9, 5.2, 4.9, 4.7, 5.8, 5.0, null, 6.1, 4.5, 5.2, 5.7, 4.5, 4.9, 5.9, 5.4, 5.6, 6.1, 4.8, 4.7, 4.4, 5.2, 4.9, 5.3, null, 6.2, 4.8, 4.9, 4.5, null, 6.5, 5.2, 5.8, 6.5, 5.1, null, 4.5, 6.1, 5.5, 4.5, 5.6, 5.2, 6.2, 4.5, 4.9, 5.9, 4.7, 6.3, 5.7, 4.7, 6.4, 5.8, 5.5, 6.4, 6.1, 4.5, 4.7, 5.2, 4.5, 5.1, 4.6, 6.1, 4.9, 5.6, 4.5, 6.2, 5.8, 4.8, 5.2, 4.7, 6.3, 5.3, 6.1, 5.9, 4.8, 5.4, 5.0, 5.5, 4.9, 6.4, 5.6, 5.2, 4.8, 5.5, 5.7, 4.9, 5.9, 6.5, 5.0, 4.5, 5.1, 6.5, 5.2, 6.4, 5.8, 5.3, 6.3, 5.5, 5.4, 4.6, 4.9, 6.2, 5.4, 5.9, 6.1], \"y0\": \" \", \"yaxis\": \"y\"}],                        {\"legend\": {\"title\": {\"text\": \"class\"}, \"tracegroupgap\": 0}, \"margin\": {\"t\": 60}, \"template\": {\"data\": {\"bar\": [{\"error_x\": {\"color\": \"#2a3f5f\"}, \"error_y\": {\"color\": \"#2a3f5f\"}, \"marker\": {\"line\": {\"color\": \"#E5ECF6\", \"width\": 0.5}}, \"type\": \"bar\"}], \"barpolar\": [{\"marker\": {\"line\": {\"color\": \"#E5ECF6\", \"width\": 0.5}}, \"type\": \"barpolar\"}], \"carpet\": [{\"aaxis\": {\"endlinecolor\": \"#2a3f5f\", \"gridcolor\": \"white\", \"linecolor\": \"white\", \"minorgridcolor\": \"white\", \"startlinecolor\": \"#2a3f5f\"}, \"baxis\": {\"endlinecolor\": \"#2a3f5f\", \"gridcolor\": \"white\", \"linecolor\": \"white\", \"minorgridcolor\": \"white\", \"startlinecolor\": \"#2a3f5f\"}, \"type\": \"carpet\"}], \"choropleth\": [{\"colorbar\": {\"outlinewidth\": 0, \"ticks\": \"\"}, \"type\": \"choropleth\"}], \"contour\": [{\"colorbar\": {\"outlinewidth\": 0, \"ticks\": \"\"}, \"colorscale\": [[0.0, \"#0d0887\"], [0.1111111111111111, \"#46039f\"], [0.2222222222222222, \"#7201a8\"], [0.3333333333333333, \"#9c179e\"], [0.4444444444444444, \"#bd3786\"], [0.5555555555555556, \"#d8576b\"], [0.6666666666666666, \"#ed7953\"], [0.7777777777777778, \"#fb9f3a\"], [0.8888888888888888, \"#fdca26\"], [1.0, \"#f0f921\"]], \"type\": \"contour\"}], \"contourcarpet\": [{\"colorbar\": {\"outlinewidth\": 0, \"ticks\": \"\"}, \"type\": \"contourcarpet\"}], \"heatmap\": [{\"colorbar\": {\"outlinewidth\": 0, \"ticks\": \"\"}, \"colorscale\": [[0.0, \"#0d0887\"], [0.1111111111111111, \"#46039f\"], [0.2222222222222222, \"#7201a8\"], [0.3333333333333333, \"#9c179e\"], [0.4444444444444444, \"#bd3786\"], [0.5555555555555556, \"#d8576b\"], [0.6666666666666666, \"#ed7953\"], [0.7777777777777778, \"#fb9f3a\"], [0.8888888888888888, \"#fdca26\"], [1.0, \"#f0f921\"]], \"type\": \"heatmap\"}], \"heatmapgl\": [{\"colorbar\": {\"outlinewidth\": 0, \"ticks\": \"\"}, \"colorscale\": [[0.0, \"#0d0887\"], [0.1111111111111111, \"#46039f\"], [0.2222222222222222, \"#7201a8\"], [0.3333333333333333, \"#9c179e\"], [0.4444444444444444, \"#bd3786\"], [0.5555555555555556, \"#d8576b\"], [0.6666666666666666, \"#ed7953\"], [0.7777777777777778, \"#fb9f3a\"], [0.8888888888888888, \"#fdca26\"], [1.0, \"#f0f921\"]], \"type\": \"heatmapgl\"}], \"histogram\": [{\"marker\": {\"colorbar\": {\"outlinewidth\": 0, \"ticks\": \"\"}}, \"type\": \"histogram\"}], \"histogram2d\": [{\"colorbar\": {\"outlinewidth\": 0, \"ticks\": \"\"}, \"colorscale\": [[0.0, \"#0d0887\"], [0.1111111111111111, \"#46039f\"], [0.2222222222222222, \"#7201a8\"], [0.3333333333333333, \"#9c179e\"], [0.4444444444444444, \"#bd3786\"], [0.5555555555555556, \"#d8576b\"], [0.6666666666666666, \"#ed7953\"], [0.7777777777777778, \"#fb9f3a\"], [0.8888888888888888, \"#fdca26\"], [1.0, \"#f0f921\"]], \"type\": \"histogram2d\"}], \"histogram2dcontour\": [{\"colorbar\": {\"outlinewidth\": 0, \"ticks\": \"\"}, \"colorscale\": [[0.0, \"#0d0887\"], [0.1111111111111111, \"#46039f\"], [0.2222222222222222, \"#7201a8\"], [0.3333333333333333, \"#9c179e\"], [0.4444444444444444, \"#bd3786\"], [0.5555555555555556, \"#d8576b\"], [0.6666666666666666, \"#ed7953\"], [0.7777777777777778, \"#fb9f3a\"], [0.8888888888888888, \"#fdca26\"], [1.0, \"#f0f921\"]], \"type\": \"histogram2dcontour\"}], \"mesh3d\": [{\"colorbar\": {\"outlinewidth\": 0, \"ticks\": \"\"}, \"type\": \"mesh3d\"}], \"parcoords\": [{\"line\": {\"colorbar\": {\"outlinewidth\": 0, \"ticks\": \"\"}}, \"type\": \"parcoords\"}], \"pie\": [{\"automargin\": true, \"type\": \"pie\"}], \"scatter\": [{\"marker\": {\"colorbar\": {\"outlinewidth\": 0, \"ticks\": \"\"}}, \"type\": \"scatter\"}], \"scatter3d\": [{\"line\": {\"colorbar\": {\"outlinewidth\": 0, \"ticks\": \"\"}}, \"marker\": {\"colorbar\": {\"outlinewidth\": 0, \"ticks\": \"\"}}, \"type\": \"scatter3d\"}], \"scattercarpet\": [{\"marker\": {\"colorbar\": {\"outlinewidth\": 0, \"ticks\": \"\"}}, \"type\": \"scattercarpet\"}], \"scattergeo\": [{\"marker\": {\"colorbar\": {\"outlinewidth\": 0, \"ticks\": \"\"}}, \"type\": \"scattergeo\"}], \"scattergl\": [{\"marker\": {\"colorbar\": {\"outlinewidth\": 0, \"ticks\": \"\"}}, \"type\": \"scattergl\"}], \"scattermapbox\": [{\"marker\": {\"colorbar\": {\"outlinewidth\": 0, \"ticks\": \"\"}}, \"type\": \"scattermapbox\"}], \"scatterpolar\": [{\"marker\": {\"colorbar\": {\"outlinewidth\": 0, \"ticks\": \"\"}}, \"type\": \"scatterpolar\"}], \"scatterpolargl\": [{\"marker\": {\"colorbar\": {\"outlinewidth\": 0, \"ticks\": \"\"}}, \"type\": \"scatterpolargl\"}], \"scatterternary\": [{\"marker\": {\"colorbar\": {\"outlinewidth\": 0, \"ticks\": \"\"}}, \"type\": \"scatterternary\"}], \"surface\": [{\"colorbar\": {\"outlinewidth\": 0, \"ticks\": \"\"}, \"colorscale\": [[0.0, \"#0d0887\"], [0.1111111111111111, \"#46039f\"], [0.2222222222222222, \"#7201a8\"], [0.3333333333333333, \"#9c179e\"], [0.4444444444444444, \"#bd3786\"], [0.5555555555555556, \"#d8576b\"], [0.6666666666666666, \"#ed7953\"], [0.7777777777777778, \"#fb9f3a\"], [0.8888888888888888, \"#fdca26\"], [1.0, \"#f0f921\"]], \"type\": \"surface\"}], \"table\": [{\"cells\": {\"fill\": {\"color\": \"#EBF0F8\"}, \"line\": {\"color\": \"white\"}}, \"header\": {\"fill\": {\"color\": \"#C8D4E3\"}, \"line\": {\"color\": \"white\"}}, \"type\": \"table\"}]}, \"layout\": {\"annotationdefaults\": {\"arrowcolor\": \"#2a3f5f\", \"arrowhead\": 0, \"arrowwidth\": 1}, \"autotypenumbers\": \"strict\", \"coloraxis\": {\"colorbar\": {\"outlinewidth\": 0, \"ticks\": \"\"}}, \"colorscale\": {\"diverging\": [[0, \"#8e0152\"], [0.1, \"#c51b7d\"], [0.2, \"#de77ae\"], [0.3, \"#f1b6da\"], [0.4, \"#fde0ef\"], [0.5, \"#f7f7f7\"], [0.6, \"#e6f5d0\"], [0.7, \"#b8e186\"], [0.8, \"#7fbc41\"], [0.9, \"#4d9221\"], [1, \"#276419\"]], \"sequential\": [[0.0, \"#0d0887\"], [0.1111111111111111, \"#46039f\"], [0.2222222222222222, \"#7201a8\"], [0.3333333333333333, \"#9c179e\"], [0.4444444444444444, \"#bd3786\"], [0.5555555555555556, \"#d8576b\"], [0.6666666666666666, \"#ed7953\"], [0.7777777777777778, \"#fb9f3a\"], [0.8888888888888888, \"#fdca26\"], [1.0, \"#f0f921\"]], \"sequentialminus\": [[0.0, \"#0d0887\"], [0.1111111111111111, \"#46039f\"], [0.2222222222222222, \"#7201a8\"], [0.3333333333333333, \"#9c179e\"], [0.4444444444444444, \"#bd3786\"], [0.5555555555555556, \"#d8576b\"], [0.6666666666666666, \"#ed7953\"], [0.7777777777777778, \"#fb9f3a\"], [0.8888888888888888, \"#fdca26\"], [1.0, \"#f0f921\"]]}, \"colorway\": [\"#636efa\", \"#EF553B\", \"#00cc96\", \"#ab63fa\", \"#FFA15A\", \"#19d3f3\", \"#FF6692\", \"#B6E880\", \"#FF97FF\", \"#FECB52\"], \"font\": {\"color\": \"#2a3f5f\"}, \"geo\": {\"bgcolor\": \"white\", \"lakecolor\": \"white\", \"landcolor\": \"#E5ECF6\", \"showlakes\": true, \"showland\": true, \"subunitcolor\": \"white\"}, \"hoverlabel\": {\"align\": \"left\"}, \"hovermode\": \"closest\", \"mapbox\": {\"style\": \"light\"}, \"paper_bgcolor\": \"white\", \"plot_bgcolor\": \"#E5ECF6\", \"polar\": {\"angularaxis\": {\"gridcolor\": \"white\", \"linecolor\": \"white\", \"ticks\": \"\"}, \"bgcolor\": \"#E5ECF6\", \"radialaxis\": {\"gridcolor\": \"white\", \"linecolor\": \"white\", \"ticks\": \"\"}}, \"scene\": {\"xaxis\": {\"backgroundcolor\": \"#E5ECF6\", \"gridcolor\": \"white\", \"gridwidth\": 2, \"linecolor\": \"white\", \"showbackground\": true, \"ticks\": \"\", \"zerolinecolor\": \"white\"}, \"yaxis\": {\"backgroundcolor\": \"#E5ECF6\", \"gridcolor\": \"white\", \"gridwidth\": 2, \"linecolor\": \"white\", \"showbackground\": true, \"ticks\": \"\", \"zerolinecolor\": \"white\"}, \"zaxis\": {\"backgroundcolor\": \"#E5ECF6\", \"gridcolor\": \"white\", \"gridwidth\": 2, \"linecolor\": \"white\", \"showbackground\": true, \"ticks\": \"\", \"zerolinecolor\": \"white\"}}, \"shapedefaults\": {\"line\": {\"color\": \"#2a3f5f\"}}, \"ternary\": {\"aaxis\": {\"gridcolor\": \"white\", \"linecolor\": \"white\", \"ticks\": \"\"}, \"baxis\": {\"gridcolor\": \"white\", \"linecolor\": \"white\", \"ticks\": \"\"}, \"bgcolor\": \"#E5ECF6\", \"caxis\": {\"gridcolor\": \"white\", \"linecolor\": \"white\", \"ticks\": \"\"}}, \"title\": {\"x\": 0.05}, \"xaxis\": {\"automargin\": true, \"gridcolor\": \"white\", \"linecolor\": \"white\", \"ticks\": \"\", \"title\": {\"standoff\": 15}, \"zerolinecolor\": \"white\", \"zerolinewidth\": 2}, \"yaxis\": {\"automargin\": true, \"gridcolor\": \"white\", \"linecolor\": \"white\", \"ticks\": \"\", \"title\": {\"standoff\": 15}, \"zerolinecolor\": \"white\", \"zerolinewidth\": 2}}}, \"violinmode\": \"overlay\", \"xaxis\": {\"anchor\": \"y\", \"categoryarray\": [\"ckd\", \"notckd\"], \"categoryorder\": \"array\", \"domain\": [0.0, 1.0], \"title\": {\"text\": \"class\"}}, \"yaxis\": {\"anchor\": \"x\", \"domain\": [0.0, 1.0], \"title\": {\"text\": \"red blood cell count\"}}},                        {\"responsive\": true}                    ).then(function(){\n",
       "                            \n",
       "var gd = document.getElementById('33a28031-0094-49e3-9d55-aaebf6827763');\n",
       "var x = new MutationObserver(function (mutations, observer) {{\n",
       "        var display = window.getComputedStyle(gd).display;\n",
       "        if (!display || display === 'none') {{\n",
       "            console.log([gd, 'removed!']);\n",
       "            Plotly.purge(gd);\n",
       "            observer.disconnect();\n",
       "        }}\n",
       "}});\n",
       "\n",
       "// Listen for the removal of the full notebook cells\n",
       "var notebookContainer = gd.closest('#notebook-container');\n",
       "if (notebookContainer) {{\n",
       "    x.observe(notebookContainer, {childList: true});\n",
       "}}\n",
       "\n",
       "// Listen for the clearing of the current output cell\n",
       "var outputEl = gd.closest('.output');\n",
       "if (outputEl) {{\n",
       "    x.observe(outputEl, {childList: true});\n",
       "}}\n",
       "\n",
       "                        })                };                });            </script>        </div>"
      ]
     },
     "metadata": {},
     "output_type": "display_data"
    }
   ],
   "source": [
    "import plotly.express as px\n",
    "px.violin(df, y='red blood cell count', x='class', color='class')"
   ]
  },
  {
   "cell_type": "code",
   "execution_count": null,
   "metadata": {},
   "outputs": [],
   "source": []
  },
  {
   "cell_type": "markdown",
   "metadata": {},
   "source": [
    "### Relationship between hemoglobin and packed cell volume"
   ]
  },
  {
   "cell_type": "code",
   "execution_count": 132,
   "metadata": {},
   "outputs": [
    {
     "data": {
      "application/vnd.plotly.v1+json": {
       "config": {
        "plotlyServerURL": "https://plot.ly"
       },
       "data": [
        {
         "hovertemplate": "haemoglobin=%{x}<br>packed cell volume=%{y}<extra></extra>",
         "legendgroup": "",
         "marker": {
          "color": "#636efa",
          "symbol": "circle"
         },
         "mode": "markers",
         "name": "",
         "orientation": "v",
         "showlegend": false,
         "type": "scatter",
         "x": [
          15.4,
          11.3,
          9.6,
          11.2,
          11.6,
          12.2,
          12.4,
          12.4,
          10.8,
          9.5,
          9.4,
          10.8,
          9.7,
          9.8,
          5.6,
          7.6,
          12.6,
          12.1,
          12.7,
          10.3,
          7.7,
          10.9,
          9.8,
          null,
          11.1,
          9.9,
          11.6,
          12.5,
          null,
          12.9,
          null,
          10.1,
          11.3,
          10.1,
          null,
          12,
          10.3,
          9.7,
          12.5,
          13,
          11.1,
          null,
          9.7,
          7.9,
          9.7,
          9.3,
          12.4,
          15,
          10,
          9.7,
          8.6,
          10.3,
          10.9,
          13.6,
          13,
          9.5,
          10.2,
          null,
          10.5,
          6.6,
          null,
          null,
          11,
          7.5,
          9.8,
          15,
          null,
          null,
          10.9,
          15.6,
          15.2,
          9.8,
          10.3,
          4.8,
          9.1,
          8.1,
          10.3,
          11.9,
          10.1,
          13.5,
          10.8,
          8.3,
          null,
          null,
          7.1,
          9.9,
          null,
          11.1,
          null,
          null,
          13,
          16.1,
          10.4,
          9.2,
          11.6,
          null,
          11.2,
          10,
          6.2,
          11.2,
          null,
          11.3,
          13.9,
          10.2,
          null,
          14.1,
          6,
          11.2,
          11.8,
          11.7,
          11.7,
          10,
          10.8,
          null,
          12.1,
          12.4,
          null,
          12.5,
          11.4,
          null,
          12.6,
          15,
          6,
          14,
          9.1,
          null,
          12,
          11.4,
          8.1,
          11.1,
          8.2,
          11.8,
          8.6,
          12,
          10.8,
          13.2,
          9.3,
          10,
          null,
          11.1,
          null,
          6.1,
          null,
          null,
          11.1,
          8,
          null,
          7.9,
          null,
          10.5,
          12.3,
          9.6,
          10.9,
          8.3,
          8.4,
          11.1,
          null,
          12.6,
          10.9,
          10.4,
          10.9,
          14.3,
          9.8,
          9,
          14.3,
          null,
          null,
          12.7,
          11,
          8.7,
          12.5,
          8.7,
          10.6,
          13.1,
          11,
          null,
          8.3,
          13.2,
          9.8,
          11.9,
          10.3,
          10,
          11.3,
          null,
          11.3,
          12,
          null,
          10.7,
          12.2,
          9.5,
          9.9,
          9.1,
          null,
          5.5,
          null,
          5.8,
          8.1,
          6.8,
          11.2,
          8.8,
          12,
          7.9,
          8,
          8.5,
          8.8,
          12.6,
          13.8,
          12,
          12.3,
          11.5,
          7.3,
          null,
          10.9,
          10.9,
          13.7,
          null,
          12.8,
          12.2,
          11.8,
          9.8,
          11.9,
          null,
          null,
          13,
          null,
          11.5,
          7.9,
          11.3,
          null,
          9.6,
          null,
          11.5,
          null,
          null,
          15,
          7.9,
          9.1,
          12.7,
          9.4,
          11.9,
          11.4,
          10.4,
          9.4,
          13.4,
          12.2,
          6.3,
          8.6,
          null,
          12.6,
          3.1,
          15,
          17,
          15.9,
          15.4,
          13,
          13.6,
          14.5,
          14,
          13.9,
          16.1,
          14.1,
          17,
          15.5,
          16.2,
          14.4,
          14.2,
          13.2,
          13.9,
          16.3,
          15,
          14.3,
          13.8,
          14.8,
          null,
          14.4,
          16.5,
          14,
          15.7,
          14.5,
          16.3,
          13.3,
          15.5,
          14.6,
          16.4,
          16.9,
          16,
          14.7,
          13.4,
          15.9,
          16.6,
          14.8,
          14.9,
          16.7,
          14.9,
          14.3,
          15,
          16.8,
          15.8,
          13.5,
          15.1,
          15,
          16.9,
          14.8,
          17,
          13.1,
          17.1,
          15.2,
          13.6,
          13.9,
          17.2,
          13.2,
          13.7,
          15.3,
          17.3,
          15.6,
          13.8,
          15.4,
          15,
          17.4,
          null,
          15.7,
          13.9,
          16,
          15.9,
          null,
          14,
          15.8,
          13.4,
          null,
          14.1,
          null,
          13.5,
          15.3,
          17.7,
          15.4,
          14.2,
          15.2,
          14,
          17.8,
          13.3,
          14.3,
          13.4,
          15,
          16.2,
          14.4,
          13.5,
          15.5,
          17.8,
          13.6,
          14.5,
          16.1,
          17.5,
          15,
          13.6,
          14.6,
          15,
          17.1,
          13.6,
          13,
          17.2,
          14.7,
          13.7,
          15,
          17.8,
          14.8,
          null,
          15,
          17.4,
          14.9,
          13.6,
          16.2,
          17.6,
          15,
          13.7,
          16.3,
          15.1,
          16.4,
          13.8,
          15.2,
          16.1,
          15.3,
          16.6,
          16.8,
          13.9,
          15.4,
          16.5,
          16.4,
          16.7,
          15.5,
          17,
          15,
          15.6,
          14.8,
          13,
          14.1,
          15.7,
          16.5,
          15.8,
          14.2,
          15.8
         ],
         "xaxis": "x",
         "y": [
          44,
          38,
          31,
          32,
          35,
          39,
          36,
          44,
          33,
          29,
          28,
          32,
          28,
          null,
          16,
          24,
          null,
          null,
          37,
          30,
          24,
          32,
          32,
          null,
          39,
          29,
          35,
          37,
          null,
          38,
          null,
          30,
          34,
          29,
          null,
          36,
          32,
          28,
          null,
          40,
          32,
          null,
          33,
          24,
          28,
          null,
          37,
          45,
          29,
          29,
          28,
          33,
          34,
          40,
          40,
          28,
          30,
          null,
          33,
          null,
          null,
          null,
          33,
          27,
          null,
          48,
          null,
          null,
          37,
          52,
          44,
          28,
          null,
          14,
          29,
          null,
          36,
          34,
          30,
          40,
          31,
          29,
          null,
          null,
          22,
          null,
          null,
          32,
          null,
          null,
          40,
          52,
          33,
          30,
          36,
          null,
          36,
          32,
          18,
          32,
          null,
          33,
          52,
          36,
          null,
          42,
          17,
          34,
          37,
          null,
          34,
          32,
          33,
          null,
          null,
          44,
          null,
          37,
          null,
          null,
          null,
          46,
          null,
          42,
          28,
          null,
          37,
          35,
          23,
          null,
          22,
          36,
          24,
          37,
          33,
          39,
          null,
          29,
          null,
          33,
          null,
          19,
          null,
          null,
          33,
          24,
          null,
          25,
          null,
          32,
          41,
          30,
          32,
          22,
          26,
          36,
          null,
          39,
          31,
          35,
          35,
          42,
          37,
          27,
          40,
          null,
          null,
          42,
          39,
          27,
          33,
          26,
          34,
          41,
          35,
          null,
          23,
          41,
          34,
          39,
          28,
          30,
          35,
          null,
          31,
          34,
          null,
          34,
          38,
          29,
          30,
          26,
          null,
          15,
          null,
          null,
          24,
          null,
          30,
          25,
          37,
          21,
          24,
          null,
          31,
          43,
          41,
          41,
          41,
          null,
          20,
          null,
          31,
          34,
          43,
          null,
          38,
          36,
          34,
          28,
          36,
          null,
          null,
          38,
          null,
          35,
          26,
          36,
          null,
          31,
          null,
          35,
          null,
          null,
          44,
          26,
          25,
          40,
          28,
          39,
          36,
          31,
          28,
          47,
          40,
          19,
          26,
          null,
          37,
          9,
          48,
          52,
          46,
          42,
          49,
          52,
          41,
          46,
          44,
          45,
          45,
          41,
          43,
          45,
          50,
          48,
          41,
          48,
          53,
          48,
          41,
          42,
          42,
          null,
          44,
          43,
          41,
          50,
          44,
          48,
          52,
          41,
          44,
          43,
          52,
          41,
          44,
          43,
          50,
          43,
          52,
          41,
          52,
          48,
          40,
          50,
          41,
          45,
          48,
          52,
          43,
          41,
          48,
          50,
          45,
          41,
          52,
          44,
          48,
          40,
          44,
          45,
          48,
          52,
          41,
          48,
          48,
          40,
          52,
          null,
          44,
          48,
          43,
          45,
          null,
          50,
          41,
          44,
          45,
          48,
          42,
          46,
          44,
          46,
          43,
          48,
          40,
          52,
          44,
          48,
          43,
          41,
          50,
          50,
          42,
          42,
          52,
          43,
          44,
          52,
          43,
          40,
          48,
          51,
          41,
          52,
          47,
          42,
          45,
          53,
          43,
          54,
          40,
          44,
          45,
          null,
          46,
          50,
          45,
          46,
          50,
          51,
          52,
          47,
          40,
          48,
          53,
          49,
          42,
          50,
          54,
          40,
          51,
          49,
          42,
          52,
          43,
          50,
          46,
          52,
          52,
          44,
          46,
          54,
          45,
          47,
          54,
          49,
          51,
          53
         ],
         "yaxis": "y"
        }
       ],
       "layout": {
        "legend": {
         "tracegroupgap": 0
        },
        "margin": {
         "t": 60
        },
        "template": {
         "data": {
          "bar": [
           {
            "error_x": {
             "color": "#2a3f5f"
            },
            "error_y": {
             "color": "#2a3f5f"
            },
            "marker": {
             "line": {
              "color": "#E5ECF6",
              "width": 0.5
             }
            },
            "type": "bar"
           }
          ],
          "barpolar": [
           {
            "marker": {
             "line": {
              "color": "#E5ECF6",
              "width": 0.5
             }
            },
            "type": "barpolar"
           }
          ],
          "carpet": [
           {
            "aaxis": {
             "endlinecolor": "#2a3f5f",
             "gridcolor": "white",
             "linecolor": "white",
             "minorgridcolor": "white",
             "startlinecolor": "#2a3f5f"
            },
            "baxis": {
             "endlinecolor": "#2a3f5f",
             "gridcolor": "white",
             "linecolor": "white",
             "minorgridcolor": "white",
             "startlinecolor": "#2a3f5f"
            },
            "type": "carpet"
           }
          ],
          "choropleth": [
           {
            "colorbar": {
             "outlinewidth": 0,
             "ticks": ""
            },
            "type": "choropleth"
           }
          ],
          "contour": [
           {
            "colorbar": {
             "outlinewidth": 0,
             "ticks": ""
            },
            "colorscale": [
             [
              0,
              "#0d0887"
             ],
             [
              0.1111111111111111,
              "#46039f"
             ],
             [
              0.2222222222222222,
              "#7201a8"
             ],
             [
              0.3333333333333333,
              "#9c179e"
             ],
             [
              0.4444444444444444,
              "#bd3786"
             ],
             [
              0.5555555555555556,
              "#d8576b"
             ],
             [
              0.6666666666666666,
              "#ed7953"
             ],
             [
              0.7777777777777778,
              "#fb9f3a"
             ],
             [
              0.8888888888888888,
              "#fdca26"
             ],
             [
              1,
              "#f0f921"
             ]
            ],
            "type": "contour"
           }
          ],
          "contourcarpet": [
           {
            "colorbar": {
             "outlinewidth": 0,
             "ticks": ""
            },
            "type": "contourcarpet"
           }
          ],
          "heatmap": [
           {
            "colorbar": {
             "outlinewidth": 0,
             "ticks": ""
            },
            "colorscale": [
             [
              0,
              "#0d0887"
             ],
             [
              0.1111111111111111,
              "#46039f"
             ],
             [
              0.2222222222222222,
              "#7201a8"
             ],
             [
              0.3333333333333333,
              "#9c179e"
             ],
             [
              0.4444444444444444,
              "#bd3786"
             ],
             [
              0.5555555555555556,
              "#d8576b"
             ],
             [
              0.6666666666666666,
              "#ed7953"
             ],
             [
              0.7777777777777778,
              "#fb9f3a"
             ],
             [
              0.8888888888888888,
              "#fdca26"
             ],
             [
              1,
              "#f0f921"
             ]
            ],
            "type": "heatmap"
           }
          ],
          "heatmapgl": [
           {
            "colorbar": {
             "outlinewidth": 0,
             "ticks": ""
            },
            "colorscale": [
             [
              0,
              "#0d0887"
             ],
             [
              0.1111111111111111,
              "#46039f"
             ],
             [
              0.2222222222222222,
              "#7201a8"
             ],
             [
              0.3333333333333333,
              "#9c179e"
             ],
             [
              0.4444444444444444,
              "#bd3786"
             ],
             [
              0.5555555555555556,
              "#d8576b"
             ],
             [
              0.6666666666666666,
              "#ed7953"
             ],
             [
              0.7777777777777778,
              "#fb9f3a"
             ],
             [
              0.8888888888888888,
              "#fdca26"
             ],
             [
              1,
              "#f0f921"
             ]
            ],
            "type": "heatmapgl"
           }
          ],
          "histogram": [
           {
            "marker": {
             "colorbar": {
              "outlinewidth": 0,
              "ticks": ""
             }
            },
            "type": "histogram"
           }
          ],
          "histogram2d": [
           {
            "colorbar": {
             "outlinewidth": 0,
             "ticks": ""
            },
            "colorscale": [
             [
              0,
              "#0d0887"
             ],
             [
              0.1111111111111111,
              "#46039f"
             ],
             [
              0.2222222222222222,
              "#7201a8"
             ],
             [
              0.3333333333333333,
              "#9c179e"
             ],
             [
              0.4444444444444444,
              "#bd3786"
             ],
             [
              0.5555555555555556,
              "#d8576b"
             ],
             [
              0.6666666666666666,
              "#ed7953"
             ],
             [
              0.7777777777777778,
              "#fb9f3a"
             ],
             [
              0.8888888888888888,
              "#fdca26"
             ],
             [
              1,
              "#f0f921"
             ]
            ],
            "type": "histogram2d"
           }
          ],
          "histogram2dcontour": [
           {
            "colorbar": {
             "outlinewidth": 0,
             "ticks": ""
            },
            "colorscale": [
             [
              0,
              "#0d0887"
             ],
             [
              0.1111111111111111,
              "#46039f"
             ],
             [
              0.2222222222222222,
              "#7201a8"
             ],
             [
              0.3333333333333333,
              "#9c179e"
             ],
             [
              0.4444444444444444,
              "#bd3786"
             ],
             [
              0.5555555555555556,
              "#d8576b"
             ],
             [
              0.6666666666666666,
              "#ed7953"
             ],
             [
              0.7777777777777778,
              "#fb9f3a"
             ],
             [
              0.8888888888888888,
              "#fdca26"
             ],
             [
              1,
              "#f0f921"
             ]
            ],
            "type": "histogram2dcontour"
           }
          ],
          "mesh3d": [
           {
            "colorbar": {
             "outlinewidth": 0,
             "ticks": ""
            },
            "type": "mesh3d"
           }
          ],
          "parcoords": [
           {
            "line": {
             "colorbar": {
              "outlinewidth": 0,
              "ticks": ""
             }
            },
            "type": "parcoords"
           }
          ],
          "pie": [
           {
            "automargin": true,
            "type": "pie"
           }
          ],
          "scatter": [
           {
            "marker": {
             "colorbar": {
              "outlinewidth": 0,
              "ticks": ""
             }
            },
            "type": "scatter"
           }
          ],
          "scatter3d": [
           {
            "line": {
             "colorbar": {
              "outlinewidth": 0,
              "ticks": ""
             }
            },
            "marker": {
             "colorbar": {
              "outlinewidth": 0,
              "ticks": ""
             }
            },
            "type": "scatter3d"
           }
          ],
          "scattercarpet": [
           {
            "marker": {
             "colorbar": {
              "outlinewidth": 0,
              "ticks": ""
             }
            },
            "type": "scattercarpet"
           }
          ],
          "scattergeo": [
           {
            "marker": {
             "colorbar": {
              "outlinewidth": 0,
              "ticks": ""
             }
            },
            "type": "scattergeo"
           }
          ],
          "scattergl": [
           {
            "marker": {
             "colorbar": {
              "outlinewidth": 0,
              "ticks": ""
             }
            },
            "type": "scattergl"
           }
          ],
          "scattermapbox": [
           {
            "marker": {
             "colorbar": {
              "outlinewidth": 0,
              "ticks": ""
             }
            },
            "type": "scattermapbox"
           }
          ],
          "scatterpolar": [
           {
            "marker": {
             "colorbar": {
              "outlinewidth": 0,
              "ticks": ""
             }
            },
            "type": "scatterpolar"
           }
          ],
          "scatterpolargl": [
           {
            "marker": {
             "colorbar": {
              "outlinewidth": 0,
              "ticks": ""
             }
            },
            "type": "scatterpolargl"
           }
          ],
          "scatterternary": [
           {
            "marker": {
             "colorbar": {
              "outlinewidth": 0,
              "ticks": ""
             }
            },
            "type": "scatterternary"
           }
          ],
          "surface": [
           {
            "colorbar": {
             "outlinewidth": 0,
             "ticks": ""
            },
            "colorscale": [
             [
              0,
              "#0d0887"
             ],
             [
              0.1111111111111111,
              "#46039f"
             ],
             [
              0.2222222222222222,
              "#7201a8"
             ],
             [
              0.3333333333333333,
              "#9c179e"
             ],
             [
              0.4444444444444444,
              "#bd3786"
             ],
             [
              0.5555555555555556,
              "#d8576b"
             ],
             [
              0.6666666666666666,
              "#ed7953"
             ],
             [
              0.7777777777777778,
              "#fb9f3a"
             ],
             [
              0.8888888888888888,
              "#fdca26"
             ],
             [
              1,
              "#f0f921"
             ]
            ],
            "type": "surface"
           }
          ],
          "table": [
           {
            "cells": {
             "fill": {
              "color": "#EBF0F8"
             },
             "line": {
              "color": "white"
             }
            },
            "header": {
             "fill": {
              "color": "#C8D4E3"
             },
             "line": {
              "color": "white"
             }
            },
            "type": "table"
           }
          ]
         },
         "layout": {
          "annotationdefaults": {
           "arrowcolor": "#2a3f5f",
           "arrowhead": 0,
           "arrowwidth": 1
          },
          "autotypenumbers": "strict",
          "coloraxis": {
           "colorbar": {
            "outlinewidth": 0,
            "ticks": ""
           }
          },
          "colorscale": {
           "diverging": [
            [
             0,
             "#8e0152"
            ],
            [
             0.1,
             "#c51b7d"
            ],
            [
             0.2,
             "#de77ae"
            ],
            [
             0.3,
             "#f1b6da"
            ],
            [
             0.4,
             "#fde0ef"
            ],
            [
             0.5,
             "#f7f7f7"
            ],
            [
             0.6,
             "#e6f5d0"
            ],
            [
             0.7,
             "#b8e186"
            ],
            [
             0.8,
             "#7fbc41"
            ],
            [
             0.9,
             "#4d9221"
            ],
            [
             1,
             "#276419"
            ]
           ],
           "sequential": [
            [
             0,
             "#0d0887"
            ],
            [
             0.1111111111111111,
             "#46039f"
            ],
            [
             0.2222222222222222,
             "#7201a8"
            ],
            [
             0.3333333333333333,
             "#9c179e"
            ],
            [
             0.4444444444444444,
             "#bd3786"
            ],
            [
             0.5555555555555556,
             "#d8576b"
            ],
            [
             0.6666666666666666,
             "#ed7953"
            ],
            [
             0.7777777777777778,
             "#fb9f3a"
            ],
            [
             0.8888888888888888,
             "#fdca26"
            ],
            [
             1,
             "#f0f921"
            ]
           ],
           "sequentialminus": [
            [
             0,
             "#0d0887"
            ],
            [
             0.1111111111111111,
             "#46039f"
            ],
            [
             0.2222222222222222,
             "#7201a8"
            ],
            [
             0.3333333333333333,
             "#9c179e"
            ],
            [
             0.4444444444444444,
             "#bd3786"
            ],
            [
             0.5555555555555556,
             "#d8576b"
            ],
            [
             0.6666666666666666,
             "#ed7953"
            ],
            [
             0.7777777777777778,
             "#fb9f3a"
            ],
            [
             0.8888888888888888,
             "#fdca26"
            ],
            [
             1,
             "#f0f921"
            ]
           ]
          },
          "colorway": [
           "#636efa",
           "#EF553B",
           "#00cc96",
           "#ab63fa",
           "#FFA15A",
           "#19d3f3",
           "#FF6692",
           "#B6E880",
           "#FF97FF",
           "#FECB52"
          ],
          "font": {
           "color": "#2a3f5f"
          },
          "geo": {
           "bgcolor": "white",
           "lakecolor": "white",
           "landcolor": "#E5ECF6",
           "showlakes": true,
           "showland": true,
           "subunitcolor": "white"
          },
          "hoverlabel": {
           "align": "left"
          },
          "hovermode": "closest",
          "mapbox": {
           "style": "light"
          },
          "paper_bgcolor": "white",
          "plot_bgcolor": "#E5ECF6",
          "polar": {
           "angularaxis": {
            "gridcolor": "white",
            "linecolor": "white",
            "ticks": ""
           },
           "bgcolor": "#E5ECF6",
           "radialaxis": {
            "gridcolor": "white",
            "linecolor": "white",
            "ticks": ""
           }
          },
          "scene": {
           "xaxis": {
            "backgroundcolor": "#E5ECF6",
            "gridcolor": "white",
            "gridwidth": 2,
            "linecolor": "white",
            "showbackground": true,
            "ticks": "",
            "zerolinecolor": "white"
           },
           "yaxis": {
            "backgroundcolor": "#E5ECF6",
            "gridcolor": "white",
            "gridwidth": 2,
            "linecolor": "white",
            "showbackground": true,
            "ticks": "",
            "zerolinecolor": "white"
           },
           "zaxis": {
            "backgroundcolor": "#E5ECF6",
            "gridcolor": "white",
            "gridwidth": 2,
            "linecolor": "white",
            "showbackground": true,
            "ticks": "",
            "zerolinecolor": "white"
           }
          },
          "shapedefaults": {
           "line": {
            "color": "#2a3f5f"
           }
          },
          "ternary": {
           "aaxis": {
            "gridcolor": "white",
            "linecolor": "white",
            "ticks": ""
           },
           "baxis": {
            "gridcolor": "white",
            "linecolor": "white",
            "ticks": ""
           },
           "bgcolor": "#E5ECF6",
           "caxis": {
            "gridcolor": "white",
            "linecolor": "white",
            "ticks": ""
           }
          },
          "title": {
           "x": 0.05
          },
          "xaxis": {
           "automargin": true,
           "gridcolor": "white",
           "linecolor": "white",
           "ticks": "",
           "title": {
            "standoff": 15
           },
           "zerolinecolor": "white",
           "zerolinewidth": 2
          },
          "yaxis": {
           "automargin": true,
           "gridcolor": "white",
           "linecolor": "white",
           "ticks": "",
           "title": {
            "standoff": 15
           },
           "zerolinecolor": "white",
           "zerolinewidth": 2
          }
         }
        },
        "xaxis": {
         "anchor": "y",
         "domain": [
          0,
          1
         ],
         "title": {
          "text": "haemoglobin"
         }
        },
        "yaxis": {
         "anchor": "x",
         "domain": [
          0,
          1
         ],
         "title": {
          "text": "packed cell volume"
         }
        }
       }
      },
      "text/html": [
       "<div>                            <div id=\"67835df0-1a80-472a-89b6-ce2674986627\" class=\"plotly-graph-div\" style=\"height:525px; width:100%;\"></div>            <script type=\"text/javascript\">                require([\"plotly\"], function(Plotly) {                    window.PLOTLYENV=window.PLOTLYENV || {};                                    if (document.getElementById(\"67835df0-1a80-472a-89b6-ce2674986627\")) {                    Plotly.newPlot(                        \"67835df0-1a80-472a-89b6-ce2674986627\",                        [{\"hovertemplate\": \"haemoglobin=%{x}<br>packed cell volume=%{y}<extra></extra>\", \"legendgroup\": \"\", \"marker\": {\"color\": \"#636efa\", \"symbol\": \"circle\"}, \"mode\": \"markers\", \"name\": \"\", \"orientation\": \"v\", \"showlegend\": false, \"type\": \"scatter\", \"x\": [15.4, 11.3, 9.6, 11.2, 11.6, 12.2, 12.4, 12.4, 10.8, 9.5, 9.4, 10.8, 9.7, 9.8, 5.6, 7.6, 12.6, 12.1, 12.7, 10.3, 7.7, 10.9, 9.8, null, 11.1, 9.9, 11.6, 12.5, null, 12.9, null, 10.1, 11.3, 10.1, null, 12.0, 10.3, 9.7, 12.5, 13.0, 11.1, null, 9.7, 7.9, 9.7, 9.3, 12.4, 15.0, 10.0, 9.7, 8.6, 10.3, 10.9, 13.6, 13.0, 9.5, 10.2, null, 10.5, 6.6, null, null, 11.0, 7.5, 9.8, 15.0, null, null, 10.9, 15.6, 15.2, 9.8, 10.3, 4.8, 9.1, 8.1, 10.3, 11.9, 10.1, 13.5, 10.8, 8.3, null, null, 7.1, 9.9, null, 11.1, null, null, 13.0, 16.1, 10.4, 9.2, 11.6, null, 11.2, 10.0, 6.2, 11.2, null, 11.3, 13.9, 10.2, null, 14.1, 6.0, 11.2, 11.8, 11.7, 11.7, 10.0, 10.8, null, 12.1, 12.4, null, 12.5, 11.4, null, 12.6, 15.0, 6.0, 14.0, 9.1, null, 12.0, 11.4, 8.1, 11.1, 8.2, 11.8, 8.6, 12.0, 10.8, 13.2, 9.3, 10.0, null, 11.1, null, 6.1, null, null, 11.1, 8.0, null, 7.9, null, 10.5, 12.3, 9.6, 10.9, 8.3, 8.4, 11.1, null, 12.6, 10.9, 10.4, 10.9, 14.3, 9.8, 9.0, 14.3, null, null, 12.7, 11.0, 8.7, 12.5, 8.7, 10.6, 13.1, 11.0, null, 8.3, 13.2, 9.8, 11.9, 10.3, 10.0, 11.3, null, 11.3, 12.0, null, 10.7, 12.2, 9.5, 9.9, 9.1, null, 5.5, null, 5.8, 8.1, 6.8, 11.2, 8.8, 12.0, 7.9, 8.0, 8.5, 8.8, 12.6, 13.8, 12.0, 12.3, 11.5, 7.3, null, 10.9, 10.9, 13.7, null, 12.8, 12.2, 11.8, 9.8, 11.9, null, null, 13.0, null, 11.5, 7.9, 11.3, null, 9.6, null, 11.5, null, null, 15.0, 7.9, 9.1, 12.7, 9.4, 11.9, 11.4, 10.4, 9.4, 13.4, 12.2, 6.3, 8.6, null, 12.6, 3.1, 15.0, 17.0, 15.9, 15.4, 13.0, 13.6, 14.5, 14.0, 13.9, 16.1, 14.1, 17.0, 15.5, 16.2, 14.4, 14.2, 13.2, 13.9, 16.3, 15.0, 14.3, 13.8, 14.8, null, 14.4, 16.5, 14.0, 15.7, 14.5, 16.3, 13.3, 15.5, 14.6, 16.4, 16.9, 16.0, 14.7, 13.4, 15.9, 16.6, 14.8, 14.9, 16.7, 14.9, 14.3, 15.0, 16.8, 15.8, 13.5, 15.1, 15.0, 16.9, 14.8, 17.0, 13.1, 17.1, 15.2, 13.6, 13.9, 17.2, 13.2, 13.7, 15.3, 17.3, 15.6, 13.8, 15.4, 15.0, 17.4, null, 15.7, 13.9, 16.0, 15.9, null, 14.0, 15.8, 13.4, null, 14.1, null, 13.5, 15.3, 17.7, 15.4, 14.2, 15.2, 14.0, 17.8, 13.3, 14.3, 13.4, 15.0, 16.2, 14.4, 13.5, 15.5, 17.8, 13.6, 14.5, 16.1, 17.5, 15.0, 13.6, 14.6, 15.0, 17.1, 13.6, 13.0, 17.2, 14.7, 13.7, 15.0, 17.8, 14.8, null, 15.0, 17.4, 14.9, 13.6, 16.2, 17.6, 15.0, 13.7, 16.3, 15.1, 16.4, 13.8, 15.2, 16.1, 15.3, 16.6, 16.8, 13.9, 15.4, 16.5, 16.4, 16.7, 15.5, 17.0, 15.0, 15.6, 14.8, 13.0, 14.1, 15.7, 16.5, 15.8, 14.2, 15.8], \"xaxis\": \"x\", \"y\": [44.0, 38.0, 31.0, 32.0, 35.0, 39.0, 36.0, 44.0, 33.0, 29.0, 28.0, 32.0, 28.0, null, 16.0, 24.0, null, null, 37.0, 30.0, 24.0, 32.0, 32.0, null, 39.0, 29.0, 35.0, 37.0, null, 38.0, null, 30.0, 34.0, 29.0, null, 36.0, 32.0, 28.0, null, 40.0, 32.0, null, 33.0, 24.0, 28.0, null, 37.0, 45.0, 29.0, 29.0, 28.0, 33.0, 34.0, 40.0, 40.0, 28.0, 30.0, null, 33.0, null, null, null, 33.0, 27.0, null, 48.0, null, null, 37.0, 52.0, 44.0, 28.0, null, 14.0, 29.0, null, 36.0, 34.0, 30.0, 40.0, 31.0, 29.0, null, null, 22.0, null, null, 32.0, null, null, 40.0, 52.0, 33.0, 30.0, 36.0, null, 36.0, 32.0, 18.0, 32.0, null, 33.0, 52.0, 36.0, null, 42.0, 17.0, 34.0, 37.0, null, 34.0, 32.0, 33.0, null, null, 44.0, null, 37.0, null, null, null, 46.0, null, 42.0, 28.0, null, 37.0, 35.0, 23.0, null, 22.0, 36.0, 24.0, 37.0, 33.0, 39.0, null, 29.0, null, 33.0, null, 19.0, null, null, 33.0, 24.0, null, 25.0, null, 32.0, 41.0, 30.0, 32.0, 22.0, 26.0, 36.0, null, 39.0, 31.0, 35.0, 35.0, 42.0, 37.0, 27.0, 40.0, null, null, 42.0, 39.0, 27.0, 33.0, 26.0, 34.0, 41.0, 35.0, null, 23.0, 41.0, 34.0, 39.0, 28.0, 30.0, 35.0, null, 31.0, 34.0, null, 34.0, 38.0, 29.0, 30.0, 26.0, null, 15.0, null, null, 24.0, null, 30.0, 25.0, 37.0, 21.0, 24.0, null, 31.0, 43.0, 41.0, 41.0, 41.0, null, 20.0, null, 31.0, 34.0, 43.0, null, 38.0, 36.0, 34.0, 28.0, 36.0, null, null, 38.0, null, 35.0, 26.0, 36.0, null, 31.0, null, 35.0, null, null, 44.0, 26.0, 25.0, 40.0, 28.0, 39.0, 36.0, 31.0, 28.0, 47.0, 40.0, 19.0, 26.0, null, 37.0, 9.0, 48.0, 52.0, 46.0, 42.0, 49.0, 52.0, 41.0, 46.0, 44.0, 45.0, 45.0, 41.0, 43.0, 45.0, 50.0, 48.0, 41.0, 48.0, 53.0, 48.0, 41.0, 42.0, 42.0, null, 44.0, 43.0, 41.0, 50.0, 44.0, 48.0, 52.0, 41.0, 44.0, 43.0, 52.0, 41.0, 44.0, 43.0, 50.0, 43.0, 52.0, 41.0, 52.0, 48.0, 40.0, 50.0, 41.0, 45.0, 48.0, 52.0, 43.0, 41.0, 48.0, 50.0, 45.0, 41.0, 52.0, 44.0, 48.0, 40.0, 44.0, 45.0, 48.0, 52.0, 41.0, 48.0, 48.0, 40.0, 52.0, null, 44.0, 48.0, 43.0, 45.0, null, 50.0, 41.0, 44.0, 45.0, 48.0, 42.0, 46.0, 44.0, 46.0, 43.0, 48.0, 40.0, 52.0, 44.0, 48.0, 43.0, 41.0, 50.0, 50.0, 42.0, 42.0, 52.0, 43.0, 44.0, 52.0, 43.0, 40.0, 48.0, 51.0, 41.0, 52.0, 47.0, 42.0, 45.0, 53.0, 43.0, 54.0, 40.0, 44.0, 45.0, null, 46.0, 50.0, 45.0, 46.0, 50.0, 51.0, 52.0, 47.0, 40.0, 48.0, 53.0, 49.0, 42.0, 50.0, 54.0, 40.0, 51.0, 49.0, 42.0, 52.0, 43.0, 50.0, 46.0, 52.0, 52.0, 44.0, 46.0, 54.0, 45.0, 47.0, 54.0, 49.0, 51.0, 53.0], \"yaxis\": \"y\"}],                        {\"legend\": {\"tracegroupgap\": 0}, \"margin\": {\"t\": 60}, \"template\": {\"data\": {\"bar\": [{\"error_x\": {\"color\": \"#2a3f5f\"}, \"error_y\": {\"color\": \"#2a3f5f\"}, \"marker\": {\"line\": {\"color\": \"#E5ECF6\", \"width\": 0.5}}, \"type\": \"bar\"}], \"barpolar\": [{\"marker\": {\"line\": {\"color\": \"#E5ECF6\", \"width\": 0.5}}, \"type\": \"barpolar\"}], \"carpet\": [{\"aaxis\": {\"endlinecolor\": \"#2a3f5f\", \"gridcolor\": \"white\", \"linecolor\": \"white\", \"minorgridcolor\": \"white\", \"startlinecolor\": \"#2a3f5f\"}, \"baxis\": {\"endlinecolor\": \"#2a3f5f\", \"gridcolor\": \"white\", \"linecolor\": \"white\", \"minorgridcolor\": \"white\", \"startlinecolor\": \"#2a3f5f\"}, \"type\": \"carpet\"}], \"choropleth\": [{\"colorbar\": {\"outlinewidth\": 0, \"ticks\": \"\"}, \"type\": \"choropleth\"}], \"contour\": [{\"colorbar\": {\"outlinewidth\": 0, \"ticks\": \"\"}, \"colorscale\": [[0.0, \"#0d0887\"], [0.1111111111111111, \"#46039f\"], [0.2222222222222222, \"#7201a8\"], [0.3333333333333333, \"#9c179e\"], [0.4444444444444444, \"#bd3786\"], [0.5555555555555556, \"#d8576b\"], [0.6666666666666666, \"#ed7953\"], [0.7777777777777778, \"#fb9f3a\"], [0.8888888888888888, \"#fdca26\"], [1.0, \"#f0f921\"]], \"type\": \"contour\"}], \"contourcarpet\": [{\"colorbar\": {\"outlinewidth\": 0, \"ticks\": \"\"}, \"type\": \"contourcarpet\"}], \"heatmap\": [{\"colorbar\": {\"outlinewidth\": 0, \"ticks\": \"\"}, \"colorscale\": [[0.0, \"#0d0887\"], [0.1111111111111111, \"#46039f\"], [0.2222222222222222, \"#7201a8\"], [0.3333333333333333, \"#9c179e\"], [0.4444444444444444, \"#bd3786\"], [0.5555555555555556, \"#d8576b\"], [0.6666666666666666, \"#ed7953\"], [0.7777777777777778, \"#fb9f3a\"], [0.8888888888888888, \"#fdca26\"], [1.0, \"#f0f921\"]], \"type\": \"heatmap\"}], \"heatmapgl\": [{\"colorbar\": {\"outlinewidth\": 0, \"ticks\": \"\"}, \"colorscale\": [[0.0, \"#0d0887\"], [0.1111111111111111, \"#46039f\"], [0.2222222222222222, \"#7201a8\"], [0.3333333333333333, \"#9c179e\"], [0.4444444444444444, \"#bd3786\"], [0.5555555555555556, \"#d8576b\"], [0.6666666666666666, \"#ed7953\"], [0.7777777777777778, \"#fb9f3a\"], [0.8888888888888888, \"#fdca26\"], [1.0, \"#f0f921\"]], \"type\": \"heatmapgl\"}], \"histogram\": [{\"marker\": {\"colorbar\": {\"outlinewidth\": 0, \"ticks\": \"\"}}, \"type\": \"histogram\"}], \"histogram2d\": [{\"colorbar\": {\"outlinewidth\": 0, \"ticks\": \"\"}, \"colorscale\": [[0.0, \"#0d0887\"], [0.1111111111111111, \"#46039f\"], [0.2222222222222222, \"#7201a8\"], [0.3333333333333333, \"#9c179e\"], [0.4444444444444444, \"#bd3786\"], [0.5555555555555556, \"#d8576b\"], [0.6666666666666666, \"#ed7953\"], [0.7777777777777778, \"#fb9f3a\"], [0.8888888888888888, \"#fdca26\"], [1.0, \"#f0f921\"]], \"type\": \"histogram2d\"}], \"histogram2dcontour\": [{\"colorbar\": {\"outlinewidth\": 0, \"ticks\": \"\"}, \"colorscale\": [[0.0, \"#0d0887\"], [0.1111111111111111, \"#46039f\"], [0.2222222222222222, \"#7201a8\"], [0.3333333333333333, \"#9c179e\"], [0.4444444444444444, \"#bd3786\"], [0.5555555555555556, \"#d8576b\"], [0.6666666666666666, \"#ed7953\"], [0.7777777777777778, \"#fb9f3a\"], [0.8888888888888888, \"#fdca26\"], [1.0, \"#f0f921\"]], \"type\": \"histogram2dcontour\"}], \"mesh3d\": [{\"colorbar\": {\"outlinewidth\": 0, \"ticks\": \"\"}, \"type\": \"mesh3d\"}], \"parcoords\": [{\"line\": {\"colorbar\": {\"outlinewidth\": 0, \"ticks\": \"\"}}, \"type\": \"parcoords\"}], \"pie\": [{\"automargin\": true, \"type\": \"pie\"}], \"scatter\": [{\"marker\": {\"colorbar\": {\"outlinewidth\": 0, \"ticks\": \"\"}}, \"type\": \"scatter\"}], \"scatter3d\": [{\"line\": {\"colorbar\": {\"outlinewidth\": 0, \"ticks\": \"\"}}, \"marker\": {\"colorbar\": {\"outlinewidth\": 0, \"ticks\": \"\"}}, \"type\": \"scatter3d\"}], \"scattercarpet\": [{\"marker\": {\"colorbar\": {\"outlinewidth\": 0, \"ticks\": \"\"}}, \"type\": \"scattercarpet\"}], \"scattergeo\": [{\"marker\": {\"colorbar\": {\"outlinewidth\": 0, \"ticks\": \"\"}}, \"type\": \"scattergeo\"}], \"scattergl\": [{\"marker\": {\"colorbar\": {\"outlinewidth\": 0, \"ticks\": \"\"}}, \"type\": \"scattergl\"}], \"scattermapbox\": [{\"marker\": {\"colorbar\": {\"outlinewidth\": 0, \"ticks\": \"\"}}, \"type\": \"scattermapbox\"}], \"scatterpolar\": [{\"marker\": {\"colorbar\": {\"outlinewidth\": 0, \"ticks\": \"\"}}, \"type\": \"scatterpolar\"}], \"scatterpolargl\": [{\"marker\": {\"colorbar\": {\"outlinewidth\": 0, \"ticks\": \"\"}}, \"type\": \"scatterpolargl\"}], \"scatterternary\": [{\"marker\": {\"colorbar\": {\"outlinewidth\": 0, \"ticks\": \"\"}}, \"type\": \"scatterternary\"}], \"surface\": [{\"colorbar\": {\"outlinewidth\": 0, \"ticks\": \"\"}, \"colorscale\": [[0.0, \"#0d0887\"], [0.1111111111111111, \"#46039f\"], [0.2222222222222222, \"#7201a8\"], [0.3333333333333333, \"#9c179e\"], [0.4444444444444444, \"#bd3786\"], [0.5555555555555556, \"#d8576b\"], [0.6666666666666666, \"#ed7953\"], [0.7777777777777778, \"#fb9f3a\"], [0.8888888888888888, \"#fdca26\"], [1.0, \"#f0f921\"]], \"type\": \"surface\"}], \"table\": [{\"cells\": {\"fill\": {\"color\": \"#EBF0F8\"}, \"line\": {\"color\": \"white\"}}, \"header\": {\"fill\": {\"color\": \"#C8D4E3\"}, \"line\": {\"color\": \"white\"}}, \"type\": \"table\"}]}, \"layout\": {\"annotationdefaults\": {\"arrowcolor\": \"#2a3f5f\", \"arrowhead\": 0, \"arrowwidth\": 1}, \"autotypenumbers\": \"strict\", \"coloraxis\": {\"colorbar\": {\"outlinewidth\": 0, \"ticks\": \"\"}}, \"colorscale\": {\"diverging\": [[0, \"#8e0152\"], [0.1, \"#c51b7d\"], [0.2, \"#de77ae\"], [0.3, \"#f1b6da\"], [0.4, \"#fde0ef\"], [0.5, \"#f7f7f7\"], [0.6, \"#e6f5d0\"], [0.7, \"#b8e186\"], [0.8, \"#7fbc41\"], [0.9, \"#4d9221\"], [1, \"#276419\"]], \"sequential\": [[0.0, \"#0d0887\"], [0.1111111111111111, \"#46039f\"], [0.2222222222222222, \"#7201a8\"], [0.3333333333333333, \"#9c179e\"], [0.4444444444444444, \"#bd3786\"], [0.5555555555555556, \"#d8576b\"], [0.6666666666666666, \"#ed7953\"], [0.7777777777777778, \"#fb9f3a\"], [0.8888888888888888, \"#fdca26\"], [1.0, \"#f0f921\"]], \"sequentialminus\": [[0.0, \"#0d0887\"], [0.1111111111111111, \"#46039f\"], [0.2222222222222222, \"#7201a8\"], [0.3333333333333333, \"#9c179e\"], [0.4444444444444444, \"#bd3786\"], [0.5555555555555556, \"#d8576b\"], [0.6666666666666666, \"#ed7953\"], [0.7777777777777778, \"#fb9f3a\"], [0.8888888888888888, \"#fdca26\"], [1.0, \"#f0f921\"]]}, \"colorway\": [\"#636efa\", \"#EF553B\", \"#00cc96\", \"#ab63fa\", \"#FFA15A\", \"#19d3f3\", \"#FF6692\", \"#B6E880\", \"#FF97FF\", \"#FECB52\"], \"font\": {\"color\": \"#2a3f5f\"}, \"geo\": {\"bgcolor\": \"white\", \"lakecolor\": \"white\", \"landcolor\": \"#E5ECF6\", \"showlakes\": true, \"showland\": true, \"subunitcolor\": \"white\"}, \"hoverlabel\": {\"align\": \"left\"}, \"hovermode\": \"closest\", \"mapbox\": {\"style\": \"light\"}, \"paper_bgcolor\": \"white\", \"plot_bgcolor\": \"#E5ECF6\", \"polar\": {\"angularaxis\": {\"gridcolor\": \"white\", \"linecolor\": \"white\", \"ticks\": \"\"}, \"bgcolor\": \"#E5ECF6\", \"radialaxis\": {\"gridcolor\": \"white\", \"linecolor\": \"white\", \"ticks\": \"\"}}, \"scene\": {\"xaxis\": {\"backgroundcolor\": \"#E5ECF6\", \"gridcolor\": \"white\", \"gridwidth\": 2, \"linecolor\": \"white\", \"showbackground\": true, \"ticks\": \"\", \"zerolinecolor\": \"white\"}, \"yaxis\": {\"backgroundcolor\": \"#E5ECF6\", \"gridcolor\": \"white\", \"gridwidth\": 2, \"linecolor\": \"white\", \"showbackground\": true, \"ticks\": \"\", \"zerolinecolor\": \"white\"}, \"zaxis\": {\"backgroundcolor\": \"#E5ECF6\", \"gridcolor\": \"white\", \"gridwidth\": 2, \"linecolor\": \"white\", \"showbackground\": true, \"ticks\": \"\", \"zerolinecolor\": \"white\"}}, \"shapedefaults\": {\"line\": {\"color\": \"#2a3f5f\"}}, \"ternary\": {\"aaxis\": {\"gridcolor\": \"white\", \"linecolor\": \"white\", \"ticks\": \"\"}, \"baxis\": {\"gridcolor\": \"white\", \"linecolor\": \"white\", \"ticks\": \"\"}, \"bgcolor\": \"#E5ECF6\", \"caxis\": {\"gridcolor\": \"white\", \"linecolor\": \"white\", \"ticks\": \"\"}}, \"title\": {\"x\": 0.05}, \"xaxis\": {\"automargin\": true, \"gridcolor\": \"white\", \"linecolor\": \"white\", \"ticks\": \"\", \"title\": {\"standoff\": 15}, \"zerolinecolor\": \"white\", \"zerolinewidth\": 2}, \"yaxis\": {\"automargin\": true, \"gridcolor\": \"white\", \"linecolor\": \"white\", \"ticks\": \"\", \"title\": {\"standoff\": 15}, \"zerolinecolor\": \"white\", \"zerolinewidth\": 2}}}, \"xaxis\": {\"anchor\": \"y\", \"domain\": [0.0, 1.0], \"title\": {\"text\": \"haemoglobin\"}}, \"yaxis\": {\"anchor\": \"x\", \"domain\": [0.0, 1.0], \"title\": {\"text\": \"packed cell volume\"}}},                        {\"responsive\": true}                    ).then(function(){\n",
       "                            \n",
       "var gd = document.getElementById('67835df0-1a80-472a-89b6-ce2674986627');\n",
       "var x = new MutationObserver(function (mutations, observer) {{\n",
       "        var display = window.getComputedStyle(gd).display;\n",
       "        if (!display || display === 'none') {{\n",
       "            console.log([gd, 'removed!']);\n",
       "            Plotly.purge(gd);\n",
       "            observer.disconnect();\n",
       "        }}\n",
       "}});\n",
       "\n",
       "// Listen for the removal of the full notebook cells\n",
       "var notebookContainer = gd.closest('#notebook-container');\n",
       "if (notebookContainer) {{\n",
       "    x.observe(notebookContainer, {childList: true});\n",
       "}}\n",
       "\n",
       "// Listen for the clearing of the current output cell\n",
       "var outputEl = gd.closest('.output');\n",
       "if (outputEl) {{\n",
       "    x.observe(outputEl, {childList: true});\n",
       "}}\n",
       "\n",
       "                        })                };                });            </script>        </div>"
      ]
     },
     "metadata": {},
     "output_type": "display_data"
    }
   ],
   "source": [
    "px.scatter(df, x='haemoglobin', y='packed cell volume')"
   ]
  },
  {
   "cell_type": "code",
   "execution_count": null,
   "metadata": {},
   "outputs": [],
   "source": []
  },
  {
   "cell_type": "markdown",
   "metadata": {},
   "source": [
    "### Distribution of 'red_blood_cell_count' chronic and nonchronic "
   ]
  },
  {
   "cell_type": "code",
   "execution_count": 133,
   "metadata": {},
   "outputs": [
    {
     "data": {
      "text/plain": [
       "<seaborn.axisgrid.FacetGrid at 0x273d0879cd0>"
      ]
     },
     "execution_count": 133,
     "metadata": {},
     "output_type": "execute_result"
    },
    {
     "data": {
      "image/png": "[encoded data removed]",
      "text/plain": [
       "<Figure size 501.875x216 with 1 Axes>"
      ]
     },
     "metadata": {
      "needs_background": "light"
     },
     "output_type": "display_data"
    }
   ],
   "source": [
    "grid=sns.FacetGrid(df, hue='class', aspect=2)\n",
    "grid.map(sns.kdeplot, 'red blood cell count')\n",
    "grid.add_legend()"
   ]
  },
  {
   "cell_type": "code",
   "execution_count": null,
   "metadata": {},
   "outputs": [],
   "source": []
  },
  {
   "cell_type": "markdown",
   "metadata": {},
   "source": [
    "### Automate Analysis"
   ]
  },
  {
   "cell_type": "code",
   "execution_count": 134,
   "metadata": {},
   "outputs": [],
   "source": [
    "def violin(col):\n",
    "    fig=px.violin(df, y=col, x='class', color='class', box=True)\n",
    "    return fig.show()"
   ]
  },
  {
   "cell_type": "code",
   "execution_count": 135,
   "metadata": {},
   "outputs": [],
   "source": [
    "def scatters(col1, col2):\n",
    "    fig=px.scatter(df, x=col1, y=col2, color='class')\n",
    "    return fig.show()"
   ]
  },
  {
   "cell_type": "code",
   "execution_count": 136,
   "metadata": {},
   "outputs": [],
   "source": [
    "def kdeplot(feature):\n",
    "    grid=sns.FacetGrid(df, hue='class', aspect=2)\n",
    "    grid.map(sns.kdeplot, 'red blood cell count')\n",
    "    grid.add_legend()"
   ]
  },
  {
   "cell_type": "code",
   "execution_count": 137,
   "metadata": {},
   "outputs": [
    {
     "data": {
      "image/png": "[encoded data removed]",
      "text/plain": [
       "<Figure size 501.875x216 with 1 Axes>"
      ]
     },
     "metadata": {
      "needs_background": "light"
     },
     "output_type": "display_data"
    }
   ],
   "source": [
    "kdeplot('red blood cell count')"
   ]
  },
  {
   "cell_type": "code",
   "execution_count": null,
   "metadata": {},
   "outputs": [],
   "source": []
  },
  {
   "cell_type": "markdown",
   "metadata": {},
   "source": [
    "### Exploratory data analysis on the data"
   ]
  },
  {
   "cell_type": "code",
   "execution_count": 138,
   "metadata": {},
   "outputs": [
    {
     "data": {
      "image/png": "[encoded data removed]",
      "text/plain": [
       "<Figure size 501.875x216 with 1 Axes>"
      ]
     },
     "metadata": {
      "needs_background": "light"
     },
     "output_type": "display_data"
    }
   ],
   "source": [
    "kdeplot('red blood cell count')"
   ]
  },
  {
   "cell_type": "code",
   "execution_count": 139,
   "metadata": {},
   "outputs": [
    {
     "data": {
      "image/png": "[encoded data removed]",
      "text/plain": [
       "<Figure size 501.875x216 with 1 Axes>"
      ]
     },
     "metadata": {
      "needs_background": "light"
     },
     "output_type": "display_data"
    }
   ],
   "source": [
    "kdeplot('hemoglobin')"
   ]
  },
  {
   "cell_type": "code",
   "execution_count": 140,
   "metadata": {},
   "outputs": [
    {
     "data": {
      "application/vnd.plotly.v1+json": {
       "config": {
        "plotlyServerURL": "https://plot.ly"
       },
       "data": [
        {
         "hovertemplate": "class=ckd<br>packed cell volume=%{x}<br>haemoglobin=%{y}<extra></extra>",
         "legendgroup": "ckd",
         "marker": {
          "color": "#636efa",
          "symbol": "circle"
         },
         "mode": "markers",
         "name": "ckd",
         "orientation": "v",
         "showlegend": true,
         "type": "scatter",
         "x": [
          44,
          38,
          31,
          32,
          35,
          39,
          36,
          44,
          33,
          29,
          28,
          32,
          28,
          null,
          16,
          24,
          null,
          null,
          37,
          30,
          24,
          32,
          32,
          null,
          39,
          29,
          35,
          37,
          null,
          38,
          null,
          30,
          34,
          29,
          null,
          36,
          32,
          28,
          null,
          40,
          32,
          null,
          33,
          24,
          28,
          null,
          37,
          45,
          29,
          29,
          28,
          33,
          34,
          40,
          40,
          28,
          30,
          null,
          33,
          null,
          null,
          null,
          33,
          27,
          null,
          48,
          null,
          null,
          37,
          52,
          44,
          28,
          null,
          14,
          29,
          null,
          36,
          34,
          30,
          40,
          31,
          29,
          null,
          null,
          22,
          null,
          null,
          32,
          null,
          null,
          40,
          52,
          33,
          30,
          36,
          null,
          36,
          32,
          18,
          32,
          null,
          33,
          52,
          36,
          null,
          42,
          17,
          34,
          37,
          null,
          34,
          32,
          33,
          null,
          null,
          44,
          null,
          37,
          null,
          null,
          null,
          46,
          null,
          42,
          28,
          null,
          37,
          35,
          23,
          null,
          22,
          36,
          24,
          37,
          33,
          39,
          null,
          29,
          null,
          33,
          null,
          19,
          null,
          null,
          33,
          24,
          null,
          25,
          null,
          32,
          41,
          30,
          32,
          22,
          26,
          36,
          null,
          39,
          31,
          35,
          35,
          42,
          37,
          27,
          40,
          null,
          null,
          42,
          39,
          27,
          33,
          26,
          34,
          41,
          35,
          null,
          23,
          41,
          34,
          39,
          28,
          30,
          35,
          null,
          31,
          34,
          null,
          34,
          38,
          29,
          30,
          26,
          null,
          15,
          null,
          null,
          24,
          null,
          30,
          25,
          37,
          21,
          24,
          null,
          31,
          43,
          41,
          41,
          41,
          null,
          20,
          null,
          31,
          34,
          43,
          null,
          38,
          36,
          34,
          28,
          36,
          null,
          null,
          38,
          null,
          35,
          26,
          36,
          null,
          31,
          null,
          35,
          null,
          null,
          44,
          26,
          25,
          40,
          28,
          39,
          36,
          31,
          28,
          47,
          40,
          19,
          26,
          null,
          37,
          9
         ],
         "xaxis": "x",
         "y": [
          15.4,
          11.3,
          9.6,
          11.2,
          11.6,
          12.2,
          12.4,
          12.4,
          10.8,
          9.5,
          9.4,
          10.8,
          9.7,
          9.8,
          5.6,
          7.6,
          12.6,
          12.1,
          12.7,
          10.3,
          7.7,
          10.9,
          9.8,
          null,
          11.1,
          9.9,
          11.6,
          12.5,
          null,
          12.9,
          null,
          10.1,
          11.3,
          10.1,
          null,
          12,
          10.3,
          9.7,
          12.5,
          13,
          11.1,
          null,
          9.7,
          7.9,
          9.7,
          9.3,
          12.4,
          15,
          10,
          9.7,
          8.6,
          10.3,
          10.9,
          13.6,
          13,
          9.5,
          10.2,
          null,
          10.5,
          6.6,
          null,
          null,
          11,
          7.5,
          9.8,
          15,
          null,
          null,
          10.9,
          15.6,
          15.2,
          9.8,
          10.3,
          4.8,
          9.1,
          8.1,
          10.3,
          11.9,
          10.1,
          13.5,
          10.8,
          8.3,
          null,
          null,
          7.1,
          9.9,
          null,
          11.1,
          null,
          null,
          13,
          16.1,
          10.4,
          9.2,
          11.6,
          null,
          11.2,
          10,
          6.2,
          11.2,
          null,
          11.3,
          13.9,
          10.2,
          null,
          14.1,
          6,
          11.2,
          11.8,
          11.7,
          11.7,
          10,
          10.8,
          null,
          12.1,
          12.4,
          null,
          12.5,
          11.4,
          null,
          12.6,
          15,
          6,
          14,
          9.1,
          null,
          12,
          11.4,
          8.1,
          11.1,
          8.2,
          11.8,
          8.6,
          12,
          10.8,
          13.2,
          9.3,
          10,
          null,
          11.1,
          null,
          6.1,
          null,
          null,
          11.1,
          8,
          null,
          7.9,
          null,
          10.5,
          12.3,
          9.6,
          10.9,
          8.3,
          8.4,
          11.1,
          null,
          12.6,
          10.9,
          10.4,
          10.9,
          14.3,
          9.8,
          9,
          14.3,
          null,
          null,
          12.7,
          11,
          8.7,
          12.5,
          8.7,
          10.6,
          13.1,
          11,
          null,
          8.3,
          13.2,
          9.8,
          11.9,
          10.3,
          10,
          11.3,
          null,
          11.3,
          12,
          null,
          10.7,
          12.2,
          9.5,
          9.9,
          9.1,
          null,
          5.5,
          null,
          5.8,
          8.1,
          6.8,
          11.2,
          8.8,
          12,
          7.9,
          8,
          8.5,
          8.8,
          12.6,
          13.8,
          12,
          12.3,
          11.5,
          7.3,
          null,
          10.9,
          10.9,
          13.7,
          null,
          12.8,
          12.2,
          11.8,
          9.8,
          11.9,
          null,
          null,
          13,
          null,
          11.5,
          7.9,
          11.3,
          null,
          9.6,
          null,
          11.5,
          null,
          null,
          15,
          7.9,
          9.1,
          12.7,
          9.4,
          11.9,
          11.4,
          10.4,
          9.4,
          13.4,
          12.2,
          6.3,
          8.6,
          null,
          12.6,
          3.1
         ],
         "yaxis": "y"
        },
        {
         "hovertemplate": "class=notckd<br>packed cell volume=%{x}<br>haemoglobin=%{y}<extra></extra>",
         "legendgroup": "notckd",
         "marker": {
          "color": "#EF553B",
          "symbol": "circle"
         },
         "mode": "markers",
         "name": "notckd",
         "orientation": "v",
         "showlegend": true,
         "type": "scatter",
         "x": [
          48,
          52,
          46,
          42,
          49,
          52,
          41,
          46,
          44,
          45,
          45,
          41,
          43,
          45,
          50,
          48,
          41,
          48,
          53,
          48,
          41,
          42,
          42,
          null,
          44,
          43,
          41,
          50,
          44,
          48,
          52,
          41,
          44,
          43,
          52,
          41,
          44,
          43,
          50,
          43,
          52,
          41,
          52,
          48,
          40,
          50,
          41,
          45,
          48,
          52,
          43,
          41,
          48,
          50,
          45,
          41,
          52,
          44,
          48,
          40,
          44,
          45,
          48,
          52,
          41,
          48,
          48,
          40,
          52,
          null,
          44,
          48,
          43,
          45,
          null,
          50,
          41,
          44,
          45,
          48,
          42,
          46,
          44,
          46,
          43,
          48,
          40,
          52,
          44,
          48,
          43,
          41,
          50,
          50,
          42,
          42,
          52,
          43,
          44,
          52,
          43,
          40,
          48,
          51,
          41,
          52,
          47,
          42,
          45,
          53,
          43,
          54,
          40,
          44,
          45,
          null,
          46,
          50,
          45,
          46,
          50,
          51,
          52,
          47,
          40,
          48,
          53,
          49,
          42,
          50,
          54,
          40,
          51,
          49,
          42,
          52,
          43,
          50,
          46,
          52,
          52,
          44,
          46,
          54,
          45,
          47,
          54,
          49,
          51,
          53
         ],
         "xaxis": "x",
         "y": [
          15,
          17,
          15.9,
          15.4,
          13,
          13.6,
          14.5,
          14,
          13.9,
          16.1,
          14.1,
          17,
          15.5,
          16.2,
          14.4,
          14.2,
          13.2,
          13.9,
          16.3,
          15,
          14.3,
          13.8,
          14.8,
          null,
          14.4,
          16.5,
          14,
          15.7,
          14.5,
          16.3,
          13.3,
          15.5,
          14.6,
          16.4,
          16.9,
          16,
          14.7,
          13.4,
          15.9,
          16.6,
          14.8,
          14.9,
          16.7,
          14.9,
          14.3,
          15,
          16.8,
          15.8,
          13.5,
          15.1,
          15,
          16.9,
          14.8,
          17,
          13.1,
          17.1,
          15.2,
          13.6,
          13.9,
          17.2,
          13.2,
          13.7,
          15.3,
          17.3,
          15.6,
          13.8,
          15.4,
          15,
          17.4,
          null,
          15.7,
          13.9,
          16,
          15.9,
          null,
          14,
          15.8,
          13.4,
          null,
          14.1,
          null,
          13.5,
          15.3,
          17.7,
          15.4,
          14.2,
          15.2,
          14,
          17.8,
          13.3,
          14.3,
          13.4,
          15,
          16.2,
          14.4,
          13.5,
          15.5,
          17.8,
          13.6,
          14.5,
          16.1,
          17.5,
          15,
          13.6,
          14.6,
          15,
          17.1,
          13.6,
          13,
          17.2,
          14.7,
          13.7,
          15,
          17.8,
          14.8,
          null,
          15,
          17.4,
          14.9,
          13.6,
          16.2,
          17.6,
          15,
          13.7,
          16.3,
          15.1,
          16.4,
          13.8,
          15.2,
          16.1,
          15.3,
          16.6,
          16.8,
          13.9,
          15.4,
          16.5,
          16.4,
          16.7,
          15.5,
          17,
          15,
          15.6,
          14.8,
          13,
          14.1,
          15.7,
          16.5,
          15.8,
          14.2,
          15.8
         ],
         "yaxis": "y"
        }
       ],
       "layout": {
        "legend": {
         "title": {
          "text": "class"
         },
         "tracegroupgap": 0
        },
        "margin": {
         "t": 60
        },
        "template": {
         "data": {
          "bar": [
           {
            "error_x": {
             "color": "#2a3f5f"
            },
            "error_y": {
             "color": "#2a3f5f"
            },
            "marker": {
             "line": {
              "color": "#E5ECF6",
              "width": 0.5
             }
            },
            "type": "bar"
           }
          ],
          "barpolar": [
           {
            "marker": {
             "line": {
              "color": "#E5ECF6",
              "width": 0.5
             }
            },
            "type": "barpolar"
           }
          ],
          "carpet": [
           {
            "aaxis": {
             "endlinecolor": "#2a3f5f",
             "gridcolor": "white",
             "linecolor": "white",
             "minorgridcolor": "white",
             "startlinecolor": "#2a3f5f"
            },
            "baxis": {
             "endlinecolor": "#2a3f5f",
             "gridcolor": "white",
             "linecolor": "white",
             "minorgridcolor": "white",
             "startlinecolor": "#2a3f5f"
            },
            "type": "carpet"
           }
          ],
          "choropleth": [
           {
            "colorbar": {
             "outlinewidth": 0,
             "ticks": ""
            },
            "type": "choropleth"
           }
          ],
          "contour": [
           {
            "colorbar": {
             "outlinewidth": 0,
             "ticks": ""
            },
            "colorscale": [
             [
              0,
              "#0d0887"
             ],
             [
              0.1111111111111111,
              "#46039f"
             ],
             [
              0.2222222222222222,
              "#7201a8"
             ],
             [
              0.3333333333333333,
              "#9c179e"
             ],
             [
              0.4444444444444444,
              "#bd3786"
             ],
             [
              0.5555555555555556,
              "#d8576b"
             ],
             [
              0.6666666666666666,
              "#ed7953"
             ],
             [
              0.7777777777777778,
              "#fb9f3a"
             ],
             [
              0.8888888888888888,
              "#fdca26"
             ],
             [
              1,
              "#f0f921"
             ]
            ],
            "type": "contour"
           }
          ],
          "contourcarpet": [
           {
            "colorbar": {
             "outlinewidth": 0,
             "ticks": ""
            },
            "type": "contourcarpet"
           }
          ],
          "heatmap": [
           {
            "colorbar": {
             "outlinewidth": 0,
             "ticks": ""
            },
            "colorscale": [
             [
              0,
              "#0d0887"
             ],
             [
              0.1111111111111111,
              "#46039f"
             ],
             [
              0.2222222222222222,
              "#7201a8"
             ],
             [
              0.3333333333333333,
              "#9c179e"
             ],
             [
              0.4444444444444444,
              "#bd3786"
             ],
             [
              0.5555555555555556,
              "#d8576b"
             ],
             [
              0.6666666666666666,
              "#ed7953"
             ],
             [
              0.7777777777777778,
              "#fb9f3a"
             ],
             [
              0.8888888888888888,
              "#fdca26"
             ],
             [
              1,
              "#f0f921"
             ]
            ],
            "type": "heatmap"
           }
          ],
          "heatmapgl": [
           {
            "colorbar": {
             "outlinewidth": 0,
             "ticks": ""
            },
            "colorscale": [
             [
              0,
              "#0d0887"
             ],
             [
              0.1111111111111111,
              "#46039f"
             ],
             [
              0.2222222222222222,
              "#7201a8"
             ],
             [
              0.3333333333333333,
              "#9c179e"
             ],
             [
              0.4444444444444444,
              "#bd3786"
             ],
             [
              0.5555555555555556,
              "#d8576b"
             ],
             [
              0.6666666666666666,
              "#ed7953"
             ],
             [
              0.7777777777777778,
              "#fb9f3a"
             ],
             [
              0.8888888888888888,
              "#fdca26"
             ],
             [
              1,
              "#f0f921"
             ]
            ],
            "type": "heatmapgl"
           }
          ],
          "histogram": [
           {
            "marker": {
             "colorbar": {
              "outlinewidth": 0,
              "ticks": ""
             }
            },
            "type": "histogram"
           }
          ],
          "histogram2d": [
           {
            "colorbar": {
             "outlinewidth": 0,
             "ticks": ""
            },
            "colorscale": [
             [
              0,
              "#0d0887"
             ],
             [
              0.1111111111111111,
              "#46039f"
             ],
             [
              0.2222222222222222,
              "#7201a8"
             ],
             [
              0.3333333333333333,
              "#9c179e"
             ],
             [
              0.4444444444444444,
              "#bd3786"
             ],
             [
              0.5555555555555556,
              "#d8576b"
             ],
             [
              0.6666666666666666,
              "#ed7953"
             ],
             [
              0.7777777777777778,
              "#fb9f3a"
             ],
             [
              0.8888888888888888,
              "#fdca26"
             ],
             [
              1,
              "#f0f921"
             ]
            ],
            "type": "histogram2d"
           }
          ],
          "histogram2dcontour": [
           {
            "colorbar": {
             "outlinewidth": 0,
             "ticks": ""
            },
            "colorscale": [
             [
              0,
              "#0d0887"
             ],
             [
              0.1111111111111111,
              "#46039f"
             ],
             [
              0.2222222222222222,
              "#7201a8"
             ],
             [
              0.3333333333333333,
              "#9c179e"
             ],
             [
              0.4444444444444444,
              "#bd3786"
             ],
             [
              0.5555555555555556,
              "#d8576b"
             ],
             [
              0.6666666666666666,
              "#ed7953"
             ],
             [
              0.7777777777777778,
              "#fb9f3a"
             ],
             [
              0.8888888888888888,
              "#fdca26"
             ],
             [
              1,
              "#f0f921"
             ]
            ],
            "type": "histogram2dcontour"
           }
          ],
          "mesh3d": [
           {
            "colorbar": {
             "outlinewidth": 0,
             "ticks": ""
            },
            "type": "mesh3d"
           }
          ],
          "parcoords": [
           {
            "line": {
             "colorbar": {
              "outlinewidth": 0,
              "ticks": ""
             }
            },
            "type": "parcoords"
           }
          ],
          "pie": [
           {
            "automargin": true,
            "type": "pie"
           }
          ],
          "scatter": [
           {
            "marker": {
             "colorbar": {
              "outlinewidth": 0,
              "ticks": ""
             }
            },
            "type": "scatter"
           }
          ],
          "scatter3d": [
           {
            "line": {
             "colorbar": {
              "outlinewidth": 0,
              "ticks": ""
             }
            },
            "marker": {
             "colorbar": {
              "outlinewidth": 0,
              "ticks": ""
             }
            },
            "type": "scatter3d"
           }
          ],
          "scattercarpet": [
           {
            "marker": {
             "colorbar": {
              "outlinewidth": 0,
              "ticks": ""
             }
            },
            "type": "scattercarpet"
           }
          ],
          "scattergeo": [
           {
            "marker": {
             "colorbar": {
              "outlinewidth": 0,
              "ticks": ""
             }
            },
            "type": "scattergeo"
           }
          ],
          "scattergl": [
           {
            "marker": {
             "colorbar": {
              "outlinewidth": 0,
              "ticks": ""
             }
            },
            "type": "scattergl"
           }
          ],
          "scattermapbox": [
           {
            "marker": {
             "colorbar": {
              "outlinewidth": 0,
              "ticks": ""
             }
            },
            "type": "scattermapbox"
           }
          ],
          "scatterpolar": [
           {
            "marker": {
             "colorbar": {
              "outlinewidth": 0,
              "ticks": ""
             }
            },
            "type": "scatterpolar"
           }
          ],
          "scatterpolargl": [
           {
            "marker": {
             "colorbar": {
              "outlinewidth": 0,
              "ticks": ""
             }
            },
            "type": "scatterpolargl"
           }
          ],
          "scatterternary": [
           {
            "marker": {
             "colorbar": {
              "outlinewidth": 0,
              "ticks": ""
             }
            },
            "type": "scatterternary"
           }
          ],
          "surface": [
           {
            "colorbar": {
             "outlinewidth": 0,
             "ticks": ""
            },
            "colorscale": [
             [
              0,
              "#0d0887"
             ],
             [
              0.1111111111111111,
              "#46039f"
             ],
             [
              0.2222222222222222,
              "#7201a8"
             ],
             [
              0.3333333333333333,
              "#9c179e"
             ],
             [
              0.4444444444444444,
              "#bd3786"
             ],
             [
              0.5555555555555556,
              "#d8576b"
             ],
             [
              0.6666666666666666,
              "#ed7953"
             ],
             [
              0.7777777777777778,
              "#fb9f3a"
             ],
             [
              0.8888888888888888,
              "#fdca26"
             ],
             [
              1,
              "#f0f921"
             ]
            ],
            "type": "surface"
           }
          ],
          "table": [
           {
            "cells": {
             "fill": {
              "color": "#EBF0F8"
             },
             "line": {
              "color": "white"
             }
            },
            "header": {
             "fill": {
              "color": "#C8D4E3"
             },
             "line": {
              "color": "white"
             }
            },
            "type": "table"
           }
          ]
         },
         "layout": {
          "annotationdefaults": {
           "arrowcolor": "#2a3f5f",
           "arrowhead": 0,
           "arrowwidth": 1
          },
          "autotypenumbers": "strict",
          "coloraxis": {
           "colorbar": {
            "outlinewidth": 0,
            "ticks": ""
           }
          },
          "colorscale": {
           "diverging": [
            [
             0,
             "#8e0152"
            ],
            [
             0.1,
             "#c51b7d"
            ],
            [
             0.2,
             "#de77ae"
            ],
            [
             0.3,
             "#f1b6da"
            ],
            [
             0.4,
             "#fde0ef"
            ],
            [
             0.5,
             "#f7f7f7"
            ],
            [
             0.6,
             "#e6f5d0"
            ],
            [
             0.7,
             "#b8e186"
            ],
            [
             0.8,
             "#7fbc41"
            ],
            [
             0.9,
             "#4d9221"
            ],
            [
             1,
             "#276419"
            ]
           ],
           "sequential": [
            [
             0,
             "#0d0887"
            ],
            [
             0.1111111111111111,
             "#46039f"
            ],
            [
             0.2222222222222222,
             "#7201a8"
            ],
            [
             0.3333333333333333,
             "#9c179e"
            ],
            [
             0.4444444444444444,
             "#bd3786"
            ],
            [
             0.5555555555555556,
             "#d8576b"
            ],
            [
             0.6666666666666666,
             "#ed7953"
            ],
            [
             0.7777777777777778,
             "#fb9f3a"
            ],
            [
             0.8888888888888888,
             "#fdca26"
            ],
            [
             1,
             "#f0f921"
            ]
           ],
           "sequentialminus": [
            [
             0,
             "#0d0887"
            ],
            [
             0.1111111111111111,
             "#46039f"
            ],
            [
             0.2222222222222222,
             "#7201a8"
            ],
            [
             0.3333333333333333,
             "#9c179e"
            ],
            [
             0.4444444444444444,
             "#bd3786"
            ],
            [
             0.5555555555555556,
             "#d8576b"
            ],
            [
             0.6666666666666666,
             "#ed7953"
            ],
            [
             0.7777777777777778,
             "#fb9f3a"
            ],
            [
             0.8888888888888888,
             "#fdca26"
            ],
            [
             1,
             "#f0f921"
            ]
           ]
          },
          "colorway": [
           "#636efa",
           "#EF553B",
           "#00cc96",
           "#ab63fa",
           "#FFA15A",
           "#19d3f3",
           "#FF6692",
           "#B6E880",
           "#FF97FF",
           "#FECB52"
          ],
          "font": {
           "color": "#2a3f5f"
          },
          "geo": {
           "bgcolor": "white",
           "lakecolor": "white",
           "landcolor": "#E5ECF6",
           "showlakes": true,
           "showland": true,
           "subunitcolor": "white"
          },
          "hoverlabel": {
           "align": "left"
          },
          "hovermode": "closest",
          "mapbox": {
           "style": "light"
          },
          "paper_bgcolor": "white",
          "plot_bgcolor": "#E5ECF6",
          "polar": {
           "angularaxis": {
            "gridcolor": "white",
            "linecolor": "white",
            "ticks": ""
           },
           "bgcolor": "#E5ECF6",
           "radialaxis": {
            "gridcolor": "white",
            "linecolor": "white",
            "ticks": ""
           }
          },
          "scene": {
           "xaxis": {
            "backgroundcolor": "#E5ECF6",
            "gridcolor": "white",
            "gridwidth": 2,
            "linecolor": "white",
            "showbackground": true,
            "ticks": "",
            "zerolinecolor": "white"
           },
           "yaxis": {
            "backgroundcolor": "#E5ECF6",
            "gridcolor": "white",
            "gridwidth": 2,
            "linecolor": "white",
            "showbackground": true,
            "ticks": "",
            "zerolinecolor": "white"
           },
           "zaxis": {
            "backgroundcolor": "#E5ECF6",
            "gridcolor": "white",
            "gridwidth": 2,
            "linecolor": "white",
            "showbackground": true,
            "ticks": "",
            "zerolinecolor": "white"
           }
          },
          "shapedefaults": {
           "line": {
            "color": "#2a3f5f"
           }
          },
          "ternary": {
           "aaxis": {
            "gridcolor": "white",
            "linecolor": "white",
            "ticks": ""
           },
           "baxis": {
            "gridcolor": "white",
            "linecolor": "white",
            "ticks": ""
           },
           "bgcolor": "#E5ECF6",
           "caxis": {
            "gridcolor": "white",
            "linecolor": "white",
            "ticks": ""
           }
          },
          "title": {
           "x": 0.05
          },
          "xaxis": {
           "automargin": true,
           "gridcolor": "white",
           "linecolor": "white",
           "ticks": "",
           "title": {
            "standoff": 15
           },
           "zerolinecolor": "white",
           "zerolinewidth": 2
          },
          "yaxis": {
           "automargin": true,
           "gridcolor": "white",
           "linecolor": "white",
           "ticks": "",
           "title": {
            "standoff": 15
           },
           "zerolinecolor": "white",
           "zerolinewidth": 2
          }
         }
        },
        "xaxis": {
         "anchor": "y",
         "domain": [
          0,
          1
         ],
         "title": {
          "text": "packed cell volume"
         }
        },
        "yaxis": {
         "anchor": "x",
         "domain": [
          0,
          1
         ],
         "title": {
          "text": "haemoglobin"
         }
        }
       }
      },
      "text/html": [
       "<div>                            <div id=\"e2cb3aa9-1c73-40af-89e5-d7f2143ea396\" class=\"plotly-graph-div\" style=\"height:525px; width:100%;\"></div>            <script type=\"text/javascript\">                require([\"plotly\"], function(Plotly) {                    window.PLOTLYENV=window.PLOTLYENV || {};                                    if (document.getElementById(\"e2cb3aa9-1c73-40af-89e5-d7f2143ea396\")) {                    Plotly.newPlot(                        \"e2cb3aa9-1c73-40af-89e5-d7f2143ea396\",                        [{\"hovertemplate\": \"class=ckd<br>packed cell volume=%{x}<br>haemoglobin=%{y}<extra></extra>\", \"legendgroup\": \"ckd\", \"marker\": {\"color\": \"#636efa\", \"symbol\": \"circle\"}, \"mode\": \"markers\", \"name\": \"ckd\", \"orientation\": \"v\", \"showlegend\": true, \"type\": \"scatter\", \"x\": [44.0, 38.0, 31.0, 32.0, 35.0, 39.0, 36.0, 44.0, 33.0, 29.0, 28.0, 32.0, 28.0, null, 16.0, 24.0, null, null, 37.0, 30.0, 24.0, 32.0, 32.0, null, 39.0, 29.0, 35.0, 37.0, null, 38.0, null, 30.0, 34.0, 29.0, null, 36.0, 32.0, 28.0, null, 40.0, 32.0, null, 33.0, 24.0, 28.0, null, 37.0, 45.0, 29.0, 29.0, 28.0, 33.0, 34.0, 40.0, 40.0, 28.0, 30.0, null, 33.0, null, null, null, 33.0, 27.0, null, 48.0, null, null, 37.0, 52.0, 44.0, 28.0, null, 14.0, 29.0, null, 36.0, 34.0, 30.0, 40.0, 31.0, 29.0, null, null, 22.0, null, null, 32.0, null, null, 40.0, 52.0, 33.0, 30.0, 36.0, null, 36.0, 32.0, 18.0, 32.0, null, 33.0, 52.0, 36.0, null, 42.0, 17.0, 34.0, 37.0, null, 34.0, 32.0, 33.0, null, null, 44.0, null, 37.0, null, null, null, 46.0, null, 42.0, 28.0, null, 37.0, 35.0, 23.0, null, 22.0, 36.0, 24.0, 37.0, 33.0, 39.0, null, 29.0, null, 33.0, null, 19.0, null, null, 33.0, 24.0, null, 25.0, null, 32.0, 41.0, 30.0, 32.0, 22.0, 26.0, 36.0, null, 39.0, 31.0, 35.0, 35.0, 42.0, 37.0, 27.0, 40.0, null, null, 42.0, 39.0, 27.0, 33.0, 26.0, 34.0, 41.0, 35.0, null, 23.0, 41.0, 34.0, 39.0, 28.0, 30.0, 35.0, null, 31.0, 34.0, null, 34.0, 38.0, 29.0, 30.0, 26.0, null, 15.0, null, null, 24.0, null, 30.0, 25.0, 37.0, 21.0, 24.0, null, 31.0, 43.0, 41.0, 41.0, 41.0, null, 20.0, null, 31.0, 34.0, 43.0, null, 38.0, 36.0, 34.0, 28.0, 36.0, null, null, 38.0, null, 35.0, 26.0, 36.0, null, 31.0, null, 35.0, null, null, 44.0, 26.0, 25.0, 40.0, 28.0, 39.0, 36.0, 31.0, 28.0, 47.0, 40.0, 19.0, 26.0, null, 37.0, 9.0], \"xaxis\": \"x\", \"y\": [15.4, 11.3, 9.6, 11.2, 11.6, 12.2, 12.4, 12.4, 10.8, 9.5, 9.4, 10.8, 9.7, 9.8, 5.6, 7.6, 12.6, 12.1, 12.7, 10.3, 7.7, 10.9, 9.8, null, 11.1, 9.9, 11.6, 12.5, null, 12.9, null, 10.1, 11.3, 10.1, null, 12.0, 10.3, 9.7, 12.5, 13.0, 11.1, null, 9.7, 7.9, 9.7, 9.3, 12.4, 15.0, 10.0, 9.7, 8.6, 10.3, 10.9, 13.6, 13.0, 9.5, 10.2, null, 10.5, 6.6, null, null, 11.0, 7.5, 9.8, 15.0, null, null, 10.9, 15.6, 15.2, 9.8, 10.3, 4.8, 9.1, 8.1, 10.3, 11.9, 10.1, 13.5, 10.8, 8.3, null, null, 7.1, 9.9, null, 11.1, null, null, 13.0, 16.1, 10.4, 9.2, 11.6, null, 11.2, 10.0, 6.2, 11.2, null, 11.3, 13.9, 10.2, null, 14.1, 6.0, 11.2, 11.8, 11.7, 11.7, 10.0, 10.8, null, 12.1, 12.4, null, 12.5, 11.4, null, 12.6, 15.0, 6.0, 14.0, 9.1, null, 12.0, 11.4, 8.1, 11.1, 8.2, 11.8, 8.6, 12.0, 10.8, 13.2, 9.3, 10.0, null, 11.1, null, 6.1, null, null, 11.1, 8.0, null, 7.9, null, 10.5, 12.3, 9.6, 10.9, 8.3, 8.4, 11.1, null, 12.6, 10.9, 10.4, 10.9, 14.3, 9.8, 9.0, 14.3, null, null, 12.7, 11.0, 8.7, 12.5, 8.7, 10.6, 13.1, 11.0, null, 8.3, 13.2, 9.8, 11.9, 10.3, 10.0, 11.3, null, 11.3, 12.0, null, 10.7, 12.2, 9.5, 9.9, 9.1, null, 5.5, null, 5.8, 8.1, 6.8, 11.2, 8.8, 12.0, 7.9, 8.0, 8.5, 8.8, 12.6, 13.8, 12.0, 12.3, 11.5, 7.3, null, 10.9, 10.9, 13.7, null, 12.8, 12.2, 11.8, 9.8, 11.9, null, null, 13.0, null, 11.5, 7.9, 11.3, null, 9.6, null, 11.5, null, null, 15.0, 7.9, 9.1, 12.7, 9.4, 11.9, 11.4, 10.4, 9.4, 13.4, 12.2, 6.3, 8.6, null, 12.6, 3.1], \"yaxis\": \"y\"}, {\"hovertemplate\": \"class=notckd<br>packed cell volume=%{x}<br>haemoglobin=%{y}<extra></extra>\", \"legendgroup\": \"notckd\", \"marker\": {\"color\": \"#EF553B\", \"symbol\": \"circle\"}, \"mode\": \"markers\", \"name\": \"notckd\", \"orientation\": \"v\", \"showlegend\": true, \"type\": \"scatter\", \"x\": [48.0, 52.0, 46.0, 42.0, 49.0, 52.0, 41.0, 46.0, 44.0, 45.0, 45.0, 41.0, 43.0, 45.0, 50.0, 48.0, 41.0, 48.0, 53.0, 48.0, 41.0, 42.0, 42.0, null, 44.0, 43.0, 41.0, 50.0, 44.0, 48.0, 52.0, 41.0, 44.0, 43.0, 52.0, 41.0, 44.0, 43.0, 50.0, 43.0, 52.0, 41.0, 52.0, 48.0, 40.0, 50.0, 41.0, 45.0, 48.0, 52.0, 43.0, 41.0, 48.0, 50.0, 45.0, 41.0, 52.0, 44.0, 48.0, 40.0, 44.0, 45.0, 48.0, 52.0, 41.0, 48.0, 48.0, 40.0, 52.0, null, 44.0, 48.0, 43.0, 45.0, null, 50.0, 41.0, 44.0, 45.0, 48.0, 42.0, 46.0, 44.0, 46.0, 43.0, 48.0, 40.0, 52.0, 44.0, 48.0, 43.0, 41.0, 50.0, 50.0, 42.0, 42.0, 52.0, 43.0, 44.0, 52.0, 43.0, 40.0, 48.0, 51.0, 41.0, 52.0, 47.0, 42.0, 45.0, 53.0, 43.0, 54.0, 40.0, 44.0, 45.0, null, 46.0, 50.0, 45.0, 46.0, 50.0, 51.0, 52.0, 47.0, 40.0, 48.0, 53.0, 49.0, 42.0, 50.0, 54.0, 40.0, 51.0, 49.0, 42.0, 52.0, 43.0, 50.0, 46.0, 52.0, 52.0, 44.0, 46.0, 54.0, 45.0, 47.0, 54.0, 49.0, 51.0, 53.0], \"xaxis\": \"x\", \"y\": [15.0, 17.0, 15.9, 15.4, 13.0, 13.6, 14.5, 14.0, 13.9, 16.1, 14.1, 17.0, 15.5, 16.2, 14.4, 14.2, 13.2, 13.9, 16.3, 15.0, 14.3, 13.8, 14.8, null, 14.4, 16.5, 14.0, 15.7, 14.5, 16.3, 13.3, 15.5, 14.6, 16.4, 16.9, 16.0, 14.7, 13.4, 15.9, 16.6, 14.8, 14.9, 16.7, 14.9, 14.3, 15.0, 16.8, 15.8, 13.5, 15.1, 15.0, 16.9, 14.8, 17.0, 13.1, 17.1, 15.2, 13.6, 13.9, 17.2, 13.2, 13.7, 15.3, 17.3, 15.6, 13.8, 15.4, 15.0, 17.4, null, 15.7, 13.9, 16.0, 15.9, null, 14.0, 15.8, 13.4, null, 14.1, null, 13.5, 15.3, 17.7, 15.4, 14.2, 15.2, 14.0, 17.8, 13.3, 14.3, 13.4, 15.0, 16.2, 14.4, 13.5, 15.5, 17.8, 13.6, 14.5, 16.1, 17.5, 15.0, 13.6, 14.6, 15.0, 17.1, 13.6, 13.0, 17.2, 14.7, 13.7, 15.0, 17.8, 14.8, null, 15.0, 17.4, 14.9, 13.6, 16.2, 17.6, 15.0, 13.7, 16.3, 15.1, 16.4, 13.8, 15.2, 16.1, 15.3, 16.6, 16.8, 13.9, 15.4, 16.5, 16.4, 16.7, 15.5, 17.0, 15.0, 15.6, 14.8, 13.0, 14.1, 15.7, 16.5, 15.8, 14.2, 15.8], \"yaxis\": \"y\"}],                        {\"legend\": {\"title\": {\"text\": \"class\"}, \"tracegroupgap\": 0}, \"margin\": {\"t\": 60}, \"template\": {\"data\": {\"bar\": [{\"error_x\": {\"color\": \"#2a3f5f\"}, \"error_y\": {\"color\": \"#2a3f5f\"}, \"marker\": {\"line\": {\"color\": \"#E5ECF6\", \"width\": 0.5}}, \"type\": \"bar\"}], \"barpolar\": [{\"marker\": {\"line\": {\"color\": \"#E5ECF6\", \"width\": 0.5}}, \"type\": \"barpolar\"}], \"carpet\": [{\"aaxis\": {\"endlinecolor\": \"#2a3f5f\", \"gridcolor\": \"white\", \"linecolor\": \"white\", \"minorgridcolor\": \"white\", \"startlinecolor\": \"#2a3f5f\"}, \"baxis\": {\"endlinecolor\": \"#2a3f5f\", \"gridcolor\": \"white\", \"linecolor\": \"white\", \"minorgridcolor\": \"white\", \"startlinecolor\": \"#2a3f5f\"}, \"type\": \"carpet\"}], \"choropleth\": [{\"colorbar\": {\"outlinewidth\": 0, \"ticks\": \"\"}, \"type\": \"choropleth\"}], \"contour\": [{\"colorbar\": {\"outlinewidth\": 0, \"ticks\": \"\"}, \"colorscale\": [[0.0, \"#0d0887\"], [0.1111111111111111, \"#46039f\"], [0.2222222222222222, \"#7201a8\"], [0.3333333333333333, \"#9c179e\"], [0.4444444444444444, \"#bd3786\"], [0.5555555555555556, \"#d8576b\"], [0.6666666666666666, \"#ed7953\"], [0.7777777777777778, \"#fb9f3a\"], [0.8888888888888888, \"#fdca26\"], [1.0, \"#f0f921\"]], \"type\": \"contour\"}], \"contourcarpet\": [{\"colorbar\": {\"outlinewidth\": 0, \"ticks\": \"\"}, \"type\": \"contourcarpet\"}], \"heatmap\": [{\"colorbar\": {\"outlinewidth\": 0, \"ticks\": \"\"}, \"colorscale\": [[0.0, \"#0d0887\"], [0.1111111111111111, \"#46039f\"], [0.2222222222222222, \"#7201a8\"], [0.3333333333333333, \"#9c179e\"], [0.4444444444444444, \"#bd3786\"], [0.5555555555555556, \"#d8576b\"], [0.6666666666666666, \"#ed7953\"], [0.7777777777777778, \"#fb9f3a\"], [0.8888888888888888, \"#fdca26\"], [1.0, \"#f0f921\"]], \"type\": \"heatmap\"}], \"heatmapgl\": [{\"colorbar\": {\"outlinewidth\": 0, \"ticks\": \"\"}, \"colorscale\": [[0.0, \"#0d0887\"], [0.1111111111111111, \"#46039f\"], [0.2222222222222222, \"#7201a8\"], [0.3333333333333333, \"#9c179e\"], [0.4444444444444444, \"#bd3786\"], [0.5555555555555556, \"#d8576b\"], [0.6666666666666666, \"#ed7953\"], [0.7777777777777778, \"#fb9f3a\"], [0.8888888888888888, \"#fdca26\"], [1.0, \"#f0f921\"]], \"type\": \"heatmapgl\"}], \"histogram\": [{\"marker\": {\"colorbar\": {\"outlinewidth\": 0, \"ticks\": \"\"}}, \"type\": \"histogram\"}], \"histogram2d\": [{\"colorbar\": {\"outlinewidth\": 0, \"ticks\": \"\"}, \"colorscale\": [[0.0, \"#0d0887\"], [0.1111111111111111, \"#46039f\"], [0.2222222222222222, \"#7201a8\"], [0.3333333333333333, \"#9c179e\"], [0.4444444444444444, \"#bd3786\"], [0.5555555555555556, \"#d8576b\"], [0.6666666666666666, \"#ed7953\"], [0.7777777777777778, \"#fb9f3a\"], [0.8888888888888888, \"#fdca26\"], [1.0, \"#f0f921\"]], \"type\": \"histogram2d\"}], \"histogram2dcontour\": [{\"colorbar\": {\"outlinewidth\": 0, \"ticks\": \"\"}, \"colorscale\": [[0.0, \"#0d0887\"], [0.1111111111111111, \"#46039f\"], [0.2222222222222222, \"#7201a8\"], [0.3333333333333333, \"#9c179e\"], [0.4444444444444444, \"#bd3786\"], [0.5555555555555556, \"#d8576b\"], [0.6666666666666666, \"#ed7953\"], [0.7777777777777778, \"#fb9f3a\"], [0.8888888888888888, \"#fdca26\"], [1.0, \"#f0f921\"]], \"type\": \"histogram2dcontour\"}], \"mesh3d\": [{\"colorbar\": {\"outlinewidth\": 0, \"ticks\": \"\"}, \"type\": \"mesh3d\"}], \"parcoords\": [{\"line\": {\"colorbar\": {\"outlinewidth\": 0, \"ticks\": \"\"}}, \"type\": \"parcoords\"}], \"pie\": [{\"automargin\": true, \"type\": \"pie\"}], \"scatter\": [{\"marker\": {\"colorbar\": {\"outlinewidth\": 0, \"ticks\": \"\"}}, \"type\": \"scatter\"}], \"scatter3d\": [{\"line\": {\"colorbar\": {\"outlinewidth\": 0, \"ticks\": \"\"}}, \"marker\": {\"colorbar\": {\"outlinewidth\": 0, \"ticks\": \"\"}}, \"type\": \"scatter3d\"}], \"scattercarpet\": [{\"marker\": {\"colorbar\": {\"outlinewidth\": 0, \"ticks\": \"\"}}, \"type\": \"scattercarpet\"}], \"scattergeo\": [{\"marker\": {\"colorbar\": {\"outlinewidth\": 0, \"ticks\": \"\"}}, \"type\": \"scattergeo\"}], \"scattergl\": [{\"marker\": {\"colorbar\": {\"outlinewidth\": 0, \"ticks\": \"\"}}, \"type\": \"scattergl\"}], \"scattermapbox\": [{\"marker\": {\"colorbar\": {\"outlinewidth\": 0, \"ticks\": \"\"}}, \"type\": \"scattermapbox\"}], \"scatterpolar\": [{\"marker\": {\"colorbar\": {\"outlinewidth\": 0, \"ticks\": \"\"}}, \"type\": \"scatterpolar\"}], \"scatterpolargl\": [{\"marker\": {\"colorbar\": {\"outlinewidth\": 0, \"ticks\": \"\"}}, \"type\": \"scatterpolargl\"}], \"scatterternary\": [{\"marker\": {\"colorbar\": {\"outlinewidth\": 0, \"ticks\": \"\"}}, \"type\": \"scatterternary\"}], \"surface\": [{\"colorbar\": {\"outlinewidth\": 0, \"ticks\": \"\"}, \"colorscale\": [[0.0, \"#0d0887\"], [0.1111111111111111, \"#46039f\"], [0.2222222222222222, \"#7201a8\"], [0.3333333333333333, \"#9c179e\"], [0.4444444444444444, \"#bd3786\"], [0.5555555555555556, \"#d8576b\"], [0.6666666666666666, \"#ed7953\"], [0.7777777777777778, \"#fb9f3a\"], [0.8888888888888888, \"#fdca26\"], [1.0, \"#f0f921\"]], \"type\": \"surface\"}], \"table\": [{\"cells\": {\"fill\": {\"color\": \"#EBF0F8\"}, \"line\": {\"color\": \"white\"}}, \"header\": {\"fill\": {\"color\": \"#C8D4E3\"}, \"line\": {\"color\": \"white\"}}, \"type\": \"table\"}]}, \"layout\": {\"annotationdefaults\": {\"arrowcolor\": \"#2a3f5f\", \"arrowhead\": 0, \"arrowwidth\": 1}, \"autotypenumbers\": \"strict\", \"coloraxis\": {\"colorbar\": {\"outlinewidth\": 0, \"ticks\": \"\"}}, \"colorscale\": {\"diverging\": [[0, \"#8e0152\"], [0.1, \"#c51b7d\"], [0.2, \"#de77ae\"], [0.3, \"#f1b6da\"], [0.4, \"#fde0ef\"], [0.5, \"#f7f7f7\"], [0.6, \"#e6f5d0\"], [0.7, \"#b8e186\"], [0.8, \"#7fbc41\"], [0.9, \"#4d9221\"], [1, \"#276419\"]], \"sequential\": [[0.0, \"#0d0887\"], [0.1111111111111111, \"#46039f\"], [0.2222222222222222, \"#7201a8\"], [0.3333333333333333, \"#9c179e\"], [0.4444444444444444, \"#bd3786\"], [0.5555555555555556, \"#d8576b\"], [0.6666666666666666, \"#ed7953\"], [0.7777777777777778, \"#fb9f3a\"], [0.8888888888888888, \"#fdca26\"], [1.0, \"#f0f921\"]], \"sequentialminus\": [[0.0, \"#0d0887\"], [0.1111111111111111, \"#46039f\"], [0.2222222222222222, \"#7201a8\"], [0.3333333333333333, \"#9c179e\"], [0.4444444444444444, \"#bd3786\"], [0.5555555555555556, \"#d8576b\"], [0.6666666666666666, \"#ed7953\"], [0.7777777777777778, \"#fb9f3a\"], [0.8888888888888888, \"#fdca26\"], [1.0, \"#f0f921\"]]}, \"colorway\": [\"#636efa\", \"#EF553B\", \"#00cc96\", \"#ab63fa\", \"#FFA15A\", \"#19d3f3\", \"#FF6692\", \"#B6E880\", \"#FF97FF\", \"#FECB52\"], \"font\": {\"color\": \"#2a3f5f\"}, \"geo\": {\"bgcolor\": \"white\", \"lakecolor\": \"white\", \"landcolor\": \"#E5ECF6\", \"showlakes\": true, \"showland\": true, \"subunitcolor\": \"white\"}, \"hoverlabel\": {\"align\": \"left\"}, \"hovermode\": \"closest\", \"mapbox\": {\"style\": \"light\"}, \"paper_bgcolor\": \"white\", \"plot_bgcolor\": \"#E5ECF6\", \"polar\": {\"angularaxis\": {\"gridcolor\": \"white\", \"linecolor\": \"white\", \"ticks\": \"\"}, \"bgcolor\": \"#E5ECF6\", \"radialaxis\": {\"gridcolor\": \"white\", \"linecolor\": \"white\", \"ticks\": \"\"}}, \"scene\": {\"xaxis\": {\"backgroundcolor\": \"#E5ECF6\", \"gridcolor\": \"white\", \"gridwidth\": 2, \"linecolor\": \"white\", \"showbackground\": true, \"ticks\": \"\", \"zerolinecolor\": \"white\"}, \"yaxis\": {\"backgroundcolor\": \"#E5ECF6\", \"gridcolor\": \"white\", \"gridwidth\": 2, \"linecolor\": \"white\", \"showbackground\": true, \"ticks\": \"\", \"zerolinecolor\": \"white\"}, \"zaxis\": {\"backgroundcolor\": \"#E5ECF6\", \"gridcolor\": \"white\", \"gridwidth\": 2, \"linecolor\": \"white\", \"showbackground\": true, \"ticks\": \"\", \"zerolinecolor\": \"white\"}}, \"shapedefaults\": {\"line\": {\"color\": \"#2a3f5f\"}}, \"ternary\": {\"aaxis\": {\"gridcolor\": \"white\", \"linecolor\": \"white\", \"ticks\": \"\"}, \"baxis\": {\"gridcolor\": \"white\", \"linecolor\": \"white\", \"ticks\": \"\"}, \"bgcolor\": \"#E5ECF6\", \"caxis\": {\"gridcolor\": \"white\", \"linecolor\": \"white\", \"ticks\": \"\"}}, \"title\": {\"x\": 0.05}, \"xaxis\": {\"automargin\": true, \"gridcolor\": \"white\", \"linecolor\": \"white\", \"ticks\": \"\", \"title\": {\"standoff\": 15}, \"zerolinecolor\": \"white\", \"zerolinewidth\": 2}, \"yaxis\": {\"automargin\": true, \"gridcolor\": \"white\", \"linecolor\": \"white\", \"ticks\": \"\", \"title\": {\"standoff\": 15}, \"zerolinecolor\": \"white\", \"zerolinewidth\": 2}}}, \"xaxis\": {\"anchor\": \"y\", \"domain\": [0.0, 1.0], \"title\": {\"text\": \"packed cell volume\"}}, \"yaxis\": {\"anchor\": \"x\", \"domain\": [0.0, 1.0], \"title\": {\"text\": \"haemoglobin\"}}},                        {\"responsive\": true}                    ).then(function(){\n",
       "                            \n",
       "var gd = document.getElementById('e2cb3aa9-1c73-40af-89e5-d7f2143ea396');\n",
       "var x = new MutationObserver(function (mutations, observer) {{\n",
       "        var display = window.getComputedStyle(gd).display;\n",
       "        if (!display || display === 'none') {{\n",
       "            console.log([gd, 'removed!']);\n",
       "            Plotly.purge(gd);\n",
       "            observer.disconnect();\n",
       "        }}\n",
       "}});\n",
       "\n",
       "// Listen for the removal of the full notebook cells\n",
       "var notebookContainer = gd.closest('#notebook-container');\n",
       "if (notebookContainer) {{\n",
       "    x.observe(notebookContainer, {childList: true});\n",
       "}}\n",
       "\n",
       "// Listen for the clearing of the current output cell\n",
       "var outputEl = gd.closest('.output');\n",
       "if (outputEl) {{\n",
       "    x.observe(outputEl, {childList: true});\n",
       "}}\n",
       "\n",
       "                        })                };                });            </script>        </div>"
      ]
     },
     "metadata": {},
     "output_type": "display_data"
    }
   ],
   "source": [
    "scatters('packed cell volume', 'haemoglobin')"
   ]
  },
  {
   "cell_type": "code",
   "execution_count": 141,
   "metadata": {},
   "outputs": [
    {
     "data": {
      "application/vnd.plotly.v1+json": {
       "config": {
        "plotlyServerURL": "https://plot.ly"
       },
       "data": [
        {
         "alignmentgroup": "True",
         "box": {
          "visible": true
         },
         "hovertemplate": "class=%{x}<br>red blood cell count=%{y}<extra></extra>",
         "legendgroup": "ckd",
         "marker": {
          "color": "#636efa"
         },
         "name": "ckd",
         "offsetgroup": "ckd",
         "orientation": "v",
         "scalegroup": "True",
         "showlegend": true,
         "type": "violin",
         "x": [
          "ckd",
          "ckd",
          "ckd",
          "ckd",
          "ckd",
          "ckd",
          "ckd",
          "ckd",
          "ckd",
          "ckd",
          "ckd",
          "ckd",
          "ckd",
          "ckd",
          "ckd",
          "ckd",
          "ckd",
          "ckd",
          "ckd",
          "ckd",
          "ckd",
          "ckd",
          "ckd",
          "ckd",
          "ckd",
          "ckd",
          "ckd",
          "ckd",
          "ckd",
          "ckd",
          "ckd",
          "ckd",
          "ckd",
          "ckd",
          "ckd",
          "ckd",
          "ckd",
          "ckd",
          "ckd",
          "ckd",
          "ckd",
          "ckd",
          "ckd",
          "ckd",
          "ckd",
          "ckd",
          "ckd",
          "ckd",
          "ckd",
          "ckd",
          "ckd",
          "ckd",
          "ckd",
          "ckd",
          "ckd",
          "ckd",
          "ckd",
          "ckd",
          "ckd",
          "ckd",
          "ckd",
          "ckd",
          "ckd",
          "ckd",
          "ckd",
          "ckd",
          "ckd",
          "ckd",
          "ckd",
          "ckd",
          "ckd",
          "ckd",
          "ckd",
          "ckd",
          "ckd",
          "ckd",
          "ckd",
          "ckd",
          "ckd",
          "ckd",
          "ckd",
          "ckd",
          "ckd",
          "ckd",
          "ckd",
          "ckd",
          "ckd",
          "ckd",
          "ckd",
          "ckd",
          "ckd",
          "ckd",
          "ckd",
          "ckd",
          "ckd",
          "ckd",
          "ckd",
          "ckd",
          "ckd",
          "ckd",
          "ckd",
          "ckd",
          "ckd",
          "ckd",
          "ckd",
          "ckd",
          "ckd",
          "ckd",
          "ckd",
          "ckd",
          "ckd",
          "ckd",
          "ckd",
          "ckd",
          "ckd",
          "ckd",
          "ckd",
          "ckd",
          "ckd",
          "ckd",
          "ckd",
          "ckd",
          "ckd",
          "ckd",
          "ckd",
          "ckd",
          "ckd",
          "ckd",
          "ckd",
          "ckd",
          "ckd",
          "ckd",
          "ckd",
          "ckd",
          "ckd",
          "ckd",
          "ckd",
          "ckd",
          "ckd",
          "ckd",
          "ckd",
          "ckd",
          "ckd",
          "ckd",
          "ckd",
          "ckd",
          "ckd",
          "ckd",
          "ckd",
          "ckd",
          "ckd",
          "ckd",
          "ckd",
          "ckd",
          "ckd",
          "ckd",
          "ckd",
          "ckd",
          "ckd",
          "ckd",
          "ckd",
          "ckd",
          "ckd",
          "ckd",
          "ckd",
          "ckd",
          "ckd",
          "ckd",
          "ckd",
          "ckd",
          "ckd",
          "ckd",
          "ckd",
          "ckd",
          "ckd",
          "ckd",
          "ckd",
          "ckd",
          "ckd",
          "ckd",
          "ckd",
          "ckd",
          "ckd",
          "ckd",
          "ckd",
          "ckd",
          "ckd",
          "ckd",
          "ckd",
          "ckd",
          "ckd",
          "ckd",
          "ckd",
          "ckd",
          "ckd",
          "ckd",
          "ckd",
          "ckd",
          "ckd",
          "ckd",
          "ckd",
          "ckd",
          "ckd",
          "ckd",
          "ckd",
          "ckd",
          "ckd",
          "ckd",
          "ckd",
          "ckd",
          "ckd",
          "ckd",
          "ckd",
          "ckd",
          "ckd",
          "ckd",
          "ckd",
          "ckd",
          "ckd",
          "ckd",
          "ckd",
          "ckd",
          "ckd",
          "ckd",
          "ckd",
          "ckd",
          "ckd",
          "ckd",
          "ckd",
          "ckd",
          "ckd",
          "ckd",
          "ckd",
          "ckd",
          "ckd",
          "ckd",
          "ckd",
          "ckd",
          "ckd",
          "ckd",
          "ckd",
          "ckd",
          "ckd",
          "ckd",
          "ckd",
          "ckd",
          "ckd",
          "ckd",
          "ckd",
          "ckd"
         ],
         "x0": " ",
         "xaxis": "x",
         "y": [
          5.2,
          null,
          null,
          3.9,
          4.6,
          4.4,
          null,
          5,
          4,
          3.7,
          null,
          3.8,
          3.4,
          null,
          2.6,
          2.8,
          null,
          null,
          4.3,
          3.7,
          3.2,
          3.6,
          3.4,
          null,
          4.6,
          3.7,
          4,
          4.1,
          null,
          null,
          null,
          4,
          4,
          null,
          null,
          4.9,
          null,
          2.5,
          null,
          4.2,
          4.1,
          null,
          4.5,
          3.1,
          null,
          null,
          4.7,
          null,
          3.5,
          3.5,
          3.8,
          null,
          3.7,
          4.7,
          4.2,
          null,
          3.4,
          null,
          4.3,
          null,
          null,
          null,
          3.8,
          null,
          null,
          null,
          null,
          null,
          null,
          6,
          5.2,
          3.2,
          null,
          null,
          3.4,
          null,
          4,
          3.7,
          null,
          5,
          3.8,
          3.7,
          null,
          null,
          2.1,
          null,
          null,
          5,
          4.7,
          null,
          4.2,
          5.6,
          3.6,
          3.2,
          3.9,
          null,
          null,
          4,
          2.3,
          4.2,
          null,
          3.9,
          null,
          4.2,
          null,
          5.2,
          null,
          4.4,
          4.2,
          null,
          4.7,
          3.9,
          null,
          null,
          null,
          4.3,
          null,
          4.4,
          null,
          null,
          null,
          null,
          null,
          null,
          3.6,
          null,
          4.5,
          4.3,
          2.9,
          null,
          2.7,
          null,
          2.7,
          8,
          3.8,
          null,
          null,
          null,
          null,
          null,
          null,
          null,
          null,
          null,
          4.1,
          3.3,
          null,
          3,
          null,
          null,
          null,
          null,
          null,
          2.9,
          3,
          null,
          null,
          3.9,
          null,
          4.3,
          2.4,
          4.8,
          null,
          3.2,
          5.4,
          null,
          null,
          null,
          null,
          null,
          4.4,
          3.1,
          4.9,
          null,
          4.6,
          3.4,
          3.9,
          null,
          null,
          null,
          null,
          3.7,
          null,
          null,
          3.6,
          null,
          null,
          null,
          null,
          3.4,
          4.8,
          3.4,
          null,
          2.8,
          null,
          null,
          3.5,
          3,
          3.9,
          3.2,
          3.9,
          null,
          null,
          null,
          null,
          null,
          null,
          4.6,
          4.9,
          null,
          3.9,
          null,
          3.4,
          3.7,
          5.2,
          null,
          null,
          4.3,
          null,
          3.3,
          null,
          null,
          null,
          4.6,
          null,
          4.5,
          3.4,
          3.8,
          null,
          3.8,
          null,
          null,
          null,
          null,
          5.2,
          null,
          null,
          null,
          null,
          null,
          4.1,
          3.9,
          3.3,
          6.1,
          4.6,
          2.6,
          2.5,
          null,
          4.1,
          2.1
         ],
         "y0": " ",
         "yaxis": "y"
        },
        {
         "alignmentgroup": "True",
         "box": {
          "visible": true
         },
         "hovertemplate": "class=%{x}<br>red blood cell count=%{y}<extra></extra>",
         "legendgroup": "notckd",
         "marker": {
          "color": "#EF553B"
         },
         "name": "notckd",
         "offsetgroup": "notckd",
         "orientation": "v",
         "scalegroup": "True",
         "showlegend": true,
         "type": "violin",
         "x": [
          "notckd",
          "notckd",
          "notckd",
          "notckd",
          "notckd",
          "notckd",
          "notckd",
          "notckd",
          "notckd",
          "notckd",
          "notckd",
          "notckd",
          "notckd",
          "notckd",
          "notckd",
          "notckd",
          "notckd",
          "notckd",
          "notckd",
          "notckd",
          "notckd",
          "notckd",
          "notckd",
          "notckd",
          "notckd",
          "notckd",
          "notckd",
          "notckd",
          "notckd",
          "notckd",
          "notckd",
          "notckd",
          "notckd",
          "notckd",
          "notckd",
          "notckd",
          "notckd",
          "notckd",
          "notckd",
          "notckd",
          "notckd",
          "notckd",
          "notckd",
          "notckd",
          "notckd",
          "notckd",
          "notckd",
          "notckd",
          "notckd",
          "notckd",
          "notckd",
          "notckd",
          "notckd",
          "notckd",
          "notckd",
          "notckd",
          "notckd",
          "notckd",
          "notckd",
          "notckd",
          "notckd",
          "notckd",
          "notckd",
          "notckd",
          "notckd",
          "notckd",
          "notckd",
          "notckd",
          "notckd",
          "notckd",
          "notckd",
          "notckd",
          "notckd",
          "notckd",
          "notckd",
          "notckd",
          "notckd",
          "notckd",
          "notckd",
          "notckd",
          "notckd",
          "notckd",
          "notckd",
          "notckd",
          "notckd",
          "notckd",
          "notckd",
          "notckd",
          "notckd",
          "notckd",
          "notckd",
          "notckd",
          "notckd",
          "notckd",
          "notckd",
          "notckd",
          "notckd",
          "notckd",
          "notckd",
          "notckd",
          "notckd",
          "notckd",
          "notckd",
          "notckd",
          "notckd",
          "notckd",
          "notckd",
          "notckd",
          "notckd",
          "notckd",
          "notckd",
          "notckd",
          "notckd",
          "notckd",
          "notckd",
          "notckd",
          "notckd",
          "notckd",
          "notckd",
          "notckd",
          "notckd",
          "notckd",
          "notckd",
          "notckd",
          "notckd",
          "notckd",
          "notckd",
          "notckd",
          "notckd",
          "notckd",
          "notckd",
          "notckd",
          "notckd",
          "notckd",
          "notckd",
          "notckd",
          "notckd",
          "notckd",
          "notckd",
          "notckd",
          "notckd",
          "notckd",
          "notckd",
          "notckd",
          "notckd",
          "notckd",
          "notckd",
          "notckd",
          "notckd",
          "notckd"
         ],
         "x0": " ",
         "xaxis": "x",
         "y": [
          4.5,
          5,
          4.7,
          6.2,
          5.2,
          6.3,
          5.1,
          5.8,
          5.5,
          5.2,
          5.3,
          4.9,
          5.4,
          5.2,
          4.5,
          5,
          5.3,
          4.8,
          4.9,
          5.3,
          5,
          4.5,
          5.5,
          null,
          null,
          4.6,
          5.5,
          4.8,
          6.4,
          5.6,
          5.2,
          6,
          4.8,
          5.7,
          6,
          5.9,
          6,
          null,
          5.1,
          5.3,
          5.9,
          5.7,
          5,
          5.4,
          5.8,
          6.5,
          5.9,
          5.2,
          4.9,
          4.7,
          5.8,
          5,
          null,
          6.1,
          4.5,
          5.2,
          5.7,
          4.5,
          4.9,
          5.9,
          5.4,
          5.6,
          6.1,
          4.8,
          4.7,
          4.4,
          5.2,
          4.9,
          5.3,
          null,
          6.2,
          4.8,
          4.9,
          4.5,
          null,
          6.5,
          5.2,
          5.8,
          6.5,
          5.1,
          null,
          4.5,
          6.1,
          5.5,
          4.5,
          5.6,
          5.2,
          6.2,
          4.5,
          4.9,
          5.9,
          4.7,
          6.3,
          5.7,
          4.7,
          6.4,
          5.8,
          5.5,
          6.4,
          6.1,
          4.5,
          4.7,
          5.2,
          4.5,
          5.1,
          4.6,
          6.1,
          4.9,
          5.6,
          4.5,
          6.2,
          5.8,
          4.8,
          5.2,
          4.7,
          6.3,
          5.3,
          6.1,
          5.9,
          4.8,
          5.4,
          5,
          5.5,
          4.9,
          6.4,
          5.6,
          5.2,
          4.8,
          5.5,
          5.7,
          4.9,
          5.9,
          6.5,
          5,
          4.5,
          5.1,
          6.5,
          5.2,
          6.4,
          5.8,
          5.3,
          6.3,
          5.5,
          5.4,
          4.6,
          4.9,
          6.2,
          5.4,
          5.9,
          6.1
         ],
         "y0": " ",
         "yaxis": "y"
        }
       ],
       "layout": {
        "legend": {
         "title": {
          "text": "class"
         },
         "tracegroupgap": 0
        },
        "margin": {
         "t": 60
        },
        "template": {
         "data": {
          "bar": [
           {
            "error_x": {
             "color": "#2a3f5f"
            },
            "error_y": {
             "color": "#2a3f5f"
            },
            "marker": {
             "line": {
              "color": "#E5ECF6",
              "width": 0.5
             }
            },
            "type": "bar"
           }
          ],
          "barpolar": [
           {
            "marker": {
             "line": {
              "color": "#E5ECF6",
              "width": 0.5
             }
            },
            "type": "barpolar"
           }
          ],
          "carpet": [
           {
            "aaxis": {
             "endlinecolor": "#2a3f5f",
             "gridcolor": "white",
             "linecolor": "white",
             "minorgridcolor": "white",
             "startlinecolor": "#2a3f5f"
            },
            "baxis": {
             "endlinecolor": "#2a3f5f",
             "gridcolor": "white",
             "linecolor": "white",
             "minorgridcolor": "white",
             "startlinecolor": "#2a3f5f"
            },
            "type": "carpet"
           }
          ],
          "choropleth": [
           {
            "colorbar": {
             "outlinewidth": 0,
             "ticks": ""
            },
            "type": "choropleth"
           }
          ],
          "contour": [
           {
            "colorbar": {
             "outlinewidth": 0,
             "ticks": ""
            },
            "colorscale": [
             [
              0,
              "#0d0887"
             ],
             [
              0.1111111111111111,
              "#46039f"
             ],
             [
              0.2222222222222222,
              "#7201a8"
             ],
             [
              0.3333333333333333,
              "#9c179e"
             ],
             [
              0.4444444444444444,
              "#bd3786"
             ],
             [
              0.5555555555555556,
              "#d8576b"
             ],
             [
              0.6666666666666666,
              "#ed7953"
             ],
             [
              0.7777777777777778,
              "#fb9f3a"
             ],
             [
              0.8888888888888888,
              "#fdca26"
             ],
             [
              1,
              "#f0f921"
             ]
            ],
            "type": "contour"
           }
          ],
          "contourcarpet": [
           {
            "colorbar": {
             "outlinewidth": 0,
             "ticks": ""
            },
            "type": "contourcarpet"
           }
          ],
          "heatmap": [
           {
            "colorbar": {
             "outlinewidth": 0,
             "ticks": ""
            },
            "colorscale": [
             [
              0,
              "#0d0887"
             ],
             [
              0.1111111111111111,
              "#46039f"
             ],
             [
              0.2222222222222222,
              "#7201a8"
             ],
             [
              0.3333333333333333,
              "#9c179e"
             ],
             [
              0.4444444444444444,
              "#bd3786"
             ],
             [
              0.5555555555555556,
              "#d8576b"
             ],
             [
              0.6666666666666666,
              "#ed7953"
             ],
             [
              0.7777777777777778,
              "#fb9f3a"
             ],
             [
              0.8888888888888888,
              "#fdca26"
             ],
             [
              1,
              "#f0f921"
             ]
            ],
            "type": "heatmap"
           }
          ],
          "heatmapgl": [
           {
            "colorbar": {
             "outlinewidth": 0,
             "ticks": ""
            },
            "colorscale": [
             [
              0,
              "#0d0887"
             ],
             [
              0.1111111111111111,
              "#46039f"
             ],
             [
              0.2222222222222222,
              "#7201a8"
             ],
             [
              0.3333333333333333,
              "#9c179e"
             ],
             [
              0.4444444444444444,
              "#bd3786"
             ],
             [
              0.5555555555555556,
              "#d8576b"
             ],
             [
              0.6666666666666666,
              "#ed7953"
             ],
             [
              0.7777777777777778,
              "#fb9f3a"
             ],
             [
              0.8888888888888888,
              "#fdca26"
             ],
             [
              1,
              "#f0f921"
             ]
            ],
            "type": "heatmapgl"
           }
          ],
          "histogram": [
           {
            "marker": {
             "colorbar": {
              "outlinewidth": 0,
              "ticks": ""
             }
            },
            "type": "histogram"
           }
          ],
          "histogram2d": [
           {
            "colorbar": {
             "outlinewidth": 0,
             "ticks": ""
            },
            "colorscale": [
             [
              0,
              "#0d0887"
             ],
             [
              0.1111111111111111,
              "#46039f"
             ],
             [
              0.2222222222222222,
              "#7201a8"
             ],
             [
              0.3333333333333333,
              "#9c179e"
             ],
             [
              0.4444444444444444,
              "#bd3786"
             ],
             [
              0.5555555555555556,
              "#d8576b"
             ],
             [
              0.6666666666666666,
              "#ed7953"
             ],
             [
              0.7777777777777778,
              "#fb9f3a"
             ],
             [
              0.8888888888888888,
              "#fdca26"
             ],
             [
              1,
              "#f0f921"
             ]
            ],
            "type": "histogram2d"
           }
          ],
          "histogram2dcontour": [
           {
            "colorbar": {
             "outlinewidth": 0,
             "ticks": ""
            },
            "colorscale": [
             [
              0,
              "#0d0887"
             ],
             [
              0.1111111111111111,
              "#46039f"
             ],
             [
              0.2222222222222222,
              "#7201a8"
             ],
             [
              0.3333333333333333,
              "#9c179e"
             ],
             [
              0.4444444444444444,
              "#bd3786"
             ],
             [
              0.5555555555555556,
              "#d8576b"
             ],
             [
              0.6666666666666666,
              "#ed7953"
             ],
             [
              0.7777777777777778,
              "#fb9f3a"
             ],
             [
              0.8888888888888888,
              "#fdca26"
             ],
             [
              1,
              "#f0f921"
             ]
            ],
            "type": "histogram2dcontour"
           }
          ],
          "mesh3d": [
           {
            "colorbar": {
             "outlinewidth": 0,
             "ticks": ""
            },
            "type": "mesh3d"
           }
          ],
          "parcoords": [
           {
            "line": {
             "colorbar": {
              "outlinewidth": 0,
              "ticks": ""
             }
            },
            "type": "parcoords"
           }
          ],
          "pie": [
           {
            "automargin": true,
            "type": "pie"
           }
          ],
          "scatter": [
           {
            "marker": {
             "colorbar": {
              "outlinewidth": 0,
              "ticks": ""
             }
            },
            "type": "scatter"
           }
          ],
          "scatter3d": [
           {
            "line": {
             "colorbar": {
              "outlinewidth": 0,
              "ticks": ""
             }
            },
            "marker": {
             "colorbar": {
              "outlinewidth": 0,
              "ticks": ""
             }
            },
            "type": "scatter3d"
           }
          ],
          "scattercarpet": [
           {
            "marker": {
             "colorbar": {
              "outlinewidth": 0,
              "ticks": ""
             }
            },
            "type": "scattercarpet"
           }
          ],
          "scattergeo": [
           {
            "marker": {
             "colorbar": {
              "outlinewidth": 0,
              "ticks": ""
             }
            },
            "type": "scattergeo"
           }
          ],
          "scattergl": [
           {
            "marker": {
             "colorbar": {
              "outlinewidth": 0,
              "ticks": ""
             }
            },
            "type": "scattergl"
           }
          ],
          "scattermapbox": [
           {
            "marker": {
             "colorbar": {
              "outlinewidth": 0,
              "ticks": ""
             }
            },
            "type": "scattermapbox"
           }
          ],
          "scatterpolar": [
           {
            "marker": {
             "colorbar": {
              "outlinewidth": 0,
              "ticks": ""
             }
            },
            "type": "scatterpolar"
           }
          ],
          "scatterpolargl": [
           {
            "marker": {
             "colorbar": {
              "outlinewidth": 0,
              "ticks": ""
             }
            },
            "type": "scatterpolargl"
           }
          ],
          "scatterternary": [
           {
            "marker": {
             "colorbar": {
              "outlinewidth": 0,
              "ticks": ""
             }
            },
            "type": "scatterternary"
           }
          ],
          "surface": [
           {
            "colorbar": {
             "outlinewidth": 0,
             "ticks": ""
            },
            "colorscale": [
             [
              0,
              "#0d0887"
             ],
             [
              0.1111111111111111,
              "#46039f"
             ],
             [
              0.2222222222222222,
              "#7201a8"
             ],
             [
              0.3333333333333333,
              "#9c179e"
             ],
             [
              0.4444444444444444,
              "#bd3786"
             ],
             [
              0.5555555555555556,
              "#d8576b"
             ],
             [
              0.6666666666666666,
              "#ed7953"
             ],
             [
              0.7777777777777778,
              "#fb9f3a"
             ],
             [
              0.8888888888888888,
              "#fdca26"
             ],
             [
              1,
              "#f0f921"
             ]
            ],
            "type": "surface"
           }
          ],
          "table": [
           {
            "cells": {
             "fill": {
              "color": "#EBF0F8"
             },
             "line": {
              "color": "white"
             }
            },
            "header": {
             "fill": {
              "color": "#C8D4E3"
             },
             "line": {
              "color": "white"
             }
            },
            "type": "table"
           }
          ]
         },
         "layout": {
          "annotationdefaults": {
           "arrowcolor": "#2a3f5f",
           "arrowhead": 0,
           "arrowwidth": 1
          },
          "autotypenumbers": "strict",
          "coloraxis": {
           "colorbar": {
            "outlinewidth": 0,
            "ticks": ""
           }
          },
          "colorscale": {
           "diverging": [
            [
             0,
             "#8e0152"
            ],
            [
             0.1,
             "#c51b7d"
            ],
            [
             0.2,
             "#de77ae"
            ],
            [
             0.3,
             "#f1b6da"
            ],
            [
             0.4,
             "#fde0ef"
            ],
            [
             0.5,
             "#f7f7f7"
            ],
            [
             0.6,
             "#e6f5d0"
            ],
            [
             0.7,
             "#b8e186"
            ],
            [
             0.8,
             "#7fbc41"
            ],
            [
             0.9,
             "#4d9221"
            ],
            [
             1,
             "#276419"
            ]
           ],
           "sequential": [
            [
             0,
             "#0d0887"
            ],
            [
             0.1111111111111111,
             "#46039f"
            ],
            [
             0.2222222222222222,
             "#7201a8"
            ],
            [
             0.3333333333333333,
             "#9c179e"
            ],
            [
             0.4444444444444444,
             "#bd3786"
            ],
            [
             0.5555555555555556,
             "#d8576b"
            ],
            [
             0.6666666666666666,
             "#ed7953"
            ],
            [
             0.7777777777777778,
             "#fb9f3a"
            ],
            [
             0.8888888888888888,
             "#fdca26"
            ],
            [
             1,
             "#f0f921"
            ]
           ],
           "sequentialminus": [
            [
             0,
             "#0d0887"
            ],
            [
             0.1111111111111111,
             "#46039f"
            ],
            [
             0.2222222222222222,
             "#7201a8"
            ],
            [
             0.3333333333333333,
             "#9c179e"
            ],
            [
             0.4444444444444444,
             "#bd3786"
            ],
            [
             0.5555555555555556,
             "#d8576b"
            ],
            [
             0.6666666666666666,
             "#ed7953"
            ],
            [
             0.7777777777777778,
             "#fb9f3a"
            ],
            [
             0.8888888888888888,
             "#fdca26"
            ],
            [
             1,
             "#f0f921"
            ]
           ]
          },
          "colorway": [
           "#636efa",
           "#EF553B",
           "#00cc96",
           "#ab63fa",
           "#FFA15A",
           "#19d3f3",
           "#FF6692",
           "#B6E880",
           "#FF97FF",
           "#FECB52"
          ],
          "font": {
           "color": "#2a3f5f"
          },
          "geo": {
           "bgcolor": "white",
           "lakecolor": "white",
           "landcolor": "#E5ECF6",
           "showlakes": true,
           "showland": true,
           "subunitcolor": "white"
          },
          "hoverlabel": {
           "align": "left"
          },
          "hovermode": "closest",
          "mapbox": {
           "style": "light"
          },
          "paper_bgcolor": "white",
          "plot_bgcolor": "#E5ECF6",
          "polar": {
           "angularaxis": {
            "gridcolor": "white",
            "linecolor": "white",
            "ticks": ""
           },
           "bgcolor": "#E5ECF6",
           "radialaxis": {
            "gridcolor": "white",
            "linecolor": "white",
            "ticks": ""
           }
          },
          "scene": {
           "xaxis": {
            "backgroundcolor": "#E5ECF6",
            "gridcolor": "white",
            "gridwidth": 2,
            "linecolor": "white",
            "showbackground": true,
            "ticks": "",
            "zerolinecolor": "white"
           },
           "yaxis": {
            "backgroundcolor": "#E5ECF6",
            "gridcolor": "white",
            "gridwidth": 2,
            "linecolor": "white",
            "showbackground": true,
            "ticks": "",
            "zerolinecolor": "white"
           },
           "zaxis": {
            "backgroundcolor": "#E5ECF6",
            "gridcolor": "white",
            "gridwidth": 2,
            "linecolor": "white",
            "showbackground": true,
            "ticks": "",
            "zerolinecolor": "white"
           }
          },
          "shapedefaults": {
           "line": {
            "color": "#2a3f5f"
           }
          },
          "ternary": {
           "aaxis": {
            "gridcolor": "white",
            "linecolor": "white",
            "ticks": ""
           },
           "baxis": {
            "gridcolor": "white",
            "linecolor": "white",
            "ticks": ""
           },
           "bgcolor": "#E5ECF6",
           "caxis": {
            "gridcolor": "white",
            "linecolor": "white",
            "ticks": ""
           }
          },
          "title": {
           "x": 0.05
          },
          "xaxis": {
           "automargin": true,
           "gridcolor": "white",
           "linecolor": "white",
           "ticks": "",
           "title": {
            "standoff": 15
           },
           "zerolinecolor": "white",
           "zerolinewidth": 2
          },
          "yaxis": {
           "automargin": true,
           "gridcolor": "white",
           "linecolor": "white",
           "ticks": "",
           "title": {
            "standoff": 15
           },
           "zerolinecolor": "white",
           "zerolinewidth": 2
          }
         }
        },
        "violinmode": "overlay",
        "xaxis": {
         "anchor": "y",
         "categoryarray": [
          "ckd",
          "notckd"
         ],
         "categoryorder": "array",
         "domain": [
          0,
          1
         ],
         "title": {
          "text": "class"
         }
        },
        "yaxis": {
         "anchor": "x",
         "domain": [
          0,
          1
         ],
         "title": {
          "text": "red blood cell count"
         }
        }
       }
      },
      "text/html": [
       "<div>                            <div id=\"d2c99491-cc54-46fd-bcca-2df3a826330e\" class=\"plotly-graph-div\" style=\"height:525px; width:100%;\"></div>            <script type=\"text/javascript\">                require([\"plotly\"], function(Plotly) {                    window.PLOTLYENV=window.PLOTLYENV || {};                                    if (document.getElementById(\"d2c99491-cc54-46fd-bcca-2df3a826330e\")) {                    Plotly.newPlot(                        \"d2c99491-cc54-46fd-bcca-2df3a826330e\",                        [{\"alignmentgroup\": \"True\", \"box\": {\"visible\": true}, \"hovertemplate\": \"class=%{x}<br>red blood cell count=%{y}<extra></extra>\", \"legendgroup\": \"ckd\", \"marker\": {\"color\": \"#636efa\"}, \"name\": \"ckd\", \"offsetgroup\": \"ckd\", \"orientation\": \"v\", \"scalegroup\": \"True\", \"showlegend\": true, \"type\": \"violin\", \"x\": [\"ckd\", \"ckd\", \"ckd\", \"ckd\", \"ckd\", \"ckd\", \"ckd\", \"ckd\", \"ckd\", \"ckd\", \"ckd\", \"ckd\", \"ckd\", \"ckd\", \"ckd\", \"ckd\", \"ckd\", \"ckd\", \"ckd\", \"ckd\", \"ckd\", \"ckd\", \"ckd\", \"ckd\", \"ckd\", \"ckd\", \"ckd\", \"ckd\", \"ckd\", \"ckd\", \"ckd\", \"ckd\", \"ckd\", \"ckd\", \"ckd\", \"ckd\", \"ckd\", \"ckd\", \"ckd\", \"ckd\", \"ckd\", \"ckd\", \"ckd\", \"ckd\", \"ckd\", \"ckd\", \"ckd\", \"ckd\", \"ckd\", \"ckd\", \"ckd\", \"ckd\", \"ckd\", \"ckd\", \"ckd\", \"ckd\", \"ckd\", \"ckd\", \"ckd\", \"ckd\", \"ckd\", \"ckd\", \"ckd\", \"ckd\", \"ckd\", \"ckd\", \"ckd\", \"ckd\", \"ckd\", \"ckd\", \"ckd\", \"ckd\", \"ckd\", \"ckd\", \"ckd\", \"ckd\", \"ckd\", \"ckd\", \"ckd\", \"ckd\", \"ckd\", \"ckd\", \"ckd\", \"ckd\", \"ckd\", \"ckd\", \"ckd\", \"ckd\", \"ckd\", \"ckd\", \"ckd\", \"ckd\", \"ckd\", \"ckd\", \"ckd\", \"ckd\", \"ckd\", \"ckd\", \"ckd\", \"ckd\", \"ckd\", \"ckd\", \"ckd\", \"ckd\", \"ckd\", \"ckd\", \"ckd\", \"ckd\", \"ckd\", \"ckd\", \"ckd\", \"ckd\", \"ckd\", \"ckd\", \"ckd\", \"ckd\", \"ckd\", \"ckd\", \"ckd\", \"ckd\", \"ckd\", \"ckd\", \"ckd\", \"ckd\", \"ckd\", \"ckd\", \"ckd\", \"ckd\", \"ckd\", \"ckd\", \"ckd\", \"ckd\", \"ckd\", \"ckd\", \"ckd\", \"ckd\", \"ckd\", \"ckd\", \"ckd\", \"ckd\", \"ckd\", \"ckd\", \"ckd\", \"ckd\", \"ckd\", \"ckd\", \"ckd\", \"ckd\", \"ckd\", \"ckd\", \"ckd\", \"ckd\", \"ckd\", \"ckd\", \"ckd\", \"ckd\", \"ckd\", \"ckd\", \"ckd\", \"ckd\", \"ckd\", \"ckd\", \"ckd\", \"ckd\", \"ckd\", \"ckd\", \"ckd\", \"ckd\", \"ckd\", \"ckd\", \"ckd\", \"ckd\", \"ckd\", \"ckd\", \"ckd\", \"ckd\", \"ckd\", \"ckd\", \"ckd\", \"ckd\", \"ckd\", \"ckd\", \"ckd\", \"ckd\", \"ckd\", \"ckd\", \"ckd\", \"ckd\", \"ckd\", \"ckd\", \"ckd\", \"ckd\", \"ckd\", \"ckd\", \"ckd\", \"ckd\", \"ckd\", \"ckd\", \"ckd\", \"ckd\", \"ckd\", \"ckd\", \"ckd\", \"ckd\", \"ckd\", \"ckd\", \"ckd\", \"ckd\", \"ckd\", \"ckd\", \"ckd\", \"ckd\", \"ckd\", \"ckd\", \"ckd\", \"ckd\", \"ckd\", \"ckd\", \"ckd\", \"ckd\", \"ckd\", \"ckd\", \"ckd\", \"ckd\", \"ckd\", \"ckd\", \"ckd\", \"ckd\", \"ckd\", \"ckd\", \"ckd\", \"ckd\", \"ckd\", \"ckd\", \"ckd\", \"ckd\", \"ckd\", \"ckd\", \"ckd\", \"ckd\", \"ckd\", \"ckd\", \"ckd\", \"ckd\", \"ckd\", \"ckd\", \"ckd\", \"ckd\", \"ckd\", \"ckd\"], \"x0\": \" \", \"xaxis\": \"x\", \"y\": [5.2, null, null, 3.9, 4.6, 4.4, null, 5.0, 4.0, 3.7, null, 3.8, 3.4, null, 2.6, 2.8, null, null, 4.3, 3.7, 3.2, 3.6, 3.4, null, 4.6, 3.7, 4.0, 4.1, null, null, null, 4.0, 4.0, null, null, 4.9, null, 2.5, null, 4.2, 4.1, null, 4.5, 3.1, null, null, 4.7, null, 3.5, 3.5, 3.8, null, 3.7, 4.7, 4.2, null, 3.4, null, 4.3, null, null, null, 3.8, null, null, null, null, null, null, 6.0, 5.2, 3.2, null, null, 3.4, null, 4.0, 3.7, null, 5.0, 3.8, 3.7, null, null, 2.1, null, null, 5.0, 4.7, null, 4.2, 5.6, 3.6, 3.2, 3.9, null, null, 4.0, 2.3, 4.2, null, 3.9, null, 4.2, null, 5.2, null, 4.4, 4.2, null, 4.7, 3.9, null, null, null, 4.3, null, 4.4, null, null, null, null, null, null, 3.6, null, 4.5, 4.3, 2.9, null, 2.7, null, 2.7, 8.0, 3.8, null, null, null, null, null, null, null, null, null, 4.1, 3.3, null, 3.0, null, null, null, null, null, 2.9, 3.0, null, null, 3.9, null, 4.3, 2.4, 4.8, null, 3.2, 5.4, null, null, null, null, null, 4.4, 3.1, 4.9, null, 4.6, 3.4, 3.9, null, null, null, null, 3.7, null, null, 3.6, null, null, null, null, 3.4, 4.8, 3.4, null, 2.8, null, null, 3.5, 3.0, 3.9, 3.2, 3.9, null, null, null, null, null, null, 4.6, 4.9, null, 3.9, null, 3.4, 3.7, 5.2, null, null, 4.3, null, 3.3, null, null, null, 4.6, null, 4.5, 3.4, 3.8, null, 3.8, null, null, null, null, 5.2, null, null, null, null, null, 4.1, 3.9, 3.3, 6.1, 4.6, 2.6, 2.5, null, 4.1, 2.1], \"y0\": \" \", \"yaxis\": \"y\"}, {\"alignmentgroup\": \"True\", \"box\": {\"visible\": true}, \"hovertemplate\": \"class=%{x}<br>red blood cell count=%{y}<extra></extra>\", \"legendgroup\": \"notckd\", \"marker\": {\"color\": \"#EF553B\"}, \"name\": \"notckd\", \"offsetgroup\": \"notckd\", \"orientation\": \"v\", \"scalegroup\": \"True\", \"showlegend\": true, \"type\": \"violin\", \"x\": [\"notckd\", \"notckd\", \"notckd\", \"notckd\", \"notckd\", \"notckd\", \"notckd\", \"notckd\", \"notckd\", \"notckd\", \"notckd\", \"notckd\", \"notckd\", \"notckd\", \"notckd\", \"notckd\", \"notckd\", \"notckd\", \"notckd\", \"notckd\", \"notckd\", \"notckd\", \"notckd\", \"notckd\", \"notckd\", \"notckd\", \"notckd\", \"notckd\", \"notckd\", \"notckd\", \"notckd\", \"notckd\", \"notckd\", \"notckd\", \"notckd\", \"notckd\", \"notckd\", \"notckd\", \"notckd\", \"notckd\", \"notckd\", \"notckd\", \"notckd\", \"notckd\", \"notckd\", \"notckd\", \"notckd\", \"notckd\", \"notckd\", \"notckd\", \"notckd\", \"notckd\", \"notckd\", \"notckd\", \"notckd\", \"notckd\", \"notckd\", \"notckd\", \"notckd\", \"notckd\", \"notckd\", \"notckd\", \"notckd\", \"notckd\", \"notckd\", \"notckd\", \"notckd\", \"notckd\", \"notckd\", \"notckd\", \"notckd\", \"notckd\", \"notckd\", \"notckd\", \"notckd\", \"notckd\", \"notckd\", \"notckd\", \"notckd\", \"notckd\", \"notckd\", \"notckd\", \"notckd\", \"notckd\", \"notckd\", \"notckd\", \"notckd\", \"notckd\", \"notckd\", \"notckd\", \"notckd\", \"notckd\", \"notckd\", \"notckd\", \"notckd\", \"notckd\", \"notckd\", \"notckd\", \"notckd\", \"notckd\", \"notckd\", \"notckd\", \"notckd\", \"notckd\", \"notckd\", \"notckd\", \"notckd\", \"notckd\", \"notckd\", \"notckd\", \"notckd\", \"notckd\", \"notckd\", \"notckd\", \"notckd\", \"notckd\", \"notckd\", \"notckd\", \"notckd\", \"notckd\", \"notckd\", \"notckd\", \"notckd\", \"notckd\", \"notckd\", \"notckd\", \"notckd\", \"notckd\", \"notckd\", \"notckd\", \"notckd\", \"notckd\", \"notckd\", \"notckd\", \"notckd\", \"notckd\", \"notckd\", \"notckd\", \"notckd\", \"notckd\", \"notckd\", \"notckd\", \"notckd\", \"notckd\", \"notckd\", \"notckd\", \"notckd\", \"notckd\", \"notckd\", \"notckd\"], \"x0\": \" \", \"xaxis\": \"x\", \"y\": [4.5, 5.0, 4.7, 6.2, 5.2, 6.3, 5.1, 5.8, 5.5, 5.2, 5.3, 4.9, 5.4, 5.2, 4.5, 5.0, 5.3, 4.8, 4.9, 5.3, 5.0, 4.5, 5.5, null, null, 4.6, 5.5, 4.8, 6.4, 5.6, 5.2, 6.0, 4.8, 5.7, 6.0, 5.9, 6.0, null, 5.1, 5.3, 5.9, 5.7, 5.0, 5.4, 5.8, 6.5, 5.9, 5.2, 4.9, 4.7, 5.8, 5.0, null, 6.1, 4.5, 5.2, 5.7, 4.5, 4.9, 5.9, 5.4, 5.6, 6.1, 4.8, 4.7, 4.4, 5.2, 4.9, 5.3, null, 6.2, 4.8, 4.9, 4.5, null, 6.5, 5.2, 5.8, 6.5, 5.1, null, 4.5, 6.1, 5.5, 4.5, 5.6, 5.2, 6.2, 4.5, 4.9, 5.9, 4.7, 6.3, 5.7, 4.7, 6.4, 5.8, 5.5, 6.4, 6.1, 4.5, 4.7, 5.2, 4.5, 5.1, 4.6, 6.1, 4.9, 5.6, 4.5, 6.2, 5.8, 4.8, 5.2, 4.7, 6.3, 5.3, 6.1, 5.9, 4.8, 5.4, 5.0, 5.5, 4.9, 6.4, 5.6, 5.2, 4.8, 5.5, 5.7, 4.9, 5.9, 6.5, 5.0, 4.5, 5.1, 6.5, 5.2, 6.4, 5.8, 5.3, 6.3, 5.5, 5.4, 4.6, 4.9, 6.2, 5.4, 5.9, 6.1], \"y0\": \" \", \"yaxis\": \"y\"}],                        {\"legend\": {\"title\": {\"text\": \"class\"}, \"tracegroupgap\": 0}, \"margin\": {\"t\": 60}, \"template\": {\"data\": {\"bar\": [{\"error_x\": {\"color\": \"#2a3f5f\"}, \"error_y\": {\"color\": \"#2a3f5f\"}, \"marker\": {\"line\": {\"color\": \"#E5ECF6\", \"width\": 0.5}}, \"type\": \"bar\"}], \"barpolar\": [{\"marker\": {\"line\": {\"color\": \"#E5ECF6\", \"width\": 0.5}}, \"type\": \"barpolar\"}], \"carpet\": [{\"aaxis\": {\"endlinecolor\": \"#2a3f5f\", \"gridcolor\": \"white\", \"linecolor\": \"white\", \"minorgridcolor\": \"white\", \"startlinecolor\": \"#2a3f5f\"}, \"baxis\": {\"endlinecolor\": \"#2a3f5f\", \"gridcolor\": \"white\", \"linecolor\": \"white\", \"minorgridcolor\": \"white\", \"startlinecolor\": \"#2a3f5f\"}, \"type\": \"carpet\"}], \"choropleth\": [{\"colorbar\": {\"outlinewidth\": 0, \"ticks\": \"\"}, \"type\": \"choropleth\"}], \"contour\": [{\"colorbar\": {\"outlinewidth\": 0, \"ticks\": \"\"}, \"colorscale\": [[0.0, \"#0d0887\"], [0.1111111111111111, \"#46039f\"], [0.2222222222222222, \"#7201a8\"], [0.3333333333333333, \"#9c179e\"], [0.4444444444444444, \"#bd3786\"], [0.5555555555555556, \"#d8576b\"], [0.6666666666666666, \"#ed7953\"], [0.7777777777777778, \"#fb9f3a\"], [0.8888888888888888, \"#fdca26\"], [1.0, \"#f0f921\"]], \"type\": \"contour\"}], \"contourcarpet\": [{\"colorbar\": {\"outlinewidth\": 0, \"ticks\": \"\"}, \"type\": \"contourcarpet\"}], \"heatmap\": [{\"colorbar\": {\"outlinewidth\": 0, \"ticks\": \"\"}, \"colorscale\": [[0.0, \"#0d0887\"], [0.1111111111111111, \"#46039f\"], [0.2222222222222222, \"#7201a8\"], [0.3333333333333333, \"#9c179e\"], [0.4444444444444444, \"#bd3786\"], [0.5555555555555556, \"#d8576b\"], [0.6666666666666666, \"#ed7953\"], [0.7777777777777778, \"#fb9f3a\"], [0.8888888888888888, \"#fdca26\"], [1.0, \"#f0f921\"]], \"type\": \"heatmap\"}], \"heatmapgl\": [{\"colorbar\": {\"outlinewidth\": 0, \"ticks\": \"\"}, \"colorscale\": [[0.0, \"#0d0887\"], [0.1111111111111111, \"#46039f\"], [0.2222222222222222, \"#7201a8\"], [0.3333333333333333, \"#9c179e\"], [0.4444444444444444, \"#bd3786\"], [0.5555555555555556, \"#d8576b\"], [0.6666666666666666, \"#ed7953\"], [0.7777777777777778, \"#fb9f3a\"], [0.8888888888888888, \"#fdca26\"], [1.0, \"#f0f921\"]], \"type\": \"heatmapgl\"}], \"histogram\": [{\"marker\": {\"colorbar\": {\"outlinewidth\": 0, \"ticks\": \"\"}}, \"type\": \"histogram\"}], \"histogram2d\": [{\"colorbar\": {\"outlinewidth\": 0, \"ticks\": \"\"}, \"colorscale\": [[0.0, \"#0d0887\"], [0.1111111111111111, \"#46039f\"], [0.2222222222222222, \"#7201a8\"], [0.3333333333333333, \"#9c179e\"], [0.4444444444444444, \"#bd3786\"], [0.5555555555555556, \"#d8576b\"], [0.6666666666666666, \"#ed7953\"], [0.7777777777777778, \"#fb9f3a\"], [0.8888888888888888, \"#fdca26\"], [1.0, \"#f0f921\"]], \"type\": \"histogram2d\"}], \"histogram2dcontour\": [{\"colorbar\": {\"outlinewidth\": 0, \"ticks\": \"\"}, \"colorscale\": [[0.0, \"#0d0887\"], [0.1111111111111111, \"#46039f\"], [0.2222222222222222, \"#7201a8\"], [0.3333333333333333, \"#9c179e\"], [0.4444444444444444, \"#bd3786\"], [0.5555555555555556, \"#d8576b\"], [0.6666666666666666, \"#ed7953\"], [0.7777777777777778, \"#fb9f3a\"], [0.8888888888888888, \"#fdca26\"], [1.0, \"#f0f921\"]], \"type\": \"histogram2dcontour\"}], \"mesh3d\": [{\"colorbar\": {\"outlinewidth\": 0, \"ticks\": \"\"}, \"type\": \"mesh3d\"}], \"parcoords\": [{\"line\": {\"colorbar\": {\"outlinewidth\": 0, \"ticks\": \"\"}}, \"type\": \"parcoords\"}], \"pie\": [{\"automargin\": true, \"type\": \"pie\"}], \"scatter\": [{\"marker\": {\"colorbar\": {\"outlinewidth\": 0, \"ticks\": \"\"}}, \"type\": \"scatter\"}], \"scatter3d\": [{\"line\": {\"colorbar\": {\"outlinewidth\": 0, \"ticks\": \"\"}}, \"marker\": {\"colorbar\": {\"outlinewidth\": 0, \"ticks\": \"\"}}, \"type\": \"scatter3d\"}], \"scattercarpet\": [{\"marker\": {\"colorbar\": {\"outlinewidth\": 0, \"ticks\": \"\"}}, \"type\": \"scattercarpet\"}], \"scattergeo\": [{\"marker\": {\"colorbar\": {\"outlinewidth\": 0, \"ticks\": \"\"}}, \"type\": \"scattergeo\"}], \"scattergl\": [{\"marker\": {\"colorbar\": {\"outlinewidth\": 0, \"ticks\": \"\"}}, \"type\": \"scattergl\"}], \"scattermapbox\": [{\"marker\": {\"colorbar\": {\"outlinewidth\": 0, \"ticks\": \"\"}}, \"type\": \"scattermapbox\"}], \"scatterpolar\": [{\"marker\": {\"colorbar\": {\"outlinewidth\": 0, \"ticks\": \"\"}}, \"type\": \"scatterpolar\"}], \"scatterpolargl\": [{\"marker\": {\"colorbar\": {\"outlinewidth\": 0, \"ticks\": \"\"}}, \"type\": \"scatterpolargl\"}], \"scatterternary\": [{\"marker\": {\"colorbar\": {\"outlinewidth\": 0, \"ticks\": \"\"}}, \"type\": \"scatterternary\"}], \"surface\": [{\"colorbar\": {\"outlinewidth\": 0, \"ticks\": \"\"}, \"colorscale\": [[0.0, \"#0d0887\"], [0.1111111111111111, \"#46039f\"], [0.2222222222222222, \"#7201a8\"], [0.3333333333333333, \"#9c179e\"], [0.4444444444444444, \"#bd3786\"], [0.5555555555555556, \"#d8576b\"], [0.6666666666666666, \"#ed7953\"], [0.7777777777777778, \"#fb9f3a\"], [0.8888888888888888, \"#fdca26\"], [1.0, \"#f0f921\"]], \"type\": \"surface\"}], \"table\": [{\"cells\": {\"fill\": {\"color\": \"#EBF0F8\"}, \"line\": {\"color\": \"white\"}}, \"header\": {\"fill\": {\"color\": \"#C8D4E3\"}, \"line\": {\"color\": \"white\"}}, \"type\": \"table\"}]}, \"layout\": {\"annotationdefaults\": {\"arrowcolor\": \"#2a3f5f\", \"arrowhead\": 0, \"arrowwidth\": 1}, \"autotypenumbers\": \"strict\", \"coloraxis\": {\"colorbar\": {\"outlinewidth\": 0, \"ticks\": \"\"}}, \"colorscale\": {\"diverging\": [[0, \"#8e0152\"], [0.1, \"#c51b7d\"], [0.2, \"#de77ae\"], [0.3, \"#f1b6da\"], [0.4, \"#fde0ef\"], [0.5, \"#f7f7f7\"], [0.6, \"#e6f5d0\"], [0.7, \"#b8e186\"], [0.8, \"#7fbc41\"], [0.9, \"#4d9221\"], [1, \"#276419\"]], \"sequential\": [[0.0, \"#0d0887\"], [0.1111111111111111, \"#46039f\"], [0.2222222222222222, \"#7201a8\"], [0.3333333333333333, \"#9c179e\"], [0.4444444444444444, \"#bd3786\"], [0.5555555555555556, \"#d8576b\"], [0.6666666666666666, \"#ed7953\"], [0.7777777777777778, \"#fb9f3a\"], [0.8888888888888888, \"#fdca26\"], [1.0, \"#f0f921\"]], \"sequentialminus\": [[0.0, \"#0d0887\"], [0.1111111111111111, \"#46039f\"], [0.2222222222222222, \"#7201a8\"], [0.3333333333333333, \"#9c179e\"], [0.4444444444444444, \"#bd3786\"], [0.5555555555555556, \"#d8576b\"], [0.6666666666666666, \"#ed7953\"], [0.7777777777777778, \"#fb9f3a\"], [0.8888888888888888, \"#fdca26\"], [1.0, \"#f0f921\"]]}, \"colorway\": [\"#636efa\", \"#EF553B\", \"#00cc96\", \"#ab63fa\", \"#FFA15A\", \"#19d3f3\", \"#FF6692\", \"#B6E880\", \"#FF97FF\", \"#FECB52\"], \"font\": {\"color\": \"#2a3f5f\"}, \"geo\": {\"bgcolor\": \"white\", \"lakecolor\": \"white\", \"landcolor\": \"#E5ECF6\", \"showlakes\": true, \"showland\": true, \"subunitcolor\": \"white\"}, \"hoverlabel\": {\"align\": \"left\"}, \"hovermode\": \"closest\", \"mapbox\": {\"style\": \"light\"}, \"paper_bgcolor\": \"white\", \"plot_bgcolor\": \"#E5ECF6\", \"polar\": {\"angularaxis\": {\"gridcolor\": \"white\", \"linecolor\": \"white\", \"ticks\": \"\"}, \"bgcolor\": \"#E5ECF6\", \"radialaxis\": {\"gridcolor\": \"white\", \"linecolor\": \"white\", \"ticks\": \"\"}}, \"scene\": {\"xaxis\": {\"backgroundcolor\": \"#E5ECF6\", \"gridcolor\": \"white\", \"gridwidth\": 2, \"linecolor\": \"white\", \"showbackground\": true, \"ticks\": \"\", \"zerolinecolor\": \"white\"}, \"yaxis\": {\"backgroundcolor\": \"#E5ECF6\", \"gridcolor\": \"white\", \"gridwidth\": 2, \"linecolor\": \"white\", \"showbackground\": true, \"ticks\": \"\", \"zerolinecolor\": \"white\"}, \"zaxis\": {\"backgroundcolor\": \"#E5ECF6\", \"gridcolor\": \"white\", \"gridwidth\": 2, \"linecolor\": \"white\", \"showbackground\": true, \"ticks\": \"\", \"zerolinecolor\": \"white\"}}, \"shapedefaults\": {\"line\": {\"color\": \"#2a3f5f\"}}, \"ternary\": {\"aaxis\": {\"gridcolor\": \"white\", \"linecolor\": \"white\", \"ticks\": \"\"}, \"baxis\": {\"gridcolor\": \"white\", \"linecolor\": \"white\", \"ticks\": \"\"}, \"bgcolor\": \"#E5ECF6\", \"caxis\": {\"gridcolor\": \"white\", \"linecolor\": \"white\", \"ticks\": \"\"}}, \"title\": {\"x\": 0.05}, \"xaxis\": {\"automargin\": true, \"gridcolor\": \"white\", \"linecolor\": \"white\", \"ticks\": \"\", \"title\": {\"standoff\": 15}, \"zerolinecolor\": \"white\", \"zerolinewidth\": 2}, \"yaxis\": {\"automargin\": true, \"gridcolor\": \"white\", \"linecolor\": \"white\", \"ticks\": \"\", \"title\": {\"standoff\": 15}, \"zerolinecolor\": \"white\", \"zerolinewidth\": 2}}}, \"violinmode\": \"overlay\", \"xaxis\": {\"anchor\": \"y\", \"categoryarray\": [\"ckd\", \"notckd\"], \"categoryorder\": \"array\", \"domain\": [0.0, 1.0], \"title\": {\"text\": \"class\"}}, \"yaxis\": {\"anchor\": \"x\", \"domain\": [0.0, 1.0], \"title\": {\"text\": \"red blood cell count\"}}},                        {\"responsive\": true}                    ).then(function(){\n",
       "                            \n",
       "var gd = document.getElementById('d2c99491-cc54-46fd-bcca-2df3a826330e');\n",
       "var x = new MutationObserver(function (mutations, observer) {{\n",
       "        var display = window.getComputedStyle(gd).display;\n",
       "        if (!display || display === 'none') {{\n",
       "            console.log([gd, 'removed!']);\n",
       "            Plotly.purge(gd);\n",
       "            observer.disconnect();\n",
       "        }}\n",
       "}});\n",
       "\n",
       "// Listen for the removal of the full notebook cells\n",
       "var notebookContainer = gd.closest('#notebook-container');\n",
       "if (notebookContainer) {{\n",
       "    x.observe(notebookContainer, {childList: true});\n",
       "}}\n",
       "\n",
       "// Listen for the clearing of the current output cell\n",
       "var outputEl = gd.closest('.output');\n",
       "if (outputEl) {{\n",
       "    x.observe(outputEl, {childList: true});\n",
       "}}\n",
       "\n",
       "                        })                };                });            </script>        </div>"
      ]
     },
     "metadata": {},
     "output_type": "display_data"
    }
   ],
   "source": [
    "violin('red blood cell count')"
   ]
  },
  {
   "cell_type": "code",
   "execution_count": 142,
   "metadata": {},
   "outputs": [
    {
     "data": {
      "application/vnd.plotly.v1+json": {
       "config": {
        "plotlyServerURL": "https://plot.ly"
       },
       "data": [
        {
         "alignmentgroup": "True",
         "box": {
          "visible": true
         },
         "hovertemplate": "class=%{x}<br>packed cell volume=%{y}<extra></extra>",
         "legendgroup": "ckd",
         "marker": {
          "color": "#636efa"
         },
         "name": "ckd",
         "offsetgroup": "ckd",
         "orientation": "v",
         "scalegroup": "True",
         "showlegend": true,
         "type": "violin",
         "x": [
          "ckd",
          "ckd",
          "ckd",
          "ckd",
          "ckd",
          "ckd",
          "ckd",
          "ckd",
          "ckd",
          "ckd",
          "ckd",
          "ckd",
          "ckd",
          "ckd",
          "ckd",
          "ckd",
          "ckd",
          "ckd",
          "ckd",
          "ckd",
          "ckd",
          "ckd",
          "ckd",
          "ckd",
          "ckd",
          "ckd",
          "ckd",
          "ckd",
          "ckd",
          "ckd",
          "ckd",
          "ckd",
          "ckd",
          "ckd",
          "ckd",
          "ckd",
          "ckd",
          "ckd",
          "ckd",
          "ckd",
          "ckd",
          "ckd",
          "ckd",
          "ckd",
          "ckd",
          "ckd",
          "ckd",
          "ckd",
          "ckd",
          "ckd",
          "ckd",
          "ckd",
          "ckd",
          "ckd",
          "ckd",
          "ckd",
          "ckd",
          "ckd",
          "ckd",
          "ckd",
          "ckd",
          "ckd",
          "ckd",
          "ckd",
          "ckd",
          "ckd",
          "ckd",
          "ckd",
          "ckd",
          "ckd",
          "ckd",
          "ckd",
          "ckd",
          "ckd",
          "ckd",
          "ckd",
          "ckd",
          "ckd",
          "ckd",
          "ckd",
          "ckd",
          "ckd",
          "ckd",
          "ckd",
          "ckd",
          "ckd",
          "ckd",
          "ckd",
          "ckd",
          "ckd",
          "ckd",
          "ckd",
          "ckd",
          "ckd",
          "ckd",
          "ckd",
          "ckd",
          "ckd",
          "ckd",
          "ckd",
          "ckd",
          "ckd",
          "ckd",
          "ckd",
          "ckd",
          "ckd",
          "ckd",
          "ckd",
          "ckd",
          "ckd",
          "ckd",
          "ckd",
          "ckd",
          "ckd",
          "ckd",
          "ckd",
          "ckd",
          "ckd",
          "ckd",
          "ckd",
          "ckd",
          "ckd",
          "ckd",
          "ckd",
          "ckd",
          "ckd",
          "ckd",
          "ckd",
          "ckd",
          "ckd",
          "ckd",
          "ckd",
          "ckd",
          "ckd",
          "ckd",
          "ckd",
          "ckd",
          "ckd",
          "ckd",
          "ckd",
          "ckd",
          "ckd",
          "ckd",
          "ckd",
          "ckd",
          "ckd",
          "ckd",
          "ckd",
          "ckd",
          "ckd",
          "ckd",
          "ckd",
          "ckd",
          "ckd",
          "ckd",
          "ckd",
          "ckd",
          "ckd",
          "ckd",
          "ckd",
          "ckd",
          "ckd",
          "ckd",
          "ckd",
          "ckd",
          "ckd",
          "ckd",
          "ckd",
          "ckd",
          "ckd",
          "ckd",
          "ckd",
          "ckd",
          "ckd",
          "ckd",
          "ckd",
          "ckd",
          "ckd",
          "ckd",
          "ckd",
          "ckd",
          "ckd",
          "ckd",
          "ckd",
          "ckd",
          "ckd",
          "ckd",
          "ckd",
          "ckd",
          "ckd",
          "ckd",
          "ckd",
          "ckd",
          "ckd",
          "ckd",
          "ckd",
          "ckd",
          "ckd",
          "ckd",
          "ckd",
          "ckd",
          "ckd",
          "ckd",
          "ckd",
          "ckd",
          "ckd",
          "ckd",
          "ckd",
          "ckd",
          "ckd",
          "ckd",
          "ckd",
          "ckd",
          "ckd",
          "ckd",
          "ckd",
          "ckd",
          "ckd",
          "ckd",
          "ckd",
          "ckd",
          "ckd",
          "ckd",
          "ckd",
          "ckd",
          "ckd",
          "ckd",
          "ckd",
          "ckd",
          "ckd",
          "ckd",
          "ckd",
          "ckd",
          "ckd",
          "ckd",
          "ckd",
          "ckd",
          "ckd",
          "ckd",
          "ckd",
          "ckd",
          "ckd",
          "ckd",
          "ckd",
          "ckd",
          "ckd",
          "ckd",
          "ckd",
          "ckd",
          "ckd"
         ],
         "x0": " ",
         "xaxis": "x",
         "y": [
          44,
          38,
          31,
          32,
          35,
          39,
          36,
          44,
          33,
          29,
          28,
          32,
          28,
          null,
          16,
          24,
          null,
          null,
          37,
          30,
          24,
          32,
          32,
          null,
          39,
          29,
          35,
          37,
          null,
          38,
          null,
          30,
          34,
          29,
          null,
          36,
          32,
          28,
          null,
          40,
          32,
          null,
          33,
          24,
          28,
          null,
          37,
          45,
          29,
          29,
          28,
          33,
          34,
          40,
          40,
          28,
          30,
          null,
          33,
          null,
          null,
          null,
          33,
          27,
          null,
          48,
          null,
          null,
          37,
          52,
          44,
          28,
          null,
          14,
          29,
          null,
          36,
          34,
          30,
          40,
          31,
          29,
          null,
          null,
          22,
          null,
          null,
          32,
          null,
          null,
          40,
          52,
          33,
          30,
          36,
          null,
          36,
          32,
          18,
          32,
          null,
          33,
          52,
          36,
          null,
          42,
          17,
          34,
          37,
          null,
          34,
          32,
          33,
          null,
          null,
          44,
          null,
          37,
          null,
          null,
          null,
          46,
          null,
          42,
          28,
          null,
          37,
          35,
          23,
          null,
          22,
          36,
          24,
          37,
          33,
          39,
          null,
          29,
          null,
          33,
          null,
          19,
          null,
          null,
          33,
          24,
          null,
          25,
          null,
          32,
          41,
          30,
          32,
          22,
          26,
          36,
          null,
          39,
          31,
          35,
          35,
          42,
          37,
          27,
          40,
          null,
          null,
          42,
          39,
          27,
          33,
          26,
          34,
          41,
          35,
          null,
          23,
          41,
          34,
          39,
          28,
          30,
          35,
          null,
          31,
          34,
          null,
          34,
          38,
          29,
          30,
          26,
          null,
          15,
          null,
          null,
          24,
          null,
          30,
          25,
          37,
          21,
          24,
          null,
          31,
          43,
          41,
          41,
          41,
          null,
          20,
          null,
          31,
          34,
          43,
          null,
          38,
          36,
          34,
          28,
          36,
          null,
          null,
          38,
          null,
          35,
          26,
          36,
          null,
          31,
          null,
          35,
          null,
          null,
          44,
          26,
          25,
          40,
          28,
          39,
          36,
          31,
          28,
          47,
          40,
          19,
          26,
          null,
          37,
          9
         ],
         "y0": " ",
         "yaxis": "y"
        },
        {
         "alignmentgroup": "True",
         "box": {
          "visible": true
         },
         "hovertemplate": "class=%{x}<br>packed cell volume=%{y}<extra></extra>",
         "legendgroup": "notckd",
         "marker": {
          "color": "#EF553B"
         },
         "name": "notckd",
         "offsetgroup": "notckd",
         "orientation": "v",
         "scalegroup": "True",
         "showlegend": true,
         "type": "violin",
         "x": [
          "notckd",
          "notckd",
          "notckd",
          "notckd",
          "notckd",
          "notckd",
          "notckd",
          "notckd",
          "notckd",
          "notckd",
          "notckd",
          "notckd",
          "notckd",
          "notckd",
          "notckd",
          "notckd",
          "notckd",
          "notckd",
          "notckd",
          "notckd",
          "notckd",
          "notckd",
          "notckd",
          "notckd",
          "notckd",
          "notckd",
          "notckd",
          "notckd",
          "notckd",
          "notckd",
          "notckd",
          "notckd",
          "notckd",
          "notckd",
          "notckd",
          "notckd",
          "notckd",
          "notckd",
          "notckd",
          "notckd",
          "notckd",
          "notckd",
          "notckd",
          "notckd",
          "notckd",
          "notckd",
          "notckd",
          "notckd",
          "notckd",
          "notckd",
          "notckd",
          "notckd",
          "notckd",
          "notckd",
          "notckd",
          "notckd",
          "notckd",
          "notckd",
          "notckd",
          "notckd",
          "notckd",
          "notckd",
          "notckd",
          "notckd",
          "notckd",
          "notckd",
          "notckd",
          "notckd",
          "notckd",
          "notckd",
          "notckd",
          "notckd",
          "notckd",
          "notckd",
          "notckd",
          "notckd",
          "notckd",
          "notckd",
          "notckd",
          "notckd",
          "notckd",
          "notckd",
          "notckd",
          "notckd",
          "notckd",
          "notckd",
          "notckd",
          "notckd",
          "notckd",
          "notckd",
          "notckd",
          "notckd",
          "notckd",
          "notckd",
          "notckd",
          "notckd",
          "notckd",
          "notckd",
          "notckd",
          "notckd",
          "notckd",
          "notckd",
          "notckd",
          "notckd",
          "notckd",
          "notckd",
          "notckd",
          "notckd",
          "notckd",
          "notckd",
          "notckd",
          "notckd",
          "notckd",
          "notckd",
          "notckd",
          "notckd",
          "notckd",
          "notckd",
          "notckd",
          "notckd",
          "notckd",
          "notckd",
          "notckd",
          "notckd",
          "notckd",
          "notckd",
          "notckd",
          "notckd",
          "notckd",
          "notckd",
          "notckd",
          "notckd",
          "notckd",
          "notckd",
          "notckd",
          "notckd",
          "notckd",
          "notckd",
          "notckd",
          "notckd",
          "notckd",
          "notckd",
          "notckd",
          "notckd",
          "notckd",
          "notckd",
          "notckd",
          "notckd",
          "notckd",
          "notckd"
         ],
         "x0": " ",
         "xaxis": "x",
         "y": [
          48,
          52,
          46,
          42,
          49,
          52,
          41,
          46,
          44,
          45,
          45,
          41,
          43,
          45,
          50,
          48,
          41,
          48,
          53,
          48,
          41,
          42,
          42,
          null,
          44,
          43,
          41,
          50,
          44,
          48,
          52,
          41,
          44,
          43,
          52,
          41,
          44,
          43,
          50,
          43,
          52,
          41,
          52,
          48,
          40,
          50,
          41,
          45,
          48,
          52,
          43,
          41,
          48,
          50,
          45,
          41,
          52,
          44,
          48,
          40,
          44,
          45,
          48,
          52,
          41,
          48,
          48,
          40,
          52,
          null,
          44,
          48,
          43,
          45,
          null,
          50,
          41,
          44,
          45,
          48,
          42,
          46,
          44,
          46,
          43,
          48,
          40,
          52,
          44,
          48,
          43,
          41,
          50,
          50,
          42,
          42,
          52,
          43,
          44,
          52,
          43,
          40,
          48,
          51,
          41,
          52,
          47,
          42,
          45,
          53,
          43,
          54,
          40,
          44,
          45,
          null,
          46,
          50,
          45,
          46,
          50,
          51,
          52,
          47,
          40,
          48,
          53,
          49,
          42,
          50,
          54,
          40,
          51,
          49,
          42,
          52,
          43,
          50,
          46,
          52,
          52,
          44,
          46,
          54,
          45,
          47,
          54,
          49,
          51,
          53
         ],
         "y0": " ",
         "yaxis": "y"
        }
       ],
       "layout": {
        "legend": {
         "title": {
          "text": "class"
         },
         "tracegroupgap": 0
        },
        "margin": {
         "t": 60
        },
        "template": {
         "data": {
          "bar": [
           {
            "error_x": {
             "color": "#2a3f5f"
            },
            "error_y": {
             "color": "#2a3f5f"
            },
            "marker": {
             "line": {
              "color": "#E5ECF6",
              "width": 0.5
             }
            },
            "type": "bar"
           }
          ],
          "barpolar": [
           {
            "marker": {
             "line": {
              "color": "#E5ECF6",
              "width": 0.5
             }
            },
            "type": "barpolar"
           }
          ],
          "carpet": [
           {
            "aaxis": {
             "endlinecolor": "#2a3f5f",
             "gridcolor": "white",
             "linecolor": "white",
             "minorgridcolor": "white",
             "startlinecolor": "#2a3f5f"
            },
            "baxis": {
             "endlinecolor": "#2a3f5f",
             "gridcolor": "white",
             "linecolor": "white",
             "minorgridcolor": "white",
             "startlinecolor": "#2a3f5f"
            },
            "type": "carpet"
           }
          ],
          "choropleth": [
           {
            "colorbar": {
             "outlinewidth": 0,
             "ticks": ""
            },
            "type": "choropleth"
           }
          ],
          "contour": [
           {
            "colorbar": {
             "outlinewidth": 0,
             "ticks": ""
            },
            "colorscale": [
             [
              0,
              "#0d0887"
             ],
             [
              0.1111111111111111,
              "#46039f"
             ],
             [
              0.2222222222222222,
              "#7201a8"
             ],
             [
              0.3333333333333333,
              "#9c179e"
             ],
             [
              0.4444444444444444,
              "#bd3786"
             ],
             [
              0.5555555555555556,
              "#d8576b"
             ],
             [
              0.6666666666666666,
              "#ed7953"
             ],
             [
              0.7777777777777778,
              "#fb9f3a"
             ],
             [
              0.8888888888888888,
              "#fdca26"
             ],
             [
              1,
              "#f0f921"
             ]
            ],
            "type": "contour"
           }
          ],
          "contourcarpet": [
           {
            "colorbar": {
             "outlinewidth": 0,
             "ticks": ""
            },
            "type": "contourcarpet"
           }
          ],
          "heatmap": [
           {
            "colorbar": {
             "outlinewidth": 0,
             "ticks": ""
            },
            "colorscale": [
             [
              0,
              "#0d0887"
             ],
             [
              0.1111111111111111,
              "#46039f"
             ],
             [
              0.2222222222222222,
              "#7201a8"
             ],
             [
              0.3333333333333333,
              "#9c179e"
             ],
             [
              0.4444444444444444,
              "#bd3786"
             ],
             [
              0.5555555555555556,
              "#d8576b"
             ],
             [
              0.6666666666666666,
              "#ed7953"
             ],
             [
              0.7777777777777778,
              "#fb9f3a"
             ],
             [
              0.8888888888888888,
              "#fdca26"
             ],
             [
              1,
              "#f0f921"
             ]
            ],
            "type": "heatmap"
           }
          ],
          "heatmapgl": [
           {
            "colorbar": {
             "outlinewidth": 0,
             "ticks": ""
            },
            "colorscale": [
             [
              0,
              "#0d0887"
             ],
             [
              0.1111111111111111,
              "#46039f"
             ],
             [
              0.2222222222222222,
              "#7201a8"
             ],
             [
              0.3333333333333333,
              "#9c179e"
             ],
             [
              0.4444444444444444,
              "#bd3786"
             ],
             [
              0.5555555555555556,
              "#d8576b"
             ],
             [
              0.6666666666666666,
              "#ed7953"
             ],
             [
              0.7777777777777778,
              "#fb9f3a"
             ],
             [
              0.8888888888888888,
              "#fdca26"
             ],
             [
              1,
              "#f0f921"
             ]
            ],
            "type": "heatmapgl"
           }
          ],
          "histogram": [
           {
            "marker": {
             "colorbar": {
              "outlinewidth": 0,
              "ticks": ""
             }
            },
            "type": "histogram"
           }
          ],
          "histogram2d": [
           {
            "colorbar": {
             "outlinewidth": 0,
             "ticks": ""
            },
            "colorscale": [
             [
              0,
              "#0d0887"
             ],
             [
              0.1111111111111111,
              "#46039f"
             ],
             [
              0.2222222222222222,
              "#7201a8"
             ],
             [
              0.3333333333333333,
              "#9c179e"
             ],
             [
              0.4444444444444444,
              "#bd3786"
             ],
             [
              0.5555555555555556,
              "#d8576b"
             ],
             [
              0.6666666666666666,
              "#ed7953"
             ],
             [
              0.7777777777777778,
              "#fb9f3a"
             ],
             [
              0.8888888888888888,
              "#fdca26"
             ],
             [
              1,
              "#f0f921"
             ]
            ],
            "type": "histogram2d"
           }
          ],
          "histogram2dcontour": [
           {
            "colorbar": {
             "outlinewidth": 0,
             "ticks": ""
            },
            "colorscale": [
             [
              0,
              "#0d0887"
             ],
             [
              0.1111111111111111,
              "#46039f"
             ],
             [
              0.2222222222222222,
              "#7201a8"
             ],
             [
              0.3333333333333333,
              "#9c179e"
             ],
             [
              0.4444444444444444,
              "#bd3786"
             ],
             [
              0.5555555555555556,
              "#d8576b"
             ],
             [
              0.6666666666666666,
              "#ed7953"
             ],
             [
              0.7777777777777778,
              "#fb9f3a"
             ],
             [
              0.8888888888888888,
              "#fdca26"
             ],
             [
              1,
              "#f0f921"
             ]
            ],
            "type": "histogram2dcontour"
           }
          ],
          "mesh3d": [
           {
            "colorbar": {
             "outlinewidth": 0,
             "ticks": ""
            },
            "type": "mesh3d"
           }
          ],
          "parcoords": [
           {
            "line": {
             "colorbar": {
              "outlinewidth": 0,
              "ticks": ""
             }
            },
            "type": "parcoords"
           }
          ],
          "pie": [
           {
            "automargin": true,
            "type": "pie"
           }
          ],
          "scatter": [
           {
            "marker": {
             "colorbar": {
              "outlinewidth": 0,
              "ticks": ""
             }
            },
            "type": "scatter"
           }
          ],
          "scatter3d": [
           {
            "line": {
             "colorbar": {
              "outlinewidth": 0,
              "ticks": ""
             }
            },
            "marker": {
             "colorbar": {
              "outlinewidth": 0,
              "ticks": ""
             }
            },
            "type": "scatter3d"
           }
          ],
          "scattercarpet": [
           {
            "marker": {
             "colorbar": {
              "outlinewidth": 0,
              "ticks": ""
             }
            },
            "type": "scattercarpet"
           }
          ],
          "scattergeo": [
           {
            "marker": {
             "colorbar": {
              "outlinewidth": 0,
              "ticks": ""
             }
            },
            "type": "scattergeo"
           }
          ],
          "scattergl": [
           {
            "marker": {
             "colorbar": {
              "outlinewidth": 0,
              "ticks": ""
             }
            },
            "type": "scattergl"
           }
          ],
          "scattermapbox": [
           {
            "marker": {
             "colorbar": {
              "outlinewidth": 0,
              "ticks": ""
             }
            },
            "type": "scattermapbox"
           }
          ],
          "scatterpolar": [
           {
            "marker": {
             "colorbar": {
              "outlinewidth": 0,
              "ticks": ""
             }
            },
            "type": "scatterpolar"
           }
          ],
          "scatterpolargl": [
           {
            "marker": {
             "colorbar": {
              "outlinewidth": 0,
              "ticks": ""
             }
            },
            "type": "scatterpolargl"
           }
          ],
          "scatterternary": [
           {
            "marker": {
             "colorbar": {
              "outlinewidth": 0,
              "ticks": ""
             }
            },
            "type": "scatterternary"
           }
          ],
          "surface": [
           {
            "colorbar": {
             "outlinewidth": 0,
             "ticks": ""
            },
            "colorscale": [
             [
              0,
              "#0d0887"
             ],
             [
              0.1111111111111111,
              "#46039f"
             ],
             [
              0.2222222222222222,
              "#7201a8"
             ],
             [
              0.3333333333333333,
              "#9c179e"
             ],
             [
              0.4444444444444444,
              "#bd3786"
             ],
             [
              0.5555555555555556,
              "#d8576b"
             ],
             [
              0.6666666666666666,
              "#ed7953"
             ],
             [
              0.7777777777777778,
              "#fb9f3a"
             ],
             [
              0.8888888888888888,
              "#fdca26"
             ],
             [
              1,
              "#f0f921"
             ]
            ],
            "type": "surface"
           }
          ],
          "table": [
           {
            "cells": {
             "fill": {
              "color": "#EBF0F8"
             },
             "line": {
              "color": "white"
             }
            },
            "header": {
             "fill": {
              "color": "#C8D4E3"
             },
             "line": {
              "color": "white"
             }
            },
            "type": "table"
           }
          ]
         },
         "layout": {
          "annotationdefaults": {
           "arrowcolor": "#2a3f5f",
           "arrowhead": 0,
           "arrowwidth": 1
          },
          "autotypenumbers": "strict",
          "coloraxis": {
           "colorbar": {
            "outlinewidth": 0,
            "ticks": ""
           }
          },
          "colorscale": {
           "diverging": [
            [
             0,
             "#8e0152"
            ],
            [
             0.1,
             "#c51b7d"
            ],
            [
             0.2,
             "#de77ae"
            ],
            [
             0.3,
             "#f1b6da"
            ],
            [
             0.4,
             "#fde0ef"
            ],
            [
             0.5,
             "#f7f7f7"
            ],
            [
             0.6,
             "#e6f5d0"
            ],
            [
             0.7,
             "#b8e186"
            ],
            [
             0.8,
             "#7fbc41"
            ],
            [
             0.9,
             "#4d9221"
            ],
            [
             1,
             "#276419"
            ]
           ],
           "sequential": [
            [
             0,
             "#0d0887"
            ],
            [
             0.1111111111111111,
             "#46039f"
            ],
            [
             0.2222222222222222,
             "#7201a8"
            ],
            [
             0.3333333333333333,
             "#9c179e"
            ],
            [
             0.4444444444444444,
             "#bd3786"
            ],
            [
             0.5555555555555556,
             "#d8576b"
            ],
            [
             0.6666666666666666,
             "#ed7953"
            ],
            [
             0.7777777777777778,
             "#fb9f3a"
            ],
            [
             0.8888888888888888,
             "#fdca26"
            ],
            [
             1,
             "#f0f921"
            ]
           ],
           "sequentialminus": [
            [
             0,
             "#0d0887"
            ],
            [
             0.1111111111111111,
             "#46039f"
            ],
            [
             0.2222222222222222,
             "#7201a8"
            ],
            [
             0.3333333333333333,
             "#9c179e"
            ],
            [
             0.4444444444444444,
             "#bd3786"
            ],
            [
             0.5555555555555556,
             "#d8576b"
            ],
            [
             0.6666666666666666,
             "#ed7953"
            ],
            [
             0.7777777777777778,
             "#fb9f3a"
            ],
            [
             0.8888888888888888,
             "#fdca26"
            ],
            [
             1,
             "#f0f921"
            ]
           ]
          },
          "colorway": [
           "#636efa",
           "#EF553B",
           "#00cc96",
           "#ab63fa",
           "#FFA15A",
           "#19d3f3",
           "#FF6692",
           "#B6E880",
           "#FF97FF",
           "#FECB52"
          ],
          "font": {
           "color": "#2a3f5f"
          },
          "geo": {
           "bgcolor": "white",
           "lakecolor": "white",
           "landcolor": "#E5ECF6",
           "showlakes": true,
           "showland": true,
           "subunitcolor": "white"
          },
          "hoverlabel": {
           "align": "left"
          },
          "hovermode": "closest",
          "mapbox": {
           "style": "light"
          },
          "paper_bgcolor": "white",
          "plot_bgcolor": "#E5ECF6",
          "polar": {
           "angularaxis": {
            "gridcolor": "white",
            "linecolor": "white",
            "ticks": ""
           },
           "bgcolor": "#E5ECF6",
           "radialaxis": {
            "gridcolor": "white",
            "linecolor": "white",
            "ticks": ""
           }
          },
          "scene": {
           "xaxis": {
            "backgroundcolor": "#E5ECF6",
            "gridcolor": "white",
            "gridwidth": 2,
            "linecolor": "white",
            "showbackground": true,
            "ticks": "",
            "zerolinecolor": "white"
           },
           "yaxis": {
            "backgroundcolor": "#E5ECF6",
            "gridcolor": "white",
            "gridwidth": 2,
            "linecolor": "white",
            "showbackground": true,
            "ticks": "",
            "zerolinecolor": "white"
           },
           "zaxis": {
            "backgroundcolor": "#E5ECF6",
            "gridcolor": "white",
            "gridwidth": 2,
            "linecolor": "white",
            "showbackground": true,
            "ticks": "",
            "zerolinecolor": "white"
           }
          },
          "shapedefaults": {
           "line": {
            "color": "#2a3f5f"
           }
          },
          "ternary": {
           "aaxis": {
            "gridcolor": "white",
            "linecolor": "white",
            "ticks": ""
           },
           "baxis": {
            "gridcolor": "white",
            "linecolor": "white",
            "ticks": ""
           },
           "bgcolor": "#E5ECF6",
           "caxis": {
            "gridcolor": "white",
            "linecolor": "white",
            "ticks": ""
           }
          },
          "title": {
           "x": 0.05
          },
          "xaxis": {
           "automargin": true,
           "gridcolor": "white",
           "linecolor": "white",
           "ticks": "",
           "title": {
            "standoff": 15
           },
           "zerolinecolor": "white",
           "zerolinewidth": 2
          },
          "yaxis": {
           "automargin": true,
           "gridcolor": "white",
           "linecolor": "white",
           "ticks": "",
           "title": {
            "standoff": 15
           },
           "zerolinecolor": "white",
           "zerolinewidth": 2
          }
         }
        },
        "violinmode": "overlay",
        "xaxis": {
         "anchor": "y",
         "categoryarray": [
          "ckd",
          "notckd"
         ],
         "categoryorder": "array",
         "domain": [
          0,
          1
         ],
         "title": {
          "text": "class"
         }
        },
        "yaxis": {
         "anchor": "x",
         "domain": [
          0,
          1
         ],
         "title": {
          "text": "packed cell volume"
         }
        }
       }
      },
      "text/html": [
       "<div>                            <div id=\"dadcaaa8-96ab-4475-9b61-dab57d597a6d\" class=\"plotly-graph-div\" style=\"height:525px; width:100%;\"></div>            <script type=\"text/javascript\">                require([\"plotly\"], function(Plotly) {                    window.PLOTLYENV=window.PLOTLYENV || {};                                    if (document.getElementById(\"dadcaaa8-96ab-4475-9b61-dab57d597a6d\")) {                    Plotly.newPlot(                        \"dadcaaa8-96ab-4475-9b61-dab57d597a6d\",                        [{\"alignmentgroup\": \"True\", \"box\": {\"visible\": true}, \"hovertemplate\": \"class=%{x}<br>packed cell volume=%{y}<extra></extra>\", \"legendgroup\": \"ckd\", \"marker\": {\"color\": \"#636efa\"}, \"name\": \"ckd\", \"offsetgroup\": \"ckd\", \"orientation\": \"v\", \"scalegroup\": \"True\", \"showlegend\": true, \"type\": \"violin\", \"x\": [\"ckd\", \"ckd\", \"ckd\", \"ckd\", \"ckd\", \"ckd\", \"ckd\", \"ckd\", \"ckd\", \"ckd\", \"ckd\", \"ckd\", \"ckd\", \"ckd\", \"ckd\", \"ckd\", \"ckd\", \"ckd\", \"ckd\", \"ckd\", \"ckd\", \"ckd\", \"ckd\", \"ckd\", \"ckd\", \"ckd\", \"ckd\", \"ckd\", \"ckd\", \"ckd\", \"ckd\", \"ckd\", \"ckd\", \"ckd\", \"ckd\", \"ckd\", \"ckd\", \"ckd\", \"ckd\", \"ckd\", \"ckd\", \"ckd\", \"ckd\", \"ckd\", \"ckd\", \"ckd\", \"ckd\", \"ckd\", \"ckd\", \"ckd\", \"ckd\", \"ckd\", \"ckd\", \"ckd\", \"ckd\", \"ckd\", \"ckd\", \"ckd\", \"ckd\", \"ckd\", \"ckd\", \"ckd\", \"ckd\", \"ckd\", \"ckd\", \"ckd\", \"ckd\", \"ckd\", \"ckd\", \"ckd\", \"ckd\", \"ckd\", \"ckd\", \"ckd\", \"ckd\", \"ckd\", \"ckd\", \"ckd\", \"ckd\", \"ckd\", \"ckd\", \"ckd\", \"ckd\", \"ckd\", \"ckd\", \"ckd\", \"ckd\", \"ckd\", \"ckd\", \"ckd\", \"ckd\", \"ckd\", \"ckd\", \"ckd\", \"ckd\", \"ckd\", \"ckd\", \"ckd\", \"ckd\", \"ckd\", \"ckd\", \"ckd\", \"ckd\", \"ckd\", \"ckd\", \"ckd\", \"ckd\", \"ckd\", \"ckd\", \"ckd\", \"ckd\", \"ckd\", \"ckd\", \"ckd\", \"ckd\", \"ckd\", \"ckd\", \"ckd\", \"ckd\", \"ckd\", \"ckd\", \"ckd\", \"ckd\", \"ckd\", \"ckd\", \"ckd\", \"ckd\", \"ckd\", \"ckd\", \"ckd\", \"ckd\", \"ckd\", \"ckd\", \"ckd\", \"ckd\", \"ckd\", \"ckd\", \"ckd\", \"ckd\", \"ckd\", \"ckd\", \"ckd\", \"ckd\", \"ckd\", \"ckd\", \"ckd\", \"ckd\", \"ckd\", \"ckd\", \"ckd\", \"ckd\", \"ckd\", \"ckd\", \"ckd\", \"ckd\", \"ckd\", \"ckd\", \"ckd\", \"ckd\", \"ckd\", \"ckd\", \"ckd\", \"ckd\", \"ckd\", \"ckd\", \"ckd\", \"ckd\", \"ckd\", \"ckd\", \"ckd\", \"ckd\", \"ckd\", \"ckd\", \"ckd\", \"ckd\", \"ckd\", \"ckd\", \"ckd\", \"ckd\", \"ckd\", \"ckd\", \"ckd\", \"ckd\", \"ckd\", \"ckd\", \"ckd\", \"ckd\", \"ckd\", \"ckd\", \"ckd\", \"ckd\", \"ckd\", \"ckd\", \"ckd\", \"ckd\", \"ckd\", \"ckd\", \"ckd\", \"ckd\", \"ckd\", \"ckd\", \"ckd\", \"ckd\", \"ckd\", \"ckd\", \"ckd\", \"ckd\", \"ckd\", \"ckd\", \"ckd\", \"ckd\", \"ckd\", \"ckd\", \"ckd\", \"ckd\", \"ckd\", \"ckd\", \"ckd\", \"ckd\", \"ckd\", \"ckd\", \"ckd\", \"ckd\", \"ckd\", \"ckd\", \"ckd\", \"ckd\", \"ckd\", \"ckd\", \"ckd\", \"ckd\", \"ckd\", \"ckd\", \"ckd\", \"ckd\", \"ckd\", \"ckd\", \"ckd\", \"ckd\", \"ckd\", \"ckd\", \"ckd\", \"ckd\", \"ckd\", \"ckd\", \"ckd\", \"ckd\", \"ckd\", \"ckd\", \"ckd\"], \"x0\": \" \", \"xaxis\": \"x\", \"y\": [44.0, 38.0, 31.0, 32.0, 35.0, 39.0, 36.0, 44.0, 33.0, 29.0, 28.0, 32.0, 28.0, null, 16.0, 24.0, null, null, 37.0, 30.0, 24.0, 32.0, 32.0, null, 39.0, 29.0, 35.0, 37.0, null, 38.0, null, 30.0, 34.0, 29.0, null, 36.0, 32.0, 28.0, null, 40.0, 32.0, null, 33.0, 24.0, 28.0, null, 37.0, 45.0, 29.0, 29.0, 28.0, 33.0, 34.0, 40.0, 40.0, 28.0, 30.0, null, 33.0, null, null, null, 33.0, 27.0, null, 48.0, null, null, 37.0, 52.0, 44.0, 28.0, null, 14.0, 29.0, null, 36.0, 34.0, 30.0, 40.0, 31.0, 29.0, null, null, 22.0, null, null, 32.0, null, null, 40.0, 52.0, 33.0, 30.0, 36.0, null, 36.0, 32.0, 18.0, 32.0, null, 33.0, 52.0, 36.0, null, 42.0, 17.0, 34.0, 37.0, null, 34.0, 32.0, 33.0, null, null, 44.0, null, 37.0, null, null, null, 46.0, null, 42.0, 28.0, null, 37.0, 35.0, 23.0, null, 22.0, 36.0, 24.0, 37.0, 33.0, 39.0, null, 29.0, null, 33.0, null, 19.0, null, null, 33.0, 24.0, null, 25.0, null, 32.0, 41.0, 30.0, 32.0, 22.0, 26.0, 36.0, null, 39.0, 31.0, 35.0, 35.0, 42.0, 37.0, 27.0, 40.0, null, null, 42.0, 39.0, 27.0, 33.0, 26.0, 34.0, 41.0, 35.0, null, 23.0, 41.0, 34.0, 39.0, 28.0, 30.0, 35.0, null, 31.0, 34.0, null, 34.0, 38.0, 29.0, 30.0, 26.0, null, 15.0, null, null, 24.0, null, 30.0, 25.0, 37.0, 21.0, 24.0, null, 31.0, 43.0, 41.0, 41.0, 41.0, null, 20.0, null, 31.0, 34.0, 43.0, null, 38.0, 36.0, 34.0, 28.0, 36.0, null, null, 38.0, null, 35.0, 26.0, 36.0, null, 31.0, null, 35.0, null, null, 44.0, 26.0, 25.0, 40.0, 28.0, 39.0, 36.0, 31.0, 28.0, 47.0, 40.0, 19.0, 26.0, null, 37.0, 9.0], \"y0\": \" \", \"yaxis\": \"y\"}, {\"alignmentgroup\": \"True\", \"box\": {\"visible\": true}, \"hovertemplate\": \"class=%{x}<br>packed cell volume=%{y}<extra></extra>\", \"legendgroup\": \"notckd\", \"marker\": {\"color\": \"#EF553B\"}, \"name\": \"notckd\", \"offsetgroup\": \"notckd\", \"orientation\": \"v\", \"scalegroup\": \"True\", \"showlegend\": true, \"type\": \"violin\", \"x\": [\"notckd\", \"notckd\", \"notckd\", \"notckd\", \"notckd\", \"notckd\", \"notckd\", \"notckd\", \"notckd\", \"notckd\", \"notckd\", \"notckd\", \"notckd\", \"notckd\", \"notckd\", \"notckd\", \"notckd\", \"notckd\", \"notckd\", \"notckd\", \"notckd\", \"notckd\", \"notckd\", \"notckd\", \"notckd\", \"notckd\", \"notckd\", \"notckd\", \"notckd\", \"notckd\", \"notckd\", \"notckd\", \"notckd\", \"notckd\", \"notckd\", \"notckd\", \"notckd\", \"notckd\", \"notckd\", \"notckd\", \"notckd\", \"notckd\", \"notckd\", \"notckd\", \"notckd\", \"notckd\", \"notckd\", \"notckd\", \"notckd\", \"notckd\", \"notckd\", \"notckd\", \"notckd\", \"notckd\", \"notckd\", \"notckd\", \"notckd\", \"notckd\", \"notckd\", \"notckd\", \"notckd\", \"notckd\", \"notckd\", \"notckd\", \"notckd\", \"notckd\", \"notckd\", \"notckd\", \"notckd\", \"notckd\", \"notckd\", \"notckd\", \"notckd\", \"notckd\", \"notckd\", \"notckd\", \"notckd\", \"notckd\", \"notckd\", \"notckd\", \"notckd\", \"notckd\", \"notckd\", \"notckd\", \"notckd\", \"notckd\", \"notckd\", \"notckd\", \"notckd\", \"notckd\", \"notckd\", \"notckd\", \"notckd\", \"notckd\", \"notckd\", \"notckd\", \"notckd\", \"notckd\", \"notckd\", \"notckd\", \"notckd\", \"notckd\", \"notckd\", \"notckd\", \"notckd\", \"notckd\", \"notckd\", \"notckd\", \"notckd\", \"notckd\", \"notckd\", \"notckd\", \"notckd\", \"notckd\", \"notckd\", \"notckd\", \"notckd\", \"notckd\", \"notckd\", \"notckd\", \"notckd\", \"notckd\", \"notckd\", \"notckd\", \"notckd\", \"notckd\", \"notckd\", \"notckd\", \"notckd\", \"notckd\", \"notckd\", \"notckd\", \"notckd\", \"notckd\", \"notckd\", \"notckd\", \"notckd\", \"notckd\", \"notckd\", \"notckd\", \"notckd\", \"notckd\", \"notckd\", \"notckd\", \"notckd\", \"notckd\", \"notckd\", \"notckd\", \"notckd\", \"notckd\"], \"x0\": \" \", \"xaxis\": \"x\", \"y\": [48.0, 52.0, 46.0, 42.0, 49.0, 52.0, 41.0, 46.0, 44.0, 45.0, 45.0, 41.0, 43.0, 45.0, 50.0, 48.0, 41.0, 48.0, 53.0, 48.0, 41.0, 42.0, 42.0, null, 44.0, 43.0, 41.0, 50.0, 44.0, 48.0, 52.0, 41.0, 44.0, 43.0, 52.0, 41.0, 44.0, 43.0, 50.0, 43.0, 52.0, 41.0, 52.0, 48.0, 40.0, 50.0, 41.0, 45.0, 48.0, 52.0, 43.0, 41.0, 48.0, 50.0, 45.0, 41.0, 52.0, 44.0, 48.0, 40.0, 44.0, 45.0, 48.0, 52.0, 41.0, 48.0, 48.0, 40.0, 52.0, null, 44.0, 48.0, 43.0, 45.0, null, 50.0, 41.0, 44.0, 45.0, 48.0, 42.0, 46.0, 44.0, 46.0, 43.0, 48.0, 40.0, 52.0, 44.0, 48.0, 43.0, 41.0, 50.0, 50.0, 42.0, 42.0, 52.0, 43.0, 44.0, 52.0, 43.0, 40.0, 48.0, 51.0, 41.0, 52.0, 47.0, 42.0, 45.0, 53.0, 43.0, 54.0, 40.0, 44.0, 45.0, null, 46.0, 50.0, 45.0, 46.0, 50.0, 51.0, 52.0, 47.0, 40.0, 48.0, 53.0, 49.0, 42.0, 50.0, 54.0, 40.0, 51.0, 49.0, 42.0, 52.0, 43.0, 50.0, 46.0, 52.0, 52.0, 44.0, 46.0, 54.0, 45.0, 47.0, 54.0, 49.0, 51.0, 53.0], \"y0\": \" \", \"yaxis\": \"y\"}],                        {\"legend\": {\"title\": {\"text\": \"class\"}, \"tracegroupgap\": 0}, \"margin\": {\"t\": 60}, \"template\": {\"data\": {\"bar\": [{\"error_x\": {\"color\": \"#2a3f5f\"}, \"error_y\": {\"color\": \"#2a3f5f\"}, \"marker\": {\"line\": {\"color\": \"#E5ECF6\", \"width\": 0.5}}, \"type\": \"bar\"}], \"barpolar\": [{\"marker\": {\"line\": {\"color\": \"#E5ECF6\", \"width\": 0.5}}, \"type\": \"barpolar\"}], \"carpet\": [{\"aaxis\": {\"endlinecolor\": \"#2a3f5f\", \"gridcolor\": \"white\", \"linecolor\": \"white\", \"minorgridcolor\": \"white\", \"startlinecolor\": \"#2a3f5f\"}, \"baxis\": {\"endlinecolor\": \"#2a3f5f\", \"gridcolor\": \"white\", \"linecolor\": \"white\", \"minorgridcolor\": \"white\", \"startlinecolor\": \"#2a3f5f\"}, \"type\": \"carpet\"}], \"choropleth\": [{\"colorbar\": {\"outlinewidth\": 0, \"ticks\": \"\"}, \"type\": \"choropleth\"}], \"contour\": [{\"colorbar\": {\"outlinewidth\": 0, \"ticks\": \"\"}, \"colorscale\": [[0.0, \"#0d0887\"], [0.1111111111111111, \"#46039f\"], [0.2222222222222222, \"#7201a8\"], [0.3333333333333333, \"#9c179e\"], [0.4444444444444444, \"#bd3786\"], [0.5555555555555556, \"#d8576b\"], [0.6666666666666666, \"#ed7953\"], [0.7777777777777778, \"#fb9f3a\"], [0.8888888888888888, \"#fdca26\"], [1.0, \"#f0f921\"]], \"type\": \"contour\"}], \"contourcarpet\": [{\"colorbar\": {\"outlinewidth\": 0, \"ticks\": \"\"}, \"type\": \"contourcarpet\"}], \"heatmap\": [{\"colorbar\": {\"outlinewidth\": 0, \"ticks\": \"\"}, \"colorscale\": [[0.0, \"#0d0887\"], [0.1111111111111111, \"#46039f\"], [0.2222222222222222, \"#7201a8\"], [0.3333333333333333, \"#9c179e\"], [0.4444444444444444, \"#bd3786\"], [0.5555555555555556, \"#d8576b\"], [0.6666666666666666, \"#ed7953\"], [0.7777777777777778, \"#fb9f3a\"], [0.8888888888888888, \"#fdca26\"], [1.0, \"#f0f921\"]], \"type\": \"heatmap\"}], \"heatmapgl\": [{\"colorbar\": {\"outlinewidth\": 0, \"ticks\": \"\"}, \"colorscale\": [[0.0, \"#0d0887\"], [0.1111111111111111, \"#46039f\"], [0.2222222222222222, \"#7201a8\"], [0.3333333333333333, \"#9c179e\"], [0.4444444444444444, \"#bd3786\"], [0.5555555555555556, \"#d8576b\"], [0.6666666666666666, \"#ed7953\"], [0.7777777777777778, \"#fb9f3a\"], [0.8888888888888888, \"#fdca26\"], [1.0, \"#f0f921\"]], \"type\": \"heatmapgl\"}], \"histogram\": [{\"marker\": {\"colorbar\": {\"outlinewidth\": 0, \"ticks\": \"\"}}, \"type\": \"histogram\"}], \"histogram2d\": [{\"colorbar\": {\"outlinewidth\": 0, \"ticks\": \"\"}, \"colorscale\": [[0.0, \"#0d0887\"], [0.1111111111111111, \"#46039f\"], [0.2222222222222222, \"#7201a8\"], [0.3333333333333333, \"#9c179e\"], [0.4444444444444444, \"#bd3786\"], [0.5555555555555556, \"#d8576b\"], [0.6666666666666666, \"#ed7953\"], [0.7777777777777778, \"#fb9f3a\"], [0.8888888888888888, \"#fdca26\"], [1.0, \"#f0f921\"]], \"type\": \"histogram2d\"}], \"histogram2dcontour\": [{\"colorbar\": {\"outlinewidth\": 0, \"ticks\": \"\"}, \"colorscale\": [[0.0, \"#0d0887\"], [0.1111111111111111, \"#46039f\"], [0.2222222222222222, \"#7201a8\"], [0.3333333333333333, \"#9c179e\"], [0.4444444444444444, \"#bd3786\"], [0.5555555555555556, \"#d8576b\"], [0.6666666666666666, \"#ed7953\"], [0.7777777777777778, \"#fb9f3a\"], [0.8888888888888888, \"#fdca26\"], [1.0, \"#f0f921\"]], \"type\": \"histogram2dcontour\"}], \"mesh3d\": [{\"colorbar\": {\"outlinewidth\": 0, \"ticks\": \"\"}, \"type\": \"mesh3d\"}], \"parcoords\": [{\"line\": {\"colorbar\": {\"outlinewidth\": 0, \"ticks\": \"\"}}, \"type\": \"parcoords\"}], \"pie\": [{\"automargin\": true, \"type\": \"pie\"}], \"scatter\": [{\"marker\": {\"colorbar\": {\"outlinewidth\": 0, \"ticks\": \"\"}}, \"type\": \"scatter\"}], \"scatter3d\": [{\"line\": {\"colorbar\": {\"outlinewidth\": 0, \"ticks\": \"\"}}, \"marker\": {\"colorbar\": {\"outlinewidth\": 0, \"ticks\": \"\"}}, \"type\": \"scatter3d\"}], \"scattercarpet\": [{\"marker\": {\"colorbar\": {\"outlinewidth\": 0, \"ticks\": \"\"}}, \"type\": \"scattercarpet\"}], \"scattergeo\": [{\"marker\": {\"colorbar\": {\"outlinewidth\": 0, \"ticks\": \"\"}}, \"type\": \"scattergeo\"}], \"scattergl\": [{\"marker\": {\"colorbar\": {\"outlinewidth\": 0, \"ticks\": \"\"}}, \"type\": \"scattergl\"}], \"scattermapbox\": [{\"marker\": {\"colorbar\": {\"outlinewidth\": 0, \"ticks\": \"\"}}, \"type\": \"scattermapbox\"}], \"scatterpolar\": [{\"marker\": {\"colorbar\": {\"outlinewidth\": 0, \"ticks\": \"\"}}, \"type\": \"scatterpolar\"}], \"scatterpolargl\": [{\"marker\": {\"colorbar\": {\"outlinewidth\": 0, \"ticks\": \"\"}}, \"type\": \"scatterpolargl\"}], \"scatterternary\": [{\"marker\": {\"colorbar\": {\"outlinewidth\": 0, \"ticks\": \"\"}}, \"type\": \"scatterternary\"}], \"surface\": [{\"colorbar\": {\"outlinewidth\": 0, \"ticks\": \"\"}, \"colorscale\": [[0.0, \"#0d0887\"], [0.1111111111111111, \"#46039f\"], [0.2222222222222222, \"#7201a8\"], [0.3333333333333333, \"#9c179e\"], [0.4444444444444444, \"#bd3786\"], [0.5555555555555556, \"#d8576b\"], [0.6666666666666666, \"#ed7953\"], [0.7777777777777778, \"#fb9f3a\"], [0.8888888888888888, \"#fdca26\"], [1.0, \"#f0f921\"]], \"type\": \"surface\"}], \"table\": [{\"cells\": {\"fill\": {\"color\": \"#EBF0F8\"}, \"line\": {\"color\": \"white\"}}, \"header\": {\"fill\": {\"color\": \"#C8D4E3\"}, \"line\": {\"color\": \"white\"}}, \"type\": \"table\"}]}, \"layout\": {\"annotationdefaults\": {\"arrowcolor\": \"#2a3f5f\", \"arrowhead\": 0, \"arrowwidth\": 1}, \"autotypenumbers\": \"strict\", \"coloraxis\": {\"colorbar\": {\"outlinewidth\": 0, \"ticks\": \"\"}}, \"colorscale\": {\"diverging\": [[0, \"#8e0152\"], [0.1, \"#c51b7d\"], [0.2, \"#de77ae\"], [0.3, \"#f1b6da\"], [0.4, \"#fde0ef\"], [0.5, \"#f7f7f7\"], [0.6, \"#e6f5d0\"], [0.7, \"#b8e186\"], [0.8, \"#7fbc41\"], [0.9, \"#4d9221\"], [1, \"#276419\"]], \"sequential\": [[0.0, \"#0d0887\"], [0.1111111111111111, \"#46039f\"], [0.2222222222222222, \"#7201a8\"], [0.3333333333333333, \"#9c179e\"], [0.4444444444444444, \"#bd3786\"], [0.5555555555555556, \"#d8576b\"], [0.6666666666666666, \"#ed7953\"], [0.7777777777777778, \"#fb9f3a\"], [0.8888888888888888, \"#fdca26\"], [1.0, \"#f0f921\"]], \"sequentialminus\": [[0.0, \"#0d0887\"], [0.1111111111111111, \"#46039f\"], [0.2222222222222222, \"#7201a8\"], [0.3333333333333333, \"#9c179e\"], [0.4444444444444444, \"#bd3786\"], [0.5555555555555556, \"#d8576b\"], [0.6666666666666666, \"#ed7953\"], [0.7777777777777778, \"#fb9f3a\"], [0.8888888888888888, \"#fdca26\"], [1.0, \"#f0f921\"]]}, \"colorway\": [\"#636efa\", \"#EF553B\", \"#00cc96\", \"#ab63fa\", \"#FFA15A\", \"#19d3f3\", \"#FF6692\", \"#B6E880\", \"#FF97FF\", \"#FECB52\"], \"font\": {\"color\": \"#2a3f5f\"}, \"geo\": {\"bgcolor\": \"white\", \"lakecolor\": \"white\", \"landcolor\": \"#E5ECF6\", \"showlakes\": true, \"showland\": true, \"subunitcolor\": \"white\"}, \"hoverlabel\": {\"align\": \"left\"}, \"hovermode\": \"closest\", \"mapbox\": {\"style\": \"light\"}, \"paper_bgcolor\": \"white\", \"plot_bgcolor\": \"#E5ECF6\", \"polar\": {\"angularaxis\": {\"gridcolor\": \"white\", \"linecolor\": \"white\", \"ticks\": \"\"}, \"bgcolor\": \"#E5ECF6\", \"radialaxis\": {\"gridcolor\": \"white\", \"linecolor\": \"white\", \"ticks\": \"\"}}, \"scene\": {\"xaxis\": {\"backgroundcolor\": \"#E5ECF6\", \"gridcolor\": \"white\", \"gridwidth\": 2, \"linecolor\": \"white\", \"showbackground\": true, \"ticks\": \"\", \"zerolinecolor\": \"white\"}, \"yaxis\": {\"backgroundcolor\": \"#E5ECF6\", \"gridcolor\": \"white\", \"gridwidth\": 2, \"linecolor\": \"white\", \"showbackground\": true, \"ticks\": \"\", \"zerolinecolor\": \"white\"}, \"zaxis\": {\"backgroundcolor\": \"#E5ECF6\", \"gridcolor\": \"white\", \"gridwidth\": 2, \"linecolor\": \"white\", \"showbackground\": true, \"ticks\": \"\", \"zerolinecolor\": \"white\"}}, \"shapedefaults\": {\"line\": {\"color\": \"#2a3f5f\"}}, \"ternary\": {\"aaxis\": {\"gridcolor\": \"white\", \"linecolor\": \"white\", \"ticks\": \"\"}, \"baxis\": {\"gridcolor\": \"white\", \"linecolor\": \"white\", \"ticks\": \"\"}, \"bgcolor\": \"#E5ECF6\", \"caxis\": {\"gridcolor\": \"white\", \"linecolor\": \"white\", \"ticks\": \"\"}}, \"title\": {\"x\": 0.05}, \"xaxis\": {\"automargin\": true, \"gridcolor\": \"white\", \"linecolor\": \"white\", \"ticks\": \"\", \"title\": {\"standoff\": 15}, \"zerolinecolor\": \"white\", \"zerolinewidth\": 2}, \"yaxis\": {\"automargin\": true, \"gridcolor\": \"white\", \"linecolor\": \"white\", \"ticks\": \"\", \"title\": {\"standoff\": 15}, \"zerolinecolor\": \"white\", \"zerolinewidth\": 2}}}, \"violinmode\": \"overlay\", \"xaxis\": {\"anchor\": \"y\", \"categoryarray\": [\"ckd\", \"notckd\"], \"categoryorder\": \"array\", \"domain\": [0.0, 1.0], \"title\": {\"text\": \"class\"}}, \"yaxis\": {\"anchor\": \"x\", \"domain\": [0.0, 1.0], \"title\": {\"text\": \"packed cell volume\"}}},                        {\"responsive\": true}                    ).then(function(){\n",
       "                            \n",
       "var gd = document.getElementById('dadcaaa8-96ab-4475-9b61-dab57d597a6d');\n",
       "var x = new MutationObserver(function (mutations, observer) {{\n",
       "        var display = window.getComputedStyle(gd).display;\n",
       "        if (!display || display === 'none') {{\n",
       "            console.log([gd, 'removed!']);\n",
       "            Plotly.purge(gd);\n",
       "            observer.disconnect();\n",
       "        }}\n",
       "}});\n",
       "\n",
       "// Listen for the removal of the full notebook cells\n",
       "var notebookContainer = gd.closest('#notebook-container');\n",
       "if (notebookContainer) {{\n",
       "    x.observe(notebookContainer, {childList: true});\n",
       "}}\n",
       "\n",
       "// Listen for the clearing of the current output cell\n",
       "var outputEl = gd.closest('.output');\n",
       "if (outputEl) {{\n",
       "    x.observe(outputEl, {childList: true});\n",
       "}}\n",
       "\n",
       "                        })                };                });            </script>        </div>"
      ]
     },
     "metadata": {},
     "output_type": "display_data"
    }
   ],
   "source": [
    "violin('packed cell volume')"
   ]
  },
  {
   "cell_type": "code",
   "execution_count": 143,
   "metadata": {},
   "outputs": [
    {
     "data": {
      "application/vnd.plotly.v1+json": {
       "config": {
        "plotlyServerURL": "https://plot.ly"
       },
       "data": [
        {
         "hovertemplate": "class=ckd<br>red blood cell count=%{x}<br>albumin=%{y}<extra></extra>",
         "legendgroup": "ckd",
         "marker": {
          "color": "#636efa",
          "symbol": "circle"
         },
         "mode": "markers",
         "name": "ckd",
         "orientation": "v",
         "showlegend": true,
         "type": "scatter",
         "x": [
          5.2,
          null,
          null,
          3.9,
          4.6,
          4.4,
          null,
          5,
          4,
          3.7,
          null,
          3.8,
          3.4,
          null,
          2.6,
          2.8,
          null,
          null,
          4.3,
          3.7,
          3.2,
          3.6,
          3.4,
          null,
          4.6,
          3.7,
          4,
          4.1,
          null,
          null,
          null,
          4,
          4,
          null,
          null,
          4.9,
          null,
          2.5,
          null,
          4.2,
          4.1,
          null,
          4.5,
          3.1,
          null,
          null,
          4.7,
          null,
          3.5,
          3.5,
          3.8,
          null,
          3.7,
          4.7,
          4.2,
          null,
          3.4,
          null,
          4.3,
          null,
          null,
          null,
          3.8,
          null,
          null,
          null,
          null,
          null,
          null,
          6,
          5.2,
          3.2,
          null,
          null,
          3.4,
          null,
          4,
          3.7,
          null,
          5,
          3.8,
          3.7,
          null,
          null,
          2.1,
          null,
          null,
          5,
          4.7,
          null,
          4.2,
          5.6,
          3.6,
          3.2,
          3.9,
          null,
          null,
          4,
          2.3,
          4.2,
          null,
          3.9,
          null,
          4.2,
          null,
          5.2,
          null,
          4.4,
          4.2,
          null,
          4.7,
          3.9,
          null,
          null,
          null,
          4.3,
          null,
          4.4,
          null,
          null,
          null,
          null,
          null,
          null,
          3.6,
          null,
          4.5,
          4.3,
          2.9,
          null,
          2.7,
          null,
          2.7,
          8,
          3.8,
          null,
          null,
          null,
          null,
          null,
          null,
          null,
          null,
          null,
          4.1,
          3.3,
          null,
          3,
          null,
          null,
          null,
          null,
          null,
          2.9,
          3,
          null,
          null,
          3.9,
          null,
          4.3,
          2.4,
          4.8,
          null,
          3.2,
          5.4,
          null,
          null,
          null,
          null,
          null,
          4.4,
          3.1,
          4.9,
          null,
          4.6,
          3.4,
          3.9,
          null,
          null,
          null,
          null,
          3.7,
          null,
          null,
          3.6,
          null,
          null,
          null,
          null,
          3.4,
          4.8,
          3.4,
          null,
          2.8,
          null,
          null,
          3.5,
          3,
          3.9,
          3.2,
          3.9,
          null,
          null,
          null,
          null,
          null,
          null,
          4.6,
          4.9,
          null,
          3.9,
          null,
          3.4,
          3.7,
          5.2,
          null,
          null,
          4.3,
          null,
          3.3,
          null,
          null,
          null,
          4.6,
          null,
          4.5,
          3.4,
          3.8,
          null,
          3.8,
          null,
          null,
          null,
          null,
          5.2,
          null,
          null,
          null,
          null,
          null,
          4.1,
          3.9,
          3.3,
          6.1,
          4.6,
          2.6,
          2.5,
          null,
          4.1,
          2.1
         ],
         "xaxis": "x",
         "y": [
          1,
          4,
          2,
          4,
          2,
          3,
          0,
          2,
          3,
          2,
          2,
          3,
          3,
          null,
          3,
          3,
          2,
          null,
          0,
          1,
          2,
          null,
          4,
          0,
          4,
          0,
          0,
          3,
          1,
          1,
          null,
          3,
          1,
          2,
          1,
          2,
          1,
          null,
          3,
          2,
          2,
          0,
          0,
          1,
          3,
          3,
          0,
          3,
          0,
          2,
          null,
          3,
          0,
          0,
          2,
          3,
          3,
          null,
          2,
          null,
          1,
          1,
          3,
          1,
          0,
          1,
          2,
          3,
          2,
          0,
          0,
          1,
          3,
          2,
          2,
          1,
          4,
          1,
          null,
          1,
          0,
          null,
          null,
          1,
          3,
          2,
          null,
          1,
          4,
          0,
          2,
          4,
          3,
          3,
          0,
          1,
          1,
          1,
          null,
          0,
          4,
          2,
          0,
          2,
          null,
          0,
          null,
          1,
          0,
          null,
          0,
          3,
          3,
          0,
          3,
          0,
          4,
          0,
          3,
          0,
          1,
          3,
          null,
          2,
          0,
          null,
          0,
          4,
          4,
          1,
          2,
          0,
          null,
          4,
          null,
          0,
          null,
          2,
          1,
          2,
          0,
          1,
          null,
          1,
          2,
          5,
          1,
          3,
          null,
          1,
          3,
          null,
          0,
          2,
          4,
          3,
          2,
          3,
          3,
          1,
          null,
          3,
          null,
          0,
          0,
          0,
          null,
          0,
          4,
          0,
          2,
          3,
          1,
          1,
          null,
          0,
          4,
          2,
          2,
          2,
          1,
          2,
          0,
          0,
          3,
          1,
          4,
          2,
          null,
          4,
          4,
          3,
          0,
          1,
          2,
          2,
          3,
          null,
          4,
          0,
          1,
          null,
          null,
          null,
          4,
          null,
          1,
          0,
          null,
          0,
          4,
          0,
          3,
          3,
          0,
          3,
          0,
          1,
          0,
          0,
          0,
          1,
          null,
          0,
          0,
          3,
          4,
          0,
          null,
          3,
          2,
          null,
          1,
          2,
          0,
          2,
          null,
          2,
          null,
          2,
          1,
          1,
          4,
          2,
          3,
          null,
          3,
          1,
          1,
          4
         ],
         "yaxis": "y"
        },
        {
         "hovertemplate": "class=notckd<br>red blood cell count=%{x}<br>albumin=%{y}<extra></extra>",
         "legendgroup": "notckd",
         "marker": {
          "color": "#EF553B",
          "symbol": "circle"
         },
         "mode": "markers",
         "name": "notckd",
         "orientation": "v",
         "showlegend": true,
         "type": "scatter",
         "x": [
          4.5,
          5,
          4.7,
          6.2,
          5.2,
          6.3,
          5.1,
          5.8,
          5.5,
          5.2,
          5.3,
          4.9,
          5.4,
          5.2,
          4.5,
          5,
          5.3,
          4.8,
          4.9,
          5.3,
          5,
          4.5,
          5.5,
          null,
          null,
          4.6,
          5.5,
          4.8,
          6.4,
          5.6,
          5.2,
          6,
          4.8,
          5.7,
          6,
          5.9,
          6,
          null,
          5.1,
          5.3,
          5.9,
          5.7,
          5,
          5.4,
          5.8,
          6.5,
          5.9,
          5.2,
          4.9,
          4.7,
          5.8,
          5,
          null,
          6.1,
          4.5,
          5.2,
          5.7,
          4.5,
          4.9,
          5.9,
          5.4,
          5.6,
          6.1,
          4.8,
          4.7,
          4.4,
          5.2,
          4.9,
          5.3,
          null,
          6.2,
          4.8,
          4.9,
          4.5,
          null,
          6.5,
          5.2,
          5.8,
          6.5,
          5.1,
          null,
          4.5,
          6.1,
          5.5,
          4.5,
          5.6,
          5.2,
          6.2,
          4.5,
          4.9,
          5.9,
          4.7,
          6.3,
          5.7,
          4.7,
          6.4,
          5.8,
          5.5,
          6.4,
          6.1,
          4.5,
          4.7,
          5.2,
          4.5,
          5.1,
          4.6,
          6.1,
          4.9,
          5.6,
          4.5,
          6.2,
          5.8,
          4.8,
          5.2,
          4.7,
          6.3,
          5.3,
          6.1,
          5.9,
          4.8,
          5.4,
          5,
          5.5,
          4.9,
          6.4,
          5.6,
          5.2,
          4.8,
          5.5,
          5.7,
          4.9,
          5.9,
          6.5,
          5,
          4.5,
          5.1,
          6.5,
          5.2,
          6.4,
          5.8,
          5.3,
          6.3,
          5.5,
          5.4,
          4.6,
          4.9,
          6.2,
          5.4,
          5.9,
          6.1
         ],
         "xaxis": "x",
         "y": [
          0,
          0,
          0,
          0,
          0,
          0,
          0,
          0,
          0,
          0,
          0,
          0,
          0,
          0,
          0,
          0,
          0,
          0,
          null,
          0,
          0,
          0,
          0,
          0,
          0,
          0,
          0,
          0,
          0,
          0,
          null,
          0,
          0,
          0,
          0,
          0,
          0,
          0,
          0,
          0,
          0,
          0,
          0,
          0,
          0,
          null,
          0,
          0,
          0,
          0,
          0,
          0,
          0,
          0,
          0,
          0,
          0,
          0,
          0,
          0,
          0,
          0,
          0,
          0,
          0,
          0,
          0,
          0,
          0,
          0,
          0,
          0,
          null,
          0,
          0,
          0,
          0,
          0,
          0,
          0,
          0,
          0,
          0,
          0,
          0,
          0,
          0,
          0,
          0,
          0,
          0,
          0,
          0,
          0,
          0,
          0,
          null,
          0,
          0,
          0,
          0,
          0,
          0,
          0,
          0,
          0,
          0,
          0,
          0,
          0,
          0,
          0,
          0,
          0,
          0,
          0,
          0,
          0,
          0,
          0,
          0,
          0,
          0,
          0,
          0,
          0,
          0,
          0,
          0,
          0,
          0,
          0,
          0,
          0,
          0,
          0,
          0,
          0,
          0,
          0,
          0,
          0,
          0,
          0,
          0,
          0,
          0,
          0,
          0,
          0
         ],
         "yaxis": "y"
        }
       ],
       "layout": {
        "legend": {
         "title": {
          "text": "class"
         },
         "tracegroupgap": 0
        },
        "margin": {
         "t": 60
        },
        "template": {
         "data": {
          "bar": [
           {
            "error_x": {
             "color": "#2a3f5f"
            },
            "error_y": {
             "color": "#2a3f5f"
            },
            "marker": {
             "line": {
              "color": "#E5ECF6",
              "width": 0.5
             }
            },
            "type": "bar"
           }
          ],
          "barpolar": [
           {
            "marker": {
             "line": {
              "color": "#E5ECF6",
              "width": 0.5
             }
            },
            "type": "barpolar"
           }
          ],
          "carpet": [
           {
            "aaxis": {
             "endlinecolor": "#2a3f5f",
             "gridcolor": "white",
             "linecolor": "white",
             "minorgridcolor": "white",
             "startlinecolor": "#2a3f5f"
            },
            "baxis": {
             "endlinecolor": "#2a3f5f",
             "gridcolor": "white",
             "linecolor": "white",
             "minorgridcolor": "white",
             "startlinecolor": "#2a3f5f"
            },
            "type": "carpet"
           }
          ],
          "choropleth": [
           {
            "colorbar": {
             "outlinewidth": 0,
             "ticks": ""
            },
            "type": "choropleth"
           }
          ],
          "contour": [
           {
            "colorbar": {
             "outlinewidth": 0,
             "ticks": ""
            },
            "colorscale": [
             [
              0,
              "#0d0887"
             ],
             [
              0.1111111111111111,
              "#46039f"
             ],
             [
              0.2222222222222222,
              "#7201a8"
             ],
             [
              0.3333333333333333,
              "#9c179e"
             ],
             [
              0.4444444444444444,
              "#bd3786"
             ],
             [
              0.5555555555555556,
              "#d8576b"
             ],
             [
              0.6666666666666666,
              "#ed7953"
             ],
             [
              0.7777777777777778,
              "#fb9f3a"
             ],
             [
              0.8888888888888888,
              "#fdca26"
             ],
             [
              1,
              "#f0f921"
             ]
            ],
            "type": "contour"
           }
          ],
          "contourcarpet": [
           {
            "colorbar": {
             "outlinewidth": 0,
             "ticks": ""
            },
            "type": "contourcarpet"
           }
          ],
          "heatmap": [
           {
            "colorbar": {
             "outlinewidth": 0,
             "ticks": ""
            },
            "colorscale": [
             [
              0,
              "#0d0887"
             ],
             [
              0.1111111111111111,
              "#46039f"
             ],
             [
              0.2222222222222222,
              "#7201a8"
             ],
             [
              0.3333333333333333,
              "#9c179e"
             ],
             [
              0.4444444444444444,
              "#bd3786"
             ],
             [
              0.5555555555555556,
              "#d8576b"
             ],
             [
              0.6666666666666666,
              "#ed7953"
             ],
             [
              0.7777777777777778,
              "#fb9f3a"
             ],
             [
              0.8888888888888888,
              "#fdca26"
             ],
             [
              1,
              "#f0f921"
             ]
            ],
            "type": "heatmap"
           }
          ],
          "heatmapgl": [
           {
            "colorbar": {
             "outlinewidth": 0,
             "ticks": ""
            },
            "colorscale": [
             [
              0,
              "#0d0887"
             ],
             [
              0.1111111111111111,
              "#46039f"
             ],
             [
              0.2222222222222222,
              "#7201a8"
             ],
             [
              0.3333333333333333,
              "#9c179e"
             ],
             [
              0.4444444444444444,
              "#bd3786"
             ],
             [
              0.5555555555555556,
              "#d8576b"
             ],
             [
              0.6666666666666666,
              "#ed7953"
             ],
             [
              0.7777777777777778,
              "#fb9f3a"
             ],
             [
              0.8888888888888888,
              "#fdca26"
             ],
             [
              1,
              "#f0f921"
             ]
            ],
            "type": "heatmapgl"
           }
          ],
          "histogram": [
           {
            "marker": {
             "colorbar": {
              "outlinewidth": 0,
              "ticks": ""
             }
            },
            "type": "histogram"
           }
          ],
          "histogram2d": [
           {
            "colorbar": {
             "outlinewidth": 0,
             "ticks": ""
            },
            "colorscale": [
             [
              0,
              "#0d0887"
             ],
             [
              0.1111111111111111,
              "#46039f"
             ],
             [
              0.2222222222222222,
              "#7201a8"
             ],
             [
              0.3333333333333333,
              "#9c179e"
             ],
             [
              0.4444444444444444,
              "#bd3786"
             ],
             [
              0.5555555555555556,
              "#d8576b"
             ],
             [
              0.6666666666666666,
              "#ed7953"
             ],
             [
              0.7777777777777778,
              "#fb9f3a"
             ],
             [
              0.8888888888888888,
              "#fdca26"
             ],
             [
              1,
              "#f0f921"
             ]
            ],
            "type": "histogram2d"
           }
          ],
          "histogram2dcontour": [
           {
            "colorbar": {
             "outlinewidth": 0,
             "ticks": ""
            },
            "colorscale": [
             [
              0,
              "#0d0887"
             ],
             [
              0.1111111111111111,
              "#46039f"
             ],
             [
              0.2222222222222222,
              "#7201a8"
             ],
             [
              0.3333333333333333,
              "#9c179e"
             ],
             [
              0.4444444444444444,
              "#bd3786"
             ],
             [
              0.5555555555555556,
              "#d8576b"
             ],
             [
              0.6666666666666666,
              "#ed7953"
             ],
             [
              0.7777777777777778,
              "#fb9f3a"
             ],
             [
              0.8888888888888888,
              "#fdca26"
             ],
             [
              1,
              "#f0f921"
             ]
            ],
            "type": "histogram2dcontour"
           }
          ],
          "mesh3d": [
           {
            "colorbar": {
             "outlinewidth": 0,
             "ticks": ""
            },
            "type": "mesh3d"
           }
          ],
          "parcoords": [
           {
            "line": {
             "colorbar": {
              "outlinewidth": 0,
              "ticks": ""
             }
            },
            "type": "parcoords"
           }
          ],
          "pie": [
           {
            "automargin": true,
            "type": "pie"
           }
          ],
          "scatter": [
           {
            "marker": {
             "colorbar": {
              "outlinewidth": 0,
              "ticks": ""
             }
            },
            "type": "scatter"
           }
          ],
          "scatter3d": [
           {
            "line": {
             "colorbar": {
              "outlinewidth": 0,
              "ticks": ""
             }
            },
            "marker": {
             "colorbar": {
              "outlinewidth": 0,
              "ticks": ""
             }
            },
            "type": "scatter3d"
           }
          ],
          "scattercarpet": [
           {
            "marker": {
             "colorbar": {
              "outlinewidth": 0,
              "ticks": ""
             }
            },
            "type": "scattercarpet"
           }
          ],
          "scattergeo": [
           {
            "marker": {
             "colorbar": {
              "outlinewidth": 0,
              "ticks": ""
             }
            },
            "type": "scattergeo"
           }
          ],
          "scattergl": [
           {
            "marker": {
             "colorbar": {
              "outlinewidth": 0,
              "ticks": ""
             }
            },
            "type": "scattergl"
           }
          ],
          "scattermapbox": [
           {
            "marker": {
             "colorbar": {
              "outlinewidth": 0,
              "ticks": ""
             }
            },
            "type": "scattermapbox"
           }
          ],
          "scatterpolar": [
           {
            "marker": {
             "colorbar": {
              "outlinewidth": 0,
              "ticks": ""
             }
            },
            "type": "scatterpolar"
           }
          ],
          "scatterpolargl": [
           {
            "marker": {
             "colorbar": {
              "outlinewidth": 0,
              "ticks": ""
             }
            },
            "type": "scatterpolargl"
           }
          ],
          "scatterternary": [
           {
            "marker": {
             "colorbar": {
              "outlinewidth": 0,
              "ticks": ""
             }
            },
            "type": "scatterternary"
           }
          ],
          "surface": [
           {
            "colorbar": {
             "outlinewidth": 0,
             "ticks": ""
            },
            "colorscale": [
             [
              0,
              "#0d0887"
             ],
             [
              0.1111111111111111,
              "#46039f"
             ],
             [
              0.2222222222222222,
              "#7201a8"
             ],
             [
              0.3333333333333333,
              "#9c179e"
             ],
             [
              0.4444444444444444,
              "#bd3786"
             ],
             [
              0.5555555555555556,
              "#d8576b"
             ],
             [
              0.6666666666666666,
              "#ed7953"
             ],
             [
              0.7777777777777778,
              "#fb9f3a"
             ],
             [
              0.8888888888888888,
              "#fdca26"
             ],
             [
              1,
              "#f0f921"
             ]
            ],
            "type": "surface"
           }
          ],
          "table": [
           {
            "cells": {
             "fill": {
              "color": "#EBF0F8"
             },
             "line": {
              "color": "white"
             }
            },
            "header": {
             "fill": {
              "color": "#C8D4E3"
             },
             "line": {
              "color": "white"
             }
            },
            "type": "table"
           }
          ]
         },
         "layout": {
          "annotationdefaults": {
           "arrowcolor": "#2a3f5f",
           "arrowhead": 0,
           "arrowwidth": 1
          },
          "autotypenumbers": "strict",
          "coloraxis": {
           "colorbar": {
            "outlinewidth": 0,
            "ticks": ""
           }
          },
          "colorscale": {
           "diverging": [
            [
             0,
             "#8e0152"
            ],
            [
             0.1,
             "#c51b7d"
            ],
            [
             0.2,
             "#de77ae"
            ],
            [
             0.3,
             "#f1b6da"
            ],
            [
             0.4,
             "#fde0ef"
            ],
            [
             0.5,
             "#f7f7f7"
            ],
            [
             0.6,
             "#e6f5d0"
            ],
            [
             0.7,
             "#b8e186"
            ],
            [
             0.8,
             "#7fbc41"
            ],
            [
             0.9,
             "#4d9221"
            ],
            [
             1,
             "#276419"
            ]
           ],
           "sequential": [
            [
             0,
             "#0d0887"
            ],
            [
             0.1111111111111111,
             "#46039f"
            ],
            [
             0.2222222222222222,
             "#7201a8"
            ],
            [
             0.3333333333333333,
             "#9c179e"
            ],
            [
             0.4444444444444444,
             "#bd3786"
            ],
            [
             0.5555555555555556,
             "#d8576b"
            ],
            [
             0.6666666666666666,
             "#ed7953"
            ],
            [
             0.7777777777777778,
             "#fb9f3a"
            ],
            [
             0.8888888888888888,
             "#fdca26"
            ],
            [
             1,
             "#f0f921"
            ]
           ],
           "sequentialminus": [
            [
             0,
             "#0d0887"
            ],
            [
             0.1111111111111111,
             "#46039f"
            ],
            [
             0.2222222222222222,
             "#7201a8"
            ],
            [
             0.3333333333333333,
             "#9c179e"
            ],
            [
             0.4444444444444444,
             "#bd3786"
            ],
            [
             0.5555555555555556,
             "#d8576b"
            ],
            [
             0.6666666666666666,
             "#ed7953"
            ],
            [
             0.7777777777777778,
             "#fb9f3a"
            ],
            [
             0.8888888888888888,
             "#fdca26"
            ],
            [
             1,
             "#f0f921"
            ]
           ]
          },
          "colorway": [
           "#636efa",
           "#EF553B",
           "#00cc96",
           "#ab63fa",
           "#FFA15A",
           "#19d3f3",
           "#FF6692",
           "#B6E880",
           "#FF97FF",
           "#FECB52"
          ],
          "font": {
           "color": "#2a3f5f"
          },
          "geo": {
           "bgcolor": "white",
           "lakecolor": "white",
           "landcolor": "#E5ECF6",
           "showlakes": true,
           "showland": true,
           "subunitcolor": "white"
          },
          "hoverlabel": {
           "align": "left"
          },
          "hovermode": "closest",
          "mapbox": {
           "style": "light"
          },
          "paper_bgcolor": "white",
          "plot_bgcolor": "#E5ECF6",
          "polar": {
           "angularaxis": {
            "gridcolor": "white",
            "linecolor": "white",
            "ticks": ""
           },
           "bgcolor": "#E5ECF6",
           "radialaxis": {
            "gridcolor": "white",
            "linecolor": "white",
            "ticks": ""
           }
          },
          "scene": {
           "xaxis": {
            "backgroundcolor": "#E5ECF6",
            "gridcolor": "white",
            "gridwidth": 2,
            "linecolor": "white",
            "showbackground": true,
            "ticks": "",
            "zerolinecolor": "white"
           },
           "yaxis": {
            "backgroundcolor": "#E5ECF6",
            "gridcolor": "white",
            "gridwidth": 2,
            "linecolor": "white",
            "showbackground": true,
            "ticks": "",
            "zerolinecolor": "white"
           },
           "zaxis": {
            "backgroundcolor": "#E5ECF6",
            "gridcolor": "white",
            "gridwidth": 2,
            "linecolor": "white",
            "showbackground": true,
            "ticks": "",
            "zerolinecolor": "white"
           }
          },
          "shapedefaults": {
           "line": {
            "color": "#2a3f5f"
           }
          },
          "ternary": {
           "aaxis": {
            "gridcolor": "white",
            "linecolor": "white",
            "ticks": ""
           },
           "baxis": {
            "gridcolor": "white",
            "linecolor": "white",
            "ticks": ""
           },
           "bgcolor": "#E5ECF6",
           "caxis": {
            "gridcolor": "white",
            "linecolor": "white",
            "ticks": ""
           }
          },
          "title": {
           "x": 0.05
          },
          "xaxis": {
           "automargin": true,
           "gridcolor": "white",
           "linecolor": "white",
           "ticks": "",
           "title": {
            "standoff": 15
           },
           "zerolinecolor": "white",
           "zerolinewidth": 2
          },
          "yaxis": {
           "automargin": true,
           "gridcolor": "white",
           "linecolor": "white",
           "ticks": "",
           "title": {
            "standoff": 15
           },
           "zerolinecolor": "white",
           "zerolinewidth": 2
          }
         }
        },
        "xaxis": {
         "anchor": "y",
         "domain": [
          0,
          1
         ],
         "title": {
          "text": "red blood cell count"
         }
        },
        "yaxis": {
         "anchor": "x",
         "domain": [
          0,
          1
         ],
         "title": {
          "text": "albumin"
         }
        }
       }
      },
      "text/html": [
       "<div>                            <div id=\"b1d0a39b-99d8-4657-85cd-bfd4aea3b6de\" class=\"plotly-graph-div\" style=\"height:525px; width:100%;\"></div>            <script type=\"text/javascript\">                require([\"plotly\"], function(Plotly) {                    window.PLOTLYENV=window.PLOTLYENV || {};                                    if (document.getElementById(\"b1d0a39b-99d8-4657-85cd-bfd4aea3b6de\")) {                    Plotly.newPlot(                        \"b1d0a39b-99d8-4657-85cd-bfd4aea3b6de\",                        [{\"hovertemplate\": \"class=ckd<br>red blood cell count=%{x}<br>albumin=%{y}<extra></extra>\", \"legendgroup\": \"ckd\", \"marker\": {\"color\": \"#636efa\", \"symbol\": \"circle\"}, \"mode\": \"markers\", \"name\": \"ckd\", \"orientation\": \"v\", \"showlegend\": true, \"type\": \"scatter\", \"x\": [5.2, null, null, 3.9, 4.6, 4.4, null, 5.0, 4.0, 3.7, null, 3.8, 3.4, null, 2.6, 2.8, null, null, 4.3, 3.7, 3.2, 3.6, 3.4, null, 4.6, 3.7, 4.0, 4.1, null, null, null, 4.0, 4.0, null, null, 4.9, null, 2.5, null, 4.2, 4.1, null, 4.5, 3.1, null, null, 4.7, null, 3.5, 3.5, 3.8, null, 3.7, 4.7, 4.2, null, 3.4, null, 4.3, null, null, null, 3.8, null, null, null, null, null, null, 6.0, 5.2, 3.2, null, null, 3.4, null, 4.0, 3.7, null, 5.0, 3.8, 3.7, null, null, 2.1, null, null, 5.0, 4.7, null, 4.2, 5.6, 3.6, 3.2, 3.9, null, null, 4.0, 2.3, 4.2, null, 3.9, null, 4.2, null, 5.2, null, 4.4, 4.2, null, 4.7, 3.9, null, null, null, 4.3, null, 4.4, null, null, null, null, null, null, 3.6, null, 4.5, 4.3, 2.9, null, 2.7, null, 2.7, 8.0, 3.8, null, null, null, null, null, null, null, null, null, 4.1, 3.3, null, 3.0, null, null, null, null, null, 2.9, 3.0, null, null, 3.9, null, 4.3, 2.4, 4.8, null, 3.2, 5.4, null, null, null, null, null, 4.4, 3.1, 4.9, null, 4.6, 3.4, 3.9, null, null, null, null, 3.7, null, null, 3.6, null, null, null, null, 3.4, 4.8, 3.4, null, 2.8, null, null, 3.5, 3.0, 3.9, 3.2, 3.9, null, null, null, null, null, null, 4.6, 4.9, null, 3.9, null, 3.4, 3.7, 5.2, null, null, 4.3, null, 3.3, null, null, null, 4.6, null, 4.5, 3.4, 3.8, null, 3.8, null, null, null, null, 5.2, null, null, null, null, null, 4.1, 3.9, 3.3, 6.1, 4.6, 2.6, 2.5, null, 4.1, 2.1], \"xaxis\": \"x\", \"y\": [1.0, 4.0, 2.0, 4.0, 2.0, 3.0, 0.0, 2.0, 3.0, 2.0, 2.0, 3.0, 3.0, null, 3.0, 3.0, 2.0, null, 0.0, 1.0, 2.0, null, 4.0, 0.0, 4.0, 0.0, 0.0, 3.0, 1.0, 1.0, null, 3.0, 1.0, 2.0, 1.0, 2.0, 1.0, null, 3.0, 2.0, 2.0, 0.0, 0.0, 1.0, 3.0, 3.0, 0.0, 3.0, 0.0, 2.0, null, 3.0, 0.0, 0.0, 2.0, 3.0, 3.0, null, 2.0, null, 1.0, 1.0, 3.0, 1.0, 0.0, 1.0, 2.0, 3.0, 2.0, 0.0, 0.0, 1.0, 3.0, 2.0, 2.0, 1.0, 4.0, 1.0, null, 1.0, 0.0, null, null, 1.0, 3.0, 2.0, null, 1.0, 4.0, 0.0, 2.0, 4.0, 3.0, 3.0, 0.0, 1.0, 1.0, 1.0, null, 0.0, 4.0, 2.0, 0.0, 2.0, null, 0.0, null, 1.0, 0.0, null, 0.0, 3.0, 3.0, 0.0, 3.0, 0.0, 4.0, 0.0, 3.0, 0.0, 1.0, 3.0, null, 2.0, 0.0, null, 0.0, 4.0, 4.0, 1.0, 2.0, 0.0, null, 4.0, null, 0.0, null, 2.0, 1.0, 2.0, 0.0, 1.0, null, 1.0, 2.0, 5.0, 1.0, 3.0, null, 1.0, 3.0, null, 0.0, 2.0, 4.0, 3.0, 2.0, 3.0, 3.0, 1.0, null, 3.0, null, 0.0, 0.0, 0.0, null, 0.0, 4.0, 0.0, 2.0, 3.0, 1.0, 1.0, null, 0.0, 4.0, 2.0, 2.0, 2.0, 1.0, 2.0, 0.0, 0.0, 3.0, 1.0, 4.0, 2.0, null, 4.0, 4.0, 3.0, 0.0, 1.0, 2.0, 2.0, 3.0, null, 4.0, 0.0, 1.0, null, null, null, 4.0, null, 1.0, 0.0, null, 0.0, 4.0, 0.0, 3.0, 3.0, 0.0, 3.0, 0.0, 1.0, 0.0, 0.0, 0.0, 1.0, null, 0.0, 0.0, 3.0, 4.0, 0.0, null, 3.0, 2.0, null, 1.0, 2.0, 0.0, 2.0, null, 2.0, null, 2.0, 1.0, 1.0, 4.0, 2.0, 3.0, null, 3.0, 1.0, 1.0, 4.0], \"yaxis\": \"y\"}, {\"hovertemplate\": \"class=notckd<br>red blood cell count=%{x}<br>albumin=%{y}<extra></extra>\", \"legendgroup\": \"notckd\", \"marker\": {\"color\": \"#EF553B\", \"symbol\": \"circle\"}, \"mode\": \"markers\", \"name\": \"notckd\", \"orientation\": \"v\", \"showlegend\": true, \"type\": \"scatter\", \"x\": [4.5, 5.0, 4.7, 6.2, 5.2, 6.3, 5.1, 5.8, 5.5, 5.2, 5.3, 4.9, 5.4, 5.2, 4.5, 5.0, 5.3, 4.8, 4.9, 5.3, 5.0, 4.5, 5.5, null, null, 4.6, 5.5, 4.8, 6.4, 5.6, 5.2, 6.0, 4.8, 5.7, 6.0, 5.9, 6.0, null, 5.1, 5.3, 5.9, 5.7, 5.0, 5.4, 5.8, 6.5, 5.9, 5.2, 4.9, 4.7, 5.8, 5.0, null, 6.1, 4.5, 5.2, 5.7, 4.5, 4.9, 5.9, 5.4, 5.6, 6.1, 4.8, 4.7, 4.4, 5.2, 4.9, 5.3, null, 6.2, 4.8, 4.9, 4.5, null, 6.5, 5.2, 5.8, 6.5, 5.1, null, 4.5, 6.1, 5.5, 4.5, 5.6, 5.2, 6.2, 4.5, 4.9, 5.9, 4.7, 6.3, 5.7, 4.7, 6.4, 5.8, 5.5, 6.4, 6.1, 4.5, 4.7, 5.2, 4.5, 5.1, 4.6, 6.1, 4.9, 5.6, 4.5, 6.2, 5.8, 4.8, 5.2, 4.7, 6.3, 5.3, 6.1, 5.9, 4.8, 5.4, 5.0, 5.5, 4.9, 6.4, 5.6, 5.2, 4.8, 5.5, 5.7, 4.9, 5.9, 6.5, 5.0, 4.5, 5.1, 6.5, 5.2, 6.4, 5.8, 5.3, 6.3, 5.5, 5.4, 4.6, 4.9, 6.2, 5.4, 5.9, 6.1], \"xaxis\": \"x\", \"y\": [0.0, 0.0, 0.0, 0.0, 0.0, 0.0, 0.0, 0.0, 0.0, 0.0, 0.0, 0.0, 0.0, 0.0, 0.0, 0.0, 0.0, 0.0, null, 0.0, 0.0, 0.0, 0.0, 0.0, 0.0, 0.0, 0.0, 0.0, 0.0, 0.0, null, 0.0, 0.0, 0.0, 0.0, 0.0, 0.0, 0.0, 0.0, 0.0, 0.0, 0.0, 0.0, 0.0, 0.0, null, 0.0, 0.0, 0.0, 0.0, 0.0, 0.0, 0.0, 0.0, 0.0, 0.0, 0.0, 0.0, 0.0, 0.0, 0.0, 0.0, 0.0, 0.0, 0.0, 0.0, 0.0, 0.0, 0.0, 0.0, 0.0, 0.0, null, 0.0, 0.0, 0.0, 0.0, 0.0, 0.0, 0.0, 0.0, 0.0, 0.0, 0.0, 0.0, 0.0, 0.0, 0.0, 0.0, 0.0, 0.0, 0.0, 0.0, 0.0, 0.0, 0.0, null, 0.0, 0.0, 0.0, 0.0, 0.0, 0.0, 0.0, 0.0, 0.0, 0.0, 0.0, 0.0, 0.0, 0.0, 0.0, 0.0, 0.0, 0.0, 0.0, 0.0, 0.0, 0.0, 0.0, 0.0, 0.0, 0.0, 0.0, 0.0, 0.0, 0.0, 0.0, 0.0, 0.0, 0.0, 0.0, 0.0, 0.0, 0.0, 0.0, 0.0, 0.0, 0.0, 0.0, 0.0, 0.0, 0.0, 0.0, 0.0, 0.0, 0.0, 0.0, 0.0, 0.0], \"yaxis\": \"y\"}],                        {\"legend\": {\"title\": {\"text\": \"class\"}, \"tracegroupgap\": 0}, \"margin\": {\"t\": 60}, \"template\": {\"data\": {\"bar\": [{\"error_x\": {\"color\": \"#2a3f5f\"}, \"error_y\": {\"color\": \"#2a3f5f\"}, \"marker\": {\"line\": {\"color\": \"#E5ECF6\", \"width\": 0.5}}, \"type\": \"bar\"}], \"barpolar\": [{\"marker\": {\"line\": {\"color\": \"#E5ECF6\", \"width\": 0.5}}, \"type\": \"barpolar\"}], \"carpet\": [{\"aaxis\": {\"endlinecolor\": \"#2a3f5f\", \"gridcolor\": \"white\", \"linecolor\": \"white\", \"minorgridcolor\": \"white\", \"startlinecolor\": \"#2a3f5f\"}, \"baxis\": {\"endlinecolor\": \"#2a3f5f\", \"gridcolor\": \"white\", \"linecolor\": \"white\", \"minorgridcolor\": \"white\", \"startlinecolor\": \"#2a3f5f\"}, \"type\": \"carpet\"}], \"choropleth\": [{\"colorbar\": {\"outlinewidth\": 0, \"ticks\": \"\"}, \"type\": \"choropleth\"}], \"contour\": [{\"colorbar\": {\"outlinewidth\": 0, \"ticks\": \"\"}, \"colorscale\": [[0.0, \"#0d0887\"], [0.1111111111111111, \"#46039f\"], [0.2222222222222222, \"#7201a8\"], [0.3333333333333333, \"#9c179e\"], [0.4444444444444444, \"#bd3786\"], [0.5555555555555556, \"#d8576b\"], [0.6666666666666666, \"#ed7953\"], [0.7777777777777778, \"#fb9f3a\"], [0.8888888888888888, \"#fdca26\"], [1.0, \"#f0f921\"]], \"type\": \"contour\"}], \"contourcarpet\": [{\"colorbar\": {\"outlinewidth\": 0, \"ticks\": \"\"}, \"type\": \"contourcarpet\"}], \"heatmap\": [{\"colorbar\": {\"outlinewidth\": 0, \"ticks\": \"\"}, \"colorscale\": [[0.0, \"#0d0887\"], [0.1111111111111111, \"#46039f\"], [0.2222222222222222, \"#7201a8\"], [0.3333333333333333, \"#9c179e\"], [0.4444444444444444, \"#bd3786\"], [0.5555555555555556, \"#d8576b\"], [0.6666666666666666, \"#ed7953\"], [0.7777777777777778, \"#fb9f3a\"], [0.8888888888888888, \"#fdca26\"], [1.0, \"#f0f921\"]], \"type\": \"heatmap\"}], \"heatmapgl\": [{\"colorbar\": {\"outlinewidth\": 0, \"ticks\": \"\"}, \"colorscale\": [[0.0, \"#0d0887\"], [0.1111111111111111, \"#46039f\"], [0.2222222222222222, \"#7201a8\"], [0.3333333333333333, \"#9c179e\"], [0.4444444444444444, \"#bd3786\"], [0.5555555555555556, \"#d8576b\"], [0.6666666666666666, \"#ed7953\"], [0.7777777777777778, \"#fb9f3a\"], [0.8888888888888888, \"#fdca26\"], [1.0, \"#f0f921\"]], \"type\": \"heatmapgl\"}], \"histogram\": [{\"marker\": {\"colorbar\": {\"outlinewidth\": 0, \"ticks\": \"\"}}, \"type\": \"histogram\"}], \"histogram2d\": [{\"colorbar\": {\"outlinewidth\": 0, \"ticks\": \"\"}, \"colorscale\": [[0.0, \"#0d0887\"], [0.1111111111111111, \"#46039f\"], [0.2222222222222222, \"#7201a8\"], [0.3333333333333333, \"#9c179e\"], [0.4444444444444444, \"#bd3786\"], [0.5555555555555556, \"#d8576b\"], [0.6666666666666666, \"#ed7953\"], [0.7777777777777778, \"#fb9f3a\"], [0.8888888888888888, \"#fdca26\"], [1.0, \"#f0f921\"]], \"type\": \"histogram2d\"}], \"histogram2dcontour\": [{\"colorbar\": {\"outlinewidth\": 0, \"ticks\": \"\"}, \"colorscale\": [[0.0, \"#0d0887\"], [0.1111111111111111, \"#46039f\"], [0.2222222222222222, \"#7201a8\"], [0.3333333333333333, \"#9c179e\"], [0.4444444444444444, \"#bd3786\"], [0.5555555555555556, \"#d8576b\"], [0.6666666666666666, \"#ed7953\"], [0.7777777777777778, \"#fb9f3a\"], [0.8888888888888888, \"#fdca26\"], [1.0, \"#f0f921\"]], \"type\": \"histogram2dcontour\"}], \"mesh3d\": [{\"colorbar\": {\"outlinewidth\": 0, \"ticks\": \"\"}, \"type\": \"mesh3d\"}], \"parcoords\": [{\"line\": {\"colorbar\": {\"outlinewidth\": 0, \"ticks\": \"\"}}, \"type\": \"parcoords\"}], \"pie\": [{\"automargin\": true, \"type\": \"pie\"}], \"scatter\": [{\"marker\": {\"colorbar\": {\"outlinewidth\": 0, \"ticks\": \"\"}}, \"type\": \"scatter\"}], \"scatter3d\": [{\"line\": {\"colorbar\": {\"outlinewidth\": 0, \"ticks\": \"\"}}, \"marker\": {\"colorbar\": {\"outlinewidth\": 0, \"ticks\": \"\"}}, \"type\": \"scatter3d\"}], \"scattercarpet\": [{\"marker\": {\"colorbar\": {\"outlinewidth\": 0, \"ticks\": \"\"}}, \"type\": \"scattercarpet\"}], \"scattergeo\": [{\"marker\": {\"colorbar\": {\"outlinewidth\": 0, \"ticks\": \"\"}}, \"type\": \"scattergeo\"}], \"scattergl\": [{\"marker\": {\"colorbar\": {\"outlinewidth\": 0, \"ticks\": \"\"}}, \"type\": \"scattergl\"}], \"scattermapbox\": [{\"marker\": {\"colorbar\": {\"outlinewidth\": 0, \"ticks\": \"\"}}, \"type\": \"scattermapbox\"}], \"scatterpolar\": [{\"marker\": {\"colorbar\": {\"outlinewidth\": 0, \"ticks\": \"\"}}, \"type\": \"scatterpolar\"}], \"scatterpolargl\": [{\"marker\": {\"colorbar\": {\"outlinewidth\": 0, \"ticks\": \"\"}}, \"type\": \"scatterpolargl\"}], \"scatterternary\": [{\"marker\": {\"colorbar\": {\"outlinewidth\": 0, \"ticks\": \"\"}}, \"type\": \"scatterternary\"}], \"surface\": [{\"colorbar\": {\"outlinewidth\": 0, \"ticks\": \"\"}, \"colorscale\": [[0.0, \"#0d0887\"], [0.1111111111111111, \"#46039f\"], [0.2222222222222222, \"#7201a8\"], [0.3333333333333333, \"#9c179e\"], [0.4444444444444444, \"#bd3786\"], [0.5555555555555556, \"#d8576b\"], [0.6666666666666666, \"#ed7953\"], [0.7777777777777778, \"#fb9f3a\"], [0.8888888888888888, \"#fdca26\"], [1.0, \"#f0f921\"]], \"type\": \"surface\"}], \"table\": [{\"cells\": {\"fill\": {\"color\": \"#EBF0F8\"}, \"line\": {\"color\": \"white\"}}, \"header\": {\"fill\": {\"color\": \"#C8D4E3\"}, \"line\": {\"color\": \"white\"}}, \"type\": \"table\"}]}, \"layout\": {\"annotationdefaults\": {\"arrowcolor\": \"#2a3f5f\", \"arrowhead\": 0, \"arrowwidth\": 1}, \"autotypenumbers\": \"strict\", \"coloraxis\": {\"colorbar\": {\"outlinewidth\": 0, \"ticks\": \"\"}}, \"colorscale\": {\"diverging\": [[0, \"#8e0152\"], [0.1, \"#c51b7d\"], [0.2, \"#de77ae\"], [0.3, \"#f1b6da\"], [0.4, \"#fde0ef\"], [0.5, \"#f7f7f7\"], [0.6, \"#e6f5d0\"], [0.7, \"#b8e186\"], [0.8, \"#7fbc41\"], [0.9, \"#4d9221\"], [1, \"#276419\"]], \"sequential\": [[0.0, \"#0d0887\"], [0.1111111111111111, \"#46039f\"], [0.2222222222222222, \"#7201a8\"], [0.3333333333333333, \"#9c179e\"], [0.4444444444444444, \"#bd3786\"], [0.5555555555555556, \"#d8576b\"], [0.6666666666666666, \"#ed7953\"], [0.7777777777777778, \"#fb9f3a\"], [0.8888888888888888, \"#fdca26\"], [1.0, \"#f0f921\"]], \"sequentialminus\": [[0.0, \"#0d0887\"], [0.1111111111111111, \"#46039f\"], [0.2222222222222222, \"#7201a8\"], [0.3333333333333333, \"#9c179e\"], [0.4444444444444444, \"#bd3786\"], [0.5555555555555556, \"#d8576b\"], [0.6666666666666666, \"#ed7953\"], [0.7777777777777778, \"#fb9f3a\"], [0.8888888888888888, \"#fdca26\"], [1.0, \"#f0f921\"]]}, \"colorway\": [\"#636efa\", \"#EF553B\", \"#00cc96\", \"#ab63fa\", \"#FFA15A\", \"#19d3f3\", \"#FF6692\", \"#B6E880\", \"#FF97FF\", \"#FECB52\"], \"font\": {\"color\": \"#2a3f5f\"}, \"geo\": {\"bgcolor\": \"white\", \"lakecolor\": \"white\", \"landcolor\": \"#E5ECF6\", \"showlakes\": true, \"showland\": true, \"subunitcolor\": \"white\"}, \"hoverlabel\": {\"align\": \"left\"}, \"hovermode\": \"closest\", \"mapbox\": {\"style\": \"light\"}, \"paper_bgcolor\": \"white\", \"plot_bgcolor\": \"#E5ECF6\", \"polar\": {\"angularaxis\": {\"gridcolor\": \"white\", \"linecolor\": \"white\", \"ticks\": \"\"}, \"bgcolor\": \"#E5ECF6\", \"radialaxis\": {\"gridcolor\": \"white\", \"linecolor\": \"white\", \"ticks\": \"\"}}, \"scene\": {\"xaxis\": {\"backgroundcolor\": \"#E5ECF6\", \"gridcolor\": \"white\", \"gridwidth\": 2, \"linecolor\": \"white\", \"showbackground\": true, \"ticks\": \"\", \"zerolinecolor\": \"white\"}, \"yaxis\": {\"backgroundcolor\": \"#E5ECF6\", \"gridcolor\": \"white\", \"gridwidth\": 2, \"linecolor\": \"white\", \"showbackground\": true, \"ticks\": \"\", \"zerolinecolor\": \"white\"}, \"zaxis\": {\"backgroundcolor\": \"#E5ECF6\", \"gridcolor\": \"white\", \"gridwidth\": 2, \"linecolor\": \"white\", \"showbackground\": true, \"ticks\": \"\", \"zerolinecolor\": \"white\"}}, \"shapedefaults\": {\"line\": {\"color\": \"#2a3f5f\"}}, \"ternary\": {\"aaxis\": {\"gridcolor\": \"white\", \"linecolor\": \"white\", \"ticks\": \"\"}, \"baxis\": {\"gridcolor\": \"white\", \"linecolor\": \"white\", \"ticks\": \"\"}, \"bgcolor\": \"#E5ECF6\", \"caxis\": {\"gridcolor\": \"white\", \"linecolor\": \"white\", \"ticks\": \"\"}}, \"title\": {\"x\": 0.05}, \"xaxis\": {\"automargin\": true, \"gridcolor\": \"white\", \"linecolor\": \"white\", \"ticks\": \"\", \"title\": {\"standoff\": 15}, \"zerolinecolor\": \"white\", \"zerolinewidth\": 2}, \"yaxis\": {\"automargin\": true, \"gridcolor\": \"white\", \"linecolor\": \"white\", \"ticks\": \"\", \"title\": {\"standoff\": 15}, \"zerolinecolor\": \"white\", \"zerolinewidth\": 2}}}, \"xaxis\": {\"anchor\": \"y\", \"domain\": [0.0, 1.0], \"title\": {\"text\": \"red blood cell count\"}}, \"yaxis\": {\"anchor\": \"x\", \"domain\": [0.0, 1.0], \"title\": {\"text\": \"albumin\"}}},                        {\"responsive\": true}                    ).then(function(){\n",
       "                            \n",
       "var gd = document.getElementById('b1d0a39b-99d8-4657-85cd-bfd4aea3b6de');\n",
       "var x = new MutationObserver(function (mutations, observer) {{\n",
       "        var display = window.getComputedStyle(gd).display;\n",
       "        if (!display || display === 'none') {{\n",
       "            console.log([gd, 'removed!']);\n",
       "            Plotly.purge(gd);\n",
       "            observer.disconnect();\n",
       "        }}\n",
       "}});\n",
       "\n",
       "// Listen for the removal of the full notebook cells\n",
       "var notebookContainer = gd.closest('#notebook-container');\n",
       "if (notebookContainer) {{\n",
       "    x.observe(notebookContainer, {childList: true});\n",
       "}}\n",
       "\n",
       "// Listen for the clearing of the current output cell\n",
       "var outputEl = gd.closest('.output');\n",
       "if (outputEl) {{\n",
       "    x.observe(outputEl, {childList: true});\n",
       "}}\n",
       "\n",
       "                        })                };                });            </script>        </div>"
      ]
     },
     "metadata": {},
     "output_type": "display_data"
    }
   ],
   "source": [
    "scatters('red blood cell count', 'albumin')"
   ]
  },
  {
   "cell_type": "code",
   "execution_count": null,
   "metadata": {},
   "outputs": [],
   "source": []
  },
  {
   "cell_type": "markdown",
   "metadata": {},
   "source": [
    "### Handling missing values in the data"
   ]
  },
  {
   "cell_type": "code",
   "execution_count": 144,
   "metadata": {},
   "outputs": [
    {
     "data": {
      "text/plain": [
       "red blood cells            152\n",
       "red blood cell count       131\n",
       "white blood cell count     106\n",
       "potassium                   88\n",
       "sodium                      87\n",
       "packed cell volume          71\n",
       " pus cell                   65\n",
       "haemoglobin                 52\n",
       "sugar                       49\n",
       "specific gravity            47\n",
       "albumin                     46\n",
       "blood glucose random        44\n",
       "blood urea                  19\n",
       "serum creatinine            17\n",
       "blood pressure              12\n",
       "age                          9\n",
       "bacteria                     4\n",
       "pus cell clumps              4\n",
       "ypertension                  2\n",
       "diabetes mellitus            2\n",
       "coronary artery disease      2\n",
       "anemia                       1\n",
       "appetite                     1\n",
       "pedal edema                  1\n",
       "class                        0\n",
       "dtype: int64"
      ]
     },
     "execution_count": 144,
     "metadata": {},
     "output_type": "execute_result"
    }
   ],
   "source": [
    "df.isna().sum().sort_values(ascending=False)"
   ]
  },
  {
   "cell_type": "code",
   "execution_count": 145,
   "metadata": {},
   "outputs": [
    {
     "data": {
      "text/plain": [
       "<matplotlib.axes._subplots.AxesSubplot at 0x273d3244820>"
      ]
     },
     "execution_count": 145,
     "metadata": {},
     "output_type": "execute_result"
    },
    {
     "data": {
      "image/png": "[encoded data removed]",
      "text/plain": [
       "<Figure size 432x288 with 1 Axes>"
      ]
     },
     "metadata": {
      "needs_background": "light"
     },
     "output_type": "display_data"
    }
   ],
   "source": [
    "sns.countplot(df['red blood cells'])"
   ]
  },
  {
   "cell_type": "code",
   "execution_count": 146,
   "metadata": {},
   "outputs": [],
   "source": [
    "data=df.copy()"
   ]
  },
  {
   "cell_type": "code",
   "execution_count": 147,
   "metadata": {},
   "outputs": [
    {
     "data": {
      "text/plain": [
       "141    normal\n",
       "Name: red blood cells, dtype: object"
      ]
     },
     "execution_count": 147,
     "metadata": {},
     "output_type": "execute_result"
    }
   ],
   "source": [
    "data['red blood cells'].dropna().sample() #random value produced "
   ]
  },
  {
   "cell_type": "code",
   "execution_count": 148,
   "metadata": {},
   "outputs": [
    {
     "data": {
      "text/plain": [
       "152"
      ]
     },
     "execution_count": 148,
     "metadata": {},
     "output_type": "execute_result"
    }
   ],
   "source": [
    "data['red blood cells'].isnull().sum()"
   ]
  },
  {
   "cell_type": "code",
   "execution_count": 149,
   "metadata": {},
   "outputs": [
    {
     "data": {
      "text/plain": [
       "331      normal\n",
       "234    abnormal\n",
       "397      normal\n",
       "204      normal\n",
       "334      normal\n",
       "         ...   \n",
       "314      normal\n",
       "107      normal\n",
       "9      abnormal\n",
       "127      normal\n",
       "330      normal\n",
       "Name: red blood cells, Length: 152, dtype: object"
      ]
     },
     "execution_count": 149,
     "metadata": {},
     "output_type": "execute_result"
    }
   ],
   "source": [
    "random_sample=data['red blood cells'].dropna().sample(152)\n",
    "random_sample"
   ]
  },
  {
   "cell_type": "code",
   "execution_count": 150,
   "metadata": {},
   "outputs": [
    {
     "data": {
      "text/plain": [
       "Int64Index([  0,   1,   5,   6,  10,  12,  13,  15,  16,  17,\n",
       "            ...\n",
       "            245, 268, 280, 290, 295, 309, 322, 349, 350, 381],\n",
       "           dtype='int64', length=152)"
      ]
     },
     "execution_count": 150,
     "metadata": {},
     "output_type": "execute_result"
    }
   ],
   "source": [
    "data[data['red blood cells'].isnull()].index #indexes in respect of missing entries"
   ]
  },
  {
   "cell_type": "code",
   "execution_count": 151,
   "metadata": {},
   "outputs": [
    {
     "data": {
      "text/plain": [
       "Int64Index([331, 234, 397, 204, 334, 344,  34, 255, 357,  36,\n",
       "            ...\n",
       "            320, 145, 364, 389,  49, 314, 107,   9, 127, 330],\n",
       "           dtype='int64', length=152)"
      ]
     },
     "execution_count": 151,
     "metadata": {},
     "output_type": "execute_result"
    }
   ],
   "source": [
    "random_sample.index"
   ]
  },
  {
   "cell_type": "code",
   "execution_count": 152,
   "metadata": {},
   "outputs": [
    {
     "data": {
      "text/plain": [
       "Int64Index([  0,   1,   5,   6,  10,  12,  13,  15,  16,  17,\n",
       "            ...\n",
       "            245, 268, 280, 290, 295, 309, 322, 349, 350, 381],\n",
       "           dtype='int64', length=152)"
      ]
     },
     "execution_count": 152,
     "metadata": {},
     "output_type": "execute_result"
    }
   ],
   "source": [
    "random_sample.index=data[data['red blood cells'].isnull()].index\n",
    "random_sample.index"
   ]
  },
  {
   "cell_type": "code",
   "execution_count": 153,
   "metadata": {},
   "outputs": [
    {
     "data": {
      "text/plain": [
       "0        normal\n",
       "1      abnormal\n",
       "5        normal\n",
       "6        normal\n",
       "10       normal\n",
       "         ...   \n",
       "309      normal\n",
       "322      normal\n",
       "349    abnormal\n",
       "350      normal\n",
       "381      normal\n",
       "Name: red blood cells, Length: 152, dtype: object"
      ]
     },
     "execution_count": 153,
     "metadata": {},
     "output_type": "execute_result"
    }
   ],
   "source": [
    "random_sample"
   ]
  },
  {
   "cell_type": "code",
   "execution_count": 154,
   "metadata": {},
   "outputs": [
    {
     "data": {
      "text/html": [
       "<div>\n",
       "<style scoped>\n",
       "    .dataframe tbody tr th:only-of-type {\n",
       "        vertical-align: middle;\n",
       "    }\n",
       "\n",
       "    .dataframe tbody tr th {\n",
       "        vertical-align: top;\n",
       "    }\n",
       "\n",
       "    .dataframe thead th {\n",
       "        text-align: right;\n",
       "    }\n",
       "</style>\n",
       "<table border=\"1\" class=\"dataframe\">\n",
       "  <thead>\n",
       "    <tr style=\"text-align: right;\">\n",
       "      <th></th>\n",
       "      <th>age</th>\n",
       "      <th>blood pressure</th>\n",
       "      <th>specific gravity</th>\n",
       "      <th>albumin</th>\n",
       "      <th>sugar</th>\n",
       "      <th>red blood cells</th>\n",
       "      <th>pus cell</th>\n",
       "      <th>pus cell clumps</th>\n",
       "      <th>bacteria</th>\n",
       "      <th>blood glucose random</th>\n",
       "      <th>...</th>\n",
       "      <th>packed cell volume</th>\n",
       "      <th>white blood cell count</th>\n",
       "      <th>red blood cell count</th>\n",
       "      <th>ypertension</th>\n",
       "      <th>diabetes mellitus</th>\n",
       "      <th>coronary artery disease</th>\n",
       "      <th>appetite</th>\n",
       "      <th>pedal edema</th>\n",
       "      <th>anemia</th>\n",
       "      <th>class</th>\n",
       "    </tr>\n",
       "  </thead>\n",
       "  <tbody>\n",
       "    <tr>\n",
       "      <th>0</th>\n",
       "      <td>48.0</td>\n",
       "      <td>80.0</td>\n",
       "      <td>1.020</td>\n",
       "      <td>1.0</td>\n",
       "      <td>0.0</td>\n",
       "      <td>normal</td>\n",
       "      <td>normal</td>\n",
       "      <td>notpresent</td>\n",
       "      <td>notpresent</td>\n",
       "      <td>121.0</td>\n",
       "      <td>...</td>\n",
       "      <td>44.0</td>\n",
       "      <td>7800.0</td>\n",
       "      <td>5.2</td>\n",
       "      <td>yes</td>\n",
       "      <td>yes</td>\n",
       "      <td>no</td>\n",
       "      <td>good</td>\n",
       "      <td>no</td>\n",
       "      <td>no</td>\n",
       "      <td>ckd</td>\n",
       "    </tr>\n",
       "    <tr>\n",
       "      <th>1</th>\n",
       "      <td>7.0</td>\n",
       "      <td>50.0</td>\n",
       "      <td>1.020</td>\n",
       "      <td>4.0</td>\n",
       "      <td>0.0</td>\n",
       "      <td>abnormal</td>\n",
       "      <td>normal</td>\n",
       "      <td>notpresent</td>\n",
       "      <td>notpresent</td>\n",
       "      <td>NaN</td>\n",
       "      <td>...</td>\n",
       "      <td>38.0</td>\n",
       "      <td>6000.0</td>\n",
       "      <td>NaN</td>\n",
       "      <td>no</td>\n",
       "      <td>no</td>\n",
       "      <td>no</td>\n",
       "      <td>good</td>\n",
       "      <td>no</td>\n",
       "      <td>no</td>\n",
       "      <td>ckd</td>\n",
       "    </tr>\n",
       "    <tr>\n",
       "      <th>2</th>\n",
       "      <td>62.0</td>\n",
       "      <td>80.0</td>\n",
       "      <td>1.010</td>\n",
       "      <td>2.0</td>\n",
       "      <td>3.0</td>\n",
       "      <td>normal</td>\n",
       "      <td>normal</td>\n",
       "      <td>notpresent</td>\n",
       "      <td>notpresent</td>\n",
       "      <td>423.0</td>\n",
       "      <td>...</td>\n",
       "      <td>31.0</td>\n",
       "      <td>7500.0</td>\n",
       "      <td>NaN</td>\n",
       "      <td>no</td>\n",
       "      <td>yes</td>\n",
       "      <td>no</td>\n",
       "      <td>poor</td>\n",
       "      <td>no</td>\n",
       "      <td>yes</td>\n",
       "      <td>ckd</td>\n",
       "    </tr>\n",
       "    <tr>\n",
       "      <th>3</th>\n",
       "      <td>48.0</td>\n",
       "      <td>70.0</td>\n",
       "      <td>1.005</td>\n",
       "      <td>4.0</td>\n",
       "      <td>0.0</td>\n",
       "      <td>normal</td>\n",
       "      <td>abnormal</td>\n",
       "      <td>present</td>\n",
       "      <td>notpresent</td>\n",
       "      <td>117.0</td>\n",
       "      <td>...</td>\n",
       "      <td>32.0</td>\n",
       "      <td>6700.0</td>\n",
       "      <td>3.9</td>\n",
       "      <td>yes</td>\n",
       "      <td>no</td>\n",
       "      <td>no</td>\n",
       "      <td>poor</td>\n",
       "      <td>yes</td>\n",
       "      <td>yes</td>\n",
       "      <td>ckd</td>\n",
       "    </tr>\n",
       "    <tr>\n",
       "      <th>4</th>\n",
       "      <td>51.0</td>\n",
       "      <td>80.0</td>\n",
       "      <td>1.010</td>\n",
       "      <td>2.0</td>\n",
       "      <td>0.0</td>\n",
       "      <td>normal</td>\n",
       "      <td>normal</td>\n",
       "      <td>notpresent</td>\n",
       "      <td>notpresent</td>\n",
       "      <td>106.0</td>\n",
       "      <td>...</td>\n",
       "      <td>35.0</td>\n",
       "      <td>7300.0</td>\n",
       "      <td>4.6</td>\n",
       "      <td>no</td>\n",
       "      <td>no</td>\n",
       "      <td>no</td>\n",
       "      <td>good</td>\n",
       "      <td>no</td>\n",
       "      <td>no</td>\n",
       "      <td>ckd</td>\n",
       "    </tr>\n",
       "  </tbody>\n",
       "</table>\n",
       "<p>5 rows × 25 columns</p>\n",
       "</div>"
      ],
      "text/plain": [
       "    age  blood pressure  specific gravity  albumin  sugar red blood cells  \\\n",
       "0  48.0            80.0             1.020      1.0    0.0          normal   \n",
       "1   7.0            50.0             1.020      4.0    0.0        abnormal   \n",
       "2  62.0            80.0             1.010      2.0    3.0          normal   \n",
       "3  48.0            70.0             1.005      4.0    0.0          normal   \n",
       "4  51.0            80.0             1.010      2.0    0.0          normal   \n",
       "\n",
       "   pus cell pus cell clumps    bacteria  blood glucose random  ...  \\\n",
       "0    normal      notpresent  notpresent                 121.0  ...   \n",
       "1    normal      notpresent  notpresent                   NaN  ...   \n",
       "2    normal      notpresent  notpresent                 423.0  ...   \n",
       "3  abnormal         present  notpresent                 117.0  ...   \n",
       "4    normal      notpresent  notpresent                 106.0  ...   \n",
       "\n",
       "   packed cell volume  white blood cell count  red blood cell count  \\\n",
       "0                44.0                  7800.0                   5.2   \n",
       "1                38.0                  6000.0                   NaN   \n",
       "2                31.0                  7500.0                   NaN   \n",
       "3                32.0                  6700.0                   3.9   \n",
       "4                35.0                  7300.0                   4.6   \n",
       "\n",
       "   ypertension  diabetes mellitus  coronary artery disease  appetite  \\\n",
       "0          yes                yes                       no      good   \n",
       "1           no                 no                       no      good   \n",
       "2           no                yes                       no      poor   \n",
       "3          yes                 no                       no      poor   \n",
       "4           no                 no                       no      good   \n",
       "\n",
       "   pedal edema anemia class  \n",
       "0           no     no   ckd  \n",
       "1           no     no   ckd  \n",
       "2           no    yes   ckd  \n",
       "3          yes    yes   ckd  \n",
       "4           no     no   ckd  \n",
       "\n",
       "[5 rows x 25 columns]"
      ]
     },
     "execution_count": 154,
     "metadata": {},
     "output_type": "execute_result"
    }
   ],
   "source": [
    "data.loc[data['red blood cells'].isnull(), 'red blood cells']=random_sample\n",
    "data.head()"
   ]
  },
  {
   "cell_type": "code",
   "execution_count": 155,
   "metadata": {},
   "outputs": [
    {
     "data": {
      "text/plain": [
       "0"
      ]
     },
     "execution_count": 155,
     "metadata": {},
     "output_type": "execute_result"
    }
   ],
   "source": [
    "data['red blood cells'].isnull().sum()"
   ]
  },
  {
   "cell_type": "code",
   "execution_count": 156,
   "metadata": {},
   "outputs": [
    {
     "data": {
      "text/plain": [
       "<matplotlib.axes._subplots.AxesSubplot at 0x273d323f7f0>"
      ]
     },
     "execution_count": 156,
     "metadata": {},
     "output_type": "execute_result"
    },
    {
     "data": {
      "image/png": "[encoded data removed]",
      "text/plain": [
       "<Figure size 432x288 with 1 Axes>"
      ]
     },
     "metadata": {
      "needs_background": "light"
     },
     "output_type": "display_data"
    }
   ],
   "source": [
    "sns.countplot(data['red blood cells'])"
   ]
  },
  {
   "cell_type": "code",
   "execution_count": 157,
   "metadata": {},
   "outputs": [],
   "source": [
    "def Random_Value_Imputation(feature):\n",
    "    random_sample=data[feature].dropna().sample(data[feature].isnull().sum())\n",
    "    random_sample.index=data[data[feature].isnull()].index\n",
    "    data.loc[data[feature].isnull(), feature]=random_sample "
   ]
  },
  {
   "cell_type": "code",
   "execution_count": null,
   "metadata": {},
   "outputs": [],
   "source": []
  },
  {
   "cell_type": "markdown",
   "metadata": {},
   "source": [
    "### Cleaning missing values using Random Value Imputation"
   ]
  },
  {
   "cell_type": "code",
   "execution_count": 158,
   "metadata": {},
   "outputs": [
    {
     "data": {
      "text/plain": [
       "red blood cell count      131\n",
       "white blood cell count    106\n",
       "potassium                  88\n",
       "sodium                     87\n",
       "packed cell volume         71\n",
       "haemoglobin                52\n",
       "sugar                      49\n",
       "specific gravity           47\n",
       "albumin                    46\n",
       "blood glucose random       44\n",
       "blood urea                 19\n",
       "serum creatinine           17\n",
       "blood pressure             12\n",
       "age                         9\n",
       "dtype: int64"
      ]
     },
     "execution_count": 158,
     "metadata": {},
     "output_type": "execute_result"
    }
   ],
   "source": [
    "data[num_col].isnull().sum().sort_values(ascending=False)"
   ]
  },
  {
   "cell_type": "code",
   "execution_count": 159,
   "metadata": {},
   "outputs": [],
   "source": [
    "for col in num_col:\n",
    "    Random_Value_Imputation(col)"
   ]
  },
  {
   "cell_type": "code",
   "execution_count": 160,
   "metadata": {},
   "outputs": [
    {
     "data": {
      "text/plain": [
       "red blood cell count      0\n",
       "white blood cell count    0\n",
       "packed cell volume        0\n",
       "haemoglobin               0\n",
       "potassium                 0\n",
       "sodium                    0\n",
       "serum creatinine          0\n",
       "blood urea                0\n",
       "blood glucose random      0\n",
       "sugar                     0\n",
       "albumin                   0\n",
       "specific gravity          0\n",
       "blood pressure            0\n",
       "age                       0\n",
       "dtype: int64"
      ]
     },
     "execution_count": 160,
     "metadata": {},
     "output_type": "execute_result"
    }
   ],
   "source": [
    "data[num_col].isnull().sum().sort_values(ascending=False)"
   ]
  },
  {
   "cell_type": "code",
   "execution_count": 161,
   "metadata": {},
   "outputs": [
    {
     "data": {
      "text/plain": [
       " pus cell                  65\n",
       "bacteria                    4\n",
       "pus cell clumps             4\n",
       "coronary artery disease     2\n",
       "diabetes mellitus           2\n",
       "ypertension                 2\n",
       "anemia                      1\n",
       "pedal edema                 1\n",
       "appetite                    1\n",
       "class                       0\n",
       "red blood cells             0\n",
       "dtype: int64"
      ]
     },
     "execution_count": 161,
     "metadata": {},
     "output_type": "execute_result"
    }
   ],
   "source": [
    "data[cat_col].isnull().sum().sort_values(ascending=False)"
   ]
  },
  {
   "cell_type": "code",
   "execution_count": 162,
   "metadata": {},
   "outputs": [],
   "source": [
    "Random_Value_Imputation(' pus cell')"
   ]
  },
  {
   "cell_type": "code",
   "execution_count": 163,
   "metadata": {},
   "outputs": [
    {
     "data": {
      "text/plain": [
       "bacteria                   4\n",
       "pus cell clumps            4\n",
       "coronary artery disease    2\n",
       "diabetes mellitus          2\n",
       "ypertension                2\n",
       "anemia                     1\n",
       "pedal edema                1\n",
       "appetite                   1\n",
       "class                      0\n",
       " pus cell                  0\n",
       "red blood cells            0\n",
       "dtype: int64"
      ]
     },
     "execution_count": 163,
     "metadata": {},
     "output_type": "execute_result"
    }
   ],
   "source": [
    "data[cat_col].isnull().sum().sort_values(ascending=False)"
   ]
  },
  {
   "cell_type": "code",
   "execution_count": 164,
   "metadata": {},
   "outputs": [
    {
     "data": {
      "text/plain": [
       "'notpresent'"
      ]
     },
     "execution_count": 164,
     "metadata": {},
     "output_type": "execute_result"
    }
   ],
   "source": [
    "data['pus cell clumps'].mode()[0]"
   ]
  },
  {
   "cell_type": "code",
   "execution_count": 165,
   "metadata": {},
   "outputs": [],
   "source": [
    "def impute_mode(feature):\n",
    "    mode=data[feature].mode()[0]\n",
    "    data[feature]=data[feature].fillna(mode)"
   ]
  },
  {
   "cell_type": "code",
   "execution_count": 166,
   "metadata": {},
   "outputs": [],
   "source": [
    "for col in cat_col:\n",
    "    impute_mode(col)"
   ]
  },
  {
   "cell_type": "code",
   "execution_count": 167,
   "metadata": {},
   "outputs": [
    {
     "data": {
      "text/plain": [
       "red blood cells            0\n",
       " pus cell                  0\n",
       "pus cell clumps            0\n",
       "bacteria                   0\n",
       "ypertension                0\n",
       "diabetes mellitus          0\n",
       "coronary artery disease    0\n",
       "appetite                   0\n",
       "pedal edema                0\n",
       "anemia                     0\n",
       "class                      0\n",
       "dtype: int64"
      ]
     },
     "execution_count": 167,
     "metadata": {},
     "output_type": "execute_result"
    }
   ],
   "source": [
    "data[cat_col].isnull().sum()"
   ]
  },
  {
   "cell_type": "code",
   "execution_count": 168,
   "metadata": {
    "scrolled": true
   },
   "outputs": [
    {
     "data": {
      "text/html": [
       "<div>\n",
       "<style scoped>\n",
       "    .dataframe tbody tr th:only-of-type {\n",
       "        vertical-align: middle;\n",
       "    }\n",
       "\n",
       "    .dataframe tbody tr th {\n",
       "        vertical-align: top;\n",
       "    }\n",
       "\n",
       "    .dataframe thead th {\n",
       "        text-align: right;\n",
       "    }\n",
       "</style>\n",
       "<table border=\"1\" class=\"dataframe\">\n",
       "  <thead>\n",
       "    <tr style=\"text-align: right;\">\n",
       "      <th></th>\n",
       "      <th>age</th>\n",
       "      <th>blood pressure</th>\n",
       "      <th>specific gravity</th>\n",
       "      <th>albumin</th>\n",
       "      <th>sugar</th>\n",
       "      <th>red blood cells</th>\n",
       "      <th>pus cell</th>\n",
       "      <th>pus cell clumps</th>\n",
       "      <th>bacteria</th>\n",
       "      <th>blood glucose random</th>\n",
       "      <th>...</th>\n",
       "      <th>packed cell volume</th>\n",
       "      <th>white blood cell count</th>\n",
       "      <th>red blood cell count</th>\n",
       "      <th>ypertension</th>\n",
       "      <th>diabetes mellitus</th>\n",
       "      <th>coronary artery disease</th>\n",
       "      <th>appetite</th>\n",
       "      <th>pedal edema</th>\n",
       "      <th>anemia</th>\n",
       "      <th>class</th>\n",
       "    </tr>\n",
       "  </thead>\n",
       "  <tbody>\n",
       "    <tr>\n",
       "      <th>0</th>\n",
       "      <td>48.0</td>\n",
       "      <td>80.0</td>\n",
       "      <td>1.020</td>\n",
       "      <td>1.0</td>\n",
       "      <td>0.0</td>\n",
       "      <td>normal</td>\n",
       "      <td>normal</td>\n",
       "      <td>notpresent</td>\n",
       "      <td>notpresent</td>\n",
       "      <td>121.0</td>\n",
       "      <td>...</td>\n",
       "      <td>44.0</td>\n",
       "      <td>7800.0</td>\n",
       "      <td>5.2</td>\n",
       "      <td>yes</td>\n",
       "      <td>yes</td>\n",
       "      <td>no</td>\n",
       "      <td>good</td>\n",
       "      <td>no</td>\n",
       "      <td>no</td>\n",
       "      <td>ckd</td>\n",
       "    </tr>\n",
       "    <tr>\n",
       "      <th>1</th>\n",
       "      <td>7.0</td>\n",
       "      <td>50.0</td>\n",
       "      <td>1.020</td>\n",
       "      <td>4.0</td>\n",
       "      <td>0.0</td>\n",
       "      <td>abnormal</td>\n",
       "      <td>normal</td>\n",
       "      <td>notpresent</td>\n",
       "      <td>notpresent</td>\n",
       "      <td>210.0</td>\n",
       "      <td>...</td>\n",
       "      <td>38.0</td>\n",
       "      <td>6000.0</td>\n",
       "      <td>5.2</td>\n",
       "      <td>no</td>\n",
       "      <td>no</td>\n",
       "      <td>no</td>\n",
       "      <td>good</td>\n",
       "      <td>no</td>\n",
       "      <td>no</td>\n",
       "      <td>ckd</td>\n",
       "    </tr>\n",
       "    <tr>\n",
       "      <th>2</th>\n",
       "      <td>62.0</td>\n",
       "      <td>80.0</td>\n",
       "      <td>1.010</td>\n",
       "      <td>2.0</td>\n",
       "      <td>3.0</td>\n",
       "      <td>normal</td>\n",
       "      <td>normal</td>\n",
       "      <td>notpresent</td>\n",
       "      <td>notpresent</td>\n",
       "      <td>423.0</td>\n",
       "      <td>...</td>\n",
       "      <td>31.0</td>\n",
       "      <td>7500.0</td>\n",
       "      <td>6.5</td>\n",
       "      <td>no</td>\n",
       "      <td>yes</td>\n",
       "      <td>no</td>\n",
       "      <td>poor</td>\n",
       "      <td>no</td>\n",
       "      <td>yes</td>\n",
       "      <td>ckd</td>\n",
       "    </tr>\n",
       "    <tr>\n",
       "      <th>3</th>\n",
       "      <td>48.0</td>\n",
       "      <td>70.0</td>\n",
       "      <td>1.005</td>\n",
       "      <td>4.0</td>\n",
       "      <td>0.0</td>\n",
       "      <td>normal</td>\n",
       "      <td>abnormal</td>\n",
       "      <td>present</td>\n",
       "      <td>notpresent</td>\n",
       "      <td>117.0</td>\n",
       "      <td>...</td>\n",
       "      <td>32.0</td>\n",
       "      <td>6700.0</td>\n",
       "      <td>3.9</td>\n",
       "      <td>yes</td>\n",
       "      <td>no</td>\n",
       "      <td>no</td>\n",
       "      <td>poor</td>\n",
       "      <td>yes</td>\n",
       "      <td>yes</td>\n",
       "      <td>ckd</td>\n",
       "    </tr>\n",
       "    <tr>\n",
       "      <th>4</th>\n",
       "      <td>51.0</td>\n",
       "      <td>80.0</td>\n",
       "      <td>1.010</td>\n",
       "      <td>2.0</td>\n",
       "      <td>0.0</td>\n",
       "      <td>normal</td>\n",
       "      <td>normal</td>\n",
       "      <td>notpresent</td>\n",
       "      <td>notpresent</td>\n",
       "      <td>106.0</td>\n",
       "      <td>...</td>\n",
       "      <td>35.0</td>\n",
       "      <td>7300.0</td>\n",
       "      <td>4.6</td>\n",
       "      <td>no</td>\n",
       "      <td>no</td>\n",
       "      <td>no</td>\n",
       "      <td>good</td>\n",
       "      <td>no</td>\n",
       "      <td>no</td>\n",
       "      <td>ckd</td>\n",
       "    </tr>\n",
       "  </tbody>\n",
       "</table>\n",
       "<p>5 rows × 25 columns</p>\n",
       "</div>"
      ],
      "text/plain": [
       "    age  blood pressure  specific gravity  albumin  sugar red blood cells  \\\n",
       "0  48.0            80.0             1.020      1.0    0.0          normal   \n",
       "1   7.0            50.0             1.020      4.0    0.0        abnormal   \n",
       "2  62.0            80.0             1.010      2.0    3.0          normal   \n",
       "3  48.0            70.0             1.005      4.0    0.0          normal   \n",
       "4  51.0            80.0             1.010      2.0    0.0          normal   \n",
       "\n",
       "   pus cell pus cell clumps    bacteria  blood glucose random  ...  \\\n",
       "0    normal      notpresent  notpresent                 121.0  ...   \n",
       "1    normal      notpresent  notpresent                 210.0  ...   \n",
       "2    normal      notpresent  notpresent                 423.0  ...   \n",
       "3  abnormal         present  notpresent                 117.0  ...   \n",
       "4    normal      notpresent  notpresent                 106.0  ...   \n",
       "\n",
       "   packed cell volume  white blood cell count  red blood cell count  \\\n",
       "0                44.0                  7800.0                   5.2   \n",
       "1                38.0                  6000.0                   5.2   \n",
       "2                31.0                  7500.0                   6.5   \n",
       "3                32.0                  6700.0                   3.9   \n",
       "4                35.0                  7300.0                   4.6   \n",
       "\n",
       "   ypertension  diabetes mellitus  coronary artery disease  appetite  \\\n",
       "0          yes                yes                       no      good   \n",
       "1           no                 no                       no      good   \n",
       "2           no                yes                       no      poor   \n",
       "3          yes                 no                       no      poor   \n",
       "4           no                 no                       no      good   \n",
       "\n",
       "   pedal edema anemia class  \n",
       "0           no     no   ckd  \n",
       "1           no     no   ckd  \n",
       "2           no    yes   ckd  \n",
       "3          yes    yes   ckd  \n",
       "4           no     no   ckd  \n",
       "\n",
       "[5 rows x 25 columns]"
      ]
     },
     "execution_count": 168,
     "metadata": {},
     "output_type": "execute_result"
    }
   ],
   "source": [
    "data.head()"
   ]
  },
  {
   "cell_type": "code",
   "execution_count": null,
   "metadata": {},
   "outputs": [],
   "source": []
  },
  {
   "cell_type": "markdown",
   "metadata": {},
   "source": [
    "### Applying feature encoding on the data"
   ]
  },
  {
   "cell_type": "code",
   "execution_count": 169,
   "metadata": {},
   "outputs": [
    {
     "name": "stdout",
     "output_type": "stream",
     "text": [
      "red blood cells has 2 categories\n",
      " pus cell has 2 categories\n",
      "pus cell clumps has 2 categories\n",
      "bacteria has 2 categories\n",
      "ypertension has 2 categories\n",
      "diabetes mellitus has 3 categories\n",
      "coronary artery disease has 2 categories\n",
      "appetite has 2 categories\n",
      "pedal edema has 2 categories\n",
      "anemia has 2 categories\n",
      "class has 2 categories\n"
     ]
    }
   ],
   "source": [
    "for col in cat_col:\n",
    "    print('{} has {} categories'.format(col, data[col].nunique()))"
   ]
  },
  {
   "cell_type": "code",
   "execution_count": null,
   "metadata": {},
   "outputs": [],
   "source": []
  },
  {
   "cell_type": "markdown",
   "metadata": {},
   "source": [
    "#### Label Encoding"
   ]
  },
  {
   "cell_type": "code",
   "execution_count": 170,
   "metadata": {},
   "outputs": [],
   "source": [
    "from sklearn.preprocessing import LabelEncoder"
   ]
  },
  {
   "cell_type": "code",
   "execution_count": 171,
   "metadata": {},
   "outputs": [],
   "source": [
    "le=LabelEncoder()"
   ]
  },
  {
   "cell_type": "code",
   "execution_count": 172,
   "metadata": {},
   "outputs": [],
   "source": [
    "for col in cat_col:\n",
    "    data[col]=le.fit_transform(data[col])"
   ]
  },
  {
   "cell_type": "code",
   "execution_count": 173,
   "metadata": {},
   "outputs": [
    {
     "data": {
      "text/html": [
       "<div>\n",
       "<style scoped>\n",
       "    .dataframe tbody tr th:only-of-type {\n",
       "        vertical-align: middle;\n",
       "    }\n",
       "\n",
       "    .dataframe tbody tr th {\n",
       "        vertical-align: top;\n",
       "    }\n",
       "\n",
       "    .dataframe thead th {\n",
       "        text-align: right;\n",
       "    }\n",
       "</style>\n",
       "<table border=\"1\" class=\"dataframe\">\n",
       "  <thead>\n",
       "    <tr style=\"text-align: right;\">\n",
       "      <th></th>\n",
       "      <th>age</th>\n",
       "      <th>blood pressure</th>\n",
       "      <th>specific gravity</th>\n",
       "      <th>albumin</th>\n",
       "      <th>sugar</th>\n",
       "      <th>red blood cells</th>\n",
       "      <th>pus cell</th>\n",
       "      <th>pus cell clumps</th>\n",
       "      <th>bacteria</th>\n",
       "      <th>blood glucose random</th>\n",
       "      <th>...</th>\n",
       "      <th>packed cell volume</th>\n",
       "      <th>white blood cell count</th>\n",
       "      <th>red blood cell count</th>\n",
       "      <th>ypertension</th>\n",
       "      <th>diabetes mellitus</th>\n",
       "      <th>coronary artery disease</th>\n",
       "      <th>appetite</th>\n",
       "      <th>pedal edema</th>\n",
       "      <th>anemia</th>\n",
       "      <th>class</th>\n",
       "    </tr>\n",
       "  </thead>\n",
       "  <tbody>\n",
       "    <tr>\n",
       "      <th>0</th>\n",
       "      <td>48.0</td>\n",
       "      <td>80.0</td>\n",
       "      <td>1.020</td>\n",
       "      <td>1.0</td>\n",
       "      <td>0.0</td>\n",
       "      <td>1</td>\n",
       "      <td>1</td>\n",
       "      <td>0</td>\n",
       "      <td>0</td>\n",
       "      <td>121.0</td>\n",
       "      <td>...</td>\n",
       "      <td>44.0</td>\n",
       "      <td>7800.0</td>\n",
       "      <td>5.2</td>\n",
       "      <td>1</td>\n",
       "      <td>2</td>\n",
       "      <td>0</td>\n",
       "      <td>0</td>\n",
       "      <td>0</td>\n",
       "      <td>0</td>\n",
       "      <td>0</td>\n",
       "    </tr>\n",
       "    <tr>\n",
       "      <th>1</th>\n",
       "      <td>7.0</td>\n",
       "      <td>50.0</td>\n",
       "      <td>1.020</td>\n",
       "      <td>4.0</td>\n",
       "      <td>0.0</td>\n",
       "      <td>0</td>\n",
       "      <td>1</td>\n",
       "      <td>0</td>\n",
       "      <td>0</td>\n",
       "      <td>210.0</td>\n",
       "      <td>...</td>\n",
       "      <td>38.0</td>\n",
       "      <td>6000.0</td>\n",
       "      <td>5.2</td>\n",
       "      <td>0</td>\n",
       "      <td>1</td>\n",
       "      <td>0</td>\n",
       "      <td>0</td>\n",
       "      <td>0</td>\n",
       "      <td>0</td>\n",
       "      <td>0</td>\n",
       "    </tr>\n",
       "    <tr>\n",
       "      <th>2</th>\n",
       "      <td>62.0</td>\n",
       "      <td>80.0</td>\n",
       "      <td>1.010</td>\n",
       "      <td>2.0</td>\n",
       "      <td>3.0</td>\n",
       "      <td>1</td>\n",
       "      <td>1</td>\n",
       "      <td>0</td>\n",
       "      <td>0</td>\n",
       "      <td>423.0</td>\n",
       "      <td>...</td>\n",
       "      <td>31.0</td>\n",
       "      <td>7500.0</td>\n",
       "      <td>6.5</td>\n",
       "      <td>0</td>\n",
       "      <td>2</td>\n",
       "      <td>0</td>\n",
       "      <td>1</td>\n",
       "      <td>0</td>\n",
       "      <td>1</td>\n",
       "      <td>0</td>\n",
       "    </tr>\n",
       "    <tr>\n",
       "      <th>3</th>\n",
       "      <td>48.0</td>\n",
       "      <td>70.0</td>\n",
       "      <td>1.005</td>\n",
       "      <td>4.0</td>\n",
       "      <td>0.0</td>\n",
       "      <td>1</td>\n",
       "      <td>0</td>\n",
       "      <td>1</td>\n",
       "      <td>0</td>\n",
       "      <td>117.0</td>\n",
       "      <td>...</td>\n",
       "      <td>32.0</td>\n",
       "      <td>6700.0</td>\n",
       "      <td>3.9</td>\n",
       "      <td>1</td>\n",
       "      <td>1</td>\n",
       "      <td>0</td>\n",
       "      <td>1</td>\n",
       "      <td>1</td>\n",
       "      <td>1</td>\n",
       "      <td>0</td>\n",
       "    </tr>\n",
       "    <tr>\n",
       "      <th>4</th>\n",
       "      <td>51.0</td>\n",
       "      <td>80.0</td>\n",
       "      <td>1.010</td>\n",
       "      <td>2.0</td>\n",
       "      <td>0.0</td>\n",
       "      <td>1</td>\n",
       "      <td>1</td>\n",
       "      <td>0</td>\n",
       "      <td>0</td>\n",
       "      <td>106.0</td>\n",
       "      <td>...</td>\n",
       "      <td>35.0</td>\n",
       "      <td>7300.0</td>\n",
       "      <td>4.6</td>\n",
       "      <td>0</td>\n",
       "      <td>1</td>\n",
       "      <td>0</td>\n",
       "      <td>0</td>\n",
       "      <td>0</td>\n",
       "      <td>0</td>\n",
       "      <td>0</td>\n",
       "    </tr>\n",
       "  </tbody>\n",
       "</table>\n",
       "<p>5 rows × 25 columns</p>\n",
       "</div>"
      ],
      "text/plain": [
       "    age  blood pressure  specific gravity  albumin  sugar  red blood cells  \\\n",
       "0  48.0            80.0             1.020      1.0    0.0                1   \n",
       "1   7.0            50.0             1.020      4.0    0.0                0   \n",
       "2  62.0            80.0             1.010      2.0    3.0                1   \n",
       "3  48.0            70.0             1.005      4.0    0.0                1   \n",
       "4  51.0            80.0             1.010      2.0    0.0                1   \n",
       "\n",
       "    pus cell  pus cell clumps  bacteria  blood glucose random  ...  \\\n",
       "0          1                0         0                 121.0  ...   \n",
       "1          1                0         0                 210.0  ...   \n",
       "2          1                0         0                 423.0  ...   \n",
       "3          0                1         0                 117.0  ...   \n",
       "4          1                0         0                 106.0  ...   \n",
       "\n",
       "   packed cell volume  white blood cell count  red blood cell count  \\\n",
       "0                44.0                  7800.0                   5.2   \n",
       "1                38.0                  6000.0                   5.2   \n",
       "2                31.0                  7500.0                   6.5   \n",
       "3                32.0                  6700.0                   3.9   \n",
       "4                35.0                  7300.0                   4.6   \n",
       "\n",
       "   ypertension  diabetes mellitus  coronary artery disease  appetite  \\\n",
       "0            1                  2                        0         0   \n",
       "1            0                  1                        0         0   \n",
       "2            0                  2                        0         1   \n",
       "3            1                  1                        0         1   \n",
       "4            0                  1                        0         0   \n",
       "\n",
       "   pedal edema  anemia  class  \n",
       "0            0       0      0  \n",
       "1            0       0      0  \n",
       "2            0       1      0  \n",
       "3            1       1      0  \n",
       "4            0       0      0  \n",
       "\n",
       "[5 rows x 25 columns]"
      ]
     },
     "execution_count": 173,
     "metadata": {},
     "output_type": "execute_result"
    }
   ],
   "source": [
    "data.head()"
   ]
  },
  {
   "cell_type": "code",
   "execution_count": null,
   "metadata": {},
   "outputs": [],
   "source": []
  },
  {
   "cell_type": "markdown",
   "metadata": {},
   "source": [
    "### Selecting best features for the model"
   ]
  },
  {
   "cell_type": "code",
   "execution_count": 174,
   "metadata": {},
   "outputs": [],
   "source": [
    "from sklearn.feature_selection import SelectKBest\n",
    "from sklearn.feature_selection import chi2"
   ]
  },
  {
   "cell_type": "code",
   "execution_count": 175,
   "metadata": {},
   "outputs": [],
   "source": [
    "ind_col=[col for col in data.columns if col!='class']\n",
    "dep_col='class'"
   ]
  },
  {
   "cell_type": "code",
   "execution_count": 176,
   "metadata": {},
   "outputs": [],
   "source": [
    "x=data[ind_col]\n",
    "y=data[dep_col]"
   ]
  },
  {
   "cell_type": "code",
   "execution_count": 177,
   "metadata": {},
   "outputs": [
    {
     "data": {
      "text/html": [
       "<div>\n",
       "<style scoped>\n",
       "    .dataframe tbody tr th:only-of-type {\n",
       "        vertical-align: middle;\n",
       "    }\n",
       "\n",
       "    .dataframe tbody tr th {\n",
       "        vertical-align: top;\n",
       "    }\n",
       "\n",
       "    .dataframe thead th {\n",
       "        text-align: right;\n",
       "    }\n",
       "</style>\n",
       "<table border=\"1\" class=\"dataframe\">\n",
       "  <thead>\n",
       "    <tr style=\"text-align: right;\">\n",
       "      <th></th>\n",
       "      <th>age</th>\n",
       "      <th>blood pressure</th>\n",
       "      <th>specific gravity</th>\n",
       "      <th>albumin</th>\n",
       "      <th>sugar</th>\n",
       "      <th>red blood cells</th>\n",
       "      <th>pus cell</th>\n",
       "      <th>pus cell clumps</th>\n",
       "      <th>bacteria</th>\n",
       "      <th>blood glucose random</th>\n",
       "      <th>...</th>\n",
       "      <th>haemoglobin</th>\n",
       "      <th>packed cell volume</th>\n",
       "      <th>white blood cell count</th>\n",
       "      <th>red blood cell count</th>\n",
       "      <th>ypertension</th>\n",
       "      <th>diabetes mellitus</th>\n",
       "      <th>coronary artery disease</th>\n",
       "      <th>appetite</th>\n",
       "      <th>pedal edema</th>\n",
       "      <th>anemia</th>\n",
       "    </tr>\n",
       "  </thead>\n",
       "  <tbody>\n",
       "    <tr>\n",
       "      <th>0</th>\n",
       "      <td>48.0</td>\n",
       "      <td>80.0</td>\n",
       "      <td>1.020</td>\n",
       "      <td>1.0</td>\n",
       "      <td>0.0</td>\n",
       "      <td>1</td>\n",
       "      <td>1</td>\n",
       "      <td>0</td>\n",
       "      <td>0</td>\n",
       "      <td>121.0</td>\n",
       "      <td>...</td>\n",
       "      <td>15.4</td>\n",
       "      <td>44.0</td>\n",
       "      <td>7800.0</td>\n",
       "      <td>5.2</td>\n",
       "      <td>1</td>\n",
       "      <td>2</td>\n",
       "      <td>0</td>\n",
       "      <td>0</td>\n",
       "      <td>0</td>\n",
       "      <td>0</td>\n",
       "    </tr>\n",
       "    <tr>\n",
       "      <th>1</th>\n",
       "      <td>7.0</td>\n",
       "      <td>50.0</td>\n",
       "      <td>1.020</td>\n",
       "      <td>4.0</td>\n",
       "      <td>0.0</td>\n",
       "      <td>0</td>\n",
       "      <td>1</td>\n",
       "      <td>0</td>\n",
       "      <td>0</td>\n",
       "      <td>210.0</td>\n",
       "      <td>...</td>\n",
       "      <td>11.3</td>\n",
       "      <td>38.0</td>\n",
       "      <td>6000.0</td>\n",
       "      <td>5.2</td>\n",
       "      <td>0</td>\n",
       "      <td>1</td>\n",
       "      <td>0</td>\n",
       "      <td>0</td>\n",
       "      <td>0</td>\n",
       "      <td>0</td>\n",
       "    </tr>\n",
       "    <tr>\n",
       "      <th>2</th>\n",
       "      <td>62.0</td>\n",
       "      <td>80.0</td>\n",
       "      <td>1.010</td>\n",
       "      <td>2.0</td>\n",
       "      <td>3.0</td>\n",
       "      <td>1</td>\n",
       "      <td>1</td>\n",
       "      <td>0</td>\n",
       "      <td>0</td>\n",
       "      <td>423.0</td>\n",
       "      <td>...</td>\n",
       "      <td>9.6</td>\n",
       "      <td>31.0</td>\n",
       "      <td>7500.0</td>\n",
       "      <td>6.5</td>\n",
       "      <td>0</td>\n",
       "      <td>2</td>\n",
       "      <td>0</td>\n",
       "      <td>1</td>\n",
       "      <td>0</td>\n",
       "      <td>1</td>\n",
       "    </tr>\n",
       "    <tr>\n",
       "      <th>3</th>\n",
       "      <td>48.0</td>\n",
       "      <td>70.0</td>\n",
       "      <td>1.005</td>\n",
       "      <td>4.0</td>\n",
       "      <td>0.0</td>\n",
       "      <td>1</td>\n",
       "      <td>0</td>\n",
       "      <td>1</td>\n",
       "      <td>0</td>\n",
       "      <td>117.0</td>\n",
       "      <td>...</td>\n",
       "      <td>11.2</td>\n",
       "      <td>32.0</td>\n",
       "      <td>6700.0</td>\n",
       "      <td>3.9</td>\n",
       "      <td>1</td>\n",
       "      <td>1</td>\n",
       "      <td>0</td>\n",
       "      <td>1</td>\n",
       "      <td>1</td>\n",
       "      <td>1</td>\n",
       "    </tr>\n",
       "    <tr>\n",
       "      <th>4</th>\n",
       "      <td>51.0</td>\n",
       "      <td>80.0</td>\n",
       "      <td>1.010</td>\n",
       "      <td>2.0</td>\n",
       "      <td>0.0</td>\n",
       "      <td>1</td>\n",
       "      <td>1</td>\n",
       "      <td>0</td>\n",
       "      <td>0</td>\n",
       "      <td>106.0</td>\n",
       "      <td>...</td>\n",
       "      <td>11.6</td>\n",
       "      <td>35.0</td>\n",
       "      <td>7300.0</td>\n",
       "      <td>4.6</td>\n",
       "      <td>0</td>\n",
       "      <td>1</td>\n",
       "      <td>0</td>\n",
       "      <td>0</td>\n",
       "      <td>0</td>\n",
       "      <td>0</td>\n",
       "    </tr>\n",
       "  </tbody>\n",
       "</table>\n",
       "<p>5 rows × 24 columns</p>\n",
       "</div>"
      ],
      "text/plain": [
       "    age  blood pressure  specific gravity  albumin  sugar  red blood cells  \\\n",
       "0  48.0            80.0             1.020      1.0    0.0                1   \n",
       "1   7.0            50.0             1.020      4.0    0.0                0   \n",
       "2  62.0            80.0             1.010      2.0    3.0                1   \n",
       "3  48.0            70.0             1.005      4.0    0.0                1   \n",
       "4  51.0            80.0             1.010      2.0    0.0                1   \n",
       "\n",
       "    pus cell  pus cell clumps  bacteria  blood glucose random  ...  \\\n",
       "0          1                0         0                 121.0  ...   \n",
       "1          1                0         0                 210.0  ...   \n",
       "2          1                0         0                 423.0  ...   \n",
       "3          0                1         0                 117.0  ...   \n",
       "4          1                0         0                 106.0  ...   \n",
       "\n",
       "   haemoglobin  packed cell volume  white blood cell count  \\\n",
       "0         15.4                44.0                  7800.0   \n",
       "1         11.3                38.0                  6000.0   \n",
       "2          9.6                31.0                  7500.0   \n",
       "3         11.2                32.0                  6700.0   \n",
       "4         11.6                35.0                  7300.0   \n",
       "\n",
       "   red blood cell count  ypertension  diabetes mellitus  \\\n",
       "0                   5.2            1                  2   \n",
       "1                   5.2            0                  1   \n",
       "2                   6.5            0                  2   \n",
       "3                   3.9            1                  1   \n",
       "4                   4.6            0                  1   \n",
       "\n",
       "   coronary artery disease  appetite  pedal edema  anemia  \n",
       "0                        0         0            0       0  \n",
       "1                        0         0            0       0  \n",
       "2                        0         1            0       1  \n",
       "3                        0         1            1       1  \n",
       "4                        0         0            0       0  \n",
       "\n",
       "[5 rows x 24 columns]"
      ]
     },
     "execution_count": 177,
     "metadata": {},
     "output_type": "execute_result"
    }
   ],
   "source": [
    "x.head()"
   ]
  },
  {
   "cell_type": "code",
   "execution_count": 178,
   "metadata": {},
   "outputs": [
    {
     "data": {
      "text/plain": [
       "0    0\n",
       "1    0\n",
       "2    0\n",
       "3    0\n",
       "4    0\n",
       "Name: class, dtype: int32"
      ]
     },
     "execution_count": 178,
     "metadata": {},
     "output_type": "execute_result"
    }
   ],
   "source": [
    "y.head()"
   ]
  },
  {
   "cell_type": "code",
   "execution_count": 179,
   "metadata": {},
   "outputs": [],
   "source": [
    "ordered_rank_features=SelectKBest(score_func=chi2, k=20)\n",
    "ordered_feature=ordered_rank_features.fit(x, y)"
   ]
  },
  {
   "cell_type": "code",
   "execution_count": 180,
   "metadata": {},
   "outputs": [
    {
     "data": {
      "text/plain": [
       "SelectKBest(k=20, score_func=<function chi2 at 0x00000273D0652CA0>)"
      ]
     },
     "execution_count": 180,
     "metadata": {},
     "output_type": "execute_result"
    }
   ],
   "source": [
    "ordered_feature"
   ]
  },
  {
   "cell_type": "code",
   "execution_count": 181,
   "metadata": {},
   "outputs": [
    {
     "data": {
      "text/plain": [
       "array([9.97965051e+01, 8.56983920e+01, 5.56752418e-03, 2.16990840e+02,\n",
       "       1.02893773e+02, 9.24773663e+00, 1.20891005e+01, 2.52000000e+01,\n",
       "       1.32000000e+01, 2.36223275e+03, 2.30443240e+03, 3.65626932e+02,\n",
       "       3.18442565e+01, 2.78503003e+00, 1.23507925e+02, 3.09000145e+02,\n",
       "       1.32849926e+04, 1.75593334e+01, 8.82000000e+01, 2.04392523e+01,\n",
       "       2.04000000e+01, 4.92000000e+01, 4.56000000e+01, 3.60000000e+01])"
      ]
     },
     "execution_count": 181,
     "metadata": {},
     "output_type": "execute_result"
    }
   ],
   "source": [
    "ordered_feature.scores_"
   ]
  },
  {
   "cell_type": "code",
   "execution_count": 182,
   "metadata": {},
   "outputs": [],
   "source": [
    "datascores=pd.DataFrame(ordered_feature.scores_, columns=['Score'])"
   ]
  },
  {
   "cell_type": "code",
   "execution_count": 183,
   "metadata": {},
   "outputs": [
    {
     "data": {
      "text/html": [
       "<div>\n",
       "<style scoped>\n",
       "    .dataframe tbody tr th:only-of-type {\n",
       "        vertical-align: middle;\n",
       "    }\n",
       "\n",
       "    .dataframe tbody tr th {\n",
       "        vertical-align: top;\n",
       "    }\n",
       "\n",
       "    .dataframe thead th {\n",
       "        text-align: right;\n",
       "    }\n",
       "</style>\n",
       "<table border=\"1\" class=\"dataframe\">\n",
       "  <thead>\n",
       "    <tr style=\"text-align: right;\">\n",
       "      <th></th>\n",
       "      <th>Score</th>\n",
       "    </tr>\n",
       "  </thead>\n",
       "  <tbody>\n",
       "    <tr>\n",
       "      <th>0</th>\n",
       "      <td>99.796505</td>\n",
       "    </tr>\n",
       "    <tr>\n",
       "      <th>1</th>\n",
       "      <td>85.698392</td>\n",
       "    </tr>\n",
       "    <tr>\n",
       "      <th>2</th>\n",
       "      <td>0.005568</td>\n",
       "    </tr>\n",
       "    <tr>\n",
       "      <th>3</th>\n",
       "      <td>216.990840</td>\n",
       "    </tr>\n",
       "    <tr>\n",
       "      <th>4</th>\n",
       "      <td>102.893773</td>\n",
       "    </tr>\n",
       "    <tr>\n",
       "      <th>5</th>\n",
       "      <td>9.247737</td>\n",
       "    </tr>\n",
       "    <tr>\n",
       "      <th>6</th>\n",
       "      <td>12.089101</td>\n",
       "    </tr>\n",
       "    <tr>\n",
       "      <th>7</th>\n",
       "      <td>25.200000</td>\n",
       "    </tr>\n",
       "    <tr>\n",
       "      <th>8</th>\n",
       "      <td>13.200000</td>\n",
       "    </tr>\n",
       "    <tr>\n",
       "      <th>9</th>\n",
       "      <td>2362.232751</td>\n",
       "    </tr>\n",
       "    <tr>\n",
       "      <th>10</th>\n",
       "      <td>2304.432403</td>\n",
       "    </tr>\n",
       "    <tr>\n",
       "      <th>11</th>\n",
       "      <td>365.626932</td>\n",
       "    </tr>\n",
       "    <tr>\n",
       "      <th>12</th>\n",
       "      <td>31.844256</td>\n",
       "    </tr>\n",
       "    <tr>\n",
       "      <th>13</th>\n",
       "      <td>2.785030</td>\n",
       "    </tr>\n",
       "    <tr>\n",
       "      <th>14</th>\n",
       "      <td>123.507925</td>\n",
       "    </tr>\n",
       "    <tr>\n",
       "      <th>15</th>\n",
       "      <td>309.000145</td>\n",
       "    </tr>\n",
       "    <tr>\n",
       "      <th>16</th>\n",
       "      <td>13284.992613</td>\n",
       "    </tr>\n",
       "    <tr>\n",
       "      <th>17</th>\n",
       "      <td>17.559333</td>\n",
       "    </tr>\n",
       "    <tr>\n",
       "      <th>18</th>\n",
       "      <td>88.200000</td>\n",
       "    </tr>\n",
       "    <tr>\n",
       "      <th>19</th>\n",
       "      <td>20.439252</td>\n",
       "    </tr>\n",
       "    <tr>\n",
       "      <th>20</th>\n",
       "      <td>20.400000</td>\n",
       "    </tr>\n",
       "    <tr>\n",
       "      <th>21</th>\n",
       "      <td>49.200000</td>\n",
       "    </tr>\n",
       "    <tr>\n",
       "      <th>22</th>\n",
       "      <td>45.600000</td>\n",
       "    </tr>\n",
       "    <tr>\n",
       "      <th>23</th>\n",
       "      <td>36.000000</td>\n",
       "    </tr>\n",
       "  </tbody>\n",
       "</table>\n",
       "</div>"
      ],
      "text/plain": [
       "           Score\n",
       "0      99.796505\n",
       "1      85.698392\n",
       "2       0.005568\n",
       "3     216.990840\n",
       "4     102.893773\n",
       "5       9.247737\n",
       "6      12.089101\n",
       "7      25.200000\n",
       "8      13.200000\n",
       "9    2362.232751\n",
       "10   2304.432403\n",
       "11    365.626932\n",
       "12     31.844256\n",
       "13      2.785030\n",
       "14    123.507925\n",
       "15    309.000145\n",
       "16  13284.992613\n",
       "17     17.559333\n",
       "18     88.200000\n",
       "19     20.439252\n",
       "20     20.400000\n",
       "21     49.200000\n",
       "22     45.600000\n",
       "23     36.000000"
      ]
     },
     "execution_count": 183,
     "metadata": {},
     "output_type": "execute_result"
    }
   ],
   "source": [
    "datascores"
   ]
  },
  {
   "cell_type": "code",
   "execution_count": 184,
   "metadata": {},
   "outputs": [
    {
     "data": {
      "text/html": [
       "<div>\n",
       "<style scoped>\n",
       "    .dataframe tbody tr th:only-of-type {\n",
       "        vertical-align: middle;\n",
       "    }\n",
       "\n",
       "    .dataframe tbody tr th {\n",
       "        vertical-align: top;\n",
       "    }\n",
       "\n",
       "    .dataframe thead th {\n",
       "        text-align: right;\n",
       "    }\n",
       "</style>\n",
       "<table border=\"1\" class=\"dataframe\">\n",
       "  <thead>\n",
       "    <tr style=\"text-align: right;\">\n",
       "      <th></th>\n",
       "      <th>0</th>\n",
       "    </tr>\n",
       "  </thead>\n",
       "  <tbody>\n",
       "    <tr>\n",
       "      <th>0</th>\n",
       "      <td>age</td>\n",
       "    </tr>\n",
       "    <tr>\n",
       "      <th>1</th>\n",
       "      <td>blood pressure</td>\n",
       "    </tr>\n",
       "    <tr>\n",
       "      <th>2</th>\n",
       "      <td>specific gravity</td>\n",
       "    </tr>\n",
       "    <tr>\n",
       "      <th>3</th>\n",
       "      <td>albumin</td>\n",
       "    </tr>\n",
       "    <tr>\n",
       "      <th>4</th>\n",
       "      <td>sugar</td>\n",
       "    </tr>\n",
       "    <tr>\n",
       "      <th>5</th>\n",
       "      <td>red blood cells</td>\n",
       "    </tr>\n",
       "    <tr>\n",
       "      <th>6</th>\n",
       "      <td>pus cell</td>\n",
       "    </tr>\n",
       "    <tr>\n",
       "      <th>7</th>\n",
       "      <td>pus cell clumps</td>\n",
       "    </tr>\n",
       "    <tr>\n",
       "      <th>8</th>\n",
       "      <td>bacteria</td>\n",
       "    </tr>\n",
       "    <tr>\n",
       "      <th>9</th>\n",
       "      <td>blood glucose random</td>\n",
       "    </tr>\n",
       "    <tr>\n",
       "      <th>10</th>\n",
       "      <td>blood urea</td>\n",
       "    </tr>\n",
       "    <tr>\n",
       "      <th>11</th>\n",
       "      <td>serum creatinine</td>\n",
       "    </tr>\n",
       "    <tr>\n",
       "      <th>12</th>\n",
       "      <td>sodium</td>\n",
       "    </tr>\n",
       "    <tr>\n",
       "      <th>13</th>\n",
       "      <td>potassium</td>\n",
       "    </tr>\n",
       "    <tr>\n",
       "      <th>14</th>\n",
       "      <td>haemoglobin</td>\n",
       "    </tr>\n",
       "    <tr>\n",
       "      <th>15</th>\n",
       "      <td>packed cell volume</td>\n",
       "    </tr>\n",
       "    <tr>\n",
       "      <th>16</th>\n",
       "      <td>white blood cell count</td>\n",
       "    </tr>\n",
       "    <tr>\n",
       "      <th>17</th>\n",
       "      <td>red blood cell count</td>\n",
       "    </tr>\n",
       "    <tr>\n",
       "      <th>18</th>\n",
       "      <td>ypertension</td>\n",
       "    </tr>\n",
       "    <tr>\n",
       "      <th>19</th>\n",
       "      <td>diabetes mellitus</td>\n",
       "    </tr>\n",
       "    <tr>\n",
       "      <th>20</th>\n",
       "      <td>coronary artery disease</td>\n",
       "    </tr>\n",
       "    <tr>\n",
       "      <th>21</th>\n",
       "      <td>appetite</td>\n",
       "    </tr>\n",
       "    <tr>\n",
       "      <th>22</th>\n",
       "      <td>pedal edema</td>\n",
       "    </tr>\n",
       "    <tr>\n",
       "      <th>23</th>\n",
       "      <td>anemia</td>\n",
       "    </tr>\n",
       "  </tbody>\n",
       "</table>\n",
       "</div>"
      ],
      "text/plain": [
       "                          0\n",
       "0                       age\n",
       "1            blood pressure\n",
       "2          specific gravity\n",
       "3                   albumin\n",
       "4                     sugar\n",
       "5           red blood cells\n",
       "6                  pus cell\n",
       "7           pus cell clumps\n",
       "8                  bacteria\n",
       "9      blood glucose random\n",
       "10               blood urea\n",
       "11         serum creatinine\n",
       "12                   sodium\n",
       "13                potassium\n",
       "14              haemoglobin\n",
       "15       packed cell volume\n",
       "16   white blood cell count\n",
       "17     red blood cell count\n",
       "18              ypertension\n",
       "19        diabetes mellitus\n",
       "20  coronary artery disease\n",
       "21                 appetite\n",
       "22              pedal edema\n",
       "23                   anemia"
      ]
     },
     "execution_count": 184,
     "metadata": {},
     "output_type": "execute_result"
    }
   ],
   "source": [
    "dfcols=pd.DataFrame(x.columns)\n",
    "dfcols"
   ]
  },
  {
   "cell_type": "code",
   "execution_count": 185,
   "metadata": {},
   "outputs": [
    {
     "data": {
      "text/html": [
       "<div>\n",
       "<style scoped>\n",
       "    .dataframe tbody tr th:only-of-type {\n",
       "        vertical-align: middle;\n",
       "    }\n",
       "\n",
       "    .dataframe tbody tr th {\n",
       "        vertical-align: top;\n",
       "    }\n",
       "\n",
       "    .dataframe thead th {\n",
       "        text-align: right;\n",
       "    }\n",
       "</style>\n",
       "<table border=\"1\" class=\"dataframe\">\n",
       "  <thead>\n",
       "    <tr style=\"text-align: right;\">\n",
       "      <th></th>\n",
       "      <th>0</th>\n",
       "      <th>Score</th>\n",
       "    </tr>\n",
       "  </thead>\n",
       "  <tbody>\n",
       "    <tr>\n",
       "      <th>0</th>\n",
       "      <td>age</td>\n",
       "      <td>99.796505</td>\n",
       "    </tr>\n",
       "    <tr>\n",
       "      <th>1</th>\n",
       "      <td>blood pressure</td>\n",
       "      <td>85.698392</td>\n",
       "    </tr>\n",
       "    <tr>\n",
       "      <th>2</th>\n",
       "      <td>specific gravity</td>\n",
       "      <td>0.005568</td>\n",
       "    </tr>\n",
       "    <tr>\n",
       "      <th>3</th>\n",
       "      <td>albumin</td>\n",
       "      <td>216.990840</td>\n",
       "    </tr>\n",
       "    <tr>\n",
       "      <th>4</th>\n",
       "      <td>sugar</td>\n",
       "      <td>102.893773</td>\n",
       "    </tr>\n",
       "    <tr>\n",
       "      <th>5</th>\n",
       "      <td>red blood cells</td>\n",
       "      <td>9.247737</td>\n",
       "    </tr>\n",
       "    <tr>\n",
       "      <th>6</th>\n",
       "      <td>pus cell</td>\n",
       "      <td>12.089101</td>\n",
       "    </tr>\n",
       "    <tr>\n",
       "      <th>7</th>\n",
       "      <td>pus cell clumps</td>\n",
       "      <td>25.200000</td>\n",
       "    </tr>\n",
       "    <tr>\n",
       "      <th>8</th>\n",
       "      <td>bacteria</td>\n",
       "      <td>13.200000</td>\n",
       "    </tr>\n",
       "    <tr>\n",
       "      <th>9</th>\n",
       "      <td>blood glucose random</td>\n",
       "      <td>2362.232751</td>\n",
       "    </tr>\n",
       "    <tr>\n",
       "      <th>10</th>\n",
       "      <td>blood urea</td>\n",
       "      <td>2304.432403</td>\n",
       "    </tr>\n",
       "    <tr>\n",
       "      <th>11</th>\n",
       "      <td>serum creatinine</td>\n",
       "      <td>365.626932</td>\n",
       "    </tr>\n",
       "    <tr>\n",
       "      <th>12</th>\n",
       "      <td>sodium</td>\n",
       "      <td>31.844256</td>\n",
       "    </tr>\n",
       "    <tr>\n",
       "      <th>13</th>\n",
       "      <td>potassium</td>\n",
       "      <td>2.785030</td>\n",
       "    </tr>\n",
       "    <tr>\n",
       "      <th>14</th>\n",
       "      <td>haemoglobin</td>\n",
       "      <td>123.507925</td>\n",
       "    </tr>\n",
       "    <tr>\n",
       "      <th>15</th>\n",
       "      <td>packed cell volume</td>\n",
       "      <td>309.000145</td>\n",
       "    </tr>\n",
       "    <tr>\n",
       "      <th>16</th>\n",
       "      <td>white blood cell count</td>\n",
       "      <td>13284.992613</td>\n",
       "    </tr>\n",
       "    <tr>\n",
       "      <th>17</th>\n",
       "      <td>red blood cell count</td>\n",
       "      <td>17.559333</td>\n",
       "    </tr>\n",
       "    <tr>\n",
       "      <th>18</th>\n",
       "      <td>ypertension</td>\n",
       "      <td>88.200000</td>\n",
       "    </tr>\n",
       "    <tr>\n",
       "      <th>19</th>\n",
       "      <td>diabetes mellitus</td>\n",
       "      <td>20.439252</td>\n",
       "    </tr>\n",
       "    <tr>\n",
       "      <th>20</th>\n",
       "      <td>coronary artery disease</td>\n",
       "      <td>20.400000</td>\n",
       "    </tr>\n",
       "    <tr>\n",
       "      <th>21</th>\n",
       "      <td>appetite</td>\n",
       "      <td>49.200000</td>\n",
       "    </tr>\n",
       "    <tr>\n",
       "      <th>22</th>\n",
       "      <td>pedal edema</td>\n",
       "      <td>45.600000</td>\n",
       "    </tr>\n",
       "    <tr>\n",
       "      <th>23</th>\n",
       "      <td>anemia</td>\n",
       "      <td>36.000000</td>\n",
       "    </tr>\n",
       "  </tbody>\n",
       "</table>\n",
       "</div>"
      ],
      "text/plain": [
       "                          0         Score\n",
       "0                       age     99.796505\n",
       "1            blood pressure     85.698392\n",
       "2          specific gravity      0.005568\n",
       "3                   albumin    216.990840\n",
       "4                     sugar    102.893773\n",
       "5           red blood cells      9.247737\n",
       "6                  pus cell     12.089101\n",
       "7           pus cell clumps     25.200000\n",
       "8                  bacteria     13.200000\n",
       "9      blood glucose random   2362.232751\n",
       "10               blood urea   2304.432403\n",
       "11         serum creatinine    365.626932\n",
       "12                   sodium     31.844256\n",
       "13                potassium      2.785030\n",
       "14              haemoglobin    123.507925\n",
       "15       packed cell volume    309.000145\n",
       "16   white blood cell count  13284.992613\n",
       "17     red blood cell count     17.559333\n",
       "18              ypertension     88.200000\n",
       "19        diabetes mellitus     20.439252\n",
       "20  coronary artery disease     20.400000\n",
       "21                 appetite     49.200000\n",
       "22              pedal edema     45.600000\n",
       "23                   anemia     36.000000"
      ]
     },
     "execution_count": 185,
     "metadata": {},
     "output_type": "execute_result"
    }
   ],
   "source": [
    "features_rank=pd.concat([dfcols, datascores], axis=1)\n",
    "features_rank "
   ]
  },
  {
   "cell_type": "code",
   "execution_count": 186,
   "metadata": {},
   "outputs": [
    {
     "data": {
      "text/html": [
       "<div>\n",
       "<style scoped>\n",
       "    .dataframe tbody tr th:only-of-type {\n",
       "        vertical-align: middle;\n",
       "    }\n",
       "\n",
       "    .dataframe tbody tr th {\n",
       "        vertical-align: top;\n",
       "    }\n",
       "\n",
       "    .dataframe thead th {\n",
       "        text-align: right;\n",
       "    }\n",
       "</style>\n",
       "<table border=\"1\" class=\"dataframe\">\n",
       "  <thead>\n",
       "    <tr style=\"text-align: right;\">\n",
       "      <th></th>\n",
       "      <th>features</th>\n",
       "      <th>Score</th>\n",
       "    </tr>\n",
       "  </thead>\n",
       "  <tbody>\n",
       "    <tr>\n",
       "      <th>0</th>\n",
       "      <td>age</td>\n",
       "      <td>99.796505</td>\n",
       "    </tr>\n",
       "    <tr>\n",
       "      <th>1</th>\n",
       "      <td>blood pressure</td>\n",
       "      <td>85.698392</td>\n",
       "    </tr>\n",
       "    <tr>\n",
       "      <th>2</th>\n",
       "      <td>specific gravity</td>\n",
       "      <td>0.005568</td>\n",
       "    </tr>\n",
       "    <tr>\n",
       "      <th>3</th>\n",
       "      <td>albumin</td>\n",
       "      <td>216.990840</td>\n",
       "    </tr>\n",
       "    <tr>\n",
       "      <th>4</th>\n",
       "      <td>sugar</td>\n",
       "      <td>102.893773</td>\n",
       "    </tr>\n",
       "    <tr>\n",
       "      <th>5</th>\n",
       "      <td>red blood cells</td>\n",
       "      <td>9.247737</td>\n",
       "    </tr>\n",
       "    <tr>\n",
       "      <th>6</th>\n",
       "      <td>pus cell</td>\n",
       "      <td>12.089101</td>\n",
       "    </tr>\n",
       "    <tr>\n",
       "      <th>7</th>\n",
       "      <td>pus cell clumps</td>\n",
       "      <td>25.200000</td>\n",
       "    </tr>\n",
       "    <tr>\n",
       "      <th>8</th>\n",
       "      <td>bacteria</td>\n",
       "      <td>13.200000</td>\n",
       "    </tr>\n",
       "    <tr>\n",
       "      <th>9</th>\n",
       "      <td>blood glucose random</td>\n",
       "      <td>2362.232751</td>\n",
       "    </tr>\n",
       "    <tr>\n",
       "      <th>10</th>\n",
       "      <td>blood urea</td>\n",
       "      <td>2304.432403</td>\n",
       "    </tr>\n",
       "    <tr>\n",
       "      <th>11</th>\n",
       "      <td>serum creatinine</td>\n",
       "      <td>365.626932</td>\n",
       "    </tr>\n",
       "    <tr>\n",
       "      <th>12</th>\n",
       "      <td>sodium</td>\n",
       "      <td>31.844256</td>\n",
       "    </tr>\n",
       "    <tr>\n",
       "      <th>13</th>\n",
       "      <td>potassium</td>\n",
       "      <td>2.785030</td>\n",
       "    </tr>\n",
       "    <tr>\n",
       "      <th>14</th>\n",
       "      <td>haemoglobin</td>\n",
       "      <td>123.507925</td>\n",
       "    </tr>\n",
       "    <tr>\n",
       "      <th>15</th>\n",
       "      <td>packed cell volume</td>\n",
       "      <td>309.000145</td>\n",
       "    </tr>\n",
       "    <tr>\n",
       "      <th>16</th>\n",
       "      <td>white blood cell count</td>\n",
       "      <td>13284.992613</td>\n",
       "    </tr>\n",
       "    <tr>\n",
       "      <th>17</th>\n",
       "      <td>red blood cell count</td>\n",
       "      <td>17.559333</td>\n",
       "    </tr>\n",
       "    <tr>\n",
       "      <th>18</th>\n",
       "      <td>ypertension</td>\n",
       "      <td>88.200000</td>\n",
       "    </tr>\n",
       "    <tr>\n",
       "      <th>19</th>\n",
       "      <td>diabetes mellitus</td>\n",
       "      <td>20.439252</td>\n",
       "    </tr>\n",
       "    <tr>\n",
       "      <th>20</th>\n",
       "      <td>coronary artery disease</td>\n",
       "      <td>20.400000</td>\n",
       "    </tr>\n",
       "    <tr>\n",
       "      <th>21</th>\n",
       "      <td>appetite</td>\n",
       "      <td>49.200000</td>\n",
       "    </tr>\n",
       "    <tr>\n",
       "      <th>22</th>\n",
       "      <td>pedal edema</td>\n",
       "      <td>45.600000</td>\n",
       "    </tr>\n",
       "    <tr>\n",
       "      <th>23</th>\n",
       "      <td>anemia</td>\n",
       "      <td>36.000000</td>\n",
       "    </tr>\n",
       "  </tbody>\n",
       "</table>\n",
       "</div>"
      ],
      "text/plain": [
       "                   features         Score\n",
       "0                       age     99.796505\n",
       "1            blood pressure     85.698392\n",
       "2          specific gravity      0.005568\n",
       "3                   albumin    216.990840\n",
       "4                     sugar    102.893773\n",
       "5           red blood cells      9.247737\n",
       "6                  pus cell     12.089101\n",
       "7           pus cell clumps     25.200000\n",
       "8                  bacteria     13.200000\n",
       "9      blood glucose random   2362.232751\n",
       "10               blood urea   2304.432403\n",
       "11         serum creatinine    365.626932\n",
       "12                   sodium     31.844256\n",
       "13                potassium      2.785030\n",
       "14              haemoglobin    123.507925\n",
       "15       packed cell volume    309.000145\n",
       "16   white blood cell count  13284.992613\n",
       "17     red blood cell count     17.559333\n",
       "18              ypertension     88.200000\n",
       "19        diabetes mellitus     20.439252\n",
       "20  coronary artery disease     20.400000\n",
       "21                 appetite     49.200000\n",
       "22              pedal edema     45.600000\n",
       "23                   anemia     36.000000"
      ]
     },
     "execution_count": 186,
     "metadata": {},
     "output_type": "execute_result"
    }
   ],
   "source": [
    "features_rank.columns=['features', 'Score']\n",
    "features_rank "
   ]
  },
  {
   "cell_type": "code",
   "execution_count": 187,
   "metadata": {},
   "outputs": [],
   "source": [
    "selected_columns=features_rank.nlargest(10, 'Score')['features'].values"
   ]
  },
  {
   "cell_type": "code",
   "execution_count": 188,
   "metadata": {},
   "outputs": [
    {
     "data": {
      "text/plain": [
       "array(['white blood cell count', 'blood glucose random', 'blood urea',\n",
       "       'serum creatinine', 'packed cell volume', 'albumin', 'haemoglobin',\n",
       "       'sugar', 'age', 'ypertension'], dtype=object)"
      ]
     },
     "execution_count": 188,
     "metadata": {},
     "output_type": "execute_result"
    }
   ],
   "source": [
    "selected_columns"
   ]
  },
  {
   "cell_type": "code",
   "execution_count": 189,
   "metadata": {},
   "outputs": [],
   "source": [
    "x_new=data[selected_columns]"
   ]
  },
  {
   "cell_type": "code",
   "execution_count": 190,
   "metadata": {},
   "outputs": [
    {
     "data": {
      "text/html": [
       "<div>\n",
       "<style scoped>\n",
       "    .dataframe tbody tr th:only-of-type {\n",
       "        vertical-align: middle;\n",
       "    }\n",
       "\n",
       "    .dataframe tbody tr th {\n",
       "        vertical-align: top;\n",
       "    }\n",
       "\n",
       "    .dataframe thead th {\n",
       "        text-align: right;\n",
       "    }\n",
       "</style>\n",
       "<table border=\"1\" class=\"dataframe\">\n",
       "  <thead>\n",
       "    <tr style=\"text-align: right;\">\n",
       "      <th></th>\n",
       "      <th>white blood cell count</th>\n",
       "      <th>blood glucose random</th>\n",
       "      <th>blood urea</th>\n",
       "      <th>serum creatinine</th>\n",
       "      <th>packed cell volume</th>\n",
       "      <th>albumin</th>\n",
       "      <th>haemoglobin</th>\n",
       "      <th>sugar</th>\n",
       "      <th>age</th>\n",
       "      <th>ypertension</th>\n",
       "    </tr>\n",
       "  </thead>\n",
       "  <tbody>\n",
       "    <tr>\n",
       "      <th>0</th>\n",
       "      <td>7800.0</td>\n",
       "      <td>121.0</td>\n",
       "      <td>36.0</td>\n",
       "      <td>1.2</td>\n",
       "      <td>44.0</td>\n",
       "      <td>1.0</td>\n",
       "      <td>15.4</td>\n",
       "      <td>0.0</td>\n",
       "      <td>48.0</td>\n",
       "      <td>1</td>\n",
       "    </tr>\n",
       "    <tr>\n",
       "      <th>1</th>\n",
       "      <td>6000.0</td>\n",
       "      <td>210.0</td>\n",
       "      <td>18.0</td>\n",
       "      <td>0.8</td>\n",
       "      <td>38.0</td>\n",
       "      <td>4.0</td>\n",
       "      <td>11.3</td>\n",
       "      <td>0.0</td>\n",
       "      <td>7.0</td>\n",
       "      <td>0</td>\n",
       "    </tr>\n",
       "    <tr>\n",
       "      <th>2</th>\n",
       "      <td>7500.0</td>\n",
       "      <td>423.0</td>\n",
       "      <td>53.0</td>\n",
       "      <td>1.8</td>\n",
       "      <td>31.0</td>\n",
       "      <td>2.0</td>\n",
       "      <td>9.6</td>\n",
       "      <td>3.0</td>\n",
       "      <td>62.0</td>\n",
       "      <td>0</td>\n",
       "    </tr>\n",
       "    <tr>\n",
       "      <th>3</th>\n",
       "      <td>6700.0</td>\n",
       "      <td>117.0</td>\n",
       "      <td>56.0</td>\n",
       "      <td>3.8</td>\n",
       "      <td>32.0</td>\n",
       "      <td>4.0</td>\n",
       "      <td>11.2</td>\n",
       "      <td>0.0</td>\n",
       "      <td>48.0</td>\n",
       "      <td>1</td>\n",
       "    </tr>\n",
       "    <tr>\n",
       "      <th>4</th>\n",
       "      <td>7300.0</td>\n",
       "      <td>106.0</td>\n",
       "      <td>26.0</td>\n",
       "      <td>1.4</td>\n",
       "      <td>35.0</td>\n",
       "      <td>2.0</td>\n",
       "      <td>11.6</td>\n",
       "      <td>0.0</td>\n",
       "      <td>51.0</td>\n",
       "      <td>0</td>\n",
       "    </tr>\n",
       "  </tbody>\n",
       "</table>\n",
       "</div>"
      ],
      "text/plain": [
       "   white blood cell count  blood glucose random  blood urea  serum creatinine  \\\n",
       "0                  7800.0                 121.0        36.0               1.2   \n",
       "1                  6000.0                 210.0        18.0               0.8   \n",
       "2                  7500.0                 423.0        53.0               1.8   \n",
       "3                  6700.0                 117.0        56.0               3.8   \n",
       "4                  7300.0                 106.0        26.0               1.4   \n",
       "\n",
       "   packed cell volume  albumin  haemoglobin  sugar   age  ypertension  \n",
       "0                44.0      1.0         15.4    0.0  48.0            1  \n",
       "1                38.0      4.0         11.3    0.0   7.0            0  \n",
       "2                31.0      2.0          9.6    3.0  62.0            0  \n",
       "3                32.0      4.0         11.2    0.0  48.0            1  \n",
       "4                35.0      2.0         11.6    0.0  51.0            0  "
      ]
     },
     "execution_count": 190,
     "metadata": {},
     "output_type": "execute_result"
    }
   ],
   "source": [
    "x_new.head()"
   ]
  },
  {
   "cell_type": "code",
   "execution_count": 191,
   "metadata": {},
   "outputs": [
    {
     "data": {
      "text/plain": [
       "400"
      ]
     },
     "execution_count": 191,
     "metadata": {},
     "output_type": "execute_result"
    }
   ],
   "source": [
    "len(x_new)"
   ]
  },
  {
   "cell_type": "code",
   "execution_count": 192,
   "metadata": {},
   "outputs": [
    {
     "data": {
      "text/plain": [
       "(400, 10)"
      ]
     },
     "execution_count": 192,
     "metadata": {},
     "output_type": "execute_result"
    }
   ],
   "source": [
    "x_new.shape"
   ]
  },
  {
   "cell_type": "code",
   "execution_count": null,
   "metadata": {},
   "outputs": [],
   "source": []
  },
  {
   "cell_type": "markdown",
   "metadata": {},
   "source": [
    "### Model Building"
   ]
  },
  {
   "cell_type": "code",
   "execution_count": 193,
   "metadata": {},
   "outputs": [],
   "source": [
    "from sklearn.model_selection import train_test_split\n",
    "X_train, X_test, y_train, y_test = train_test_split(x_new, y, train_size=0.75)"
   ]
  },
  {
   "cell_type": "code",
   "execution_count": 194,
   "metadata": {},
   "outputs": [
    {
     "name": "stdout",
     "output_type": "stream",
     "text": [
      "(100, 10)\n",
      "(300, 10)\n"
     ]
    }
   ],
   "source": [
    "print(X_test.shape)\n",
    "print(X_train.shape)"
   ]
  },
  {
   "cell_type": "code",
   "execution_count": 195,
   "metadata": {},
   "outputs": [
    {
     "data": {
      "text/plain": [
       "0    188\n",
       "1    112\n",
       "Name: class, dtype: int64"
      ]
     },
     "execution_count": 195,
     "metadata": {},
     "output_type": "execute_result"
    }
   ],
   "source": [
    "#check whether dataset is imbalance or not\n",
    "y_train.value_counts()"
   ]
  },
  {
   "cell_type": "code",
   "execution_count": null,
   "metadata": {},
   "outputs": [],
   "source": []
  },
  {
   "cell_type": "markdown",
   "metadata": {},
   "source": [
    "#### Finding best model using Hyperparameter Optimization"
   ]
  },
  {
   "cell_type": "code",
   "execution_count": 196,
   "metadata": {},
   "outputs": [
    {
     "name": "stdout",
     "output_type": "stream",
     "text": [
      "Requirement already satisfied: xgboost in c:\\users\\user\\anaconda3\\lib\\site-packages (1.4.2)\n",
      "Requirement already satisfied: scipy in c:\\users\\user\\anaconda3\\lib\\site-packages (from xgboost) (1.5.0)\n",
      "Requirement already satisfied: numpy in c:\\users\\user\\anaconda3\\lib\\site-packages (from xgboost) (1.18.5)\n"
     ]
    }
   ],
   "source": [
    "!pip install xgboost"
   ]
  },
  {
   "cell_type": "code",
   "execution_count": 197,
   "metadata": {},
   "outputs": [
    {
     "data": {
      "text/plain": [
       "XGBClassifier(base_score=None, booster=None, colsample_bylevel=None,\n",
       "              colsample_bynode=None, colsample_bytree=None, gamma=None,\n",
       "              gpu_id=None, importance_type='gain', interaction_constraints=None,\n",
       "              learning_rate=None, max_delta_step=None, max_depth=None,\n",
       "              min_child_weight=None, missing=nan, monotone_constraints=None,\n",
       "              n_estimators=100, n_jobs=None, num_parallel_tree=None,\n",
       "              random_state=None, reg_alpha=None, reg_lambda=None,\n",
       "              scale_pos_weight=None, subsample=None, tree_method=None,\n",
       "              validate_parameters=None, verbosity=None)"
      ]
     },
     "execution_count": 197,
     "metadata": {},
     "output_type": "execute_result"
    }
   ],
   "source": [
    "from xgboost import XGBClassifier\n",
    "XGBClassifier()"
   ]
  },
  {
   "cell_type": "code",
   "execution_count": null,
   "metadata": {},
   "outputs": [],
   "source": []
  },
  {
   "cell_type": "markdown",
   "metadata": {},
   "source": [
    "#### Hyper Parameter Optimization with respect to XGBoost"
   ]
  },
  {
   "cell_type": "code",
   "execution_count": 198,
   "metadata": {},
   "outputs": [],
   "source": [
    "params={\n",
    " \"learning_rate\"    : [0.05, 0.20, 0.25 ] ,\n",
    " \"max_depth\"        : [ 5, 8, 10, 12],\n",
    " \"min_child_weight\" : [ 1, 3, 5, 7 ],\n",
    " \"gamma\"            : [ 0.0, 0.1, 0.2 , 0.4 ],\n",
    " \"colsample_bytree\" : [ 0.3, 0.4, 0.7 ]\n",
    "    \n",
    "}"
   ]
  },
  {
   "cell_type": "code",
   "execution_count": 199,
   "metadata": {},
   "outputs": [],
   "source": [
    "from sklearn.model_selection import RandomizedSearchCV"
   ]
  },
  {
   "cell_type": "code",
   "execution_count": 200,
   "metadata": {},
   "outputs": [],
   "source": [
    "from xgboost import XGBClassifier\n",
    "classifier=XGBClassifier()"
   ]
  },
  {
   "cell_type": "code",
   "execution_count": 201,
   "metadata": {},
   "outputs": [],
   "source": [
    "import warnings\n",
    "from warnings import filterwarnings\n",
    "filterwarnings('ignore')"
   ]
  },
  {
   "cell_type": "code",
   "execution_count": 202,
   "metadata": {},
   "outputs": [],
   "source": [
    "random_search=RandomizedSearchCV(classifier,param_distributions=params,n_iter=5,scoring='roc_auc',\n",
    "                                 n_jobs=-1,cv=5,verbose=3)"
   ]
  },
  {
   "cell_type": "code",
   "execution_count": 203,
   "metadata": {},
   "outputs": [
    {
     "name": "stdout",
     "output_type": "stream",
     "text": [
      "Fitting 5 folds for each of 5 candidates, totalling 25 fits\n"
     ]
    },
    {
     "name": "stderr",
     "output_type": "stream",
     "text": [
      "[Parallel(n_jobs=-1)]: Using backend LokyBackend with 4 concurrent workers.\n"
     ]
    },
    {
     "name": "stdout",
     "output_type": "stream",
     "text": [
      "[17:03:35] WARNING: C:/Users/Administrator/workspace/xgboost-win64_release_1.4.0/src/learner.cc:1095: Starting in XGBoost 1.3.0, the default evaluation metric used with the objective 'binary:logistic' was changed from 'error' to 'logloss'. Explicitly set eval_metric if you'd like to restore the old behavior.\n"
     ]
    },
    {
     "name": "stderr",
     "output_type": "stream",
     "text": [
      "[Parallel(n_jobs=-1)]: Done  25 out of  25 | elapsed:    1.4s finished\n"
     ]
    },
    {
     "data": {
      "text/plain": [
       "RandomizedSearchCV(cv=5,\n",
       "                   estimator=XGBClassifier(base_score=None, booster=None,\n",
       "                                           colsample_bylevel=None,\n",
       "                                           colsample_bynode=None,\n",
       "                                           colsample_bytree=None, gamma=None,\n",
       "                                           gpu_id=None, importance_type='gain',\n",
       "                                           interaction_constraints=None,\n",
       "                                           learning_rate=None,\n",
       "                                           max_delta_step=None, max_depth=None,\n",
       "                                           min_child_weight=None, missing=nan,\n",
       "                                           monotone_constraints=None,\n",
       "                                           n_estimators=100,...\n",
       "                                           random_state=None, reg_alpha=None,\n",
       "                                           reg_lambda=None,\n",
       "                                           scale_pos_weight=None,\n",
       "                                           subsample=None, tree_method=None,\n",
       "                                           validate_parameters=None,\n",
       "                                           verbosity=None),\n",
       "                   n_iter=5, n_jobs=-1,\n",
       "                   param_distributions={'colsample_bytree': [0.3, 0.4, 0.7],\n",
       "                                        'gamma': [0.0, 0.1, 0.2, 0.4],\n",
       "                                        'learning_rate': [0.05, 0.2, 0.25],\n",
       "                                        'max_depth': [5, 8, 10, 12],\n",
       "                                        'min_child_weight': [1, 3, 5, 7]},\n",
       "                   scoring='roc_auc', verbose=3)"
      ]
     },
     "execution_count": 203,
     "metadata": {},
     "output_type": "execute_result"
    }
   ],
   "source": [
    "random_search.fit(X_train, y_train)"
   ]
  },
  {
   "cell_type": "code",
   "execution_count": 204,
   "metadata": {},
   "outputs": [
    {
     "data": {
      "text/plain": [
       "XGBClassifier(base_score=0.5, booster='gbtree', colsample_bylevel=1,\n",
       "              colsample_bynode=1, colsample_bytree=0.3, gamma=0.1, gpu_id=-1,\n",
       "              importance_type='gain', interaction_constraints='',\n",
       "              learning_rate=0.2, max_delta_step=0, max_depth=5,\n",
       "              min_child_weight=1, missing=nan, monotone_constraints='()',\n",
       "              n_estimators=100, n_jobs=4, num_parallel_tree=1, random_state=0,\n",
       "              reg_alpha=0, reg_lambda=1, scale_pos_weight=1, subsample=1,\n",
       "              tree_method='exact', validate_parameters=1, verbosity=None)"
      ]
     },
     "execution_count": 204,
     "metadata": {},
     "output_type": "execute_result"
    }
   ],
   "source": [
    "random_search.best_estimator_"
   ]
  },
  {
   "cell_type": "code",
   "execution_count": 205,
   "metadata": {},
   "outputs": [
    {
     "data": {
      "text/plain": [
       "{'min_child_weight': 1,\n",
       " 'max_depth': 5,\n",
       " 'learning_rate': 0.2,\n",
       " 'gamma': 0.1,\n",
       " 'colsample_bytree': 0.3}"
      ]
     },
     "execution_count": 205,
     "metadata": {},
     "output_type": "execute_result"
    }
   ],
   "source": [
    "random_search.best_params_"
   ]
  },
  {
   "cell_type": "code",
   "execution_count": 206,
   "metadata": {},
   "outputs": [],
   "source": [
    "classifier=XGBClassifier(base_score=0.5, booster='gbtree', colsample_bylevel=1,\n",
    "              colsample_bynode=1, colsample_bytree=0.4, gamma=0.0, gpu_id=-1,\n",
    "              importance_type='gain', interaction_constraints='',\n",
    "              learning_rate=0.25, max_delta_step=0, max_depth=5,\n",
    "              min_child_weight=1, monotone_constraints='()',\n",
    "              n_estimators=100, n_jobs=2, num_parallel_tree=1,\n",
    "              objective='binary:logistic', random_state=0, reg_alpha=0,\n",
    "              reg_lambda=1, scale_pos_weight=1, subsample=1,\n",
    "              tree_method='exact', use_label_encoder=True,\n",
    "              validate_parameters=1, verbosity=None)\n",
    "\n",
    "#This model is on the basis of cross validation & hyper-parameter optimization"
   ]
  },
  {
   "cell_type": "code",
   "execution_count": 207,
   "metadata": {},
   "outputs": [
    {
     "name": "stdout",
     "output_type": "stream",
     "text": [
      "[17:03:35] WARNING: C:/Users/Administrator/workspace/xgboost-win64_release_1.4.0/src/learner.cc:1095: Starting in XGBoost 1.3.0, the default evaluation metric used with the objective 'binary:logistic' was changed from 'error' to 'logloss'. Explicitly set eval_metric if you'd like to restore the old behavior.\n"
     ]
    },
    {
     "data": {
      "text/plain": [
       "XGBClassifier(base_score=0.5, booster='gbtree', colsample_bylevel=1,\n",
       "              colsample_bynode=1, colsample_bytree=0.4, gamma=0.0, gpu_id=-1,\n",
       "              importance_type='gain', interaction_constraints='',\n",
       "              learning_rate=0.25, max_delta_step=0, max_depth=5,\n",
       "              min_child_weight=1, missing=nan, monotone_constraints='()',\n",
       "              n_estimators=100, n_jobs=2, num_parallel_tree=1, random_state=0,\n",
       "              reg_alpha=0, reg_lambda=1, scale_pos_weight=1, subsample=1,\n",
       "              tree_method='exact', validate_parameters=1, verbosity=None)"
      ]
     },
     "execution_count": 207,
     "metadata": {},
     "output_type": "execute_result"
    }
   ],
   "source": [
    "classifier.fit(X_train,y_train)"
   ]
  },
  {
   "cell_type": "code",
   "execution_count": 208,
   "metadata": {},
   "outputs": [],
   "source": [
    "y_pred=classifier.predict(X_test)"
   ]
  },
  {
   "cell_type": "code",
   "execution_count": 209,
   "metadata": {},
   "outputs": [],
   "source": [
    "from sklearn.metrics import confusion_matrix,accuracy_score"
   ]
  },
  {
   "cell_type": "code",
   "execution_count": 210,
   "metadata": {},
   "outputs": [
    {
     "name": "stdout",
     "output_type": "stream",
     "text": [
      "Confusion Matrix:\n",
      "[[60  2]\n",
      " [ 1 37]]\n"
     ]
    }
   ],
   "source": [
    "confusion=confusion_matrix(y_test, y_pred)\n",
    "print('Confusion Matrix:')\n",
    "print(confusion)"
   ]
  },
  {
   "cell_type": "code",
   "execution_count": 211,
   "metadata": {},
   "outputs": [
    {
     "data": {
      "text/plain": [
       "<matplotlib.image.AxesImage at 0x273d32252b0>"
      ]
     },
     "execution_count": 211,
     "metadata": {},
     "output_type": "execute_result"
    },
    {
     "data": {
      "image/png": "[encoded data removed]",
      "text/plain": [
       "<Figure size 432x288 with 1 Axes>"
      ]
     },
     "metadata": {
      "needs_background": "light"
     },
     "output_type": "display_data"
    }
   ],
   "source": [
    "#confusion matrix in a more user-friendly output\n",
    "plt.imshow(confusion)"
   ]
  },
  {
   "cell_type": "code",
   "execution_count": 212,
   "metadata": {},
   "outputs": [
    {
     "data": {
      "text/plain": [
       "0.97"
      ]
     },
     "execution_count": 212,
     "metadata": {},
     "output_type": "execute_result"
    }
   ],
   "source": [
    "accuracy_score(y_test, y_pred)"
   ]
  }
 ],
 "metadata": {
  "kernelspec": {
   "display_name": "Python 3",
   "language": "python",
   "name": "python3"
  },
  "language_info": {
   "codemirror_mode": {
    "name": "ipython",
    "version": 3
   },
   "file_extension": ".py",
   "mimetype": "text/x-python",
   "name": "python",
   "nbconvert_exporter": "python",
   "pygments_lexer": "ipython3",
   "version": "3.8.3"
  }
 },
 "nbformat": 4,
 "nbformat_minor": 4
}
